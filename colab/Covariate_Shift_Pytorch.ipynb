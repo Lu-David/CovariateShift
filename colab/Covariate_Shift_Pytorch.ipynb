{
  "nbformat": 4,
  "nbformat_minor": 0,
  "metadata": {
    "colab": {
      "name": "Covariate Shift Pytorch",
      "provenance": [],
      "toc_visible": true,
      "authorship_tag": "ABX9TyO4VkDIUZtNp1k3CaE0h66P",
      "include_colab_link": true
    },
    "kernelspec": {
      "name": "python3",
      "display_name": "Python 3"
    },
    "language_info": {
      "name": "python"
    }
  },
  "cells": [
    {
      "cell_type": "markdown",
      "metadata": {
        "id": "view-in-github",
        "colab_type": "text"
      },
      "source": [
        "<a href=\"https://colab.research.google.com/github/Lu-David/CovariateShift/blob/main/Covariate_Shift_Pytorch.ipynb\" target=\"_parent\"><img src=\"https://colab.research.google.com/assets/colab-badge.svg\" alt=\"Open In Colab\"/></a>"
      ]
    },
    {
      "cell_type": "markdown",
      "source": [
        "# Pytorch implementation of 2014 Liu Paper\n",
        "\n",
        "https://proceedings.neurips.cc/paper/2014/file/d67d8ab4f4c10bf22aa353e27879133c-Paper.pdf"
      ],
      "metadata": {
        "id": "_2PBOjKyuBb0"
      }
    },
    {
      "cell_type": "markdown",
      "source": [
        "## Binary Classification"
      ],
      "metadata": {
        "id": "Wpc54G11wtVt"
      }
    },
    {
      "cell_type": "markdown",
      "source": [
        "### Load Data"
      ],
      "metadata": {
        "id": "8ouUIYmRtHX_"
      }
    },
    {
      "cell_type": "code",
      "source": [
        "import scipy.io\n",
        "import numpy as np\n",
        "import os\n",
        "import torch\n",
        "\n",
        "folder_path = '/content' # TODO Upload data files and / or specify path\n",
        "\n",
        "x_1 = scipy.io.loadmat(os.path.join(folder_path, 'x_1.mat'))['x_1']\n",
        "x_2 = scipy.io.loadmat(os.path.join(folder_path, 'x_2.mat'))['x_2']\n",
        "y_1 = np.transpose(scipy.io.loadmat(os.path.join(folder_path, 'y_1.mat'))['y_1'])\n",
        "y_2 = np.transpose(scipy.io.loadmat(os.path.join(folder_path, 'y_2.mat'))['y_2'])\n",
        "\n",
        "n_row, n_col = x_1.shape\n",
        "\n",
        "x_1 = torch.FloatTensor(x_1)\n",
        "x_2 = torch.FloatTensor(x_2)\n",
        "x_1_b = torch.cat((torch.ones((n_row, 1)), torch.FloatTensor(x_1)), dim = 1)\n",
        "x_2_b = torch.cat((torch.ones((n_row, 1)), torch.FloatTensor(x_2)), dim = 1)\n",
        "y_1 = torch.FloatTensor(y_1)\n",
        "y_2 = torch.FloatTensor(y_2)"
      ],
      "metadata": {
        "id": "S6gJmDSxtt81"
      },
      "execution_count": null,
      "outputs": []
    },
    {
      "cell_type": "code",
      "source": [
        "# source mean \n",
        "mu_s = [6, 6] \n",
        "\n",
        "# source variance\n",
        "var_s = [[3, -2], [-2, 3]] \n",
        "\n",
        "# target mean\n",
        "mu_t = [7, 7] \n",
        "\n",
        "# target variance\n",
        "var_t = [[3, 2], [2, 3]] "
      ],
      "metadata": {
        "id": "QDH0YmX-0qlj"
      },
      "execution_count": null,
      "outputs": []
    },
    {
      "cell_type": "code",
      "source": [
        "from scipy.stats import multivariate_normal\n",
        "\n",
        "mvn_s = multivariate_normal(mu_s, var_s)\n",
        "mvn_t = multivariate_normal(mu_t, var_t)\n",
        "\n",
        "# Because we have expert knowledge on mu and var for both source and target, \n",
        "# we can get the predicted probabilities for each data point under source and target distributions \n",
        "d_s = mvn_s.pdf(x_1)\n",
        "d_t = mvn_t.pdf(x_1)"
      ],
      "metadata": {
        "id": "nPZQyX4R9iyC"
      },
      "execution_count": null,
      "outputs": []
    },
    {
      "cell_type": "code",
      "source": [
        "x_1_sec = torch.cat((x_1, (x_1[:, 0] ** 2).unsqueeze(1), (x_1[:, 0] * x_1[:, 1]).unsqueeze(1), (x_1[:, 1] ** 2).unsqueeze(1)), dim =1)\n",
        "x_2_sec = torch.cat((x_2, (x_2[:, 0] ** 2).unsqueeze(1), (x_2[:, 0] * x_2[:, 1]).unsqueeze(1), (x_2[:, 1] ** 2).unsqueeze(1)), dim =1)"
      ],
      "metadata": {
        "id": "FwK832BjuXCy"
      },
      "execution_count": null,
      "outputs": []
    },
    {
      "cell_type": "code",
      "source": [
        "x_1_sec_b = torch.cat((torch.ones((n_row, 1)), x_1_sec), dim =1)\n",
        "x_2_sec_b = torch.cat((torch.ones((n_row, 1)), x_2_sec), dim =1)"
      ],
      "metadata": {
        "id": "xqj9Y5TkL3cd"
      },
      "execution_count": null,
      "outputs": []
    },
    {
      "cell_type": "markdown",
      "source": [
        "### Logistic Regression (LR) + Importance Weighting (IW)"
      ],
      "metadata": {
        "id": "tDonecKnmNJ6"
      }
    },
    {
      "cell_type": "code",
      "source": [
        "import torch\n",
        "import torch.nn as nn\n",
        "import torchvision\n",
        "import torch.nn.functional as F\n",
        "from torch.optim import Adam\n",
        "\n",
        "class LRClassifier(nn.Module):\n",
        "    def __init__(self, in_features = 2, out_features = 1):\n",
        "      super(LRClassifier, self).__init__()\n",
        "      \n",
        "      self.layer1 = nn.Linear(in_features, out_features, bias = False)\n",
        "      self.activation1 = nn.Sigmoid()\n",
        "\n",
        "    def forward(self, input):\n",
        "      return self.activation1(self.layer1(input))"
      ],
      "metadata": {
        "id": "bkTJCkOimPWo"
      },
      "execution_count": null,
      "outputs": []
    },
    {
      "cell_type": "code",
      "source": [
        "def binaryLRTrain(X_s, y_s, r_ts, max_itr = 10000, lr = 0.01, weight_decay = 0):\n",
        "\n",
        "  n_row, n_col = X_s.shape\n",
        "\n",
        "  lr_model = LRClassifier(in_features = n_col)\n",
        "  loss_fn = nn.BCELoss() \n",
        "  optimizer = torch.optim.Adam(lr_model.parameters(), lr = lr, weight_decay = weight_decay)\n",
        "  for param in lr_model.parameters():\n",
        "    param.data = nn.parameter.Parameter(torch.ones_like(param))\n",
        "\n",
        "  lr_model.train()\n",
        "\n",
        "  # convert labels from -1, 1 to 0, 1\n",
        "  if -1 in y_s:\n",
        "    y_s = torch.FloatTensor(np.where(y_s == 1, 1, 0))\n",
        "\n",
        "  F = X_s * r_ts\n",
        "  \n",
        "  for i in range(max_itr): \n",
        "      optimizer.zero_grad()\n",
        "      \n",
        "      outputs = lr_model.forward(F)\n",
        "      loss = loss_fn(outputs.squeeze(), y_s.squeeze())\n",
        "\n",
        "      loss.backward()\n",
        "\n",
        "      optimizer.step()\n",
        "\n",
        "      if i % 1000 == 0:\n",
        "        print(f\"Loss at step {i}: {float(loss.data)}\")\n",
        "\n",
        "  return lr_model"
      ],
      "metadata": {
        "id": "WvHqSv2Alazi"
      },
      "execution_count": null,
      "outputs": []
    },
    {
      "cell_type": "code",
      "source": [
        "def binaryLRTest(model, X_t, y_t):\n",
        "  n_row, _ = X_t.shape\n",
        "  \n",
        "  model.eval()\n",
        "\n",
        "  if -1 in y_t:\n",
        "    y_t = torch.FloatTensor(np.where(y_t == 1, 1, 0))\n",
        "\n",
        "  loss_fn = nn.BCELoss() \n",
        "\n",
        "  outputs = model(X_t)\n",
        "  loss = loss_fn(outputs.squeeze(), y_t.squeeze())\n",
        "  acc = torch.sum(torch.round(outputs) == y_t) / n_row\n",
        "  return loss, outputs, acc"
      ],
      "metadata": {
        "id": "lDqD57JO7AJb"
      },
      "execution_count": null,
      "outputs": []
    },
    {
      "cell_type": "markdown",
      "source": [
        "#### First-Order Features"
      ],
      "metadata": {
        "id": "OgVcHu9g0lSA"
      }
    },
    {
      "cell_type": "code",
      "source": [
        "lr_model = binaryLRTrain(x_1_b, y_1, torch.ones((len(x_1), 1)))\n",
        "\n",
        "loss, preds, acc = binaryLRTest(lr_model, x_2_b, y_2)\n",
        "print(f\"Target Loss: {loss}. Accuracy: {acc}\")"
      ],
      "metadata": {
        "colab": {
          "base_uri": "https://localhost:8080/"
        },
        "id": "FBW-NrpvsmvS",
        "outputId": "50ffbca3-34ac-4c82-e841-eb8bd1091153"
      },
      "execution_count": null,
      "outputs": [
        {
          "output_type": "stream",
          "name": "stdout",
          "text": [
            "Loss at step 0: 8.603636741638184\n",
            "Loss at step 1000: 0.6322436332702637\n",
            "Loss at step 2000: 0.5600477457046509\n",
            "Loss at step 3000: 0.49408310651779175\n",
            "Loss at step 4000: 0.44658976793289185\n",
            "Loss at step 5000: 0.41650810837745667\n",
            "Loss at step 6000: 0.39925307035446167\n",
            "Loss at step 7000: 0.39056259393692017\n",
            "Loss at step 8000: 0.38703832030296326\n",
            "Loss at step 9000: 0.38606488704681396\n",
            "Target Loss: 0.5523838996887207. Accuracy: 0.8999999761581421\n"
          ]
        }
      ]
    },
    {
      "cell_type": "code",
      "source": [
        "from matplotlib import markers\n",
        "import matplotlib as mpl\n",
        "import matplotlib.pyplot as plt\n",
        "from matplotlib import cm\n",
        "\n",
        "lr_fig, lr_ax = plt.subplots()\n",
        "\n",
        "maxs = 15\n",
        "mins = -5\n",
        " \n",
        "X_dim1, X_dim2 = np.meshgrid(np.arange(mins, maxs + 0.1, 0.1), np.arange(mins, maxs + 0.1, 0.1))\n",
        "\n",
        "dim = int((maxs - mins) / 0.1 + 1)\n",
        "\n",
        "predictions = np.zeros((dim, dim))\n",
        "\n",
        "for i in range(dim):\n",
        "  for j in range(dim):\n",
        "    x_t = torch.FloatTensor([1, X_dim1[i, j], X_dim2[i, j]]) # X_dim1[i, j] ** 2, X_dim1[i, j] * X_dim2[i, j], X_dim2[i, j] ** 2\n",
        "    outputs = lr_model(x_t).double()\n",
        "    predictions[i, j] = outputs[0]\n",
        "    \n",
        "\n",
        "lr_ax.imshow(predictions, cmap='Spectral', interpolation='nearest', origin='lower', extent=[-5, 15, -5, 15])\n",
        "\n",
        "pos = x_1[np.array(y_1 == 1).flatten()]\n",
        "neg = x_1[np.array(y_1 == -1).flatten()]\n",
        "\n",
        "lr_ax.scatter(pos[:,0], pos[:,1], marker=\"x\", color=\"black\")\n",
        "lr_ax.scatter(neg[:,0], neg[:,1], marker=\"o\", color=\"white\")\n",
        "lr_ax.set_title(\"Logistic Regression - First Order Features\")"
      ],
      "metadata": {
        "id": "8qzTnw_133zy",
        "colab": {
          "base_uri": "https://localhost:8080/",
          "height": 299
        },
        "outputId": "3f667c5a-a636-4d41-f8c1-ad53ab5391c2"
      },
      "execution_count": null,
      "outputs": [
        {
          "output_type": "execute_result",
          "data": {
            "text/plain": [
              "Text(0.5, 1.0, 'Logistic Regression - First Order Features')"
            ]
          },
          "metadata": {},
          "execution_count": 10
        },
        {
          "output_type": "display_data",
          "data": {
            "image/png": "[encoded data removed]",
            "text/plain": [
              "<Figure size 432x288 with 1 Axes>"
            ]
          },
          "metadata": {
            "needs_background": "light"
          }
        }
      ]
    },
    {
      "cell_type": "code",
      "source": [
        "iw_model = binaryLRTrain(x_1_b, y_1, torch.Tensor(d_t / d_s).unsqueeze(1))\n",
        "\n",
        "loss, preds, acc = binaryLRTest(iw_model, x_2_b, y_2)\n",
        "print(f\"Target Loss: {loss}. Accuracy: {acc}\")"
      ],
      "metadata": {
        "colab": {
          "base_uri": "https://localhost:8080/"
        },
        "id": "RgPugDHWmI8s",
        "outputId": "bdabc7fc-e1cb-4350-a255-0e4b38d05542"
      },
      "execution_count": null,
      "outputs": [
        {
          "output_type": "stream",
          "name": "stdout",
          "text": [
            "Loss at step 0: 15.752140998840332\n",
            "Loss at step 1000: 0.6052042245864868\n",
            "Loss at step 2000: 0.5760133266448975\n",
            "Loss at step 3000: 0.5577603578567505\n",
            "Loss at step 4000: 0.5426439642906189\n",
            "Loss at step 5000: 0.5311148762702942\n",
            "Loss at step 6000: 0.5234957933425903\n",
            "Loss at step 7000: 0.5192238688468933\n",
            "Loss at step 8000: 0.5173240900039673\n",
            "Loss at step 9000: 0.5167459845542908\n",
            "Target Loss: 0.5480843186378479. Accuracy: 0.8799999952316284\n"
          ]
        }
      ]
    },
    {
      "cell_type": "code",
      "source": [
        "from matplotlib import markers\n",
        "import matplotlib as mpl\n",
        "import matplotlib.pyplot as plt\n",
        "from matplotlib import cm\n",
        "\n",
        "lr_fig, lr_ax = plt.subplots()\n",
        "\n",
        "maxs = 15\n",
        "mins = -5\n",
        " \n",
        "X_dim1, X_dim2 = np.meshgrid(np.arange(mins, maxs + 0.1, 0.1), np.arange(mins, maxs + 0.1, 0.1))\n",
        "\n",
        "dim = int((maxs - mins) / 0.1 + 1)\n",
        "\n",
        "predictions = np.zeros((dim, dim))\n",
        "\n",
        "for i in range(dim):\n",
        "  for j in range(dim):\n",
        "    x_t = torch.FloatTensor([1, X_dim1[i, j], X_dim2[i, j]]) \n",
        "    outputs = iw_model(x_t).double()\n",
        "    predictions[i, j] = outputs[0]\n",
        "    \n",
        "\n",
        "lr_ax.imshow(predictions, cmap='Spectral', interpolation='nearest', origin='lower', extent=[-5, 15, -5, 15])\n",
        "\n",
        "pos = x_1[np.array(y_1 == 1).flatten()]\n",
        "neg = x_1[np.array(y_1 == -1).flatten()]\n",
        "\n",
        "lr_ax.scatter(pos[:,0], pos[:,1], marker=\"x\", color=\"black\")\n",
        "lr_ax.scatter(neg[:,0], neg[:,1], marker=\"o\", color=\"white\")\n",
        "lr_ax.set_title(\"Importance Weighting - First Order Features\")"
      ],
      "metadata": {
        "colab": {
          "base_uri": "https://localhost:8080/",
          "height": 299
        },
        "id": "0qG2_9LrmO5J",
        "outputId": "76e521a3-1631-43b9-dfdd-0d37cb3cc5c7"
      },
      "execution_count": null,
      "outputs": [
        {
          "output_type": "execute_result",
          "data": {
            "text/plain": [
              "Text(0.5, 1.0, 'Importance Weighting - First Order Features')"
            ]
          },
          "metadata": {},
          "execution_count": 12
        },
        {
          "output_type": "display_data",
          "data": {
            "image/png": "[encoded data removed]",
            "text/plain": [
              "<Figure size 432x288 with 1 Axes>"
            ]
          },
          "metadata": {
            "needs_background": "light"
          }
        }
      ]
    },
    {
      "cell_type": "markdown",
      "source": [
        "#### Second-Order Features"
      ],
      "metadata": {
        "id": "P-R-hxR48KOz"
      }
    },
    {
      "cell_type": "code",
      "source": [
        "lr_model = binaryLRTrain(x_1_sec_b / 10, y_1, torch.ones((len(x_1), 1)))\n",
        "loss, preds, acc = binaryLRTest(lr_model, x_2_sec_b / 10, y_2)\n",
        "print(f\"Target Loss: {loss}\")"
      ],
      "metadata": {
        "colab": {
          "base_uri": "https://localhost:8080/"
        },
        "id": "dBN5y0M28J2S",
        "outputId": "df9528e5-6d4e-452b-ff1b-7f7282a09469"
      },
      "execution_count": null,
      "outputs": [
        {
          "output_type": "stream",
          "name": "stdout",
          "text": [
            "Loss at step 0: 15.335493087768555\n",
            "Loss at step 1000: 0.6060230135917664\n",
            "Loss at step 2000: 0.5248032212257385\n",
            "Loss at step 3000: 0.46038147807121277\n",
            "Loss at step 4000: 0.4186622202396393\n",
            "Loss at step 5000: 0.3944123089313507\n",
            "Loss at step 6000: 0.381745845079422\n",
            "Loss at step 7000: 0.3761238753795624\n",
            "Loss at step 8000: 0.3741365075111389\n",
            "Loss at step 9000: 0.373421847820282\n",
            "Target Loss: 0.6777912974357605\n"
          ]
        }
      ]
    },
    {
      "cell_type": "code",
      "source": [
        "from matplotlib import markers\n",
        "import matplotlib as mpl\n",
        "import matplotlib.pyplot as plt\n",
        "from matplotlib import cm\n",
        "\n",
        "fig, ax = plt.subplots()\n",
        "\n",
        "maxs = 15\n",
        "mins = -5\n",
        " \n",
        "X_dim1, X_dim2 = np.meshgrid(np.arange(mins, maxs + 0.1, 0.1), np.arange(mins, maxs + 0.1, 0.1))\n",
        "\n",
        "dim = int((maxs - mins) / 0.1 + 1)\n",
        "\n",
        "predictions = np.zeros((dim, dim))\n",
        "\n",
        "for i in range(dim):\n",
        "  for j in range(dim):\n",
        "    x_t = torch.FloatTensor([1, X_dim1[i, j], X_dim2[i, j], X_dim1[i, j] ** 2, X_dim1[i, j] * X_dim2[i, j], X_dim2[i, j] ** 2]) / 10\n",
        "    outputs = lr_model(x_t).double()\n",
        "    predictions[i, j] = outputs[0]\n",
        "    \n",
        "\n",
        "ax.imshow(predictions, cmap='Spectral', interpolation='nearest', origin='lower', extent=[-5, 15, -5, 15])\n",
        "\n",
        "pos = x_1[np.array(y_1 == 1).flatten()]\n",
        "neg = x_1[np.array(y_1 == -1).flatten()]\n",
        "\n",
        "ax.scatter(pos[:,0], pos[:,1], marker=\"x\", color=\"black\")\n",
        "ax.scatter(neg[:,0], neg[:,1], marker=\"o\", color=\"white\")\n",
        "ax.set_title(\"Logistic Regression - Second Order Features\")"
      ],
      "metadata": {
        "colab": {
          "base_uri": "https://localhost:8080/",
          "height": 299
        },
        "id": "RN3CUzAbYAdx",
        "outputId": "f20d440d-3b5a-4b41-df6a-f36eb03b9a25"
      },
      "execution_count": null,
      "outputs": [
        {
          "output_type": "execute_result",
          "data": {
            "text/plain": [
              "Text(0.5, 1.0, 'Logistic Regression - Second Order Features')"
            ]
          },
          "metadata": {},
          "execution_count": 14
        },
        {
          "output_type": "display_data",
          "data": {
            "image/png": "[encoded data removed]",
            "text/plain": [
              "<Figure size 432x288 with 1 Axes>"
            ]
          },
          "metadata": {
            "needs_background": "light"
          }
        }
      ]
    },
    {
      "cell_type": "code",
      "source": [
        "iw_model = binaryLRTrain(x_1_sec_b, y_1, torch.Tensor(d_t / d_s).unsqueeze(1), max_itr=80000, lr = 0.05)"
      ],
      "metadata": {
        "colab": {
          "base_uri": "https://localhost:8080/"
        },
        "id": "oZx__kBmon-T",
        "outputId": "3ade2026-b4c9-46fe-fbb7-310d20c9d877"
      },
      "execution_count": null,
      "outputs": [
        {
          "output_type": "stream",
          "name": "stdout",
          "text": [
            "Loss at step 0: 44.515289306640625\n",
            "Loss at step 1000: 0.5070279240608215\n",
            "Loss at step 2000: 0.5045703053474426\n",
            "Loss at step 3000: 0.5028612017631531\n",
            "Loss at step 4000: 0.5006560683250427\n",
            "Loss at step 5000: 0.49862387776374817\n",
            "Loss at step 6000: 0.5021982789039612\n",
            "Loss at step 7000: 0.4958568215370178\n",
            "Loss at step 8000: 0.4948667287826538\n",
            "Loss at step 9000: 0.4940132796764374\n",
            "Loss at step 10000: 0.498414546251297\n",
            "Loss at step 11000: 0.49254298210144043\n",
            "Loss at step 12000: 0.4996485114097595\n",
            "Loss at step 13000: 0.49125975370407104\n",
            "Loss at step 14000: 0.49066147208213806\n",
            "Loss at step 15000: 0.4900892376899719\n",
            "Loss at step 16000: 0.4895184338092804\n",
            "Loss at step 17000: 0.4890538454055786\n",
            "Loss at step 18000: 0.4884816110134125\n",
            "Loss at step 19000: 0.48803871870040894\n",
            "Loss at step 20000: 0.48741477727890015\n",
            "Loss at step 21000: 0.48704564571380615\n",
            "Loss at step 22000: 0.4864296615123749\n",
            "Loss at step 23000: 0.4859582185745239\n",
            "Loss at step 24000: 0.48789137601852417\n",
            "Loss at step 25000: 0.48517754673957825\n",
            "Loss at step 26000: 0.4846069812774658\n",
            "Loss at step 27000: 0.4841788411140442\n",
            "Loss at step 28000: 0.48378121852874756\n",
            "Loss at step 29000: 0.4833509922027588\n",
            "Loss at step 30000: 0.4830412268638611\n",
            "Loss at step 31000: 0.48256829380989075\n",
            "Loss at step 32000: 0.4821837544441223\n",
            "Loss at step 33000: 0.481808066368103\n",
            "Loss at step 34000: 0.48144522309303284\n",
            "Loss at step 35000: 0.48109275102615356\n",
            "Loss at step 36000: 0.48263415694236755\n",
            "Loss at step 37000: 0.48049721121788025\n",
            "Loss at step 38000: 0.4800988733768463\n",
            "Loss at step 39000: 0.4797818660736084\n",
            "Loss at step 40000: 0.4795101284980774\n",
            "Loss at step 41000: 0.47919708490371704\n",
            "Loss at step 42000: 0.47892439365386963\n",
            "Loss at step 43000: 0.47866716980934143\n",
            "Loss at step 44000: 0.4784238040447235\n",
            "Loss at step 45000: 0.478194922208786\n",
            "Loss at step 46000: 0.4779796302318573\n",
            "Loss at step 47000: 0.47777995467185974\n",
            "Loss at step 48000: 0.4775944650173187\n",
            "Loss at step 49000: 0.4812089502811432\n",
            "Loss at step 50000: 0.477265864610672\n",
            "Loss at step 51000: 0.4771196246147156\n",
            "Loss at step 52000: 0.47698602080345154\n",
            "Loss at step 53000: 0.4768664538860321\n",
            "Loss at step 54000: 0.47674959897994995\n",
            "Loss at step 55000: 0.4766472280025482\n",
            "Loss at step 56000: 0.4765627980232239\n",
            "Loss at step 57000: 0.4764656126499176\n",
            "Loss at step 58000: 0.47638583183288574\n",
            "Loss at step 59000: 0.4763617217540741\n",
            "Loss at step 60000: 0.47624534368515015\n",
            "Loss at step 61000: 0.47713086009025574\n",
            "Loss at step 62000: 0.4761273264884949\n",
            "Loss at step 63000: 0.4760763645172119\n",
            "Loss at step 64000: 0.4760282039642334\n",
            "Loss at step 65000: 0.4759850800037384\n",
            "Loss at step 66000: 0.47655802965164185\n",
            "Loss at step 67000: 0.4759078919887543\n",
            "Loss at step 68000: 0.4758739173412323\n",
            "Loss at step 69000: 0.4758429229259491\n",
            "Loss at step 70000: 0.4758138954639435\n",
            "Loss at step 71000: 0.4759359359741211\n",
            "Loss at step 72000: 0.47576332092285156\n",
            "Loss at step 73000: 0.4757416546344757\n",
            "Loss at step 74000: 0.4757210612297058\n",
            "Loss at step 75000: 0.4770396053791046\n",
            "Loss at step 76000: 0.47568488121032715\n",
            "Loss at step 77000: 0.4756687879562378\n",
            "Loss at step 78000: 0.4756542444229126\n",
            "Loss at step 79000: 0.4756407141685486\n"
          ]
        }
      ]
    },
    {
      "cell_type": "code",
      "source": [
        "from matplotlib import markers\n",
        "import matplotlib as mpl\n",
        "import matplotlib.pyplot as plt\n",
        "from matplotlib import cm\n",
        "\n",
        "fig, ax = plt.subplots()\n",
        "\n",
        "maxs = 15\n",
        "mins = -5\n",
        " \n",
        "X_dim1, X_dim2 = np.meshgrid(np.arange(mins, maxs + 0.1, 0.1), np.arange(mins, maxs + 0.1, 0.1))\n",
        "\n",
        "dim = int((maxs - mins) / 0.1 + 1)\n",
        "\n",
        "predictions = np.zeros((dim, dim))\n",
        "\n",
        "for i in range(dim):\n",
        "  for j in range(dim):\n",
        "    x_t = torch.FloatTensor([1, X_dim1[i, j], X_dim2[i, j], X_dim1[i, j] ** 2, X_dim1[i, j] * X_dim2[i, j], X_dim2[i, j] ** 2])\n",
        "    outputs = iw_model(x_t).double()\n",
        "    predictions[i, j] = outputs[0]\n",
        "    \n",
        "\n",
        "ax.imshow(predictions, cmap='Spectral', interpolation='nearest', origin='lower', extent=[-5, 15, -5, 15])\n",
        "\n",
        "pos = x_1[np.array(y_1 == 1).flatten()]\n",
        "neg = x_1[np.array(y_1 == -1).flatten()]\n",
        "\n",
        "ax.scatter(pos[:,0], pos[:,1], marker=\"x\", color=\"black\")\n",
        "ax.scatter(neg[:,0], neg[:,1], marker=\"o\", color=\"white\")\n",
        "ax.set_title(\"Importance Reweighting - Second Order Features\")"
      ],
      "metadata": {
        "colab": {
          "base_uri": "https://localhost:8080/",
          "height": 299
        },
        "id": "jgC6h9wkpAP7",
        "outputId": "a5e2518b-eccd-425c-8356-f32c0317d961"
      },
      "execution_count": null,
      "outputs": [
        {
          "output_type": "execute_result",
          "data": {
            "text/plain": [
              "Text(0.5, 1.0, 'Importance Reweighting - Second Order Features')"
            ]
          },
          "metadata": {},
          "execution_count": 16
        },
        {
          "output_type": "display_data",
          "data": {
            "image/png": "[encoded data removed]",
            "text/plain": [
              "<Figure size 432x288 with 1 Axes>"
            ]
          },
          "metadata": {
            "needs_background": "light"
          }
        }
      ]
    },
    {
      "cell_type": "markdown",
      "source": [
        "### Robust Bias-Aware (RBA) \n"
      ],
      "metadata": {
        "id": "2Cgsr6FKNdwX"
      }
    },
    {
      "cell_type": "code",
      "source": [
        "import torch\n",
        "import torch.nn as nn\n",
        "import torchvision\n",
        "import torch.nn.functional as F\n",
        "from torch.optim import Adam\n",
        "\n",
        "class RBAClassifier(nn.Module):\n",
        "    def __init__(self, in_features = 2, out_features = 1):\n",
        "      super(RBAClassifier, self).__init__()\n",
        "      self.layer1 = nn.Linear(in_features, out_features, bias = True)\n",
        "\n",
        "    def forward(self, input):\n",
        "      return self.layer1(input)"
      ],
      "metadata": {
        "id": "l6o_d1RiNkMo"
      },
      "execution_count": null,
      "outputs": []
    },
    {
      "cell_type": "code",
      "source": [
        "class RBAGrad(torch.autograd.Function):\n",
        "    @staticmethod\n",
        "    def forward(ctx, output, prob, y):\n",
        "        ctx.save_for_backward(output, prob, y)\n",
        "        return output\n",
        "\n",
        "    @staticmethod\n",
        "    def backward(ctx, grad_output):\n",
        "        output, prob, y = ctx.saved_tensors\n",
        "        grad_temp = grad_output.clone()\n",
        "        grad_input = grad_temp * (prob - y)\n",
        "        return grad_input, None, None\n",
        "\n",
        "\"\"\"class RBAGrad(torch.autograd.Function):\n",
        "    @staticmethod\n",
        "    def forward(ctx, theta, output, prob, y):\n",
        "        ctx.save_for_backward(theta, output, prob, y)\n",
        "        return output\n",
        "\n",
        "    @staticmethod\n",
        "    def backward(ctx, grad_output):\n",
        "        theta, output, prob, y = ctx.saved_tensors\n",
        "        grad_temp = grad_output.clone()\n",
        "        grad_input = grad_temp * (prob - y)\n",
        "        return grad_input, None, None, None\"\"\""
      ],
      "metadata": {
        "id": "Qs9c2s17QlEQ",
        "colab": {
          "base_uri": "https://localhost:8080/",
          "height": 72
        },
        "outputId": "d51b1b1e-04d4-441e-baf7-85424fe52244"
      },
      "execution_count": null,
      "outputs": [
        {
          "output_type": "execute_result",
          "data": {
            "application/vnd.google.colaboratory.intrinsic+json": {
              "type": "string"
            },
            "text/plain": [
              "'class RBAGrad(torch.autograd.Function):\\n    @staticmethod\\n    def forward(ctx, theta, output, prob, y):\\n        ctx.save_for_backward(theta, output, prob, y)\\n        return output\\n\\n    @staticmethod\\n    def backward(ctx, grad_output):\\n        theta, output, prob, y = ctx.saved_tensors\\n        grad_temp = grad_output.clone()\\n        grad_input = grad_temp * (prob - y)\\n        return grad_input, None, None, None'"
            ]
          },
          "metadata": {},
          "execution_count": 18
        }
      ]
    },
    {
      "cell_type": "code",
      "source": [
        "def binaryRBATrain(X_s, y_s, r_st, max_itr = 10000, lr = 0.01):\n",
        "\n",
        "  rba_model = RBAClassifier(in_features = X_s.shape[1])\n",
        "  loss_fn = nn.BCELoss() \n",
        "  optimizer = torch.optim.Adam(rba_model.parameters(), lr = lr)\n",
        "\n",
        "  for param in rba_model.parameters():\n",
        "    param.data = nn.parameter.Parameter(torch.ones_like(param))\n",
        "\n",
        "  rba_model.train()\n",
        "\n",
        "  # convert labels from -1, 1 to 0, 1\n",
        "  if -1 in y_s:\n",
        "    y_s = torch.FloatTensor(np.where(y_s == 1, 1, 0))\n",
        "\n",
        "  n_row, _ = X_s.shape\n",
        "\n",
        "  for i in range(max_itr):  # loop over the dataset multiple times\n",
        "      running_loss = 0.0\n",
        "    \n",
        "      optimizer.zero_grad()\n",
        "      \n",
        "      outputs = rba_model.forward(X_s)\n",
        "      output_last = RBAGrad.apply(outputs, torch.sigmoid(outputs * r_st), y_s)\n",
        "      output_last.backward(torch.ones(output_last.shape))\n",
        "\n",
        "      # adjust parameters based on the calculated gradients\n",
        "      optimizer.step()\n",
        "      \n",
        "      loss = loss_fn(torch.sigmoid(outputs.squeeze()), y_s.squeeze())\n",
        "      if i % 1000 == 0:\n",
        "        print(f\"Loss at step {i}: {float(loss.data)}\")\n",
        "\n",
        "\n",
        "  return rba_model"
      ],
      "metadata": {
        "id": "se_GxYcrO6mg"
      },
      "execution_count": null,
      "outputs": []
    },
    {
      "cell_type": "code",
      "source": [
        "def binaryRBATest(model, X_t, y_t, r_st):\n",
        "  n_row, _ = X_t.shape\n",
        "  \n",
        "  model.eval()\n",
        "\n",
        "  if -1 in y_t:\n",
        "    y_t = torch.FloatTensor(np.where(y_t == 1, 1, 0))\n",
        "\n",
        "  loss_fn = nn.BCELoss() \n",
        "\n",
        "  outputs = model(X_t)\n",
        "  preds = torch.sigmoid(outputs * r_st)\n",
        "  loss = loss_fn(preds.squeeze(), y_t.squeeze())\n",
        "  acc = torch.sum(torch.round(preds) == y_t) / n_row\n",
        "  return loss, preds, acc"
      ],
      "metadata": {
        "id": "cwJSTbwOrdId"
      },
      "execution_count": null,
      "outputs": []
    },
    {
      "cell_type": "markdown",
      "source": [
        "#### First-Order Features"
      ],
      "metadata": {
        "id": "hCUMPk_C_mbd"
      }
    },
    {
      "cell_type": "code",
      "source": [
        "r_st = torch.Tensor(d_s / d_t).unsqueeze(1)\n",
        "rba_model = binaryRBATrain(x_1, y_1, r_st, lr = 0.01) # torch.Tensor(d_s / d_t).unsqueeze(1)\n",
        "\n",
        "loss, preds, acc = binaryRBATest(rba_model, x_2, y_2, r_st)\n",
        "print(f\"Target Loss: {loss}. Accuracy: {acc}\")"
      ],
      "metadata": {
        "id": "CRidJY6LqBHL",
        "colab": {
          "base_uri": "https://localhost:8080/"
        },
        "outputId": "d445598e-f93c-4e93-8989-0f389eb83882"
      },
      "execution_count": null,
      "outputs": [
        {
          "output_type": "stream",
          "name": "stdout",
          "text": [
            "Loss at step 0: 8.603636741638184\n",
            "Loss at step 1000: 0.6452558040618896\n",
            "Loss at step 2000: 0.5796209573745728\n",
            "Loss at step 3000: 0.5176428556442261\n",
            "Loss at step 4000: 0.46658870577812195\n",
            "Loss at step 5000: 0.4302445352077484\n",
            "Loss at step 6000: 0.40805840492248535\n",
            "Loss at step 7000: 0.39614829421043396\n",
            "Loss at step 8000: 0.3908524215221405\n",
            "Loss at step 9000: 0.3883082866668701\n",
            "Target Loss: 2.6679651737213135. Accuracy: 0.8799999952316284\n"
          ]
        }
      ]
    },
    {
      "cell_type": "code",
      "source": [
        "from matplotlib import markers\n",
        "import matplotlib as mpl\n",
        "import matplotlib.pyplot as plt\n",
        "from matplotlib import cm\n",
        "\n",
        "maxs = 15\n",
        "mins = -5\n",
        "\n",
        "X_dim1, X_dim2 = np.meshgrid(np.arange(mins, maxs + 0.1, 0.1), np.arange(mins, maxs + 0.1, 0.1))\n",
        "\n",
        "dim = int((maxs - mins) / 0.1 + 1)\n",
        "\n",
        "prediction = np.zeros((dim, dim))\n",
        "\n",
        "for i in range(dim):\n",
        "  for j in range(dim):\n",
        "    x_t = torch.FloatTensor([X_dim1[i, j], X_dim2[i, j]])\n",
        "    outputs = torch.sigmoid(rba_model(x_t) * mvn_s.pdf(x_t) / mvn_t.pdf(x_t))\n",
        "    prediction[i, j] = outputs[0]\n",
        "\n",
        "plt.imshow(prediction, cmap='Spectral', interpolation='nearest', origin='lower', extent=[-5, 15, -5, 15])\n",
        "\n",
        "pos = x_1[np.array(y_1 == 1).flatten()]\n",
        "neg = x_1[np.array(y_1 == -1).flatten()]\n",
        "\n",
        "plt.scatter(pos[:,0], pos[:,1], marker=\"x\", color=\"black\", s = 7)\n",
        "plt.scatter(neg[:,0], neg[:,1], marker=\"o\", color=\"white\", s = 7)\n",
        "plt.title(\"RBA - First Order Features\")"
      ],
      "metadata": {
        "colab": {
          "base_uri": "https://localhost:8080/"
        },
        "id": "xrpypnAYqMiE",
        "outputId": "9f31e7f3-4bd0-40f3-e7a5-a0e125d226df"
      },
      "execution_count": null,
      "outputs": [
        {
          "output_type": "execute_result",
          "data": {
            "text/plain": [
              "Text(0.5, 1.0, 'RBA - First Order Features')"
            ]
          },
          "metadata": {},
          "execution_count": 22
        },
        {
          "output_type": "display_data",
          "data": {
            "image/png": "[encoded data removed]",
            "text/plain": [
              "<Figure size 432x288 with 1 Axes>"
            ]
          },
          "metadata": {
            "needs_background": "light"
          }
        }
      ]
    },
    {
      "cell_type": "markdown",
      "source": [
        "#### Second-Order Features"
      ],
      "metadata": {
        "id": "Q079_bierW-s"
      }
    },
    {
      "cell_type": "code",
      "source": [
        "r_st = torch.Tensor(d_s / d_t).unsqueeze(1)\n",
        "rba_model = binaryRBATrain(x_1_sec, y_1, r_st) \n",
        "\n",
        "loss, preds, acc = binaryRBATest(rba_model, x_2_sec, y_2, r_st)\n",
        "print(f\"Target Loss: {loss}. Accuracy: {acc}\")"
      ],
      "metadata": {
        "id": "CfIYv7QfQrUB",
        "colab": {
          "base_uri": "https://localhost:8080/"
        },
        "outputId": "d892c7d2-922a-4f6c-8a98-efb09ae376ba"
      },
      "execution_count": null,
      "outputs": [
        {
          "output_type": "stream",
          "name": "stdout",
          "text": [
            "Loss at step 0: 56.0\n",
            "Loss at step 1000: 0.46627509593963623\n",
            "Loss at step 2000: 0.399257630109787\n",
            "Loss at step 3000: 0.38316506147384644\n",
            "Loss at step 4000: 0.3797203004360199\n",
            "Loss at step 5000: 0.378834068775177\n",
            "Loss at step 6000: 0.3783676028251648\n",
            "Loss at step 7000: 0.377840131521225\n",
            "Loss at step 8000: 0.37701043486595154\n",
            "Loss at step 9000: 0.37603163719177246\n",
            "Target Loss: 2.8064165115356445. Accuracy: 0.8899999856948853\n"
          ]
        }
      ]
    },
    {
      "cell_type": "code",
      "source": [
        "from matplotlib import markers\n",
        "import matplotlib as mpl\n",
        "import matplotlib.pyplot as plt\n",
        "from matplotlib import cm\n",
        "\n",
        "maxs = 15\n",
        "mins = -5\n",
        "\n",
        "X_dim1, X_dim2 = np.meshgrid(np.arange(mins, maxs + 0.1, 0.1), np.arange(mins, maxs + 0.1, 0.1))\n",
        "\n",
        "dim = int((maxs - mins) / 0.1 + 1)\n",
        "\n",
        "prediction = np.zeros((dim, dim))\n",
        "\n",
        "for i in range(dim):\n",
        "  for j in range(dim):\n",
        "    x_t = torch.FloatTensor([X_dim1[i, j], X_dim2[i, j], X_dim1[i, j] ** 2, X_dim1[i, j] * X_dim2[i, j], X_dim2[i, j] ** 2])\n",
        "    outputs = torch.sigmoid(rba_model(x_t) * mvn_s.pdf(x_t[:2]) / mvn_t.pdf(x_t[:2]))\n",
        "    prediction[i, j] = outputs[0]\n",
        "\n",
        "plt.imshow(prediction, cmap='Spectral', interpolation='nearest', origin='lower', extent=[-5, 15, -5, 15])\n",
        "\n",
        "pos = x_1[np.array(y_1 == 1).flatten()]\n",
        "neg = x_1[np.array(y_1 == -1).flatten()]\n",
        "\n",
        "plt.scatter(pos[:,0], pos[:,1], marker=\"x\", color=\"black\")\n",
        "plt.scatter(neg[:,0], neg[:,1], marker=\"o\", color=\"white\")\n",
        "plt.title(\"RBA - Second Order Features\")"
      ],
      "metadata": {
        "id": "7I8g5IoeTeOQ",
        "colab": {
          "base_uri": "https://localhost:8080/"
        },
        "outputId": "ae8c4f2a-6491-4368-d5a7-7f37a9aefbf0"
      },
      "execution_count": null,
      "outputs": [
        {
          "output_type": "execute_result",
          "data": {
            "text/plain": [
              "Text(0.5, 1.0, 'RBA - Second Order Features')"
            ]
          },
          "metadata": {},
          "execution_count": 24
        },
        {
          "output_type": "display_data",
          "data": {
            "image/png": "[encoded data removed]",
            "text/plain": [
              "<Figure size 432x288 with 1 Axes>"
            ]
          },
          "metadata": {
            "needs_background": "light"
          }
        }
      ]
    },
    {
      "cell_type": "markdown",
      "source": [
        "## MultiClass Classification"
      ],
      "metadata": {
        "id": "3DfdxoUUwzw8"
      }
    },
    {
      "cell_type": "markdown",
      "source": [
        "### Load Data"
      ],
      "metadata": {
        "id": "9_ZjiogIQUUH"
      }
    },
    {
      "cell_type": "code",
      "source": [
        "import scipy.io\n",
        "import numpy as np\n",
        "import os\n",
        "\n",
        "folder_path = '/content' # TODO Change this\n",
        "\n",
        "iris_train = scipy.io.loadmat(os.path.join(folder_path, 'iris_train.mat'))['iris_train']\n",
        "iris_test = scipy.io.loadmat(os.path.join(folder_path, 'iris_test.mat'))['iris_test']\n",
        "\n",
        "X_s = iris_train[:,0:-1]\n",
        "y_s = iris_train[:, -1]\n",
        "X_t = iris_test[:,0:-1]\n",
        "y_t = iris_test[:,-1]"
      ],
      "metadata": {
        "id": "f-x7il86yMPG"
      },
      "execution_count": null,
      "outputs": []
    },
    {
      "cell_type": "code",
      "source": [
        "from sklearn import preprocessing\n",
        "import torch\n",
        "\n",
        "lb = preprocessing.LabelBinarizer()\n",
        "lb.fit(y_s)\n",
        "\n",
        "Y_s = lb.transform(y_s)\n",
        "Y_t = lb.transform(y_t)\n",
        "\n",
        "X_s = torch.FloatTensor(X_s).detach()\n",
        "X_t = torch.FloatTensor(X_t).detach()\n",
        "Y_s = torch.FloatTensor(Y_s)\n",
        "Y_t = torch.FloatTensor(Y_t)\n",
        "\n",
        "n_row, n_col = X_s.shape"
      ],
      "metadata": {
        "id": "LptqJQD_lVni"
      },
      "execution_count": null,
      "outputs": []
    },
    {
      "cell_type": "code",
      "source": [
        "X_s_b = torch.cat((torch.ones((X_s.shape[0], 1)), X_s), dim = 1)\n",
        "X_t_b = torch.cat((torch.ones((X_t.shape[0], 1)), X_t), dim = 1)"
      ],
      "metadata": {
        "id": "ssP-UDo8pIgE"
      },
      "execution_count": null,
      "outputs": []
    },
    {
      "cell_type": "code",
      "source": [
        "def binaryRobustTrain(X_s, y_s, r_st, r_ts, lamb = 0.001, lr = 1, max_itr = 10000, min_gradient = 0.0001):\n",
        "  n_row, n_col = X_s.shape\n",
        "\n",
        "  # F : Features \n",
        "  F = np.concatenate((np.ones((n_row, 1)), X_s), axis=1) \n",
        "\n",
        "  # F_g : Features reweighted under target / source density\n",
        "  F_g = F * np.tile(r_ts, n_col + 1)\n",
        "\n",
        "  # P : predictions\n",
        "  P = np.zeros((n_row, 1)) \n",
        "\n",
        "  # S_g : velocity term in Adam? \n",
        "  S_g = np.ones((n_col + 1, 1)) * 1e-8\n",
        "\n",
        "  # theta : Weights\n",
        "  theta = np.ones((n_col + 1, 1)) \n",
        "\n",
        "  # l_0 : momentum\n",
        "  l_0 = 0\n",
        "\n",
        "  # l_1 : \n",
        "  l_1 = (1 + (1 + (4 * l_0 ** 2)) ** 0.5) / 2\n",
        "  delta_1 = 0\n",
        "\n",
        "  t = 1\n",
        "  while True:\n",
        "    t = t + 1\n",
        "\n",
        "    decay = np.sqrt(1000 / (1000 + t))\n",
        "\n",
        "    l_2 = (1 + (1 + (4 * l_1 ** 2)) ** 0.5) / 2\n",
        "    l_3 = (1 - l_1) / l_2\n",
        "\n",
        "    for i in range(n_row):\n",
        "      W = r_st[i]\n",
        "\n",
        "      # temp is evaluated so that you want your prediction theta * features to be as close to the real y_s. \n",
        "      # if prediction matches real value, then temp will be 1 for both classes\n",
        "      temp =  (np.dot(np.transpose(theta), np.transpose(F[i, :])) * y_s[i] * W)[0]   # why multiply by y_s here when you aren't multiplying by y_s in multiClassTrain? \n",
        "      temp_max = max(temp, -1 * temp)  \n",
        "      temp_min = min(temp, -1 * temp)\n",
        "\n",
        "      # P[i] : estimator that is bounded between 0 and 1? \n",
        "      # According to the paper, this is Theorem 2 or Part 5 I believe? \n",
        "      P[i] = np.exp(temp - temp_max - np.log(1 + np.exp(temp_min - temp_max)))\n",
        "\n",
        "    # G : Gradient \n",
        "    G = np.transpose(np.dot(np.transpose(P * y_s), F_g)) - np.transpose(np.dot(np.transpose(y_s), F_g)) + 2 * lamb * theta\n",
        "    if np.linalg.norm(G) < min_gradient:\n",
        "      print('Optimization stops by reaching minimum gradient.')\n",
        "      break\n",
        "\n",
        "    # updating velocity \n",
        "    S_g = S_g + G ** 2\n",
        "\n",
        "    # delta_2 : \n",
        "    delta_2 = theta - decay * lr * G / np.sqrt(S_g) \n",
        "    theta = (1 - l_3) * delta_2 + l_3 * delta_1\n",
        "    delta_1 = delta_2\n",
        "    l_1 = l_2\n",
        "\n",
        "    if t > max_itr:\n",
        "      print(\"Optimizination stops by reaching maximum iteration\")\n",
        "      break\n",
        "\n",
        "  return theta"
      ],
      "metadata": {
        "id": "WixBv9Kj3zpQ"
      },
      "execution_count": null,
      "outputs": []
    },
    {
      "cell_type": "code",
      "source": [
        "def binaryRobustTest(theta, X_t, y_t, r_st):\n",
        "  n_row, _ = X_t.shape\n",
        "\n",
        "  F = np.concatenate((np.ones((n_row, 1)), X_t), axis=1) \n",
        "\n",
        "  P = np.zeros((n_row, 1))\n",
        "  logloss = 0\n",
        "  prediction = np.zeros((n_row, 2))\n",
        "  for i in range(n_row):\n",
        "    W = r_st[i]\n",
        "    temp =  (np.dot(np.transpose(theta), np.transpose(F[i, :])) * y_t[i] * W)[0]      \n",
        "    temp_max = max(temp, -1 * temp)\n",
        "    temp_min = min(temp, -1 * temp)\n",
        "    P[i] = np.exp(temp - temp_max - np.log(1 + np.exp(temp_min - temp_max)))\n",
        "    logloss = logloss - np.log(P[i])\n",
        "\n",
        "    if y_t[i] == 1:\n",
        "      prediction[i] = [P[i], 1 - P[i]]\n",
        "    else:\n",
        "      prediction[i] = [1 - P[i], P[i]]\n",
        "\n",
        "  logloss = logloss / n_row / 0.6931\n",
        "  return logloss, prediction\n",
        "\n",
        "def computeAcc(pred, y):\n",
        "  n_row, n_class = pred.shape\n",
        "  \n",
        "  max_ind = np.argmax(pred, axis = 1)\n",
        "\n",
        "  summ = 0\n",
        "\n",
        "  if n_class == 2:\n",
        "    for i in range(n_row):\n",
        "      if max_ind[i] == 1 and y[i] == -1:\n",
        "        summ += 1\n",
        "      elif max_ind[i] == 0 and y[i] == 1:\n",
        "        summ += 1\n",
        "  else:\n",
        "    summ = sum(np.argmax(pred, axis = 1) == y_t - 1)\n",
        "\n",
        "  return summ / n_row\n"
      ],
      "metadata": {
        "id": "5tNiXD3jiT1y"
      },
      "execution_count": null,
      "outputs": []
    },
    {
      "cell_type": "code",
      "source": [
        "def LRDensityEstimation(X_s, X_t, lambdas = [0.0625, 1, 16]):\n",
        "\n",
        "  np.random.seed(10) # seed set in matlab code as well for verification\n",
        "\n",
        "  ns_row, _ = X_s.shape\n",
        "  nt_row, _ = X_t.shape\n",
        "\n",
        "  inda_s = np.arange(ns_row)\n",
        "  inda_t = np.arange(nt_row)\n",
        "\n",
        "  nv_s = int(np.floor(0.2 * ns_row))\n",
        "  nv_t = int(np.floor(0.2 * nt_row))\n",
        "\n",
        "  indv_s = np.array([92, 3, 74, 87, 57, 26, 23, 85, 19, 10, 75, 103, 1, 54, 111, 64, 116, 30, 118, 71, 105, 14, 36]) - 1 # indv_s = np.random.permutation(ns_row)[:nv_s] \n",
        "\n",
        "  indv_t = np.array([22, 14, 31, 18, 15, 29]) - 1 # np.random.permutation(nt_row)[:nv_t]\n",
        "\n",
        "  indt_s = np.setdiff1d(inda_s, indv_s)\n",
        "  \n",
        "  indt_t = np.setdiff1d(inda_t, indv_t)\n",
        "\n",
        "  X_train = np.concatenate((X_s[indt_s, :], X_t[indt_t, :]))\n",
        "  X_valid = np.concatenate((X_s[indv_s, :], X_t[indv_t, :]))\n",
        "  \n",
        "  y_train = np.concatenate((np.ones((ns_row - nv_s, 1)), -1 * np.ones((nt_row - nv_t, 1)) ))\n",
        "  y_valid = np.concatenate((np.ones((nv_s, 1)), -1 * np.ones((nv_t, 1)) ))\n",
        "\n",
        "  rt_st = np.ones((ns_row + nt_row - nv_s - nv_t, 1))\n",
        "  rv_st = np.ones((nv_s + nv_t, 1))\n",
        "  \n",
        "  logloss = np.zeros((len(lambdas), 1))\n",
        "  for i, lamb in enumerate(lambdas):\n",
        "    theta = binaryRobustTrain(X_train, y_train, rt_st, rt_st, lamb=lamb,min_gradient=0.1)\n",
        "    _, pred = binaryRobustTest(theta, X_valid, y_valid, rv_st )\n",
        "    logloss[i] = (-sum(np.log(pred[:nv_s, 0])) - sum(np.log(pred[nv_s: nv_s + nv_t, 1]))) / (nv_s + nv_t) / 0.6931\n",
        "\n",
        "  ind_min = np.argmin(logloss)\n",
        "\n",
        "  X_train = np.concatenate((X_s, X_t))\n",
        "  y_train = np.concatenate((np.ones((ns_row, 1)), -1 * np.ones((nt_row, 1)) ))\n",
        "  r_st = np.ones((ns_row + nt_row, 1))\n",
        "\n",
        "  theta = binaryRobustTrain(X_train, y_train, r_st, r_st, lambdas[ind_min])\n",
        "  _, pred = binaryRobustTest(theta, X_train, y_train, r_st)\n",
        "\n",
        "  d_ss = pred[:ns_row, 0]\n",
        "  d_st = pred[:ns_row, 1]\n",
        "\n",
        "  d_ts = pred[ns_row:, 0]\n",
        "  d_tt = pred[ns_row:, 1]\n",
        "\n",
        "  print(\"Finish Density Estimation\")\n",
        "\n",
        "  return d_ss, d_st, d_ts, d_tt"
      ],
      "metadata": {
        "id": "4HQ3W_0f3p_M"
      },
      "execution_count": null,
      "outputs": []
    },
    {
      "cell_type": "code",
      "source": [
        "d_ss, d_st, d_ts, d_tt = LRDensityEstimation(X_s, X_t, [0.1, 1, 10])"
      ],
      "metadata": {
        "colab": {
          "base_uri": "https://localhost:8080/"
        },
        "id": "ehVam6-q36r6",
        "outputId": "1c71be3c-81bf-4032-9eb7-1c1cc506e216"
      },
      "execution_count": null,
      "outputs": [
        {
          "output_type": "stream",
          "name": "stdout",
          "text": [
            "Optimization stops by reaching minimum gradient.\n",
            "Optimization stops by reaching minimum gradient.\n",
            "Optimization stops by reaching minimum gradient.\n",
            "Optimization stops by reaching minimum gradient.\n",
            "Finish Density Estimation\n"
          ]
        }
      ]
    },
    {
      "cell_type": "markdown",
      "source": [
        "### Logistic Regression (LR) + Importance Weighting (IW)"
      ],
      "metadata": {
        "id": "rfYo8Oer43ko"
      }
    },
    {
      "cell_type": "code",
      "source": [
        "import torch\n",
        "import torch.nn as nn\n",
        "import torchvision\n",
        "import torch.nn.functional as F\n",
        "\n",
        "class MultiClassLR(nn.Module):\n",
        "    def __init__(self, in_features = 4, out_features = 3):\n",
        "      super(MultiClassLR, self).__init__()\n",
        "      \n",
        "      self.layer1 = nn.Linear(in_features, out_features, bias = False)\n",
        "      self.activation1 = nn.Softmax(dim=1)\n",
        "\n",
        "    def forward(self, input):\n",
        "      return self.activation1(self.layer1(input))"
      ],
      "metadata": {
        "id": "uwtSEN8K49KH"
      },
      "execution_count": null,
      "outputs": []
    },
    {
      "cell_type": "code",
      "source": [
        "from torch.optim import Adam\n",
        "\n",
        "def multiLRTrain(X_s, y_s, r_ts, max_itr = 10000, lr = 0.01, weight_decay = 0):\n",
        "\n",
        "  n_row, n_col = X_s.shape\n",
        "  \n",
        "  model = MultiClassLR(in_features = n_col)\n",
        "  loss_fn = nn.CrossEntropyLoss()\n",
        "  optimizer = Adam(model.parameters(), lr=lr, weight_decay = weight_decay)\n",
        "\n",
        "  model.train()\n",
        "\n",
        "  for param in model.parameters():\n",
        "    param.data = nn.parameter.Parameter(torch.ones_like(param))\n",
        "\n",
        "  F = X_s * r_ts.repeat(1, n_col)\n",
        "  \n",
        "  for i in range(max_itr): \n",
        "    optimizer.zero_grad()\n",
        "    \n",
        "    outputs = model(F) \n",
        "\n",
        "    loss = loss_fn(outputs, y_s)\n",
        "    loss.backward()\n",
        "    optimizer.step()\n",
        "\n",
        "    if i % 1000 == 0:\n",
        "      print(f\"Loss at step {i}: {float(loss.data)}\")\n",
        "  \n",
        "  return model"
      ],
      "metadata": {
        "id": "O1jKGICK4vSq"
      },
      "execution_count": null,
      "outputs": []
    },
    {
      "cell_type": "code",
      "source": [
        "def multiLRTest(model, X_t, y_t):\n",
        "\n",
        "  loss_fn = nn.CrossEntropyLoss()\n",
        "  outputs = model(X_t)\n",
        "\n",
        "  loss = loss_fn(outputs, y_t)\n",
        "  preds = outputs\n",
        "  acc = torch.sum(torch.argmax(model(X_t), dim = 1) == torch.argmax(Y_t, dim = 1)) / len(Y_t)\n",
        "  return loss, preds, acc"
      ],
      "metadata": {
        "id": "Gcbz9uO_lgqN"
      },
      "execution_count": null,
      "outputs": []
    },
    {
      "cell_type": "code",
      "source": [
        "multi_lr_model = multiLRTrain(X_s_b, Y_s, torch.ones(n_row, 1), lr = 0.01)"
      ],
      "metadata": {
        "colab": {
          "base_uri": "https://localhost:8080/"
        },
        "id": "okjCr3HHYZdZ",
        "outputId": "3baa6434-c1cf-4314-83a4-a48942d3cc90"
      },
      "execution_count": null,
      "outputs": [
        {
          "output_type": "stream",
          "name": "stdout",
          "text": [
            "Loss at step 0: 1.0986124277114868\n",
            "Loss at step 1000: 0.6025437712669373\n",
            "Loss at step 2000: 0.5869957804679871\n",
            "Loss at step 3000: 0.5815357565879822\n",
            "Loss at step 4000: 0.5785336494445801\n",
            "Loss at step 5000: 0.5764588713645935\n",
            "Loss at step 6000: 0.5748035907745361\n",
            "Loss at step 7000: 0.5733606815338135\n",
            "Loss at step 8000: 0.5720071792602539\n",
            "Loss at step 9000: 0.5706669688224792\n"
          ]
        }
      ]
    },
    {
      "cell_type": "code",
      "source": [
        "loss, preds, acc = multiLRTest(multi_lr_model, X_t_b, Y_t)\n",
        "print(f\"Target Loss: {loss}. Accuracy: {acc}\")"
      ],
      "metadata": {
        "colab": {
          "base_uri": "https://localhost:8080/"
        },
        "id": "rcBmzKPbzzYZ",
        "outputId": "44b2e2c5-f0b3-4c6b-e0f1-f77f863f9303"
      },
      "execution_count": null,
      "outputs": [
        {
          "output_type": "stream",
          "name": "stdout",
          "text": [
            "Target Loss: 0.5864711999893188. Accuracy: 0.96875\n"
          ]
        }
      ]
    },
    {
      "cell_type": "code",
      "source": [
        "r_ts = torch.FloatTensor(d_st / d_ss).unsqueeze(1).detach()\n",
        "\n",
        "multi_iw_model = multiLRTrain(X_s_b, Y_s, r_ts, lr = 1)"
      ],
      "metadata": {
        "colab": {
          "base_uri": "https://localhost:8080/"
        },
        "id": "PfvNmXxduy_m",
        "outputId": "39a39359-0590-4830-956b-fcb59ae066ab"
      },
      "execution_count": null,
      "outputs": [
        {
          "output_type": "stream",
          "name": "stdout",
          "text": [
            "Loss at step 0: 1.0986124277114868\n",
            "Loss at step 1000: 0.7408914566040039\n",
            "Loss at step 2000: 0.6954430341720581\n",
            "Loss at step 3000: 0.6695226430892944\n",
            "Loss at step 4000: 0.6514200568199158\n",
            "Loss at step 5000: 0.6378334164619446\n",
            "Loss at step 6000: 0.6271067261695862\n",
            "Loss at step 7000: 0.6180447340011597\n",
            "Loss at step 8000: 0.6096295714378357\n",
            "Loss at step 9000: 0.6015253663063049\n"
          ]
        }
      ]
    },
    {
      "cell_type": "code",
      "source": [
        "loss, preds, acc = multiLRTest(multi_iw_model, X_t_b, Y_t)\n",
        "print(f\"Target Loss: {loss}. Accuracy: {acc}\")"
      ],
      "metadata": {
        "colab": {
          "base_uri": "https://localhost:8080/"
        },
        "id": "L2lG140OyRfk",
        "outputId": "b056aed5-5bd4-4986-ff9f-265c8d4676be"
      },
      "execution_count": null,
      "outputs": [
        {
          "output_type": "stream",
          "name": "stdout",
          "text": [
            "Target Loss: 0.5826946496963501. Accuracy: 0.96875\n"
          ]
        }
      ]
    },
    {
      "cell_type": "markdown",
      "source": [
        "### Robust Bias-Aware (RBA) "
      ],
      "metadata": {
        "id": "DpjGRO_j4eKb"
      }
    },
    {
      "cell_type": "code",
      "source": [
        "def multiRBATrain(X_s, y_s, r_st, max_itr = 10000, lr = 0.01):\n",
        "\n",
        "  rba_model = RBAClassifier(in_features = X_s.shape[1], out_features = y_s.shape[1])\n",
        "  loss_fn = nn.CrossEntropyLoss() \n",
        "  optimizer = torch.optim.Adam(rba_model.parameters(), lr = lr)\n",
        "\n",
        "  for param in rba_model.parameters():\n",
        "    param.data = nn.parameter.Parameter(torch.ones_like(param))\n",
        "\n",
        "  rba_model.train()\n",
        "\n",
        "  # convert labels from -1, 1 to 0, 1\n",
        "  if -1 in y_s:\n",
        "    y_s = torch.FloatTensor(np.where(y_s == 1, 1, 0))\n",
        "\n",
        "  n_row, _ = X_s.shape\n",
        "\n",
        "  for i in range(max_itr):  # loop over the dataset multiple times\n",
        "      running_loss = 0.0\n",
        "    \n",
        "      optimizer.zero_grad()\n",
        "      \n",
        "      outputs = rba_model.forward(X_s)\n",
        "      output_last = RBAGrad.apply(outputs, torch.sigmoid(outputs * r_st), y_s)\n",
        "      output_last.backward(torch.ones(output_last.shape))\n",
        "\n",
        "      # adjust parameters based on the calculated gradients\n",
        "      optimizer.step()\n",
        "      \n",
        "      loss = loss_fn(torch.sigmoid(outputs.squeeze()), y_s.squeeze())\n",
        "      if i % 1000 == 0:\n",
        "        print(f\"Loss at step {i}: {float(loss.data)}\")\n",
        "\n",
        "\n",
        "  return rba_model"
      ],
      "metadata": {
        "id": "2V9JCYprw13_"
      },
      "execution_count": null,
      "outputs": []
    },
    {
      "cell_type": "code",
      "source": [
        "def multiRBATest(model, X_t, y_t, r_st):\n",
        "  model.eval()\n",
        "\n",
        "  loss_fn = nn.CrossEntropyLoss()\n",
        "  outputs = model(X_t)\n",
        "  \n",
        "  preds = torch.sigmoid(outputs * r_st)\n",
        "\n",
        "  loss = loss_fn(preds, y_t)\n",
        "  acc = torch.sum(torch.argmax(preds, dim = 1) == torch.argmax(Y_t, dim = 1)) / len(Y_t)\n",
        "  return loss, preds, acc"
      ],
      "metadata": {
        "id": "-UIo-Wlw9NRL"
      },
      "execution_count": null,
      "outputs": []
    },
    {
      "cell_type": "code",
      "source": [
        "rba_model = multiRBATrain(X_s, Y_s, torch.Tensor(d_ss / d_st).unsqueeze(1), max_itr=40000)"
      ],
      "metadata": {
        "colab": {
          "base_uri": "https://localhost:8080/"
        },
        "id": "yyPRPklT7XY7",
        "outputId": "f341ed80-3408-45aa-ce5d-3ab5646acf07"
      },
      "execution_count": null,
      "outputs": [
        {
          "output_type": "stream",
          "name": "stdout",
          "text": [
            "Loss at step 0: 1.0986124277114868\n",
            "Loss at step 1000: 0.9644071459770203\n",
            "Loss at step 2000: 0.9133692383766174\n",
            "Loss at step 3000: 0.8844454884529114\n",
            "Loss at step 4000: 0.8660852313041687\n",
            "Loss at step 5000: 0.8542410135269165\n",
            "Loss at step 6000: 0.8465876579284668\n",
            "Loss at step 7000: 0.8411120176315308\n",
            "Loss at step 8000: 0.8362189531326294\n",
            "Loss at step 9000: 0.8300734758377075\n",
            "Loss at step 10000: 0.825667142868042\n",
            "Loss at step 11000: 0.8229186534881592\n",
            "Loss at step 12000: 0.8212841749191284\n",
            "Loss at step 13000: 0.8202203512191772\n",
            "Loss at step 14000: 0.8195014595985413\n",
            "Loss at step 15000: 0.8190363049507141\n",
            "Loss at step 16000: 0.8187390565872192\n",
            "Loss at step 17000: 0.81852787733078\n",
            "Loss at step 18000: 0.8184016346931458\n",
            "Loss at step 19000: 0.8183199763298035\n",
            "Loss at step 20000: 0.8182492852210999\n",
            "Loss at step 21000: 0.8182048201560974\n",
            "Loss at step 22000: 0.8181774616241455\n",
            "Loss at step 23000: 0.8180627226829529\n",
            "Loss at step 24000: 0.8180716633796692\n",
            "Loss at step 25000: 0.8180766105651855\n",
            "Loss at step 26000: 0.8180602788925171\n",
            "Loss at step 27000: 0.8180521130561829\n",
            "Loss at step 28000: 0.8180525302886963\n",
            "Loss at step 29000: 0.8180447220802307\n",
            "Loss at step 30000: 0.8180820941925049\n",
            "Loss at step 31000: 0.8180193901062012\n",
            "Loss at step 32000: 0.8180428743362427\n",
            "Loss at step 33000: 0.81804358959198\n",
            "Loss at step 34000: 0.8180243372917175\n",
            "Loss at step 35000: 0.8180161118507385\n",
            "Loss at step 36000: 0.8180190920829773\n",
            "Loss at step 37000: 0.8180339336395264\n",
            "Loss at step 38000: 0.8180541396141052\n",
            "Loss at step 39000: 0.8180119395256042\n"
          ]
        }
      ]
    },
    {
      "cell_type": "code",
      "source": [
        "loss, preds, acc = multiRBATest(rba_model, X_t, Y_t, torch.Tensor(d_ts / d_tt).unsqueeze(1))\n",
        "print(f\"Target Loss: {loss}. Accuracy: {acc}\")"
      ],
      "metadata": {
        "colab": {
          "base_uri": "https://localhost:8080/"
        },
        "id": "AnRGGKpz9IxL",
        "outputId": "b404d74c-40e3-42ca-8e57-0b3545fa0e85"
      },
      "execution_count": null,
      "outputs": [
        {
          "output_type": "stream",
          "name": "stdout",
          "text": [
            "Target Loss: 0.7247159481048584. Accuracy: 0.96875\n"
          ]
        }
      ]
    },
    {
      "cell_type": "code",
      "source": [
        "torch.argmax(preds, dim = 1) == torch.argmax(Y_t, dim = 1)"
      ],
      "metadata": {
        "id": "ojdYcUtMzgZh",
        "colab": {
          "base_uri": "https://localhost:8080/"
        },
        "outputId": "a18dbf15-cb05-411a-e488-8e4067b0526e"
      },
      "execution_count": null,
      "outputs": [
        {
          "output_type": "execute_result",
          "data": {
            "text/plain": [
              "tensor([ True,  True,  True,  True,  True,  True,  True,  True,  True,  True,\n",
              "         True,  True,  True,  True,  True,  True,  True,  True,  True,  True,\n",
              "         True,  True,  True,  True,  True,  True,  True,  True,  True,  True,\n",
              "         True, False])"
            ]
          },
          "metadata": {},
          "execution_count": 51
        }
      ]
    },
    {
      "cell_type": "code",
      "source": [
        ""
      ],
      "metadata": {
        "id": "PuzNGVx0BpEz"
      },
      "execution_count": null,
      "outputs": []
    },
    {
      "cell_type": "markdown",
      "source": [
        "# New Section"
      ],
      "metadata": {
        "id": "rKEqAqlBh_Q8"
      }
    }
  ]
}
{
  "nbformat": 4,
  "nbformat_minor": 0,
  "metadata": {
    "colab": {
      "name": "MNIST_RBA",
      "provenance": [],
      "collapsed_sections": [],
      "toc_visible": true,
      "authorship_tag": "ABX9TyMqxC0y6ClspdTzhsvOUmb8",
      "include_colab_link": true
    },
    "kernelspec": {
      "name": "python3",
      "display_name": "Python 3"
    },
    "language_info": {
      "name": "python"
    },
    "accelerator": "GPU",
    "widgets": {
      "application/vnd.jupyter.widget-state+json": {
        "6c15a4622bdb42bf860eec9a12569faa": {
          "model_module": "@jupyter-widgets/controls",
          "model_name": "HBoxModel",
          "model_module_version": "1.5.0",
          "state": {
            "_dom_classes": [],
            "_model_module": "@jupyter-widgets/controls",
            "_model_module_version": "1.5.0",
            "_model_name": "HBoxModel",
            "_view_count": null,
            "_view_module": "@jupyter-widgets/controls",
            "_view_module_version": "1.5.0",
            "_view_name": "HBoxView",
            "box_style": "",
            "children": [
              "IPY_MODEL_ac4f8bb62a7740beb66b9266c022a97c",
              "IPY_MODEL_c31138a55a04478286c47121c2dd0f73",
              "IPY_MODEL_4cab7e6cbe694673a94248806645cebe"
            ],
            "layout": "IPY_MODEL_4b1e08312af6472290acbc5e20910541"
          }
        },
        "ac4f8bb62a7740beb66b9266c022a97c": {
          "model_module": "@jupyter-widgets/controls",
          "model_name": "HTMLModel",
          "model_module_version": "1.5.0",
          "state": {
            "_dom_classes": [],
            "_model_module": "@jupyter-widgets/controls",
            "_model_module_version": "1.5.0",
            "_model_name": "HTMLModel",
            "_view_count": null,
            "_view_module": "@jupyter-widgets/controls",
            "_view_module_version": "1.5.0",
            "_view_name": "HTMLView",
            "description": "",
            "description_tooltip": null,
            "layout": "IPY_MODEL_7a642c8a92b646e1827750703ff0b7cb",
            "placeholder": "​",
            "style": "IPY_MODEL_a594fe7c08cc490faeddc66f99be164c",
            "value": ""
          }
        },
        "c31138a55a04478286c47121c2dd0f73": {
          "model_module": "@jupyter-widgets/controls",
          "model_name": "FloatProgressModel",
          "model_module_version": "1.5.0",
          "state": {
            "_dom_classes": [],
            "_model_module": "@jupyter-widgets/controls",
            "_model_module_version": "1.5.0",
            "_model_name": "FloatProgressModel",
            "_view_count": null,
            "_view_module": "@jupyter-widgets/controls",
            "_view_module_version": "1.5.0",
            "_view_name": "ProgressView",
            "bar_style": "success",
            "description": "",
            "description_tooltip": null,
            "layout": "IPY_MODEL_bb294bc1fc7149a59f4e81223265330a",
            "max": 9912422,
            "min": 0,
            "orientation": "horizontal",
            "style": "IPY_MODEL_9cd82a35187945118770a911fe33d362",
            "value": 9912422
          }
        },
        "4cab7e6cbe694673a94248806645cebe": {
          "model_module": "@jupyter-widgets/controls",
          "model_name": "HTMLModel",
          "model_module_version": "1.5.0",
          "state": {
            "_dom_classes": [],
            "_model_module": "@jupyter-widgets/controls",
            "_model_module_version": "1.5.0",
            "_model_name": "HTMLModel",
            "_view_count": null,
            "_view_module": "@jupyter-widgets/controls",
            "_view_module_version": "1.5.0",
            "_view_name": "HTMLView",
            "description": "",
            "description_tooltip": null,
            "layout": "IPY_MODEL_58e4c0795e7f475db4a868662d61775f",
            "placeholder": "​",
            "style": "IPY_MODEL_97cf80a9d73e42e4a0753827b33fa949",
            "value": " 9913344/? [00:00&lt;00:00, 30276562.04it/s]"
          }
        },
        "4b1e08312af6472290acbc5e20910541": {
          "model_module": "@jupyter-widgets/base",
          "model_name": "LayoutModel",
          "model_module_version": "1.2.0",
          "state": {
            "_model_module": "@jupyter-widgets/base",
            "_model_module_version": "1.2.0",
            "_model_name": "LayoutModel",
            "_view_count": null,
            "_view_module": "@jupyter-widgets/base",
            "_view_module_version": "1.2.0",
            "_view_name": "LayoutView",
            "align_content": null,
            "align_items": null,
            "align_self": null,
            "border": null,
            "bottom": null,
            "display": null,
            "flex": null,
            "flex_flow": null,
            "grid_area": null,
            "grid_auto_columns": null,
            "grid_auto_flow": null,
            "grid_auto_rows": null,
            "grid_column": null,
            "grid_gap": null,
            "grid_row": null,
            "grid_template_areas": null,
            "grid_template_columns": null,
            "grid_template_rows": null,
            "height": null,
            "justify_content": null,
            "justify_items": null,
            "left": null,
            "margin": null,
            "max_height": null,
            "max_width": null,
            "min_height": null,
            "min_width": null,
            "object_fit": null,
            "object_position": null,
            "order": null,
            "overflow": null,
            "overflow_x": null,
            "overflow_y": null,
            "padding": null,
            "right": null,
            "top": null,
            "visibility": null,
            "width": null
          }
        },
        "7a642c8a92b646e1827750703ff0b7cb": {
          "model_module": "@jupyter-widgets/base",
          "model_name": "LayoutModel",
          "model_module_version": "1.2.0",
          "state": {
            "_model_module": "@jupyter-widgets/base",
            "_model_module_version": "1.2.0",
            "_model_name": "LayoutModel",
            "_view_count": null,
            "_view_module": "@jupyter-widgets/base",
            "_view_module_version": "1.2.0",
            "_view_name": "LayoutView",
            "align_content": null,
            "align_items": null,
            "align_self": null,
            "border": null,
            "bottom": null,
            "display": null,
            "flex": null,
            "flex_flow": null,
            "grid_area": null,
            "grid_auto_columns": null,
            "grid_auto_flow": null,
            "grid_auto_rows": null,
            "grid_column": null,
            "grid_gap": null,
            "grid_row": null,
            "grid_template_areas": null,
            "grid_template_columns": null,
            "grid_template_rows": null,
            "height": null,
            "justify_content": null,
            "justify_items": null,
            "left": null,
            "margin": null,
            "max_height": null,
            "max_width": null,
            "min_height": null,
            "min_width": null,
            "object_fit": null,
            "object_position": null,
            "order": null,
            "overflow": null,
            "overflow_x": null,
            "overflow_y": null,
            "padding": null,
            "right": null,
            "top": null,
            "visibility": null,
            "width": null
          }
        },
        "a594fe7c08cc490faeddc66f99be164c": {
          "model_module": "@jupyter-widgets/controls",
          "model_name": "DescriptionStyleModel",
          "model_module_version": "1.5.0",
          "state": {
            "_model_module": "@jupyter-widgets/controls",
            "_model_module_version": "1.5.0",
            "_model_name": "DescriptionStyleModel",
            "_view_count": null,
            "_view_module": "@jupyter-widgets/base",
            "_view_module_version": "1.2.0",
            "_view_name": "StyleView",
            "description_width": ""
          }
        },
        "bb294bc1fc7149a59f4e81223265330a": {
          "model_module": "@jupyter-widgets/base",
          "model_name": "LayoutModel",
          "model_module_version": "1.2.0",
          "state": {
            "_model_module": "@jupyter-widgets/base",
            "_model_module_version": "1.2.0",
            "_model_name": "LayoutModel",
            "_view_count": null,
            "_view_module": "@jupyter-widgets/base",
            "_view_module_version": "1.2.0",
            "_view_name": "LayoutView",
            "align_content": null,
            "align_items": null,
            "align_self": null,
            "border": null,
            "bottom": null,
            "display": null,
            "flex": null,
            "flex_flow": null,
            "grid_area": null,
            "grid_auto_columns": null,
            "grid_auto_flow": null,
            "grid_auto_rows": null,
            "grid_column": null,
            "grid_gap": null,
            "grid_row": null,
            "grid_template_areas": null,
            "grid_template_columns": null,
            "grid_template_rows": null,
            "height": null,
            "justify_content": null,
            "justify_items": null,
            "left": null,
            "margin": null,
            "max_height": null,
            "max_width": null,
            "min_height": null,
            "min_width": null,
            "object_fit": null,
            "object_position": null,
            "order": null,
            "overflow": null,
            "overflow_x": null,
            "overflow_y": null,
            "padding": null,
            "right": null,
            "top": null,
            "visibility": null,
            "width": null
          }
        },
        "9cd82a35187945118770a911fe33d362": {
          "model_module": "@jupyter-widgets/controls",
          "model_name": "ProgressStyleModel",
          "model_module_version": "1.5.0",
          "state": {
            "_model_module": "@jupyter-widgets/controls",
            "_model_module_version": "1.5.0",
            "_model_name": "ProgressStyleModel",
            "_view_count": null,
            "_view_module": "@jupyter-widgets/base",
            "_view_module_version": "1.2.0",
            "_view_name": "StyleView",
            "bar_color": null,
            "description_width": ""
          }
        },
        "58e4c0795e7f475db4a868662d61775f": {
          "model_module": "@jupyter-widgets/base",
          "model_name": "LayoutModel",
          "model_module_version": "1.2.0",
          "state": {
            "_model_module": "@jupyter-widgets/base",
            "_model_module_version": "1.2.0",
            "_model_name": "LayoutModel",
            "_view_count": null,
            "_view_module": "@jupyter-widgets/base",
            "_view_module_version": "1.2.0",
            "_view_name": "LayoutView",
            "align_content": null,
            "align_items": null,
            "align_self": null,
            "border": null,
            "bottom": null,
            "display": null,
            "flex": null,
            "flex_flow": null,
            "grid_area": null,
            "grid_auto_columns": null,
            "grid_auto_flow": null,
            "grid_auto_rows": null,
            "grid_column": null,
            "grid_gap": null,
            "grid_row": null,
            "grid_template_areas": null,
            "grid_template_columns": null,
            "grid_template_rows": null,
            "height": null,
            "justify_content": null,
            "justify_items": null,
            "left": null,
            "margin": null,
            "max_height": null,
            "max_width": null,
            "min_height": null,
            "min_width": null,
            "object_fit": null,
            "object_position": null,
            "order": null,
            "overflow": null,
            "overflow_x": null,
            "overflow_y": null,
            "padding": null,
            "right": null,
            "top": null,
            "visibility": null,
            "width": null
          }
        },
        "97cf80a9d73e42e4a0753827b33fa949": {
          "model_module": "@jupyter-widgets/controls",
          "model_name": "DescriptionStyleModel",
          "model_module_version": "1.5.0",
          "state": {
            "_model_module": "@jupyter-widgets/controls",
            "_model_module_version": "1.5.0",
            "_model_name": "DescriptionStyleModel",
            "_view_count": null,
            "_view_module": "@jupyter-widgets/base",
            "_view_module_version": "1.2.0",
            "_view_name": "StyleView",
            "description_width": ""
          }
        },
        "e6f0f3a46fab48629615986350c7bfd6": {
          "model_module": "@jupyter-widgets/controls",
          "model_name": "HBoxModel",
          "model_module_version": "1.5.0",
          "state": {
            "_dom_classes": [],
            "_model_module": "@jupyter-widgets/controls",
            "_model_module_version": "1.5.0",
            "_model_name": "HBoxModel",
            "_view_count": null,
            "_view_module": "@jupyter-widgets/controls",
            "_view_module_version": "1.5.0",
            "_view_name": "HBoxView",
            "box_style": "",
            "children": [
              "IPY_MODEL_c08eb00dfc2a4a74969ed6b64bb4a763",
              "IPY_MODEL_0897057c9716454082807e9c1c61ad50",
              "IPY_MODEL_0eece451502b4bae8dc43d80ea4c9363"
            ],
            "layout": "IPY_MODEL_3b1d868c2f574a7896ba89fa6f69c29d"
          }
        },
        "c08eb00dfc2a4a74969ed6b64bb4a763": {
          "model_module": "@jupyter-widgets/controls",
          "model_name": "HTMLModel",
          "model_module_version": "1.5.0",
          "state": {
            "_dom_classes": [],
            "_model_module": "@jupyter-widgets/controls",
            "_model_module_version": "1.5.0",
            "_model_name": "HTMLModel",
            "_view_count": null,
            "_view_module": "@jupyter-widgets/controls",
            "_view_module_version": "1.5.0",
            "_view_name": "HTMLView",
            "description": "",
            "description_tooltip": null,
            "layout": "IPY_MODEL_2323b40a5ac549ec8c9b7909a995e7e3",
            "placeholder": "​",
            "style": "IPY_MODEL_71f64f6d0dc541869a2a3df3c3833644",
            "value": ""
          }
        },
        "0897057c9716454082807e9c1c61ad50": {
          "model_module": "@jupyter-widgets/controls",
          "model_name": "FloatProgressModel",
          "model_module_version": "1.5.0",
          "state": {
            "_dom_classes": [],
            "_model_module": "@jupyter-widgets/controls",
            "_model_module_version": "1.5.0",
            "_model_name": "FloatProgressModel",
            "_view_count": null,
            "_view_module": "@jupyter-widgets/controls",
            "_view_module_version": "1.5.0",
            "_view_name": "ProgressView",
            "bar_style": "success",
            "description": "",
            "description_tooltip": null,
            "layout": "IPY_MODEL_7d8d8be2363b431994d0a1e128ebfba3",
            "max": 28881,
            "min": 0,
            "orientation": "horizontal",
            "style": "IPY_MODEL_ec5edd2db875464a8de4a1c549a31e83",
            "value": 28881
          }
        },
        "0eece451502b4bae8dc43d80ea4c9363": {
          "model_module": "@jupyter-widgets/controls",
          "model_name": "HTMLModel",
          "model_module_version": "1.5.0",
          "state": {
            "_dom_classes": [],
            "_model_module": "@jupyter-widgets/controls",
            "_model_module_version": "1.5.0",
            "_model_name": "HTMLModel",
            "_view_count": null,
            "_view_module": "@jupyter-widgets/controls",
            "_view_module_version": "1.5.0",
            "_view_name": "HTMLView",
            "description": "",
            "description_tooltip": null,
            "layout": "IPY_MODEL_57f0dd01597946f38f196745acacff9f",
            "placeholder": "​",
            "style": "IPY_MODEL_111a49ce4e7c43c7a74f6f5481105855",
            "value": " 29696/? [00:00&lt;00:00, 900458.00it/s]"
          }
        },
        "3b1d868c2f574a7896ba89fa6f69c29d": {
          "model_module": "@jupyter-widgets/base",
          "model_name": "LayoutModel",
          "model_module_version": "1.2.0",
          "state": {
            "_model_module": "@jupyter-widgets/base",
            "_model_module_version": "1.2.0",
            "_model_name": "LayoutModel",
            "_view_count": null,
            "_view_module": "@jupyter-widgets/base",
            "_view_module_version": "1.2.0",
            "_view_name": "LayoutView",
            "align_content": null,
            "align_items": null,
            "align_self": null,
            "border": null,
            "bottom": null,
            "display": null,
            "flex": null,
            "flex_flow": null,
            "grid_area": null,
            "grid_auto_columns": null,
            "grid_auto_flow": null,
            "grid_auto_rows": null,
            "grid_column": null,
            "grid_gap": null,
            "grid_row": null,
            "grid_template_areas": null,
            "grid_template_columns": null,
            "grid_template_rows": null,
            "height": null,
            "justify_content": null,
            "justify_items": null,
            "left": null,
            "margin": null,
            "max_height": null,
            "max_width": null,
            "min_height": null,
            "min_width": null,
            "object_fit": null,
            "object_position": null,
            "order": null,
            "overflow": null,
            "overflow_x": null,
            "overflow_y": null,
            "padding": null,
            "right": null,
            "top": null,
            "visibility": null,
            "width": null
          }
        },
        "2323b40a5ac549ec8c9b7909a995e7e3": {
          "model_module": "@jupyter-widgets/base",
          "model_name": "LayoutModel",
          "model_module_version": "1.2.0",
          "state": {
            "_model_module": "@jupyter-widgets/base",
            "_model_module_version": "1.2.0",
            "_model_name": "LayoutModel",
            "_view_count": null,
            "_view_module": "@jupyter-widgets/base",
            "_view_module_version": "1.2.0",
            "_view_name": "LayoutView",
            "align_content": null,
            "align_items": null,
            "align_self": null,
            "border": null,
            "bottom": null,
            "display": null,
            "flex": null,
            "flex_flow": null,
            "grid_area": null,
            "grid_auto_columns": null,
            "grid_auto_flow": null,
            "grid_auto_rows": null,
            "grid_column": null,
            "grid_gap": null,
            "grid_row": null,
            "grid_template_areas": null,
            "grid_template_columns": null,
            "grid_template_rows": null,
            "height": null,
            "justify_content": null,
            "justify_items": null,
            "left": null,
            "margin": null,
            "max_height": null,
            "max_width": null,
            "min_height": null,
            "min_width": null,
            "object_fit": null,
            "object_position": null,
            "order": null,
            "overflow": null,
            "overflow_x": null,
            "overflow_y": null,
            "padding": null,
            "right": null,
            "top": null,
            "visibility": null,
            "width": null
          }
        },
        "71f64f6d0dc541869a2a3df3c3833644": {
          "model_module": "@jupyter-widgets/controls",
          "model_name": "DescriptionStyleModel",
          "model_module_version": "1.5.0",
          "state": {
            "_model_module": "@jupyter-widgets/controls",
            "_model_module_version": "1.5.0",
            "_model_name": "DescriptionStyleModel",
            "_view_count": null,
            "_view_module": "@jupyter-widgets/base",
            "_view_module_version": "1.2.0",
            "_view_name": "StyleView",
            "description_width": ""
          }
        },
        "7d8d8be2363b431994d0a1e128ebfba3": {
          "model_module": "@jupyter-widgets/base",
          "model_name": "LayoutModel",
          "model_module_version": "1.2.0",
          "state": {
            "_model_module": "@jupyter-widgets/base",
            "_model_module_version": "1.2.0",
            "_model_name": "LayoutModel",
            "_view_count": null,
            "_view_module": "@jupyter-widgets/base",
            "_view_module_version": "1.2.0",
            "_view_name": "LayoutView",
            "align_content": null,
            "align_items": null,
            "align_self": null,
            "border": null,
            "bottom": null,
            "display": null,
            "flex": null,
            "flex_flow": null,
            "grid_area": null,
            "grid_auto_columns": null,
            "grid_auto_flow": null,
            "grid_auto_rows": null,
            "grid_column": null,
            "grid_gap": null,
            "grid_row": null,
            "grid_template_areas": null,
            "grid_template_columns": null,
            "grid_template_rows": null,
            "height": null,
            "justify_content": null,
            "justify_items": null,
            "left": null,
            "margin": null,
            "max_height": null,
            "max_width": null,
            "min_height": null,
            "min_width": null,
            "object_fit": null,
            "object_position": null,
            "order": null,
            "overflow": null,
            "overflow_x": null,
            "overflow_y": null,
            "padding": null,
            "right": null,
            "top": null,
            "visibility": null,
            "width": null
          }
        },
        "ec5edd2db875464a8de4a1c549a31e83": {
          "model_module": "@jupyter-widgets/controls",
          "model_name": "ProgressStyleModel",
          "model_module_version": "1.5.0",
          "state": {
            "_model_module": "@jupyter-widgets/controls",
            "_model_module_version": "1.5.0",
            "_model_name": "ProgressStyleModel",
            "_view_count": null,
            "_view_module": "@jupyter-widgets/base",
            "_view_module_version": "1.2.0",
            "_view_name": "StyleView",
            "bar_color": null,
            "description_width": ""
          }
        },
        "57f0dd01597946f38f196745acacff9f": {
          "model_module": "@jupyter-widgets/base",
          "model_name": "LayoutModel",
          "model_module_version": "1.2.0",
          "state": {
            "_model_module": "@jupyter-widgets/base",
            "_model_module_version": "1.2.0",
            "_model_name": "LayoutModel",
            "_view_count": null,
            "_view_module": "@jupyter-widgets/base",
            "_view_module_version": "1.2.0",
            "_view_name": "LayoutView",
            "align_content": null,
            "align_items": null,
            "align_self": null,
            "border": null,
            "bottom": null,
            "display": null,
            "flex": null,
            "flex_flow": null,
            "grid_area": null,
            "grid_auto_columns": null,
            "grid_auto_flow": null,
            "grid_auto_rows": null,
            "grid_column": null,
            "grid_gap": null,
            "grid_row": null,
            "grid_template_areas": null,
            "grid_template_columns": null,
            "grid_template_rows": null,
            "height": null,
            "justify_content": null,
            "justify_items": null,
            "left": null,
            "margin": null,
            "max_height": null,
            "max_width": null,
            "min_height": null,
            "min_width": null,
            "object_fit": null,
            "object_position": null,
            "order": null,
            "overflow": null,
            "overflow_x": null,
            "overflow_y": null,
            "padding": null,
            "right": null,
            "top": null,
            "visibility": null,
            "width": null
          }
        },
        "111a49ce4e7c43c7a74f6f5481105855": {
          "model_module": "@jupyter-widgets/controls",
          "model_name": "DescriptionStyleModel",
          "model_module_version": "1.5.0",
          "state": {
            "_model_module": "@jupyter-widgets/controls",
            "_model_module_version": "1.5.0",
            "_model_name": "DescriptionStyleModel",
            "_view_count": null,
            "_view_module": "@jupyter-widgets/base",
            "_view_module_version": "1.2.0",
            "_view_name": "StyleView",
            "description_width": ""
          }
        },
        "115a63e0f0a94ec097edd49cf63ab223": {
          "model_module": "@jupyter-widgets/controls",
          "model_name": "HBoxModel",
          "model_module_version": "1.5.0",
          "state": {
            "_dom_classes": [],
            "_model_module": "@jupyter-widgets/controls",
            "_model_module_version": "1.5.0",
            "_model_name": "HBoxModel",
            "_view_count": null,
            "_view_module": "@jupyter-widgets/controls",
            "_view_module_version": "1.5.0",
            "_view_name": "HBoxView",
            "box_style": "",
            "children": [
              "IPY_MODEL_4ff1573ae502403db4802ab24858b50b",
              "IPY_MODEL_204fb7a732d2426c8d4c424f01ff15b1",
              "IPY_MODEL_0af0b5920f884f60866ff27d25b901ab"
            ],
            "layout": "IPY_MODEL_c76c1e4ad8fd4594b0005a9518d1e81c"
          }
        },
        "4ff1573ae502403db4802ab24858b50b": {
          "model_module": "@jupyter-widgets/controls",
          "model_name": "HTMLModel",
          "model_module_version": "1.5.0",
          "state": {
            "_dom_classes": [],
            "_model_module": "@jupyter-widgets/controls",
            "_model_module_version": "1.5.0",
            "_model_name": "HTMLModel",
            "_view_count": null,
            "_view_module": "@jupyter-widgets/controls",
            "_view_module_version": "1.5.0",
            "_view_name": "HTMLView",
            "description": "",
            "description_tooltip": null,
            "layout": "IPY_MODEL_468615f0baf24944990346e841ac79fc",
            "placeholder": "​",
            "style": "IPY_MODEL_16252ad8be0b441dbf838f47277867bc",
            "value": ""
          }
        },
        "204fb7a732d2426c8d4c424f01ff15b1": {
          "model_module": "@jupyter-widgets/controls",
          "model_name": "FloatProgressModel",
          "model_module_version": "1.5.0",
          "state": {
            "_dom_classes": [],
            "_model_module": "@jupyter-widgets/controls",
            "_model_module_version": "1.5.0",
            "_model_name": "FloatProgressModel",
            "_view_count": null,
            "_view_module": "@jupyter-widgets/controls",
            "_view_module_version": "1.5.0",
            "_view_name": "ProgressView",
            "bar_style": "success",
            "description": "",
            "description_tooltip": null,
            "layout": "IPY_MODEL_1552aa780b734da4b8a3468c04b2fb36",
            "max": 1648877,
            "min": 0,
            "orientation": "horizontal",
            "style": "IPY_MODEL_bf18f43cbd344b459f2babdb7ab14603",
            "value": 1648877
          }
        },
        "0af0b5920f884f60866ff27d25b901ab": {
          "model_module": "@jupyter-widgets/controls",
          "model_name": "HTMLModel",
          "model_module_version": "1.5.0",
          "state": {
            "_dom_classes": [],
            "_model_module": "@jupyter-widgets/controls",
            "_model_module_version": "1.5.0",
            "_model_name": "HTMLModel",
            "_view_count": null,
            "_view_module": "@jupyter-widgets/controls",
            "_view_module_version": "1.5.0",
            "_view_name": "HTMLView",
            "description": "",
            "description_tooltip": null,
            "layout": "IPY_MODEL_d28f82a4471d432f808c53dda0d5f3a3",
            "placeholder": "​",
            "style": "IPY_MODEL_5d44faa9c6ce48ff9ef88a63dd4d218f",
            "value": " 1649664/? [00:00&lt;00:00, 6235467.22it/s]"
          }
        },
        "c76c1e4ad8fd4594b0005a9518d1e81c": {
          "model_module": "@jupyter-widgets/base",
          "model_name": "LayoutModel",
          "model_module_version": "1.2.0",
          "state": {
            "_model_module": "@jupyter-widgets/base",
            "_model_module_version": "1.2.0",
            "_model_name": "LayoutModel",
            "_view_count": null,
            "_view_module": "@jupyter-widgets/base",
            "_view_module_version": "1.2.0",
            "_view_name": "LayoutView",
            "align_content": null,
            "align_items": null,
            "align_self": null,
            "border": null,
            "bottom": null,
            "display": null,
            "flex": null,
            "flex_flow": null,
            "grid_area": null,
            "grid_auto_columns": null,
            "grid_auto_flow": null,
            "grid_auto_rows": null,
            "grid_column": null,
            "grid_gap": null,
            "grid_row": null,
            "grid_template_areas": null,
            "grid_template_columns": null,
            "grid_template_rows": null,
            "height": null,
            "justify_content": null,
            "justify_items": null,
            "left": null,
            "margin": null,
            "max_height": null,
            "max_width": null,
            "min_height": null,
            "min_width": null,
            "object_fit": null,
            "object_position": null,
            "order": null,
            "overflow": null,
            "overflow_x": null,
            "overflow_y": null,
            "padding": null,
            "right": null,
            "top": null,
            "visibility": null,
            "width": null
          }
        },
        "468615f0baf24944990346e841ac79fc": {
          "model_module": "@jupyter-widgets/base",
          "model_name": "LayoutModel",
          "model_module_version": "1.2.0",
          "state": {
            "_model_module": "@jupyter-widgets/base",
            "_model_module_version": "1.2.0",
            "_model_name": "LayoutModel",
            "_view_count": null,
            "_view_module": "@jupyter-widgets/base",
            "_view_module_version": "1.2.0",
            "_view_name": "LayoutView",
            "align_content": null,
            "align_items": null,
            "align_self": null,
            "border": null,
            "bottom": null,
            "display": null,
            "flex": null,
            "flex_flow": null,
            "grid_area": null,
            "grid_auto_columns": null,
            "grid_auto_flow": null,
            "grid_auto_rows": null,
            "grid_column": null,
            "grid_gap": null,
            "grid_row": null,
            "grid_template_areas": null,
            "grid_template_columns": null,
            "grid_template_rows": null,
            "height": null,
            "justify_content": null,
            "justify_items": null,
            "left": null,
            "margin": null,
            "max_height": null,
            "max_width": null,
            "min_height": null,
            "min_width": null,
            "object_fit": null,
            "object_position": null,
            "order": null,
            "overflow": null,
            "overflow_x": null,
            "overflow_y": null,
            "padding": null,
            "right": null,
            "top": null,
            "visibility": null,
            "width": null
          }
        },
        "16252ad8be0b441dbf838f47277867bc": {
          "model_module": "@jupyter-widgets/controls",
          "model_name": "DescriptionStyleModel",
          "model_module_version": "1.5.0",
          "state": {
            "_model_module": "@jupyter-widgets/controls",
            "_model_module_version": "1.5.0",
            "_model_name": "DescriptionStyleModel",
            "_view_count": null,
            "_view_module": "@jupyter-widgets/base",
            "_view_module_version": "1.2.0",
            "_view_name": "StyleView",
            "description_width": ""
          }
        },
        "1552aa780b734da4b8a3468c04b2fb36": {
          "model_module": "@jupyter-widgets/base",
          "model_name": "LayoutModel",
          "model_module_version": "1.2.0",
          "state": {
            "_model_module": "@jupyter-widgets/base",
            "_model_module_version": "1.2.0",
            "_model_name": "LayoutModel",
            "_view_count": null,
            "_view_module": "@jupyter-widgets/base",
            "_view_module_version": "1.2.0",
            "_view_name": "LayoutView",
            "align_content": null,
            "align_items": null,
            "align_self": null,
            "border": null,
            "bottom": null,
            "display": null,
            "flex": null,
            "flex_flow": null,
            "grid_area": null,
            "grid_auto_columns": null,
            "grid_auto_flow": null,
            "grid_auto_rows": null,
            "grid_column": null,
            "grid_gap": null,
            "grid_row": null,
            "grid_template_areas": null,
            "grid_template_columns": null,
            "grid_template_rows": null,
            "height": null,
            "justify_content": null,
            "justify_items": null,
            "left": null,
            "margin": null,
            "max_height": null,
            "max_width": null,
            "min_height": null,
            "min_width": null,
            "object_fit": null,
            "object_position": null,
            "order": null,
            "overflow": null,
            "overflow_x": null,
            "overflow_y": null,
            "padding": null,
            "right": null,
            "top": null,
            "visibility": null,
            "width": null
          }
        },
        "bf18f43cbd344b459f2babdb7ab14603": {
          "model_module": "@jupyter-widgets/controls",
          "model_name": "ProgressStyleModel",
          "model_module_version": "1.5.0",
          "state": {
            "_model_module": "@jupyter-widgets/controls",
            "_model_module_version": "1.5.0",
            "_model_name": "ProgressStyleModel",
            "_view_count": null,
            "_view_module": "@jupyter-widgets/base",
            "_view_module_version": "1.2.0",
            "_view_name": "StyleView",
            "bar_color": null,
            "description_width": ""
          }
        },
        "d28f82a4471d432f808c53dda0d5f3a3": {
          "model_module": "@jupyter-widgets/base",
          "model_name": "LayoutModel",
          "model_module_version": "1.2.0",
          "state": {
            "_model_module": "@jupyter-widgets/base",
            "_model_module_version": "1.2.0",
            "_model_name": "LayoutModel",
            "_view_count": null,
            "_view_module": "@jupyter-widgets/base",
            "_view_module_version": "1.2.0",
            "_view_name": "LayoutView",
            "align_content": null,
            "align_items": null,
            "align_self": null,
            "border": null,
            "bottom": null,
            "display": null,
            "flex": null,
            "flex_flow": null,
            "grid_area": null,
            "grid_auto_columns": null,
            "grid_auto_flow": null,
            "grid_auto_rows": null,
            "grid_column": null,
            "grid_gap": null,
            "grid_row": null,
            "grid_template_areas": null,
            "grid_template_columns": null,
            "grid_template_rows": null,
            "height": null,
            "justify_content": null,
            "justify_items": null,
            "left": null,
            "margin": null,
            "max_height": null,
            "max_width": null,
            "min_height": null,
            "min_width": null,
            "object_fit": null,
            "object_position": null,
            "order": null,
            "overflow": null,
            "overflow_x": null,
            "overflow_y": null,
            "padding": null,
            "right": null,
            "top": null,
            "visibility": null,
            "width": null
          }
        },
        "5d44faa9c6ce48ff9ef88a63dd4d218f": {
          "model_module": "@jupyter-widgets/controls",
          "model_name": "DescriptionStyleModel",
          "model_module_version": "1.5.0",
          "state": {
            "_model_module": "@jupyter-widgets/controls",
            "_model_module_version": "1.5.0",
            "_model_name": "DescriptionStyleModel",
            "_view_count": null,
            "_view_module": "@jupyter-widgets/base",
            "_view_module_version": "1.2.0",
            "_view_name": "StyleView",
            "description_width": ""
          }
        },
        "23bb4cee938e49b2b9b65ec110341bbd": {
          "model_module": "@jupyter-widgets/controls",
          "model_name": "HBoxModel",
          "model_module_version": "1.5.0",
          "state": {
            "_dom_classes": [],
            "_model_module": "@jupyter-widgets/controls",
            "_model_module_version": "1.5.0",
            "_model_name": "HBoxModel",
            "_view_count": null,
            "_view_module": "@jupyter-widgets/controls",
            "_view_module_version": "1.5.0",
            "_view_name": "HBoxView",
            "box_style": "",
            "children": [
              "IPY_MODEL_8ec229d96651495fa9bc954cb99743d6",
              "IPY_MODEL_968602bc1ed248c7acba54cbbd611bcb",
              "IPY_MODEL_445ca20234034969baf4e2f65922c56d"
            ],
            "layout": "IPY_MODEL_e29d59ce1a514b7db5aa0ed50d5c1717"
          }
        },
        "8ec229d96651495fa9bc954cb99743d6": {
          "model_module": "@jupyter-widgets/controls",
          "model_name": "HTMLModel",
          "model_module_version": "1.5.0",
          "state": {
            "_dom_classes": [],
            "_model_module": "@jupyter-widgets/controls",
            "_model_module_version": "1.5.0",
            "_model_name": "HTMLModel",
            "_view_count": null,
            "_view_module": "@jupyter-widgets/controls",
            "_view_module_version": "1.5.0",
            "_view_name": "HTMLView",
            "description": "",
            "description_tooltip": null,
            "layout": "IPY_MODEL_ad28906fd3f84d95ad50cc8e64b6400b",
            "placeholder": "​",
            "style": "IPY_MODEL_9767782276094373a21688f1b404166f",
            "value": ""
          }
        },
        "968602bc1ed248c7acba54cbbd611bcb": {
          "model_module": "@jupyter-widgets/controls",
          "model_name": "FloatProgressModel",
          "model_module_version": "1.5.0",
          "state": {
            "_dom_classes": [],
            "_model_module": "@jupyter-widgets/controls",
            "_model_module_version": "1.5.0",
            "_model_name": "FloatProgressModel",
            "_view_count": null,
            "_view_module": "@jupyter-widgets/controls",
            "_view_module_version": "1.5.0",
            "_view_name": "ProgressView",
            "bar_style": "success",
            "description": "",
            "description_tooltip": null,
            "layout": "IPY_MODEL_b38747d6b9b54db189ba490acdaa2997",
            "max": 4542,
            "min": 0,
            "orientation": "horizontal",
            "style": "IPY_MODEL_81b72d091d3e412799bae4c6d2e86e1a",
            "value": 4542
          }
        },
        "445ca20234034969baf4e2f65922c56d": {
          "model_module": "@jupyter-widgets/controls",
          "model_name": "HTMLModel",
          "model_module_version": "1.5.0",
          "state": {
            "_dom_classes": [],
            "_model_module": "@jupyter-widgets/controls",
            "_model_module_version": "1.5.0",
            "_model_name": "HTMLModel",
            "_view_count": null,
            "_view_module": "@jupyter-widgets/controls",
            "_view_module_version": "1.5.0",
            "_view_name": "HTMLView",
            "description": "",
            "description_tooltip": null,
            "layout": "IPY_MODEL_c080d76945b64b24af015ef21875aacc",
            "placeholder": "​",
            "style": "IPY_MODEL_82fe5b9cfc164d5db3a3f5925dae3211",
            "value": " 5120/? [00:00&lt;00:00, 148607.59it/s]"
          }
        },
        "e29d59ce1a514b7db5aa0ed50d5c1717": {
          "model_module": "@jupyter-widgets/base",
          "model_name": "LayoutModel",
          "model_module_version": "1.2.0",
          "state": {
            "_model_module": "@jupyter-widgets/base",
            "_model_module_version": "1.2.0",
            "_model_name": "LayoutModel",
            "_view_count": null,
            "_view_module": "@jupyter-widgets/base",
            "_view_module_version": "1.2.0",
            "_view_name": "LayoutView",
            "align_content": null,
            "align_items": null,
            "align_self": null,
            "border": null,
            "bottom": null,
            "display": null,
            "flex": null,
            "flex_flow": null,
            "grid_area": null,
            "grid_auto_columns": null,
            "grid_auto_flow": null,
            "grid_auto_rows": null,
            "grid_column": null,
            "grid_gap": null,
            "grid_row": null,
            "grid_template_areas": null,
            "grid_template_columns": null,
            "grid_template_rows": null,
            "height": null,
            "justify_content": null,
            "justify_items": null,
            "left": null,
            "margin": null,
            "max_height": null,
            "max_width": null,
            "min_height": null,
            "min_width": null,
            "object_fit": null,
            "object_position": null,
            "order": null,
            "overflow": null,
            "overflow_x": null,
            "overflow_y": null,
            "padding": null,
            "right": null,
            "top": null,
            "visibility": null,
            "width": null
          }
        },
        "ad28906fd3f84d95ad50cc8e64b6400b": {
          "model_module": "@jupyter-widgets/base",
          "model_name": "LayoutModel",
          "model_module_version": "1.2.0",
          "state": {
            "_model_module": "@jupyter-widgets/base",
            "_model_module_version": "1.2.0",
            "_model_name": "LayoutModel",
            "_view_count": null,
            "_view_module": "@jupyter-widgets/base",
            "_view_module_version": "1.2.0",
            "_view_name": "LayoutView",
            "align_content": null,
            "align_items": null,
            "align_self": null,
            "border": null,
            "bottom": null,
            "display": null,
            "flex": null,
            "flex_flow": null,
            "grid_area": null,
            "grid_auto_columns": null,
            "grid_auto_flow": null,
            "grid_auto_rows": null,
            "grid_column": null,
            "grid_gap": null,
            "grid_row": null,
            "grid_template_areas": null,
            "grid_template_columns": null,
            "grid_template_rows": null,
            "height": null,
            "justify_content": null,
            "justify_items": null,
            "left": null,
            "margin": null,
            "max_height": null,
            "max_width": null,
            "min_height": null,
            "min_width": null,
            "object_fit": null,
            "object_position": null,
            "order": null,
            "overflow": null,
            "overflow_x": null,
            "overflow_y": null,
            "padding": null,
            "right": null,
            "top": null,
            "visibility": null,
            "width": null
          }
        },
        "9767782276094373a21688f1b404166f": {
          "model_module": "@jupyter-widgets/controls",
          "model_name": "DescriptionStyleModel",
          "model_module_version": "1.5.0",
          "state": {
            "_model_module": "@jupyter-widgets/controls",
            "_model_module_version": "1.5.0",
            "_model_name": "DescriptionStyleModel",
            "_view_count": null,
            "_view_module": "@jupyter-widgets/base",
            "_view_module_version": "1.2.0",
            "_view_name": "StyleView",
            "description_width": ""
          }
        },
        "b38747d6b9b54db189ba490acdaa2997": {
          "model_module": "@jupyter-widgets/base",
          "model_name": "LayoutModel",
          "model_module_version": "1.2.0",
          "state": {
            "_model_module": "@jupyter-widgets/base",
            "_model_module_version": "1.2.0",
            "_model_name": "LayoutModel",
            "_view_count": null,
            "_view_module": "@jupyter-widgets/base",
            "_view_module_version": "1.2.0",
            "_view_name": "LayoutView",
            "align_content": null,
            "align_items": null,
            "align_self": null,
            "border": null,
            "bottom": null,
            "display": null,
            "flex": null,
            "flex_flow": null,
            "grid_area": null,
            "grid_auto_columns": null,
            "grid_auto_flow": null,
            "grid_auto_rows": null,
            "grid_column": null,
            "grid_gap": null,
            "grid_row": null,
            "grid_template_areas": null,
            "grid_template_columns": null,
            "grid_template_rows": null,
            "height": null,
            "justify_content": null,
            "justify_items": null,
            "left": null,
            "margin": null,
            "max_height": null,
            "max_width": null,
            "min_height": null,
            "min_width": null,
            "object_fit": null,
            "object_position": null,
            "order": null,
            "overflow": null,
            "overflow_x": null,
            "overflow_y": null,
            "padding": null,
            "right": null,
            "top": null,
            "visibility": null,
            "width": null
          }
        },
        "81b72d091d3e412799bae4c6d2e86e1a": {
          "model_module": "@jupyter-widgets/controls",
          "model_name": "ProgressStyleModel",
          "model_module_version": "1.5.0",
          "state": {
            "_model_module": "@jupyter-widgets/controls",
            "_model_module_version": "1.5.0",
            "_model_name": "ProgressStyleModel",
            "_view_count": null,
            "_view_module": "@jupyter-widgets/base",
            "_view_module_version": "1.2.0",
            "_view_name": "StyleView",
            "bar_color": null,
            "description_width": ""
          }
        },
        "c080d76945b64b24af015ef21875aacc": {
          "model_module": "@jupyter-widgets/base",
          "model_name": "LayoutModel",
          "model_module_version": "1.2.0",
          "state": {
            "_model_module": "@jupyter-widgets/base",
            "_model_module_version": "1.2.0",
            "_model_name": "LayoutModel",
            "_view_count": null,
            "_view_module": "@jupyter-widgets/base",
            "_view_module_version": "1.2.0",
            "_view_name": "LayoutView",
            "align_content": null,
            "align_items": null,
            "align_self": null,
            "border": null,
            "bottom": null,
            "display": null,
            "flex": null,
            "flex_flow": null,
            "grid_area": null,
            "grid_auto_columns": null,
            "grid_auto_flow": null,
            "grid_auto_rows": null,
            "grid_column": null,
            "grid_gap": null,
            "grid_row": null,
            "grid_template_areas": null,
            "grid_template_columns": null,
            "grid_template_rows": null,
            "height": null,
            "justify_content": null,
            "justify_items": null,
            "left": null,
            "margin": null,
            "max_height": null,
            "max_width": null,
            "min_height": null,
            "min_width": null,
            "object_fit": null,
            "object_position": null,
            "order": null,
            "overflow": null,
            "overflow_x": null,
            "overflow_y": null,
            "padding": null,
            "right": null,
            "top": null,
            "visibility": null,
            "width": null
          }
        },
        "82fe5b9cfc164d5db3a3f5925dae3211": {
          "model_module": "@jupyter-widgets/controls",
          "model_name": "DescriptionStyleModel",
          "model_module_version": "1.5.0",
          "state": {
            "_model_module": "@jupyter-widgets/controls",
            "_model_module_version": "1.5.0",
            "_model_name": "DescriptionStyleModel",
            "_view_count": null,
            "_view_module": "@jupyter-widgets/base",
            "_view_module_version": "1.2.0",
            "_view_name": "StyleView",
            "description_width": ""
          }
        }
      }
    }
  },
  "cells": [
    {
      "cell_type": "markdown",
      "metadata": {
        "id": "view-in-github",
        "colab_type": "text"
      },
      "source": [
        "<a href=\"https://colab.research.google.com/github/Lu-David/CovariateShift/blob/3_06/MNIST_RBA.ipynb\" target=\"_parent\"><img src=\"https://colab.research.google.com/assets/colab-badge.svg\" alt=\"Open In Colab\"/></a>"
      ]
    },
    {
      "cell_type": "markdown",
      "source": [
        "# MNIST Data"
      ],
      "metadata": {
        "id": "0gy6dzXYPt5x"
      }
    },
    {
      "cell_type": "code",
      "execution_count": 1,
      "metadata": {
        "id": "Y-D6aMuz9EqB"
      },
      "outputs": [],
      "source": [
        "import torchvision\n",
        "import torchvision.datasets as datasets\n",
        "import torch"
      ]
    },
    {
      "cell_type": "code",
      "source": [
        "mnist_trainset = datasets.MNIST(root='./data', train=True, download=True, transform=None)\n",
        "mnist_testset = datasets.MNIST(root='./data', train=False, download=True, transform=None)"
      ],
      "metadata": {
        "id": "VWtnpEiG9Iza",
        "colab": {
          "base_uri": "https://localhost:8080/",
          "height": 437,
          "referenced_widgets": [
            "6c15a4622bdb42bf860eec9a12569faa",
            "ac4f8bb62a7740beb66b9266c022a97c",
            "c31138a55a04478286c47121c2dd0f73",
            "4cab7e6cbe694673a94248806645cebe",
            "4b1e08312af6472290acbc5e20910541",
            "7a642c8a92b646e1827750703ff0b7cb",
            "a594fe7c08cc490faeddc66f99be164c",
            "bb294bc1fc7149a59f4e81223265330a",
            "9cd82a35187945118770a911fe33d362",
            "58e4c0795e7f475db4a868662d61775f",
            "97cf80a9d73e42e4a0753827b33fa949",
            "e6f0f3a46fab48629615986350c7bfd6",
            "c08eb00dfc2a4a74969ed6b64bb4a763",
            "0897057c9716454082807e9c1c61ad50",
            "0eece451502b4bae8dc43d80ea4c9363",
            "3b1d868c2f574a7896ba89fa6f69c29d",
            "2323b40a5ac549ec8c9b7909a995e7e3",
            "71f64f6d0dc541869a2a3df3c3833644",
            "7d8d8be2363b431994d0a1e128ebfba3",
            "ec5edd2db875464a8de4a1c549a31e83",
            "57f0dd01597946f38f196745acacff9f",
            "111a49ce4e7c43c7a74f6f5481105855",
            "115a63e0f0a94ec097edd49cf63ab223",
            "4ff1573ae502403db4802ab24858b50b",
            "204fb7a732d2426c8d4c424f01ff15b1",
            "0af0b5920f884f60866ff27d25b901ab",
            "c76c1e4ad8fd4594b0005a9518d1e81c",
            "468615f0baf24944990346e841ac79fc",
            "16252ad8be0b441dbf838f47277867bc",
            "1552aa780b734da4b8a3468c04b2fb36",
            "bf18f43cbd344b459f2babdb7ab14603",
            "d28f82a4471d432f808c53dda0d5f3a3",
            "5d44faa9c6ce48ff9ef88a63dd4d218f",
            "23bb4cee938e49b2b9b65ec110341bbd",
            "8ec229d96651495fa9bc954cb99743d6",
            "968602bc1ed248c7acba54cbbd611bcb",
            "445ca20234034969baf4e2f65922c56d",
            "e29d59ce1a514b7db5aa0ed50d5c1717",
            "ad28906fd3f84d95ad50cc8e64b6400b",
            "9767782276094373a21688f1b404166f",
            "b38747d6b9b54db189ba490acdaa2997",
            "81b72d091d3e412799bae4c6d2e86e1a",
            "c080d76945b64b24af015ef21875aacc",
            "82fe5b9cfc164d5db3a3f5925dae3211"
          ]
        },
        "outputId": "4983a5c6-6592-446a-8159-67b69ed9a3f5"
      },
      "execution_count": 2,
      "outputs": [
        {
          "output_type": "stream",
          "name": "stdout",
          "text": [
            "Downloading http://yann.lecun.com/exdb/mnist/train-images-idx3-ubyte.gz\n",
            "Downloading http://yann.lecun.com/exdb/mnist/train-images-idx3-ubyte.gz to ./data/MNIST/raw/train-images-idx3-ubyte.gz\n"
          ]
        },
        {
          "output_type": "display_data",
          "data": {
            "text/plain": [
              "  0%|          | 0/9912422 [00:00<?, ?it/s]"
            ],
            "application/vnd.jupyter.widget-view+json": {
              "version_major": 2,
              "version_minor": 0,
              "model_id": "6c15a4622bdb42bf860eec9a12569faa"
            }
          },
          "metadata": {}
        },
        {
          "output_type": "stream",
          "name": "stdout",
          "text": [
            "Extracting ./data/MNIST/raw/train-images-idx3-ubyte.gz to ./data/MNIST/raw\n",
            "\n",
            "Downloading http://yann.lecun.com/exdb/mnist/train-labels-idx1-ubyte.gz\n",
            "Downloading http://yann.lecun.com/exdb/mnist/train-labels-idx1-ubyte.gz to ./data/MNIST/raw/train-labels-idx1-ubyte.gz\n"
          ]
        },
        {
          "output_type": "display_data",
          "data": {
            "text/plain": [
              "  0%|          | 0/28881 [00:00<?, ?it/s]"
            ],
            "application/vnd.jupyter.widget-view+json": {
              "version_major": 2,
              "version_minor": 0,
              "model_id": "e6f0f3a46fab48629615986350c7bfd6"
            }
          },
          "metadata": {}
        },
        {
          "output_type": "stream",
          "name": "stdout",
          "text": [
            "Extracting ./data/MNIST/raw/train-labels-idx1-ubyte.gz to ./data/MNIST/raw\n",
            "\n",
            "Downloading http://yann.lecun.com/exdb/mnist/t10k-images-idx3-ubyte.gz\n",
            "Downloading http://yann.lecun.com/exdb/mnist/t10k-images-idx3-ubyte.gz to ./data/MNIST/raw/t10k-images-idx3-ubyte.gz\n"
          ]
        },
        {
          "output_type": "display_data",
          "data": {
            "text/plain": [
              "  0%|          | 0/1648877 [00:00<?, ?it/s]"
            ],
            "application/vnd.jupyter.widget-view+json": {
              "version_major": 2,
              "version_minor": 0,
              "model_id": "115a63e0f0a94ec097edd49cf63ab223"
            }
          },
          "metadata": {}
        },
        {
          "output_type": "stream",
          "name": "stdout",
          "text": [
            "Extracting ./data/MNIST/raw/t10k-images-idx3-ubyte.gz to ./data/MNIST/raw\n",
            "\n",
            "Downloading http://yann.lecun.com/exdb/mnist/t10k-labels-idx1-ubyte.gz\n",
            "Downloading http://yann.lecun.com/exdb/mnist/t10k-labels-idx1-ubyte.gz to ./data/MNIST/raw/t10k-labels-idx1-ubyte.gz\n"
          ]
        },
        {
          "output_type": "display_data",
          "data": {
            "text/plain": [
              "  0%|          | 0/4542 [00:00<?, ?it/s]"
            ],
            "application/vnd.jupyter.widget-view+json": {
              "version_major": 2,
              "version_minor": 0,
              "model_id": "23bb4cee938e49b2b9b65ec110341bbd"
            }
          },
          "metadata": {}
        },
        {
          "output_type": "stream",
          "name": "stdout",
          "text": [
            "Extracting ./data/MNIST/raw/t10k-labels-idx1-ubyte.gz to ./data/MNIST/raw\n",
            "\n"
          ]
        }
      ]
    },
    {
      "cell_type": "code",
      "source": [
        "import matplotlib.pyplot as plt\n",
        "import numpy as np\n",
        "import torch\n",
        "\n",
        "plt.imshow(mnist_trainset.data[0])\n",
        "print(mnist_trainset.targets[0])"
      ],
      "metadata": {
        "colab": {
          "base_uri": "https://localhost:8080/",
          "height": 284
        },
        "id": "xpzlySFq9dPH",
        "outputId": "725e857e-6542-4968-9b1a-cd07249226f5"
      },
      "execution_count": 3,
      "outputs": [
        {
          "output_type": "stream",
          "name": "stdout",
          "text": [
            "tensor(5)\n"
          ]
        },
        {
          "output_type": "display_data",
          "data": {
            "text/plain": [
              "<Figure size 432x288 with 1 Axes>"
            ],
            "image/png": "[encoded data removed]"
          },
          "metadata": {
            "needs_background": "light"
          }
        }
      ]
    },
    {
      "cell_type": "code",
      "source": [
        "def unison_shuffled_copies(a, b):\n",
        "    assert len(a) == len(b)\n",
        "    p = np.random.permutation(len(a))\n",
        "    return a[p], b[p]\n",
        "\n",
        "def displaySamples(images, labels):\n",
        "  i = int(len(images) ** 0.5)\n",
        "  j = int(len(images) ** 0.5)\n",
        "\n",
        "  fig, ax = plt.subplots(i,j)\n",
        "  for x in range(i):\n",
        "    for y in range(j):\n",
        "      ax[x][y].imshow(images[x * i + y])\n",
        "      ax[x][y].title.set_text(int(labels[x * i + y].item()))\n",
        "\n",
        "  fig.set_tight_layout(True)\n"
      ],
      "metadata": {
        "id": "vJMYZdltLnxn"
      },
      "execution_count": 4,
      "outputs": []
    },
    {
      "cell_type": "markdown",
      "source": [
        "# Util Functions\n"
      ],
      "metadata": {
        "id": "btmWR-pXPqeT"
      }
    },
    {
      "cell_type": "markdown",
      "source": [
        "## Model"
      ],
      "metadata": {
        "id": "1uOUQpZvjMr8"
      }
    },
    {
      "cell_type": "code",
      "source": [
        "import torch.nn as nn\n",
        "\n",
        "class RBAGrad(torch.autograd.Function):\n",
        "    @staticmethod\n",
        "    def forward(ctx, output, r_st):\n",
        "        pred = torch.sigmoid(output * r_st)\n",
        "        ctx.save_for_backward(pred)\n",
        "        return pred\n",
        "\n",
        "    @staticmethod\n",
        "    def backward(ctx, y):\n",
        "        prob, = ctx.saved_tensors\n",
        "        grad_temp = y.clone()\n",
        "        grad_input = (prob - grad_temp)\n",
        "        return grad_input, None\n",
        "        \n",
        "class RBAClassifierMLP(nn.Module):\n",
        "    \"\"\"\n",
        "    Single layer robust bias aware (RBA) classifier\n",
        "    \"\"\"\n",
        "    def __init__(self, in_features = 2, out_features = 1, bias = True):\n",
        "        \"\"\"[summary]\n",
        "\n",
        "        Args:\n",
        "            in_features (int, optional): number of columns in X. Defaults to 2.\n",
        "            out_features (int, optional): number of classes in Y. Defaults to 1.\n",
        "            bias (bool, optional): Defaults to False.\n",
        "        \"\"\"\n",
        "\n",
        "        super(RBAClassifierMLP, self).__init__()\n",
        "\n",
        "        self.activation = nn.Sigmoid()\n",
        "        self.layer1 = nn.Linear(in_features, 16, bias = bias)\n",
        "        self.layer2 = nn.Linear(16, 16)\n",
        "        self.layer3 = nn.Linear(16, out_features)\n",
        "\n",
        "    def forward(self, input, r_st):\n",
        "        \"\"\"[summary]\n",
        "\n",
        "        Args:\n",
        "            input (torch.Tensor): features\n",
        "\n",
        "        Returns:\n",
        "            torch.Tensor: predictions\n",
        "        \"\"\"\n",
        "        output = self.activation(self.layer1(input))\n",
        "        output = self.activation(self.layer2(output))\n",
        "        output = self.layer3(output)\n",
        "\n",
        "        return RBAGrad.apply(output, r_st)"
      ],
      "metadata": {
        "id": "cgr9WHLcP5pg"
      },
      "execution_count": 5,
      "outputs": []
    },
    {
      "cell_type": "markdown",
      "source": [
        "## Train"
      ],
      "metadata": {
        "id": "E2UD7HWkjOeA"
      }
    },
    {
      "cell_type": "code",
      "source": [
        "import torch\n",
        "import torch.nn as nn\n",
        "import numpy as np\n",
        "\n",
        "def rba_train(X_s, y_s, r_st, r_ts, max_itr = 10000, lr = 0.01, weight_decay = 0.1):\n",
        "\n",
        "    _, n_col = X_s.shape\n",
        "    _, out_features = y_s.shape\n",
        "\n",
        "    bias = True\n",
        "    if True: # not torch.equal(r_ts, torch.ones(r_ts.shape)):\n",
        "        bias = False\n",
        "        X = torch.cat((\n",
        "            torch.ones(r_ts.shape), \n",
        "            X_s\n",
        "        ), dim = 1)\n",
        "    \n",
        "    model = RBAClassifierMLP(in_features = n_col + int(not bias), out_features=out_features, bias = bias)\n",
        "        \n",
        "    loss_fn = nn.BCELoss() \n",
        "    optimizer = torch.optim.Adam(model.parameters(), lr = lr, weight_decay = weight_decay)\n",
        "\n",
        "    F = X * r_ts.detach()\n",
        "\n",
        "    model.train()\n",
        "\n",
        "    for i in range(max_itr): \n",
        "        optimizer.zero_grad()\n",
        "        \n",
        "        outputs = model.forward(F, r_st)\n",
        "        outputs.backward(y_s)\n",
        "        optimizer.step()\n",
        "        \n",
        "        loss = loss_fn(outputs.squeeze(), y_s.squeeze())\n",
        "        if i % 1000 == 0:\n",
        "            print(f\"Loss at step {i}: {float(loss.data)}\")\n",
        "\n",
        "    return model"
      ],
      "metadata": {
        "id": "C-Y5_jFeP_SC"
      },
      "execution_count": 6,
      "outputs": []
    },
    {
      "cell_type": "markdown",
      "source": [
        "## Test"
      ],
      "metadata": {
        "id": "1nbbgedijRvk"
      }
    },
    {
      "cell_type": "code",
      "source": [
        "def log_test(model, X_t, y_t, r_st):\n",
        "    n_row, _ = X_t.shape\n",
        "    \n",
        "    model.eval()\n",
        "\n",
        "    loss_fn = nn.BCELoss() \n",
        "    F = torch.cat((\n",
        "        torch.ones(r_st.shape), \n",
        "        X_t\n",
        "        ), dim = 1)\n",
        "    outputs = model(F, r_st)\n",
        "    loss = loss_fn(outputs.squeeze(), y_t.squeeze())\n",
        "    acc = torch.sum(torch.round(outputs) == y_t) / n_row\n",
        "    print(f\"Target Loss: {loss}. Target Accuracy: {acc}\")\n",
        "    return loss, outputs, acc"
      ],
      "metadata": {
        "id": "2mkVrWVOaYw6"
      },
      "execution_count": 7,
      "outputs": []
    },
    {
      "cell_type": "code",
      "source": [
        "def binary_ece(pred_y_pairs : np.array, n_bins = 10):\n",
        "  \"\"\"\n",
        "  https://jamesmccaffrey.wordpress.com/2021/01/22/how-to-calculate-expected-calibration-error-for-multi-class-classification/ \n",
        "  \"\"\"\n",
        "  bin_size = 1 / n_bins\n",
        "  x = np.linspace(0, 1 - bin_size, n_bins)\n",
        "  diff_array = np.zeros((n_bins))\n",
        "  acc_array = np.zeros((n_bins))\n",
        "  pos_freq_array = np.zeros((n_bins))\n",
        "  count_array = np.zeros((n_bins))\n",
        "\n",
        "  for i in range(n_bins):\n",
        "    lower = i * bin_size\n",
        "    upper = (i + 1) * bin_size\n",
        "    \n",
        "    temp = pred_y_pairs[np.logical_and(pred_y_pairs[:,0] >= lower, pred_y_pairs[:,0] < upper)]\n",
        "    n = len(temp)\n",
        "    count_array[i] = n\n",
        "    acc = np.sum(np.round(temp[:, 0]) == temp[:, 1]) / n\n",
        "    pos_freq = np.sum(1 == temp[:, 1]) / n\n",
        "    avg_conf = np.mean(temp[:, 0])\n",
        "    diff = np.abs(acc - avg_conf)\n",
        "    diff_array[i] = diff\n",
        "    acc_array[i] = acc\n",
        "    pos_freq_array[i] = pos_freq\n",
        "\n",
        "  \n",
        "  ece = np.sum((diff_array * count_array)) / len(pred_y_pairs)\n",
        "\n",
        "  # # Plot Reliability Diagram (pos_freq vs bins)\n",
        "  # plt.bar(x, pos_freq_array, width=bin_size, align='edge')\n",
        "  # plt.title(f\"Reliability Diagram. ECE: {ece}\")\n",
        "  # plt.xlabel(\"Mean Predicted Value\")\n",
        "  # plt.xlabel(\"Fraction of positives\")\n",
        "\n",
        "  return ece\n"
      ],
      "metadata": {
        "id": "oSaP02gs84F0"
      },
      "execution_count": 8,
      "outputs": []
    },
    {
      "cell_type": "code",
      "source": [
        "def plot_conf_images():\n",
        "  pass"
      ],
      "metadata": {
        "id": "ryJwSboaPHBl"
      },
      "execution_count": 9,
      "outputs": []
    },
    {
      "cell_type": "code",
      "source": [
        "# test_X_flattened = torch.flatten(torch.Tensor(test_X), start_dim=1)\n",
        "# test_Y = torch.Tensor(test_Y)\n",
        "# n, _ = test_X_flattened.shape\n",
        "# r_st = torch.ones((n, 1))\n",
        "\n",
        "# loss, outputs, acc = log_test(model, test_X_flattened, test_Y, torch.ones((test_X_flattened.shape[0], 1)))\n",
        "\n",
        "# low_conf_samples = test_X[np.where(np.abs(outputs.detach().numpy() - 0.5) < 0.15)[0]]\n",
        "# low_conf_labels = test_Y[np.where(np.abs(outputs.detach().numpy() - 0.5) < 0.15)[0]]\n",
        "\n",
        "# i = 2\n",
        "# j = 2\n",
        "# fig, ax = plt.subplots(i,j)\n",
        "# for x in range(i):\n",
        "#   for y in range(j):\n",
        "#     ax[x][y].imshow(low_conf_samples[x * i + y])\n",
        "#     ax[x][y].title.set_text(int(low_conf_labels[x * i + y].item()))\n",
        "\n",
        "# # fig.set_tight_layout(True)\n",
        "# print(len(low_conf_labels))\n",
        "# pred_y_pairs = np.concatenate((outputs.detach().numpy(), test_Y.detach().numpy()), axis=1)\n",
        "# ece = binary_ece(pred_y_pairs, n_bins=6)\n",
        "# print(ece)"
      ],
      "metadata": {
        "id": "9SKm5sGKa7sG"
      },
      "execution_count": 10,
      "outputs": []
    },
    {
      "cell_type": "markdown",
      "source": [
        "## Density Estimation"
      ],
      "metadata": {
        "id": "UdVFgff5bi7t"
      }
    },
    {
      "cell_type": "markdown",
      "source": [
        "### Classifier"
      ],
      "metadata": {
        "id": "f5-Kvvhnk_g5"
      }
    },
    {
      "cell_type": "code",
      "source": [
        "from sklearn.preprocessing import PolynomialFeatures\n",
        "import torch\n",
        "\n",
        "def get_poly_data(x, poly_features):\n",
        "    poly = PolynomialFeatures(poly_features, include_bias=False)\n",
        "    return torch.FloatTensor(poly.fit_transform(x))"
      ],
      "metadata": {
        "id": "WFA8_xNXrmTC"
      },
      "execution_count": 11,
      "outputs": []
    },
    {
      "cell_type": "code",
      "source": [
        "def get_lrdr_estimator(X_s, X_t, weight_decays=[0.01]):\n",
        "\n",
        "    poly_features = 1\n",
        "    \n",
        "    X_s = get_poly_data(X_s, poly_features)\n",
        "    X_t = get_poly_data(X_t, poly_features)\n",
        "\n",
        "    X_s = torch.Tensor(X_s)\n",
        "    X_t = torch.Tensor(X_t)\n",
        "\n",
        "    ns_row, _ = X_s.shape\n",
        "    nt_row, _ = X_t.shape\n",
        "\n",
        "    inda_s = np.arange(ns_row)\n",
        "    inda_t = np.arange(nt_row)\n",
        "\n",
        "    nv_s = int(np.floor(0.1 * ns_row))\n",
        "    nv_t = int(np.floor(0.1 * nt_row))\n",
        "\n",
        "    indv_s = np.random.permutation(ns_row)[:nv_s] \n",
        "    indv_t = np.random.permutation(nt_row)[:nv_t]\n",
        "\n",
        "    indt_s = np.setdiff1d(inda_s, indv_s)\n",
        "    indt_t = np.setdiff1d(inda_t, indv_t)\n",
        "\n",
        "    X_train = torch.cat((torch.FloatTensor(X_s[indt_s, :]), torch.FloatTensor(X_t[indt_t, :])))\n",
        "    X_valid = torch.cat((torch.FloatTensor(X_s[indv_s, :]), torch.FloatTensor(X_t[indv_t, :])))\n",
        "\n",
        "    ones_train = torch.ones((X_train.shape[0], 1))\n",
        "    ones_valid = torch.ones((X_valid.shape[0], 1))\n",
        "    ones_all = torch.cat((ones_train, ones_valid))\n",
        "    \n",
        "    y_train = torch.cat((torch.ones((ns_row - nv_s, 1)), torch.zeros((nt_row - nv_t, 1)) ))\n",
        "    y_valid = torch.cat((torch.ones((nv_s, 1)), torch.zeros((nv_t, 1)) ))\n",
        "    \n",
        "    losses = torch.zeros((len(weight_decays), 1))\n",
        "    for i, lamb in enumerate(weight_decays):\n",
        "        model = rba_train(X_train, y_train, ones_train, ones_train, max_itr=1500, weight_decay=lamb)\n",
        "        loss, pred, acc = log_test(model, X_valid, y_valid, ones_valid)\n",
        "        losses[i] = loss\n",
        "    ind_min = torch.argmin(loss)\n",
        "\n",
        "    X_train = torch.cat((X_s, X_t))\n",
        "    y_train = torch.cat((torch.ones((ns_row, 1)), torch.zeros((nt_row, 1))))\n",
        "\n",
        "    model = rba_train(X_train, y_train, ones_all, ones_all, max_itr=1500, weight_decay=weight_decays[ind_min])\n",
        "    \n",
        "    def lrdr(x):\n",
        "        x = torch.Tensor(get_poly_data(x, poly_features))\n",
        "        r_st = torch.ones((x.shape[0], 1))\n",
        "        log, pred, acc_1 = log_test(model, x, r_st, r_st)\n",
        "        return (pred / (1 - pred)).detach()\n",
        "    return lrdr"
      ],
      "metadata": {
        "id": "Gp73Ic_Nk-ud"
      },
      "execution_count": 12,
      "outputs": []
    },
    {
      "cell_type": "markdown",
      "source": [
        "### PCA + KDE"
      ],
      "metadata": {
        "id": "OcZb_M3ypDTI"
      }
    },
    {
      "cell_type": "code",
      "source": [
        "from sklearn.neighbors import KernelDensity\n",
        "\n",
        "def get_pca_kernel_density_estimator(X_s, X_t, bandwidth=0.7):\n",
        "    # Note: Changing bandwidth is an important parameter to tune!\n",
        "    \n",
        "    pca = decomposition.PCA()\n",
        "    pca.n_components = 2 \n",
        "    X = np.concatenate((X_s, X_t))\n",
        "    pca = pca.fit(X)\n",
        "\n",
        "    kde_s = KernelDensity(kernel='gaussian', bandwidth=bandwidth).fit(pca.transform(X_s))\n",
        "    kde_t = KernelDensity(kernel='gaussian', bandwidth=bandwidth).fit(pca.transform(X_t))\n",
        "\n",
        "    def pca_kde(x):\n",
        "      x = pca.transform(x)\n",
        "      return torch.Tensor(np.exp(kde_s.score_samples(x)) / np.exp(kde_t.score_samples(x))).unsqueeze(1)\n",
        "\n",
        "    return pca_kde\n",
        "# rba_model = rba_train(train_X_flattened, train_Y, r_st, torch.ones((train_Y.shape)), lr = 0.02, max_itr=2000)\n",
        "# torch.save(rba_model, \"./rba_0.02_2000\")\n",
        "# loss, outputs, acc = log_test(rba_model, test_X_flattened, test_Y, torch.ones((test_X_flattened.shape[0], 1)))\n",
        "\n",
        "\n",
        "# low_conf_samples = test_X[np.where(np.abs(outputs.detach().numpy() - 0.5) < 0.15)[0]]\n",
        "# low_conf_labels = test_Y[np.where(np.abs(outputs.detach().numpy() - 0.5) < 0.15)[0]]\n",
        "\n",
        "# print(len(low_conf_labels))\n",
        "# i = 2\n",
        "# j = 2\n",
        "# fig, ax = plt.subplots(i,j)\n",
        "# for x in range(i):\n",
        "#   for y in range(j):\n",
        "#     ax[x][y].imshow(low_conf_samples[x * i + y])\n",
        "#     ax[x][y].title.set_text(int(low_conf_labels[x * i + y].item()))\n",
        "\n",
        "# # fig.set_tight_layout(True)\n",
        "# pred_y_pairs = np.concatenate((outputs.detach().numpy(), test_Y.detach().numpy()), axis=1)\n",
        "# ece = binary_ece(pred_y_pairs, n_bins=6)\n",
        "# print(ece)\n",
        "# high_conf_samples = test_X[np.where(np.abs(outputs.detach().numpy() - 0.5) > 0.4)[0]]\n",
        "# high_conf_labels = test_Y[np.where(np.abs(outputs.detach().numpy() - 0.5) > 0.4)[0]]\n",
        "# print(f\"Number of samples with confidence > 0.9: {len(high_conf_samples)}\")\n",
        "# i = 4\n",
        "# j = 4\n",
        "# fig, ax = plt.subplots(i,j)\n",
        "# for x in range(i):\n",
        "#   for y in range(j):\n",
        "#     ax[x][y].imshow(high_conf_samples[x * i + y])\n",
        "#     ax[x][y].title.set_text(int(high_conf_labels[x * i + y].item()))\n",
        "\n",
        "# fig.set_tight_layout(True)"
      ],
      "metadata": {
        "id": "tlHFL8w0mp4Y"
      },
      "execution_count": 13,
      "outputs": []
    },
    {
      "cell_type": "markdown",
      "source": [
        "# Covariate Shifts"
      ],
      "metadata": {
        "id": "p0QgZdqxkims"
      }
    },
    {
      "cell_type": "markdown",
      "source": [
        "## 3/8 vs 1/7 Classification"
      ],
      "metadata": {
        "id": "nPESRDkOkPAB"
      }
    },
    {
      "cell_type": "code",
      "source": [
        "train_data_38 = mnist_trainset.data[\n",
        "  np.logical_or((mnist_trainset.targets == 3), (mnist_trainset.targets == 8))\n",
        "] \n",
        "train_data_38_labels = np.ones((len(train_data_38), 1))\n",
        "\n",
        "train_data_17 = mnist_trainset.data[\n",
        "  np.logical_or((mnist_trainset.targets == 1), (mnist_trainset.targets == 7))\n",
        "] \n",
        "train_data_17_labels = np.zeros((len(train_data_17), 1))\n",
        "\n",
        "curlyRatio = sum((mnist_trainset.targets == 3)).item() / sum((mnist_trainset.targets == 8)).item()\n",
        "straightRatio = sum((mnist_trainset.targets == 1)).item() / sum((mnist_trainset.targets == 7)).item()\n",
        "\n",
        "print(f\"Ratio of 3:8 = {curlyRatio}. Ratio of 1:7 = {straightRatio}\")\n",
        "\n",
        "train_X = np.concatenate((train_data_38, train_data_17), dtype = float)\n",
        "train_X /= 255\n",
        "train_Y = np.concatenate((train_data_38_labels, train_data_17_labels))\n",
        "\n",
        "train_X, train_Y = unison_shuffled_copies(train_X, train_Y)"
      ],
      "metadata": {
        "colab": {
          "base_uri": "https://localhost:8080/"
        },
        "id": "t9TyOPMXkSFd",
        "outputId": "4969e54d-0e49-4f66-ffe6-d61ca16c1d18"
      },
      "execution_count": 14,
      "outputs": [
        {
          "output_type": "stream",
          "name": "stderr",
          "text": [
            "/usr/local/lib/python3.7/dist-packages/ipykernel_launcher.py:2: UserWarning: indexing with dtype torch.uint8 is now deprecated, please use a dtype torch.bool instead. (Triggered internally at  ../aten/src/ATen/native/IndexingUtils.h:30.)\n",
            "  \n",
            "/usr/local/lib/python3.7/dist-packages/ipykernel_launcher.py:7: UserWarning: indexing with dtype torch.uint8 is now deprecated, please use a dtype torch.bool instead. (Triggered internally at  ../aten/src/ATen/native/IndexingUtils.h:30.)\n",
            "  import sys\n"
          ]
        },
        {
          "output_type": "stream",
          "name": "stdout",
          "text": [
            "Ratio of 3:8 = 1.0478550675098275. Ratio of 1:7 = 1.0761372705506784\n"
          ]
        }
      ]
    },
    {
      "cell_type": "code",
      "source": [
        "test_data_3 = (mnist_testset.data[(mnist_testset.targets == 3)])\n",
        "# test_data_3 = test_data_3[:int(0.2 * len(test_data_3))]\n",
        "\n",
        "test_data_8 = mnist_testset.data[(mnist_testset.targets == 8)]\n",
        "\n",
        "test_data_38 = np.concatenate((test_data_3, test_data_8), dtype = float)\n",
        "test_data_38_labels = np.ones((len(test_data_38), 1))\n",
        "\n",
        "test_data_1 = mnist_testset.data[(mnist_testset.targets == 1)] \n",
        "test_data_7 = mnist_testset.data[(mnist_testset.targets == 7)]\n",
        "# test_data_7 = test_data_7[:int(0.2 * len(test_data_7))]\n",
        "test_data_17 = np.concatenate((test_data_1, test_data_7), dtype = float)\n",
        "test_data_17_labels = np.zeros((len(test_data_17), 1))\n",
        "\n",
        "curlyRatio = len(test_data_3) / len(test_data_8)\n",
        "straightRatio = len(test_data_1) / len(test_data_7)\n",
        "\n",
        "print(f\"Ratio of 3:8 = {curlyRatio}. Ratio of 1:7 = {straightRatio}\")\n",
        "\n",
        "test_X = np.concatenate((test_data_38, test_data_17), dtype = float)\n",
        "test_X /= 255.0\n",
        "test_Y = np.concatenate((test_data_38_labels, test_data_17_labels))\n",
        "\n",
        "test_X, test_Y = unison_shuffled_copies(test_X, test_Y)"
      ],
      "metadata": {
        "colab": {
          "base_uri": "https://localhost:8080/"
        },
        "id": "Qm0xY1zukat5",
        "outputId": "8d692daf-296e-4e57-e25d-29c7e349f110"
      },
      "execution_count": 15,
      "outputs": [
        {
          "output_type": "stream",
          "name": "stdout",
          "text": [
            "Ratio of 3:8 = 1.0369609856262834. Ratio of 1:7 = 1.1040856031128405\n"
          ]
        }
      ]
    },
    {
      "cell_type": "markdown",
      "source": [
        "### Covariate shift determined by PCA"
      ],
      "metadata": {
        "id": "r_ZX4tmyY4qi"
      }
    },
    {
      "cell_type": "markdown",
      "source": [
        "1) Merge train and test into one dataset"
      ],
      "metadata": {
        "id": "W1Xv2EsrlVBf"
      }
    },
    {
      "cell_type": "code",
      "source": [
        "from sklearn import decomposition\n",
        "train_X_flattened = torch.flatten(torch.Tensor(train_X), start_dim=1)\n",
        "test_X_flattened = torch.flatten(torch.Tensor(test_X), start_dim=1)\n",
        "\n",
        "X = np.concatenate((train_X_flattened, test_X_flattened), axis=0)\n",
        "Y = np.concatenate((train_Y, test_Y))\n",
        "\n",
        "pca = decomposition.PCA()\n",
        "pca.n_components = 2\n",
        "pca_X = pca.fit_transform(X)\n",
        "\n",
        "assert len(Y) == len(X)\n",
        "\n",
        "# percentage_var_explained = pca.explained_variance_ / np.sum(pca.explained_variance_);\n",
        "# cum_var_explained = np.cumsum(percentage_var_explained)"
      ],
      "metadata": {
        "id": "fQ87nh2JY6L3"
      },
      "execution_count": 16,
      "outputs": []
    },
    {
      "cell_type": "code",
      "source": [
        "train_idx = pca_X[:, 1] > 0\n",
        "test_idx = pca_X[:, 1] <= 0\n",
        "\n",
        "X_pca_train = pca_X[train_idx]\n",
        "Y_pca_train = Y[train_idx].flatten()\n",
        "\n",
        "X_pca_train_1 = X_pca_train[(Y_pca_train == 1)]\n",
        "X_pca_train_2 = X_pca_train[Y_pca_train == 0]\n",
        "\n",
        "X_pca_test = pca_X[test_idx]\n",
        "Y_pca_test = Y[test_idx].flatten()\n",
        "\n",
        "X_pca_test_1 = X_pca_test[Y_pca_test == 1]\n",
        "X_pca_test_2 = X_pca_test[Y_pca_test == 0]\n"
      ],
      "metadata": {
        "id": "XEIftQ5SZtUj"
      },
      "execution_count": 17,
      "outputs": []
    },
    {
      "cell_type": "code",
      "source": [
        "X_pca_test_1"
      ],
      "metadata": {
        "colab": {
          "base_uri": "https://localhost:8080/"
        },
        "id": "qWUQceJddla5",
        "outputId": "527febe6-7fff-4668-888b-61381cb83ab2"
      },
      "execution_count": 18,
      "outputs": [
        {
          "output_type": "execute_result",
          "data": {
            "text/plain": [
              "array([[ 2.0547988 , -1.7986461 ],\n",
              "       [ 3.0943313 , -0.5006807 ],\n",
              "       [ 2.6981447 , -1.56848   ],\n",
              "       ...,\n",
              "       [ 1.8115149 , -1.2686647 ],\n",
              "       [ 0.21884795, -1.0256201 ],\n",
              "       [ 0.224168  , -0.7078705 ]], dtype=float32)"
            ]
          },
          "metadata": {},
          "execution_count": 18
        }
      ]
    },
    {
      "cell_type": "code",
      "source": [
        "plt.scatter(X_pca_train_1[:, 0], X_pca_train_1[:, 1], color=\"#8B0000\", label='train +')\n",
        "plt.scatter(X_pca_train_2[:, 0], X_pca_train_2[:, 1], color=\"#ffc6c4\", label='train -')\n",
        "plt.scatter(X_pca_test_1[:, 0], X_pca_test_1[:, 1], color=\"#006400\", label='test +')\n",
        "plt.scatter(X_pca_test_2[:, 0], X_pca_test_2[:, 1], color=\"#90EE90\", label='test - ')\n",
        "plt.legend()"
      ],
      "metadata": {
        "colab": {
          "base_uri": "https://localhost:8080/",
          "height": 284
        },
        "id": "OmcpPweEZQ-U",
        "outputId": "59ee4745-85e9-4220-9ac9-9d47b3d4e85e"
      },
      "execution_count": 19,
      "outputs": [
        {
          "output_type": "execute_result",
          "data": {
            "text/plain": [
              "<matplotlib.legend.Legend at 0x7fdce5b90d90>"
            ]
          },
          "metadata": {},
          "execution_count": 19
        },
        {
          "output_type": "display_data",
          "data": {
            "text/plain": [
              "<Figure size 432x288 with 1 Axes>"
            ],
            "image/png": "[encoded data removed]"
          },
          "metadata": {
            "needs_background": "light"
          }
        }
      ]
    },
    {
      "cell_type": "code",
      "source": [
        "def plot_test_samples(samples, labels, outputs, dev_from_mean = 0.05): # dev_from_mean used to quantify uncertainty. E.g. 0.1 means images with predicitons between 0 and 1\n",
        "\n",
        "  samples = samples[np.where(np.abs(outputs.detach().numpy() - 0.5) < dev_from_mean)[0]]\n",
        "  labels = labels[np.where(np.abs(outputs.detach().numpy() - 0.5) < dev_from_mean)[0]]\n",
        "\n",
        "  i = min(4, int(len(labels) ** 0.5))\n",
        "  j = min(4, int(len(labels) ** 0.5))\n",
        "  print(i, j)\n",
        "  if i == 0 or i == 1:\n",
        "    raise Exception(f\"Not enough images to display with prob between {0.5 - dev_from_mean} and {0.5 + dev_from_mean}\")\n",
        "  fig, ax = plt.subplots(i,j)\n",
        "  for x in range(i):\n",
        "    for y in range(j):\n",
        "      ax[x][y].imshow(samples[x * i + y].reshape(28, 28))\n",
        "      ax[x][y].title.set_text(f\"Class: {int(labels[x * i + y].item())}\")\n",
        "\n",
        "  title = fig.suptitle(f'Number of images w/ prob between {0.5 - dev_from_mean} and {0.5 + dev_from_mean}: {len(labels)}', y=1.05) \n",
        "  fig.set_tight_layout(True)"
      ],
      "metadata": {
        "id": "C8L0BJ4NfZ12"
      },
      "execution_count": 20,
      "outputs": []
    },
    {
      "cell_type": "markdown",
      "source": [
        "#### LOG"
      ],
      "metadata": {
        "id": "moX--FBymceq"
      }
    },
    {
      "cell_type": "code",
      "source": [
        "from os.path import exists\n",
        "\n",
        "r_st = torch.ones(Y[train_idx].shape)\n",
        "tmp_X = torch.FloatTensor(X[train_idx])\n",
        "tmp_Y = torch.FloatTensor(Y[train_idx])\n",
        "\n",
        "model = rba_train(tmp_X, tmp_Y, r_st, r_st, lr = 0.02, max_itr=2000)\n",
        "torch.save(model, \"pca_log_0.02_2000\")"
      ],
      "metadata": {
        "colab": {
          "base_uri": "https://localhost:8080/"
        },
        "id": "fTvU51Sza4Hl",
        "outputId": "89f97d53-18b9-40a7-d6ef-96416396f33e"
      },
      "execution_count": 21,
      "outputs": [
        {
          "output_type": "stream",
          "name": "stdout",
          "text": [
            "Loss at step 0: 0.7113432884216309\n",
            "Loss at step 1000: 0.0008282745839096606\n"
          ]
        }
      ]
    },
    {
      "cell_type": "code",
      "source": [
        "loss, outputs, acc = log_test(model, torch.FloatTensor(X[test_idx]), torch.FloatTensor(Y[test_idx]), torch.ones(Y[test_idx].shape))\n",
        "pred_y_pairs = np.concatenate((outputs.detach().numpy(), Y[test_idx]), axis=1)\n",
        "ece = binary_ece(pred_y_pairs, n_bins=10)\n",
        "print(f\"ECE: {ece}\")\n",
        "\n",
        "plot_test_samples(X[test_idx], Y[test_idx], outputs)"
      ],
      "metadata": {
        "colab": {
          "base_uri": "https://localhost:8080/",
          "height": 378
        },
        "id": "bqibiYokhyt9",
        "outputId": "fb31ca2c-b9ac-4b8c-e9fe-d20744f99f56"
      },
      "execution_count": 22,
      "outputs": [
        {
          "output_type": "stream",
          "name": "stdout",
          "text": [
            "Target Loss: 0.4981778562068939. Target Accuracy: 0.8698432445526123\n",
            "ECE: 0.310093368059479\n",
            "4 4\n"
          ]
        },
        {
          "output_type": "display_data",
          "data": {
            "text/plain": [
              "<Figure size 432x288 with 16 Axes>"
            ],
            "image/png": "[encoded data removed]"
          },
          "metadata": {
            "needs_background": "light"
          }
        }
      ]
    },
    {
      "cell_type": "markdown",
      "source": [
        "#### RBA"
      ],
      "metadata": {
        "id": "5wGjC5egmeo1"
      }
    },
    {
      "cell_type": "code",
      "source": [
        "pca_kde = get_pca_kernel_density_estimator(X[train_idx], X[test_idx])\n",
        "r_st = pca_kde(X[train_idx])"
      ],
      "metadata": {
        "id": "bdkh6O23nt4U"
      },
      "execution_count": 23,
      "outputs": []
    },
    {
      "cell_type": "code",
      "source": [
        "rba_model = rba_train(tmp_X, tmp_Y, r_st, torch.ones((tmp_Y.shape[0], 1)), lr = 0.008, max_itr=4000, weight_decay=0.01)"
      ],
      "metadata": {
        "colab": {
          "base_uri": "https://localhost:8080/"
        },
        "id": "-f3m4SSWmNtg",
        "outputId": "0ef9b469-e052-4dff-e5ed-7c249928fbea"
      },
      "execution_count": 24,
      "outputs": [
        {
          "output_type": "stream",
          "name": "stdout",
          "text": [
            "Loss at step 0: 1.3164254426956177\n",
            "Loss at step 1000: 0.03655266761779785\n",
            "Loss at step 2000: 0.017722435295581818\n",
            "Loss at step 3000: 0.00011523137072799727\n"
          ]
        }
      ]
    },
    {
      "cell_type": "code",
      "source": [
        "loss, outputs, acc = log_test(rba_model, torch.FloatTensor(X[test_idx]), torch.FloatTensor(Y[test_idx]), torch.ones(Y[test_idx].shape))\n",
        "pred_y_pairs = np.concatenate((outputs.detach().numpy(), Y[test_idx]), axis=1)\n",
        "ece = binary_ece(pred_y_pairs, n_bins=10)\n",
        "print(\"ECE: \", ece)\n",
        "\n",
        "plot_test_samples(X[test_idx], Y[test_idx], outputs, dev_from_mean = 0.05)"
      ],
      "metadata": {
        "colab": {
          "base_uri": "https://localhost:8080/",
          "height": 378
        },
        "id": "G2sx--ALpL6j",
        "outputId": "fc025f31-36c5-40ae-8c38-909ef76017cc"
      },
      "execution_count": 25,
      "outputs": [
        {
          "output_type": "stream",
          "name": "stdout",
          "text": [
            "Target Loss: 1.1596500873565674. Target Accuracy: 0.8064059615135193\n",
            "ECE:  0.32078614084951856\n",
            "4 4\n"
          ]
        },
        {
          "output_type": "display_data",
          "data": {
            "text/plain": [
              "<Figure size 432x288 with 16 Axes>"
            ],
            "image/png": "[encoded data removed]"
          },
          "metadata": {
            "needs_background": "light"
          }
        }
      ]
    },
    {
      "cell_type": "markdown",
      "source": [
        "### Covariate shift different ratios of numbers within test vs train"
      ],
      "metadata": {
        "id": "_0FgYgyPOifl"
      }
    },
    {
      "cell_type": "code",
      "source": [
        "train_data_38 = mnist_trainset.data[\n",
        "  np.logical_or((mnist_trainset.targets == 3), (mnist_trainset.targets == 8))\n",
        "] \n",
        "train_data_38_labels = np.ones((len(train_data_38), 1))\n",
        "\n",
        "train_data_17 = mnist_trainset.data[\n",
        "  np.logical_or((mnist_trainset.targets == 1), (mnist_trainset.targets == 7))\n",
        "] \n",
        "train_data_17_labels = np.zeros((len(train_data_17), 1))\n",
        "\n",
        "curlyRatio = sum((mnist_trainset.targets == 3)).item() / sum((mnist_trainset.targets == 8)).item()\n",
        "straightRatio = sum((mnist_trainset.targets == 1)).item() / sum((mnist_trainset.targets == 7)).item()\n",
        "\n",
        "print(f\"Ratio of 3:8 = {curlyRatio}. Ratio of 1:7 = {straightRatio}\")\n",
        "\n",
        "train_X = np.concatenate((train_data_38, train_data_17), dtype = float)\n",
        "train_X /= 255\n",
        "train_Y = np.concatenate((train_data_38_labels, train_data_17_labels))\n",
        "\n",
        "train_X, train_Y = unison_shuffled_copies(train_X, train_Y)"
      ],
      "metadata": {
        "colab": {
          "base_uri": "https://localhost:8080/"
        },
        "id": "5LRfkyADi1d6",
        "outputId": "4ec0ea3a-e867-4f7c-f020-a195946a0976"
      },
      "execution_count": 26,
      "outputs": [
        {
          "output_type": "stream",
          "name": "stderr",
          "text": [
            "/usr/local/lib/python3.7/dist-packages/ipykernel_launcher.py:2: UserWarning: indexing with dtype torch.uint8 is now deprecated, please use a dtype torch.bool instead. (Triggered internally at  ../aten/src/ATen/native/IndexingUtils.h:30.)\n",
            "  \n",
            "/usr/local/lib/python3.7/dist-packages/ipykernel_launcher.py:7: UserWarning: indexing with dtype torch.uint8 is now deprecated, please use a dtype torch.bool instead. (Triggered internally at  ../aten/src/ATen/native/IndexingUtils.h:30.)\n",
            "  import sys\n"
          ]
        },
        {
          "output_type": "stream",
          "name": "stdout",
          "text": [
            "Ratio of 3:8 = 1.0478550675098275. Ratio of 1:7 = 1.0761372705506784\n"
          ]
        }
      ]
    },
    {
      "cell_type": "code",
      "source": [
        "test_data_3 = (mnist_testset.data[(mnist_testset.targets == 3)])\n",
        "test_data_3 = test_data_3[:int(0.5 * len(test_data_3))]\n",
        "\n",
        "test_data_8 = mnist_testset.data[(mnist_testset.targets == 8)]\n",
        "\n",
        "test_data_38 = np.concatenate((test_data_3, test_data_8), dtype = float)\n",
        "test_data_38_labels = np.ones((len(test_data_38), 1))\n",
        "\n",
        "test_data_1 = mnist_testset.data[(mnist_testset.targets == 1)] \n",
        "test_data_7 = mnist_testset.data[(mnist_testset.targets == 7)]\n",
        "test_data_7 = test_data_7[:int(0.5 * len(test_data_7))]\n",
        "\n",
        "test_data_17 = np.concatenate((test_data_1, test_data_7), dtype = float)\n",
        "test_data_17_labels = np.zeros((len(test_data_17), 1))\n",
        "\n",
        "curlyRatio = len(test_data_3) / len(test_data_8)\n",
        "straightRatio = len(test_data_1) / len(test_data_7)\n",
        "\n",
        "print(f\"Ratio of 3:8 = {curlyRatio}. Ratio of 1:7 = {straightRatio}\")\n",
        "\n",
        "test_X = np.concatenate((test_data_38, test_data_17), dtype = float)\n",
        "test_X /= 255.0\n",
        "test_Y = np.concatenate((test_data_38_labels, test_data_17_labels))\n",
        "\n",
        "test_X, test_Y = unison_shuffled_copies(test_X, test_Y)"
      ],
      "metadata": {
        "colab": {
          "base_uri": "https://localhost:8080/"
        },
        "id": "DkDETEbPOo-t",
        "outputId": "e152c9ce-df5d-4442-bdfb-9432448acfe8"
      },
      "execution_count": 27,
      "outputs": [
        {
          "output_type": "stream",
          "name": "stdout",
          "text": [
            "Ratio of 3:8 = 0.5184804928131417. Ratio of 1:7 = 2.208171206225681\n"
          ]
        }
      ]
    },
    {
      "cell_type": "code",
      "source": [
        "train_X_flattened = torch.flatten(torch.Tensor(train_X), start_dim=1)\n",
        "test_X_flattened = torch.flatten(torch.Tensor(test_X), start_dim=1)\n",
        "train_Y = torch.FloatTensor(train_Y)\n",
        "test_Y = torch.FloatTensor(test_Y)"
      ],
      "metadata": {
        "id": "qXcH8kAGi99u"
      },
      "execution_count": 28,
      "outputs": []
    },
    {
      "cell_type": "markdown",
      "source": [
        "#### LOG"
      ],
      "metadata": {
        "id": "IKOIp1zriR71"
      }
    },
    {
      "cell_type": "code",
      "source": [
        "from os.path import exists\n",
        "\n",
        "r_st = torch.ones(train_Y.shape)\n",
        "\n",
        "model = rba_train(train_X_flattened, train_Y, r_st, r_st, lr = 0.01, max_itr=5000)"
      ],
      "metadata": {
        "colab": {
          "base_uri": "https://localhost:8080/"
        },
        "id": "HlZlJDyyiOB4",
        "outputId": "1bec5f81-c07d-4ca9-9928-661ec8f61f81"
      },
      "execution_count": 29,
      "outputs": [
        {
          "output_type": "stream",
          "name": "stdout",
          "text": [
            "Loss at step 0: 0.693993330001831\n",
            "Loss at step 1000: 0.0006959741003811359\n",
            "Loss at step 2000: 0.00029839863418601453\n",
            "Loss at step 3000: 0.018839675933122635\n",
            "Loss at step 4000: 0.002459159353747964\n"
          ]
        }
      ]
    },
    {
      "cell_type": "code",
      "source": [
        "loss, outputs, acc = log_test(model, test_X_flattened, test_Y, torch.ones(test_Y.shape))\n",
        "pred_y_pairs = np.concatenate((outputs.detach().numpy(), test_Y), axis=1)\n",
        "ece = binary_ece(pred_y_pairs, n_bins=1)\n",
        "print(f\"ECE: {ece}\")\n",
        "\n",
        "plot_test_samples(test_X, test_Y, outputs)"
      ],
      "metadata": {
        "colab": {
          "base_uri": "https://localhost:8080/",
          "height": 391
        },
        "id": "avoqmrLDjf0u",
        "outputId": "f837560e-0877-4920-9f56-591670b60c05"
      },
      "execution_count": 30,
      "outputs": [
        {
          "output_type": "stream",
          "name": "stdout",
          "text": [
            "Target Loss: 0.031841132789850235. Target Accuracy: 0.9926470518112183\n",
            "ECE: 0.5185862253693974\n",
            "1 1\n"
          ]
        },
        {
          "output_type": "error",
          "ename": "Exception",
          "evalue": "ignored",
          "traceback": [
            "\u001b[0;31m---------------------------------------------------------------------------\u001b[0m",
            "\u001b[0;31mException\u001b[0m                                 Traceback (most recent call last)",
            "\u001b[0;32m<ipython-input-30-38815b2a8fca>\u001b[0m in \u001b[0;36m<module>\u001b[0;34m()\u001b[0m\n\u001b[1;32m      4\u001b[0m \u001b[0mprint\u001b[0m\u001b[0;34m(\u001b[0m\u001b[0;34mf\"ECE: {ece}\"\u001b[0m\u001b[0;34m)\u001b[0m\u001b[0;34m\u001b[0m\u001b[0;34m\u001b[0m\u001b[0m\n\u001b[1;32m      5\u001b[0m \u001b[0;34m\u001b[0m\u001b[0m\n\u001b[0;32m----> 6\u001b[0;31m \u001b[0mplot_test_samples\u001b[0m\u001b[0;34m(\u001b[0m\u001b[0mtest_X\u001b[0m\u001b[0;34m,\u001b[0m \u001b[0mtest_Y\u001b[0m\u001b[0;34m,\u001b[0m \u001b[0moutputs\u001b[0m\u001b[0;34m)\u001b[0m\u001b[0;34m\u001b[0m\u001b[0;34m\u001b[0m\u001b[0m\n\u001b[0m",
            "\u001b[0;32m<ipython-input-20-4b1f71cd54dc>\u001b[0m in \u001b[0;36mplot_test_samples\u001b[0;34m(samples, labels, outputs, dev_from_mean)\u001b[0m\n\u001b[1;32m      8\u001b[0m   \u001b[0mprint\u001b[0m\u001b[0;34m(\u001b[0m\u001b[0mi\u001b[0m\u001b[0;34m,\u001b[0m \u001b[0mj\u001b[0m\u001b[0;34m)\u001b[0m\u001b[0;34m\u001b[0m\u001b[0;34m\u001b[0m\u001b[0m\n\u001b[1;32m      9\u001b[0m   \u001b[0;32mif\u001b[0m \u001b[0mi\u001b[0m \u001b[0;34m==\u001b[0m \u001b[0;36m0\u001b[0m \u001b[0;32mor\u001b[0m \u001b[0mi\u001b[0m \u001b[0;34m==\u001b[0m \u001b[0;36m1\u001b[0m\u001b[0;34m:\u001b[0m\u001b[0;34m\u001b[0m\u001b[0;34m\u001b[0m\u001b[0m\n\u001b[0;32m---> 10\u001b[0;31m     \u001b[0;32mraise\u001b[0m \u001b[0mException\u001b[0m\u001b[0;34m(\u001b[0m\u001b[0;34mf\"Not enough images to display with prob between {0.5 - dev_from_mean} and {0.5 + dev_from_mean}\"\u001b[0m\u001b[0;34m)\u001b[0m\u001b[0;34m\u001b[0m\u001b[0;34m\u001b[0m\u001b[0m\n\u001b[0m\u001b[1;32m     11\u001b[0m   \u001b[0mfig\u001b[0m\u001b[0;34m,\u001b[0m \u001b[0max\u001b[0m \u001b[0;34m=\u001b[0m \u001b[0mplt\u001b[0m\u001b[0;34m.\u001b[0m\u001b[0msubplots\u001b[0m\u001b[0;34m(\u001b[0m\u001b[0mi\u001b[0m\u001b[0;34m,\u001b[0m\u001b[0mj\u001b[0m\u001b[0;34m)\u001b[0m\u001b[0;34m\u001b[0m\u001b[0;34m\u001b[0m\u001b[0m\n\u001b[1;32m     12\u001b[0m   \u001b[0;32mfor\u001b[0m \u001b[0mx\u001b[0m \u001b[0;32min\u001b[0m \u001b[0mrange\u001b[0m\u001b[0;34m(\u001b[0m\u001b[0mi\u001b[0m\u001b[0;34m)\u001b[0m\u001b[0;34m:\u001b[0m\u001b[0;34m\u001b[0m\u001b[0;34m\u001b[0m\u001b[0m\n",
            "\u001b[0;31mException\u001b[0m: Not enough images to display with prob between 0.45 and 0.55"
          ]
        }
      ]
    },
    {
      "cell_type": "markdown",
      "source": [
        "#### RBA"
      ],
      "metadata": {
        "id": "tWf9oTJWiTMm"
      }
    },
    {
      "cell_type": "code",
      "source": [
        "pca_kde = get_pca_kernel_density_estimator(train_X_flattened, test_X_flattened)\n",
        "r_st = pca_kde(train_X_flattened)"
      ],
      "metadata": {
        "id": "_m4nHJUuvW9j"
      },
      "execution_count": 31,
      "outputs": []
    },
    {
      "cell_type": "code",
      "source": [
        "rba_model = rba_train(train_X_flattened, train_Y, r_st, torch.ones(train_Y.shape), lr = 0.008, max_itr=4000, weight_decay=0.01)"
      ],
      "metadata": {
        "colab": {
          "base_uri": "https://localhost:8080/"
        },
        "id": "Hus3rX3FiTxy",
        "outputId": "8acc2cdd-9fee-40a6-ff04-615a61fa4bdf"
      },
      "execution_count": 32,
      "outputs": [
        {
          "output_type": "stream",
          "name": "stdout",
          "text": [
            "Loss at step 0: 0.6957045197486877\n",
            "Loss at step 1000: 0.0012922253226861358\n",
            "Loss at step 2000: 0.0005791784496977925\n",
            "Loss at step 3000: 0.00013498066982720047\n"
          ]
        }
      ]
    },
    {
      "cell_type": "code",
      "source": [
        "loss, outputs, acc = log_test(rba_model, test_X_flattened, test_Y, torch.ones(test_Y.shape))\n",
        "pred_y_pairs = np.concatenate((outputs.detach().numpy(), test_Y), axis=1)\n",
        "ece = binary_ece(pred_y_pairs, n_bins=1)\n",
        "print(f\"ECE: {ece}\")\n",
        "\n",
        "plot_test_samples(test_X, test_Y, outputs)"
      ],
      "metadata": {
        "colab": {
          "base_uri": "https://localhost:8080/",
          "height": 391
        },
        "id": "YmStMhanvwg-",
        "outputId": "426d1650-f1b6-422e-a996-3f08a421bcdf"
      },
      "execution_count": 33,
      "outputs": [
        {
          "output_type": "stream",
          "name": "stdout",
          "text": [
            "Target Loss: 0.039942510426044464. Target Accuracy: 0.9888107180595398\n",
            "ECE: 0.5150566337358616\n",
            "1 1\n"
          ]
        },
        {
          "output_type": "error",
          "ename": "Exception",
          "evalue": "ignored",
          "traceback": [
            "\u001b[0;31m---------------------------------------------------------------------------\u001b[0m",
            "\u001b[0;31mException\u001b[0m                                 Traceback (most recent call last)",
            "\u001b[0;32m<ipython-input-33-dfe6f6043913>\u001b[0m in \u001b[0;36m<module>\u001b[0;34m()\u001b[0m\n\u001b[1;32m      4\u001b[0m \u001b[0mprint\u001b[0m\u001b[0;34m(\u001b[0m\u001b[0;34mf\"ECE: {ece}\"\u001b[0m\u001b[0;34m)\u001b[0m\u001b[0;34m\u001b[0m\u001b[0;34m\u001b[0m\u001b[0m\n\u001b[1;32m      5\u001b[0m \u001b[0;34m\u001b[0m\u001b[0m\n\u001b[0;32m----> 6\u001b[0;31m \u001b[0mplot_test_samples\u001b[0m\u001b[0;34m(\u001b[0m\u001b[0mtest_X\u001b[0m\u001b[0;34m,\u001b[0m \u001b[0mtest_Y\u001b[0m\u001b[0;34m,\u001b[0m \u001b[0moutputs\u001b[0m\u001b[0;34m)\u001b[0m\u001b[0;34m\u001b[0m\u001b[0;34m\u001b[0m\u001b[0m\n\u001b[0m",
            "\u001b[0;32m<ipython-input-20-4b1f71cd54dc>\u001b[0m in \u001b[0;36mplot_test_samples\u001b[0;34m(samples, labels, outputs, dev_from_mean)\u001b[0m\n\u001b[1;32m      8\u001b[0m   \u001b[0mprint\u001b[0m\u001b[0;34m(\u001b[0m\u001b[0mi\u001b[0m\u001b[0;34m,\u001b[0m \u001b[0mj\u001b[0m\u001b[0;34m)\u001b[0m\u001b[0;34m\u001b[0m\u001b[0;34m\u001b[0m\u001b[0m\n\u001b[1;32m      9\u001b[0m   \u001b[0;32mif\u001b[0m \u001b[0mi\u001b[0m \u001b[0;34m==\u001b[0m \u001b[0;36m0\u001b[0m \u001b[0;32mor\u001b[0m \u001b[0mi\u001b[0m \u001b[0;34m==\u001b[0m \u001b[0;36m1\u001b[0m\u001b[0;34m:\u001b[0m\u001b[0;34m\u001b[0m\u001b[0;34m\u001b[0m\u001b[0m\n\u001b[0;32m---> 10\u001b[0;31m     \u001b[0;32mraise\u001b[0m \u001b[0mException\u001b[0m\u001b[0;34m(\u001b[0m\u001b[0;34mf\"Not enough images to display with prob between {0.5 - dev_from_mean} and {0.5 + dev_from_mean}\"\u001b[0m\u001b[0;34m)\u001b[0m\u001b[0;34m\u001b[0m\u001b[0;34m\u001b[0m\u001b[0m\n\u001b[0m\u001b[1;32m     11\u001b[0m   \u001b[0mfig\u001b[0m\u001b[0;34m,\u001b[0m \u001b[0max\u001b[0m \u001b[0;34m=\u001b[0m \u001b[0mplt\u001b[0m\u001b[0;34m.\u001b[0m\u001b[0msubplots\u001b[0m\u001b[0;34m(\u001b[0m\u001b[0mi\u001b[0m\u001b[0;34m,\u001b[0m\u001b[0mj\u001b[0m\u001b[0;34m)\u001b[0m\u001b[0;34m\u001b[0m\u001b[0;34m\u001b[0m\u001b[0m\n\u001b[1;32m     12\u001b[0m   \u001b[0;32mfor\u001b[0m \u001b[0mx\u001b[0m \u001b[0;32min\u001b[0m \u001b[0mrange\u001b[0m\u001b[0;34m(\u001b[0m\u001b[0mi\u001b[0m\u001b[0;34m)\u001b[0m\u001b[0;34m:\u001b[0m\u001b[0;34m\u001b[0m\u001b[0;34m\u001b[0m\u001b[0m\n",
            "\u001b[0;31mException\u001b[0m: Not enough images to display with prob between 0.45 and 0.55"
          ]
        }
      ]
    },
    {
      "cell_type": "code",
      "source": [
        ""
      ],
      "metadata": {
        "id": "GV-zPQ8AS6Gl"
      },
      "execution_count": null,
      "outputs": []
    }
  ]
}
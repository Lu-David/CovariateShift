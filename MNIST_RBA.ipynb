{
  "cells": [
    {
      "cell_type": "markdown",
      "metadata": {
        "id": "view-in-github",
        "colab_type": "text"
      },
      "source": [
        "<a href=\"https://colab.research.google.com/github/Lu-David/CovariateShift/blob/main/MNIST_RBA.ipynb\" target=\"_parent\"><img src=\"https://colab.research.google.com/assets/colab-badge.svg\" alt=\"Open In Colab\"/></a>"
      ]
    },
    {
      "cell_type": "markdown",
      "metadata": {
        "id": "0gy6dzXYPt5x"
      },
      "source": [
        "# MNIST Data"
      ]
    },
    {
      "cell_type": "code",
      "execution_count": null,
      "metadata": {
        "id": "Y-D6aMuz9EqB"
      },
      "outputs": [],
      "source": [
        "import torchvision\n",
        "import torchvision.datasets as datasets\n",
        "import torch"
      ]
    },
    {
      "cell_type": "code",
      "execution_count": null,
      "metadata": {
        "colab": {
          "base_uri": "https://localhost:8080/",
          "height": 437,
          "referenced_widgets": [
            "a0965b996ff142f7ab287667e66b0cb2",
            "893c10e838494793976c4a88241397cc",
            "c705def99a51440a94ffb4249b6b0dbd",
            "164b5265f50a4370be0dc52e166698e1",
            "419dc5dabdfd493f87886d6b5f713e91",
            "529a2bb92fa444e0a5ade92c864b908d",
            "bbc19184ff714e689fc6e575d66aa0c7",
            "79c4a4d040e647ee87f02fc9a092f1bf",
            "d2d760e93c8e4b989546aa7c1794ba79",
            "c7a0a4d36aa7454bb98d62497f414797",
            "e30568010d2746448f12174ebbd93492",
            "64dd8700cd6f4123830a6ff5db0f330b",
            "912f924d064f4e9480c3959deebf7456",
            "dcce6072cec9410db79414804cb9c1f2",
            "363e1ecf8f2641ac9059ad71cfe055ec",
            "838dae79b9e34c0095e6573496f102d0",
            "fba2c83dac8144de8cad330cd2cce6f1",
            "9c5d057170f349bfafb2984ab8d5e702",
            "f1529fa8e40b404581750ded265ff7c4",
            "7373fba52cde44e6a6568028f9718835",
            "9e4f8f103cba4a94be43015f34dba73a",
            "91f357fa67f4459882c4ce2d5dacf7a0",
            "f367a4d158d54f8094e630e515968c64",
            "1ca5aa788817415baec132d30ff8059c",
            "c9467ed47d2f45778ab0b91b8dfd352c",
            "eb5c209359324782bc87cc70ff8de955",
            "ce3c69f09e4d4c049afa7e8828ee090e",
            "d536d6aff34e4dfab5e1c8a6840d5693",
            "051331df9b84410898e137af829c63e0",
            "fc5bed3e428f4101a31839fffe3f812e",
            "370c6feb6d7246228257f5a841c170c1",
            "a5009d5415bb45b1a35b343d4bd63e2e",
            "aacaf9e479524236aac023e3912dfed7",
            "798851f80a1d49b59188f16633265109",
            "00c36282dc7d498fbf9fdae922af01dc",
            "35f535c6541742b6a2f1d09e595eb0c5",
            "c57948e550c74b5f99b6feb97e383dc8",
            "d6b91cdb21ca4f708608b9106a109621",
            "2149e12280044068a6cf1b4f6a2e2bb8",
            "f710d39c79ba40a580af35fbb9a2ea78",
            "b83affcc9e7444d28db2f7bad47c2f69",
            "da360c7798f945388d99b466a09abe64",
            "7f1c5143043b4b9aa6262c18d6a91057",
            "1d3a40c1ef444de38a928ca72813fcbe"
          ]
        },
        "id": "VWtnpEiG9Iza",
        "outputId": "72f24738-b459-49bc-fe6e-a3564ecf4ea1"
      },
      "outputs": [
        {
          "output_type": "stream",
          "name": "stdout",
          "text": [
            "Downloading http://yann.lecun.com/exdb/mnist/train-images-idx3-ubyte.gz\n",
            "Downloading http://yann.lecun.com/exdb/mnist/train-images-idx3-ubyte.gz to ./data/MNIST/raw/train-images-idx3-ubyte.gz\n"
          ]
        },
        {
          "output_type": "display_data",
          "data": {
            "text/plain": [
              "  0%|          | 0/9912422 [00:00<?, ?it/s]"
            ],
            "application/vnd.jupyter.widget-view+json": {
              "version_major": 2,
              "version_minor": 0,
              "model_id": "a0965b996ff142f7ab287667e66b0cb2"
            }
          },
          "metadata": {}
        },
        {
          "output_type": "stream",
          "name": "stdout",
          "text": [
            "Extracting ./data/MNIST/raw/train-images-idx3-ubyte.gz to ./data/MNIST/raw\n",
            "\n",
            "Downloading http://yann.lecun.com/exdb/mnist/train-labels-idx1-ubyte.gz\n",
            "Downloading http://yann.lecun.com/exdb/mnist/train-labels-idx1-ubyte.gz to ./data/MNIST/raw/train-labels-idx1-ubyte.gz\n"
          ]
        },
        {
          "output_type": "display_data",
          "data": {
            "text/plain": [
              "  0%|          | 0/28881 [00:00<?, ?it/s]"
            ],
            "application/vnd.jupyter.widget-view+json": {
              "version_major": 2,
              "version_minor": 0,
              "model_id": "64dd8700cd6f4123830a6ff5db0f330b"
            }
          },
          "metadata": {}
        },
        {
          "output_type": "stream",
          "name": "stdout",
          "text": [
            "Extracting ./data/MNIST/raw/train-labels-idx1-ubyte.gz to ./data/MNIST/raw\n",
            "\n",
            "Downloading http://yann.lecun.com/exdb/mnist/t10k-images-idx3-ubyte.gz\n",
            "Downloading http://yann.lecun.com/exdb/mnist/t10k-images-idx3-ubyte.gz to ./data/MNIST/raw/t10k-images-idx3-ubyte.gz\n"
          ]
        },
        {
          "output_type": "display_data",
          "data": {
            "text/plain": [
              "  0%|          | 0/1648877 [00:00<?, ?it/s]"
            ],
            "application/vnd.jupyter.widget-view+json": {
              "version_major": 2,
              "version_minor": 0,
              "model_id": "f367a4d158d54f8094e630e515968c64"
            }
          },
          "metadata": {}
        },
        {
          "output_type": "stream",
          "name": "stdout",
          "text": [
            "Extracting ./data/MNIST/raw/t10k-images-idx3-ubyte.gz to ./data/MNIST/raw\n",
            "\n",
            "Downloading http://yann.lecun.com/exdb/mnist/t10k-labels-idx1-ubyte.gz\n",
            "Downloading http://yann.lecun.com/exdb/mnist/t10k-labels-idx1-ubyte.gz to ./data/MNIST/raw/t10k-labels-idx1-ubyte.gz\n"
          ]
        },
        {
          "output_type": "display_data",
          "data": {
            "text/plain": [
              "  0%|          | 0/4542 [00:00<?, ?it/s]"
            ],
            "application/vnd.jupyter.widget-view+json": {
              "version_major": 2,
              "version_minor": 0,
              "model_id": "798851f80a1d49b59188f16633265109"
            }
          },
          "metadata": {}
        },
        {
          "output_type": "stream",
          "name": "stdout",
          "text": [
            "Extracting ./data/MNIST/raw/t10k-labels-idx1-ubyte.gz to ./data/MNIST/raw\n",
            "\n"
          ]
        }
      ],
      "source": [
        "mnist_trainset = datasets.MNIST(root='./data', train=True, download=True, transform=None)\n",
        "mnist_testset = datasets.MNIST(root='./data', train=False, download=True, transform=None)"
      ]
    },
    {
      "cell_type": "code",
      "execution_count": null,
      "metadata": {
        "colab": {
          "base_uri": "https://localhost:8080/",
          "height": 284
        },
        "id": "xpzlySFq9dPH",
        "outputId": "1183a45a-646b-46d0-ea56-e17dffeca0fb"
      },
      "outputs": [
        {
          "output_type": "stream",
          "name": "stdout",
          "text": [
            "tensor(5)\n"
          ]
        },
        {
          "output_type": "display_data",
          "data": {
            "text/plain": [
              "<Figure size 432x288 with 1 Axes>"
            ],
            "image/png": "[encoded data removed]"
          },
          "metadata": {
            "needs_background": "light"
          }
        }
      ],
      "source": [
        "import matplotlib.pyplot as plt\n",
        "import numpy as np\n",
        "import torch\n",
        "\n",
        "plt.imshow(mnist_trainset.data[0])\n",
        "print(mnist_trainset.targets[0])"
      ]
    },
    {
      "cell_type": "markdown",
      "metadata": {
        "id": "btmWR-pXPqeT"
      },
      "source": [
        "# Util Functions and Classes\n"
      ]
    },
    {
      "cell_type": "code",
      "execution_count": null,
      "metadata": {
        "id": "vJMYZdltLnxn"
      },
      "outputs": [],
      "source": [
        "def unison_shuffled_copies(a, b):\n",
        "  # Shuffle both arrays in unison\n",
        "    assert len(a) == len(b)\n",
        "    p = np.random.permutation(len(a))\n",
        "    return a[p], b[p]"
      ]
    },
    {
      "cell_type": "markdown",
      "metadata": {
        "id": "1uOUQpZvjMr8"
      },
      "source": [
        "## Model"
      ]
    },
    {
      "cell_type": "code",
      "execution_count": null,
      "metadata": {
        "id": "cgr9WHLcP5pg"
      },
      "outputs": [],
      "source": [
        "import torch.nn as nn\n",
        "\n",
        "\n",
        "class RBAGrad(torch.autograd.Function):\n",
        "    @staticmethod\n",
        "    def forward(ctx, output, r_st):\n",
        "        pred = torch.sigmoid(output * r_st)\n",
        "        ctx.save_for_backward(pred)\n",
        "        return pred\n",
        "\n",
        "    @staticmethod\n",
        "    def backward(ctx, y):\n",
        "        prob, = ctx.saved_tensors\n",
        "        grad_temp = y.clone()\n",
        "        grad_input = (prob - grad_temp)\n",
        "        return grad_input, None\n",
        "        \n",
        "class RBAClassifierMLP(nn.Module):\n",
        "    \"\"\"\n",
        "    Multi (3) layer robust bias aware (RBA) classifier\n",
        "    \"\"\"\n",
        "    def __init__(self, in_features = 2, out_features = 1, bias = True):\n",
        "        super(RBAClassifierMLP, self).__init__()\n",
        "\n",
        "        self.activation = nn.Sigmoid()\n",
        "        self.layer1 = nn.Linear(in_features, 16, bias = bias)\n",
        "        # self.layer2 = nn.Linear(16, 16)\n",
        "        self.layer3 = nn.Linear(16, out_features)\n",
        "\n",
        "    def forward(self, input, r_st):\n",
        "        \"\"\"[summary]\n",
        "\n",
        "        Args:\n",
        "            input (torch.Tensor): features\n",
        "\n",
        "        Returns:\n",
        "            torch.Tensor: predictions\n",
        "        \"\"\"\n",
        "        output = self.activation(self.layer1(input))\n",
        "        # output = self.activation(self.layer2(output))\n",
        "        output = self.layer3(output)\n",
        "\n",
        "        return RBAGrad.apply(output, r_st)"
      ]
    },
    {
      "cell_type": "markdown",
      "metadata": {
        "id": "E2UD7HWkjOeA"
      },
      "source": [
        "## Train"
      ]
    },
    {
      "cell_type": "code",
      "execution_count": null,
      "metadata": {
        "id": "wbgHSv2OszPb"
      },
      "outputs": [],
      "source": [
        "def get_n_params(model):\n",
        "    pp=0\n",
        "    for p in list(model.parameters()):\n",
        "        nn=1\n",
        "        for s in list(p.size()):\n",
        "            nn = nn*s\n",
        "        pp += nn\n",
        "    return pp\n",
        "\n",
        "def get_param_grad_avg(model):\n",
        "  summ = 0\n",
        "  maxx = 0\n",
        "  minn = torch.Tensor(100000)\n",
        "  num_params = get_n_params(model)\n",
        "\n",
        "  for name, param in model.named_parameters():\n",
        "    if param.requires_grad:\n",
        "      grad = torch.abs(param.grad)\n",
        "      summ += torch.sum(grad)\n",
        "      maxx = max(maxx, torch.max(grad))\n",
        "  return summ / num_params, maxx        "
      ]
    },
    {
      "cell_type": "code",
      "execution_count": null,
      "metadata": {
        "id": "C-Y5_jFeP_SC"
      },
      "outputs": [],
      "source": [
        "import torch\n",
        "import torch.nn as nn\n",
        "import numpy as np\n",
        "\n",
        "\n",
        "def rba_train(X_s, y_s, r_st, r_ts, max_itr = 10000, lr = 0.01, weight_decay = 0, min_grad = 0.001):\n",
        "    # General function for training RBA, IW, or LOG models\n",
        "\n",
        "    temperature = nn.Parameter(torch.ones(1).cuda())\n",
        "\n",
        "    _, n_col = X_s.shape\n",
        "    _, out_features = y_s.shape\n",
        "\n",
        "    # bias = True\n",
        "    # if True: # not torch.equal(r_ts, torch.ones(r_ts.shape)):\n",
        "    bias = False\n",
        "    X = torch.cat((\n",
        "        torch.ones(r_ts.shape), \n",
        "        X_s\n",
        "    ), dim = 1)\n",
        "    \n",
        "    model = RBAClassifierMLP(in_features = n_col + int(not bias), out_features=out_features, bias = bias)\n",
        "        \n",
        "    loss_fn = nn.BCELoss() \n",
        "    optimizer = torch.optim.Adam(model.parameters(), lr = lr, weight_decay = weight_decay)\n",
        "\n",
        "    F = X * r_ts.detach()\n",
        "\n",
        "    model.train()\n",
        "\n",
        "    for i in range(max_itr + 1): \n",
        "        optimizer.zero_grad()\n",
        "        \n",
        "        outputs = model.forward(F, r_st)\n",
        "        outputs.backward(y_s)\n",
        "        optimizer.step()\n",
        "        \n",
        "        loss = loss_fn(outputs.squeeze(), y_s.squeeze())\n",
        "        if i % 1000 == 0:\n",
        "            # print(f\"Loss at step {i}: {float(loss.data)}\")\n",
        "            avg, maxx = get_param_grad_avg(model)\n",
        "            print(f\"Grad avg: {avg}. Grad max: {maxx}\")\n",
        "            if avg < min_grad:\n",
        "              break\n",
        "            \n",
        "    return model"
      ]
    },
    {
      "cell_type": "code",
      "source": [
        ""
      ],
      "metadata": {
        "id": "tzGyfYy9TN9p"
      },
      "execution_count": null,
      "outputs": []
    },
    {
      "cell_type": "markdown",
      "metadata": {
        "id": "QXuHDUVWVd2X"
      },
      "source": [
        "## TODO: Calibration: Temperature Scaling"
      ]
    },
    {
      "cell_type": "code",
      "execution_count": null,
      "metadata": {
        "id": "01qOEIXDU4UZ"
      },
      "outputs": [],
      "source": [
        "def T_scaling(logits, temperature):\n",
        "  return torch.div(logits, temperature)"
      ]
    },
    {
      "cell_type": "code",
      "execution_count": null,
      "metadata": {
        "id": "7WgOoF8wVlbA"
      },
      "outputs": [],
      "source": [
        "from torch import optim \n",
        "\n",
        "def get_temp_scale(model, X_t, y_t, r_st):\n",
        "  temperature = nn.Parameter(torch.ones(1).cuda())\n",
        "  args = {'temperature': temperature}\n",
        "  criterion = nn.BCELoss()\n",
        "\n",
        "  # Removing strong_wolfe line search results in jump after 50 epochs\n",
        "  optimizer = optim.LBFGS([temperature], lr=0.001, max_iter=1000, line_search_fn='strong_wolfe')\n",
        "\n",
        "  logits_list = []\n",
        "  labels_list = []\n",
        "  temps = []\n",
        "  losses = []\n",
        "\n",
        "  def _eval():\n",
        "    loss = criterion(T_scaling(logits_list, args), labels_list)\n",
        "    loss.backward()\n",
        "    temps.append(temperature.item())\n",
        "    losses.append(loss)\n",
        "    return loss\n",
        "\n",
        "\n",
        "  optimizer.step(_eval)\n",
        "\n"
      ]
    },
    {
      "cell_type": "markdown",
      "metadata": {
        "id": "1nbbgedijRvk"
      },
      "source": [
        "## Test"
      ]
    },
    {
      "cell_type": "code",
      "execution_count": null,
      "metadata": {
        "id": "2mkVrWVOaYw6"
      },
      "outputs": [],
      "source": [
        "def log_test(model, X_t, y_t, r_st, calibration_method=None):\n",
        "    n_row, _ = X_t.shape\n",
        "    \n",
        "    model.eval()\n",
        "    loss_fn = nn.BCELoss() \n",
        "\n",
        "    F = torch.cat((\n",
        "        torch.ones(r_st.shape), \n",
        "        X_t\n",
        "        ), dim = 1)\n",
        "    preds = []\n",
        "    labels_oneh = []\n",
        "\n",
        "    outputs = model(F, r_st)\n",
        "    if calibration_method:\n",
        "      pred = calibration_method(outputs)\n",
        "\n",
        "    loss = loss_fn(outputs.squeeze(), y_t.squeeze())\n",
        "    acc = torch.sum(torch.round(outputs) == y_t) / n_row\n",
        "    print(f\"Target Loss: {loss}. Target Accuracy: {acc}\")\n",
        "    return loss, outputs, acc"
      ]
    },
    {
      "cell_type": "code",
      "execution_count": null,
      "metadata": {
        "id": "oSaP02gs84F0"
      },
      "outputs": [],
      "source": [
        "def binary_ece(predictions, actual, n_bins = 10):\n",
        "  '''\n",
        "    Calculate Expected Calibration Error (ECE) of predictions and true labels\n",
        "    https://jamesmccaffrey.wordpress.com/2021/01/22/how-to-calculate-expected-calibration-error-for-multi-class-classification/ \n",
        "\n",
        "            Parameters:\n",
        "                    pred_y_pairs ((n by 2) np.array): Two columns where first column is predicted values and second column is true labels \n",
        "                    n_bins (int): number of bins to partition [0, 1] by\n",
        "\n",
        "            Returns:\n",
        "                    binary_sum (str): Binary string of the sum of a and b\n",
        "    '''\n",
        "  pred_y_pairs = torch.cat((predictions, actual), dim=1).detach().numpy()\n",
        "  bin_size = 1 / n_bins\n",
        "  x = np.linspace(0, 1 - bin_size, n_bins)\n",
        "  diff_array = np.zeros((n_bins))\n",
        "  acc_array = np.zeros((n_bins))\n",
        "  pos_freq_array = np.zeros((n_bins))\n",
        "  count_array = np.zeros((n_bins))\n",
        "\n",
        "  for i in range(n_bins):\n",
        "    lower = i * bin_size\n",
        "    upper = (i + 1) * bin_size\n",
        "    \n",
        "    temp = pred_y_pairs[np.logical_and(pred_y_pairs[:,0] >= lower, pred_y_pairs[:,0] < upper)]\n",
        "    n = len(temp)\n",
        "\n",
        "    count_array[i] = n\n",
        "    acc = np.sum(np.round(temp[:, 0]) == temp[:, 1]) / n\n",
        "    pos_freq = np.sum(1 == temp[:, 1]) / n\n",
        "    avg_conf = np.mean(temp[:, 0])\n",
        "    diff = np.abs(acc - avg_conf)\n",
        "    \n",
        "    diff_array[i] = diff\n",
        "    acc_array[i] = acc\n",
        "    pos_freq_array[i] = pos_freq\n",
        "\n",
        "  \n",
        "  ece = np.sum((diff_array * count_array)) / len(pred_y_pairs)\n",
        "\n",
        "  # # Plot Reliability Diagram (pos_freq vs bins)\n",
        "  # plt.bar(x, pos_freq_array, width=bin_size, align='edge')\n",
        "  # plt.title(f\"Reliability Diagram. ECE: {ece}\")\n",
        "  # plt.xlabel(\"Mean Predicted Value\")\n",
        "  # plt.xlabel(\"Fraction of positives\")\n",
        "\n",
        "  return ece\n"
      ]
    },
    {
      "cell_type": "code",
      "execution_count": null,
      "metadata": {
        "id": "9SKm5sGKa7sG"
      },
      "outputs": [],
      "source": [
        "# test_X_flattened = torch.flatten(torch.Tensor(test_X), start_dim=1)\n",
        "# test_Y = torch.Tensor(test_Y)\n",
        "# n, _ = test_X_flattened.shape\n",
        "# r_st = torch.ones((n, 1))\n",
        "\n",
        "# loss, outputs, acc = log_test(model, test_X_flattened, test_Y, torch.ones((test_X_flattened.shape[0], 1)))\n",
        "\n",
        "# low_conf_samples = test_X[np.where(np.abs(outputs.detach().numpy() - 0.5) < 0.15)[0]]\n",
        "# low_conf_labels = test_Y[np.where(np.abs(outputs.detach().numpy() - 0.5) < 0.15)[0]]\n",
        "\n",
        "# i = 2\n",
        "# j = 2\n",
        "# fig, ax = plt.subplots(i,j)\n",
        "# for x in range(i):\n",
        "#   for y in range(j):\n",
        "#     ax[x][y].imshow(low_conf_samples[x * i + y])\n",
        "#     ax[x][y].title.set_text(int(low_conf_labels[x * i + y].item()))\n",
        "\n",
        "# # fig.set_tight_layout(True)\n",
        "# print(len(low_conf_labels))\n",
        "# pred_y_pairs = np.concatenate((outputs.detach().numpy(), test_Y.detach().numpy()), axis=1)\n",
        "# ece = binary_ece(pred_y_pairs, n_bins=6)\n",
        "# print(ece)"
      ]
    },
    {
      "cell_type": "markdown",
      "source": [
        "## Metrics"
      ],
      "metadata": {
        "id": "uyf0hmTOTnEJ"
      }
    },
    {
      "cell_type": "code",
      "source": [
        "predicted = torch.round(torch.rand((100, 1)))\n",
        "actual = torch.round(torch.rand((100, 1)))"
      ],
      "metadata": {
        "id": "22jpWFUwTzob"
      },
      "execution_count": null,
      "outputs": []
    },
    {
      "cell_type": "code",
      "source": [
        "def precision(predicted : torch.Tensor, actual : torch.Tensor):\n",
        "  predicted = torch.round(predicted)\n",
        "  actual = torch.round(actual)\n",
        "  tp = sum(torch.logical_and(predicted == actual, predicted == 1))\n",
        "  fp = sum(torch.logical_and(predicted != actual, predicted == 1))\n",
        "  return tp / (tp + fp)"
      ],
      "metadata": {
        "id": "5i6uUt8jToOS"
      },
      "execution_count": null,
      "outputs": []
    },
    {
      "cell_type": "code",
      "source": [
        "def recall(predicted : torch.Tensor, actual : torch.Tensor):\n",
        "  predicted = torch.round(predicted)\n",
        "  actual = torch.round(actual)\n",
        "  tp = sum(torch.logical_and(predicted == actual, predicted == 1))\n",
        "  fn = sum(torch.logical_and(predicted != actual, predicted == 0))\n",
        "  return tp / (tp + fn)"
      ],
      "metadata": {
        "id": "NsIrhnGJU8LZ"
      },
      "execution_count": null,
      "outputs": []
    },
    {
      "cell_type": "code",
      "source": [
        "def f1(predicted : torch.Tensor, actual : torch.Tensor):\n",
        "  predicted = torch.round(predicted)\n",
        "  actual = torch.round(actual)\n",
        "  prec = precision(predicted, actual)\n",
        "  rec = recall(predicted, actual)\n",
        "  return 2 * (prec * rec) / (prec + rec)"
      ],
      "metadata": {
        "id": "jwciH1wyVVs4"
      },
      "execution_count": null,
      "outputs": []
    },
    {
      "cell_type": "markdown",
      "source": [
        "## Size accumulation performance"
      ],
      "metadata": {
        "id": "h7bGHXBYTeqK"
      }
    },
    {
      "cell_type": "code",
      "source": [
        "def size_acc_perform(X_s, y_s, X_t, y_t, n_folds = 10):\n",
        "\n",
        "  size_per_fold = len(X_s) / n_folds\n",
        "\n",
        "  log_perform = []\n",
        "  rba_perform = []\n",
        "\n",
        "  for i in range(1, n_folds + 1):\n",
        "    print(f\"{i} / {n_folds}\")\n",
        "    n_samples = int(i * size_per_fold)\n",
        "    sub_X_s = X_s[:n_samples]\n",
        "    sub_y_s = y_s[:n_samples]\n",
        "\n",
        "    # Train LOG \n",
        "    r_st = torch.ones((n_samples, 1))\n",
        "    r_ts = torch.ones((n_samples, 1))\n",
        "    log_model = rba_train(sub_X_s, sub_y_s, r_st, r_ts, max_itr = 10000, lr = 0.01, weight_decay = 0, min_grad = 0.001)\n",
        "\n",
        "    # Test LOG\n",
        "    loss, outputs, acc = log_test(log_model, X_t, y_t, torch.ones(y_t.shape))\n",
        "    prec = precision(outputs, y_t)\n",
        "    rec = recall(outputs, y_t)\n",
        "    f = f1(outputs, y_t)\n",
        "    ece = binary_ece(outputs, y_t)\n",
        "    log_perform.append({\n",
        "        \"precision\" : prec,\n",
        "        \"recall\" : rec,\n",
        "        \"f1\" : f,\n",
        "        \"ece\" : ece\n",
        "    })\n",
        "\n",
        "    # Train RBA\n",
        "    lrdr = get_lrdr_estimator(sub_X_s, X_t)\n",
        "    r_st = lrdr(sub_X_s)\n",
        "    r_ts = torch.ones((n_samples, 1))\n",
        "    rba_model = rba_train(sub_X_s, sub_y_s, r_st, r_ts, max_itr = 10000, lr = 0.01, weight_decay = 0, min_grad = 0.001)\n",
        "\n",
        "    # Test RBA\n",
        "    r_st = lrdr(X_t)\n",
        "    loss, outputs, acc = log_test(rba_model, X_t, y_t, r_st)\n",
        "    prec = precision(outputs, y_t)\n",
        "    rec = recall(outputs, y_t)\n",
        "    f = f1(outputs, y_t)\n",
        "    ece = binary_ece(outputs, y_t)\n",
        "    rba_perform.append({\n",
        "        \"precision\" : prec,\n",
        "        \"recall\" : rec,\n",
        "        \"f1\" : f,\n",
        "        \"ece\" : ece\n",
        "    })\n",
        "\n",
        "  return log_perform, rba_perform"
      ],
      "metadata": {
        "id": "Qi2XNhiwThTL"
      },
      "execution_count": null,
      "outputs": []
    },
    {
      "cell_type": "markdown",
      "metadata": {
        "id": "bnjliY49Bafz"
      },
      "source": [
        "## Plotting functions"
      ]
    },
    {
      "cell_type": "code",
      "execution_count": null,
      "metadata": {
        "id": "yWe1EhUHBcRB"
      },
      "outputs": [],
      "source": [
        "def plot_train_samples(samples, labels):\n",
        "  i = min(4, int(len(labels) ** 0.5))\n",
        "  j = min(4, int(len(labels) ** 0.5))\n",
        "  print(i, j)\n",
        "  fig, ax = plt.subplots(i,j)\n",
        "  for x in range(i):\n",
        "    for y in range(j):\n",
        "      ax[x][y].imshow(samples[x * i + y].reshape(28, 28))\n",
        "      ax[x][y].title.set_text(f\"Class: {(labels[x * i + y].item())}\")\n",
        "\n",
        "  fig.set_tight_layout(True)\n",
        "  \n",
        "def plot_test_samples(samples, labels, outputs, dev_from_mean = 0.05): # dev_from_mean used to quantify uncertainty. E.g. 0.1 means images with predicitons between 0 and 1\n",
        "  samples = samples[np.where(np.abs(outputs.detach().numpy() - 0.5) < dev_from_mean)[0]]\n",
        "  labels = labels[np.where(np.abs(outputs.detach().numpy() - 0.5) < dev_from_mean)[0]]\n",
        "\n",
        "  i = min(5, int(len(labels) ** 0.5))\n",
        "  j = min(5, int(len(labels) ** 0.5))\n",
        "  if i == 0:\n",
        "    # raise Exception(f\"Not enough images to display with prob between {0.5 - dev_from_mean} and {0.5 + dev_from_mean}\")\n",
        "    print(f\"Not enough images to display with prob between {0.5 - dev_from_mean} and {0.5 + dev_from_mean}\")\n",
        "    return\n",
        "\n",
        "  if i == 1:\n",
        "    fig, ax = plt.subplots()\n",
        "    ax.imshow(samples[0].reshape(28, 28))\n",
        "    ax.set_title(f\"Class: {int(labels[0].item())}\")\n",
        "\n",
        "  else:\n",
        "    fig, ax = plt.subplots(i,j)\n",
        "    for x in range(i):\n",
        "      for y in range(j):\n",
        "        ax[x][y].imshow(samples[x * i + y].reshape(28, 28))\n",
        "        ax[x][y].title.set_text(f\"Class: {int(labels[x * i + y].item())}\")\n",
        "\n",
        "    title = fig.suptitle(f'Number of images w/ prob between {0.5 - dev_from_mean} and {0.5 + dev_from_mean}: {len(labels)}', y=1.05) \n",
        "\n",
        "def plot_test_uncertain_samples(samples, labels, outputs): # dev_from_mean used to quantify uncertainty. E.g. 0.1 means images with predicitons between 0 and 1\n",
        "  sorted_uncertainty, indicies = torch.sort(torch.abs(outputs - 0.5), dim = 0)\n",
        "  samples = samples[indicies]\n",
        "  labels = labels[indicies]\n",
        "  outputs = outputs[indicies]\n",
        "\n",
        "  i = min(4, int(len(labels) ** 0.5))\n",
        "  j = min(4, int(len(labels) ** 0.5))\n",
        "  n_decimals = 3\n",
        "  fig, ax = plt.subplots(i,j)\n",
        "  for x in range(i):\n",
        "    for y in range(j):\n",
        "      ax[x][y].set_xticks([])\n",
        "      ax[x][y].set_yticks([])\n",
        "      ax[x][y].imshow(samples[x * i + y].reshape(28, 28))\n",
        "      pred = round(outputs[x * i + y].item() * 10 ** n_decimals) / (10 ** n_decimals)\n",
        "      actual = round(labels[x * i + y].item() * 10 ** n_decimals) / (10 ** n_decimals)\n",
        "      ax[x][y].set_title(f\"Pred: {pred}\\nActual: {actual}\", fontdict = {'fontsize': 10})\n",
        "\n",
        "  fig.set_tight_layout(True)\n",
        "  title = fig.suptitle(f'Most uncertain images', y=1.05) \n",
        "\n",
        "def plot_test_certain_samples(samples, labels, outputs): # dev_from_mean used to quantify uncertainty. E.g. 0.1 means images with predicitons between 0 and 1\n",
        "  sorted_uncertainty, indicies = torch.sort(torch.abs(outputs - 0.5), dim = 0, descending = True)\n",
        "  samples = samples[indicies]\n",
        "  labels = labels[indicies]\n",
        "  outputs = outputs[indicies]\n",
        "\n",
        "  i = min(4, int(len(labels) ** 0.5))\n",
        "  j = min(4, int(len(labels) ** 0.5))\n",
        "  n_decimals = 3\n",
        "  fig, ax = plt.subplots(i,j)\n",
        "  for x in range(i):\n",
        "    for y in range(j):\n",
        "      ax[x][y].set_xticks([])\n",
        "      ax[x][y].set_yticks([])\n",
        "      ax[x][y].imshow(samples[x * i + y].reshape(28, 28))\n",
        "      pred = round(outputs[x * i + y].item() * 10 ** n_decimals) / (10 ** n_decimals)\n",
        "      actual = round(labels[x * i + y].item() * 10 ** n_decimals) / (10 ** n_decimals)\n",
        "      ax[x][y].set_title(f\"Pred: {pred}\\nActual: {actual}\", fontdict = {'fontsize': 10})\n",
        "\n",
        "  fig.set_tight_layout(True)\n",
        "  title = fig.suptitle(f'Most certain images', y=1.05) "
      ]
    },
    {
      "cell_type": "markdown",
      "metadata": {
        "id": "UdVFgff5bi7t"
      },
      "source": [
        "## Density Estimation"
      ]
    },
    {
      "cell_type": "markdown",
      "metadata": {
        "id": "f5-Kvvhnk_g5"
      },
      "source": [
        "### Classifier\n"
      ]
    },
    {
      "cell_type": "code",
      "execution_count": null,
      "metadata": {
        "id": "WFA8_xNXrmTC"
      },
      "outputs": [],
      "source": [
        "from sklearn.preprocessing import PolynomialFeatures\n",
        "import torch\n",
        "\n",
        "def get_poly_data(x, poly_features):\n",
        "    poly = PolynomialFeatures(poly_features, include_bias=False)\n",
        "    return torch.FloatTensor(poly.fit_transform(x))"
      ]
    },
    {
      "cell_type": "code",
      "execution_count": null,
      "metadata": {
        "id": "Gp73Ic_Nk-ud"
      },
      "outputs": [],
      "source": [
        "def get_lrdr_estimator(X_s, X_t, weight_decays=[0, 0.01, 0.05, 0.1]):\n",
        "\n",
        "    X_s = torch.Tensor(X_s)\n",
        "    X_t = torch.Tensor(X_t)\n",
        "\n",
        "    ns_row, _ = X_s.shape\n",
        "    nt_row, _ = X_t.shape\n",
        "\n",
        "    inda_s = np.arange(ns_row)\n",
        "    inda_t = np.arange(nt_row)\n",
        "\n",
        "    nv_s = int(np.floor(0.25 * ns_row))\n",
        "    nv_t = int(np.floor(0.25 * nt_row))\n",
        "\n",
        "    indv_s = np.random.permutation(ns_row)[:nv_s] \n",
        "    indv_t = np.random.permutation(nt_row)[:nv_t]\n",
        "\n",
        "    indt_s = np.setdiff1d(inda_s, indv_s)\n",
        "    indt_t = np.setdiff1d(inda_t, indv_t)\n",
        "\n",
        "    X_train = torch.cat((torch.FloatTensor(X_s[indt_s, :]), torch.FloatTensor(X_t[indt_t, :])))\n",
        "    X_valid = torch.cat((torch.FloatTensor(X_s[indv_s, :]), torch.FloatTensor(X_t[indv_t, :])))\n",
        "\n",
        "    ones_train = torch.ones((X_train.shape[0], 1))\n",
        "    ones_valid = torch.ones((X_valid.shape[0], 1))\n",
        "    ones_all = torch.cat((ones_train, ones_valid))\n",
        "    \n",
        "    y_train = torch.cat((torch.ones((ns_row - nv_s, 1)), torch.zeros((nt_row - nv_t, 1)) ))\n",
        "    y_valid = torch.cat((torch.ones((nv_s, 1)), torch.zeros((nv_t, 1)) ))\n",
        "    \n",
        "    losses = torch.zeros((len(weight_decays), 1))\n",
        "    for i, lamb in enumerate(weight_decays):\n",
        "        model = rba_train(X_train, y_train, ones_train, ones_train, max_itr=4000, weight_decay=lamb, min_grad=0.001)\n",
        "        loss, pred, acc = log_test(model, X_valid, y_valid, ones_valid)\n",
        "        losses[i] = loss\n",
        "    ind_min = torch.argmin(loss)\n",
        "\n",
        "    X_train = torch.cat((X_s, X_t))\n",
        "    y_train = torch.cat((torch.ones((ns_row, 1)), torch.zeros((nt_row, 1))))\n",
        "\n",
        "    model = rba_train(X_train, y_train, ones_all, ones_all, max_itr=1500, weight_decay=weight_decays[ind_min])\n",
        "    \n",
        "    def lrdr(x):\n",
        "        r_st = torch.ones((x.shape[0], 1))\n",
        "        log, pred, acc_1 = log_test(model, x, r_st, r_st)\n",
        "        return (pred / (1 - pred)).detach()\n",
        "    return lrdr"
      ]
    },
    {
      "cell_type": "markdown",
      "metadata": {
        "id": "OcZb_M3ypDTI"
      },
      "source": [
        "### PCA + KDE"
      ]
    },
    {
      "cell_type": "code",
      "execution_count": null,
      "metadata": {
        "id": "tlHFL8w0mp4Y"
      },
      "outputs": [],
      "source": [
        "from sklearn.neighbors import KernelDensity\n",
        "\n",
        "def get_pca_kernel_density_estimator(X_s, X_t, bandwidth=0.7):\n",
        "    # Note: Changing bandwidth is an important parameter to tune!\n",
        "    \n",
        "    pca = decomposition.PCA()\n",
        "    pca.n_components = 2 \n",
        "    X = np.concatenate((X_s, X_t))\n",
        "    pca = pca.fit(X)\n",
        "\n",
        "    kde_s = KernelDensity(kernel='gaussian', bandwidth=bandwidth).fit(pca.transform(X_s))\n",
        "    kde_t = KernelDensity(kernel='gaussian', bandwidth=bandwidth).fit(pca.transform(X_t))\n",
        "\n",
        "    def pca_kde(x):\n",
        "      x = pca.transform(x)\n",
        "      return torch.Tensor(np.exp(kde_s.score_samples(x)) / np.exp(kde_t.score_samples(x))).unsqueeze(1)\n",
        "\n",
        "    return pca_kde\n",
        "\n",
        "# rba_model = rba_train(train_X_flattened, train_Y, r_st, torch.ones((train_Y.shape)), lr = 0.02, max_itr=2000)\n",
        "# torch.save(rba_model, \"./rba_0.02_2000\")\n",
        "# loss, outputs, acc = log_test(rba_model, test_X_flattened, test_Y, torch.ones((test_X_flattened.shape[0], 1)))\n",
        "\n",
        "\n",
        "# low_conf_samples = test_X[np.where(np.abs(outputs.detach().numpy() - 0.5) < 0.15)[0]]\n",
        "# low_conf_labels = test_Y[np.where(np.abs(outputs.detach().numpy() - 0.5) < 0.15)[0]]\n",
        "\n",
        "# print(len(low_conf_labels))\n",
        "# i = 2\n",
        "# j = 2\n",
        "# fig, ax = plt.subplots(i,j)\n",
        "# for x in range(i):\n",
        "#   for y in range(j):\n",
        "#     ax[x][y].imshow(low_conf_samples[x * i + y])\n",
        "#     ax[x][y].title.set_text(int(low_conf_labels[x * i + y].item()))\n",
        "\n",
        "# # fig.set_tight_layout(True)\n",
        "# pred_y_pairs = np.concatenate((outputs.detach().numpy(), test_Y.detach().numpy()), axis=1)\n",
        "# ece = binary_ece(pred_y_pairs, n_bins=6)\n",
        "# print(ece)\n",
        "# high_conf_samples = test_X[np.where(np.abs(outputs.detach().numpy() - 0.5) > 0.4)[0]]\n",
        "# high_conf_labels = test_Y[np.where(np.abs(outputs.detach().numpy() - 0.5) > 0.4)[0]]\n",
        "# print(f\"Number of samples with confidence > 0.9: {len(high_conf_samples)}\")\n",
        "# i = 4\n",
        "# j = 4\n",
        "# fig, ax = plt.subplots(i,j)\n",
        "# for x in range(i):\n",
        "#   for y in range(j):\n",
        "#     ax[x][y].imshow(high_conf_samples[x * i + y])\n",
        "#     ax[x][y].title.set_text(int(high_conf_labels[x * i + y].item()))\n",
        "\n",
        "# fig.set_tight_layout(True)"
      ]
    },
    {
      "cell_type": "markdown",
      "metadata": {
        "id": "p0QgZdqxkims"
      },
      "source": [
        "# Experiments"
      ]
    },
    {
      "cell_type": "markdown",
      "metadata": {
        "id": "nPESRDkOkPAB"
      },
      "source": [
        "## 3/8 vs 1/7 Classification"
      ]
    },
    {
      "cell_type": "code",
      "execution_count": null,
      "metadata": {
        "colab": {
          "base_uri": "https://localhost:8080/"
        },
        "id": "t9TyOPMXkSFd",
        "outputId": "89b14618-68e2-4d28-cdd0-507bc3c5f650"
      },
      "outputs": [
        {
          "output_type": "stream",
          "name": "stderr",
          "text": [
            "/usr/local/lib/python3.7/dist-packages/ipykernel_launcher.py:2: UserWarning: indexing with dtype torch.uint8 is now deprecated, please use a dtype torch.bool instead. (Triggered internally at  ../aten/src/ATen/native/IndexingUtils.h:30.)\n",
            "  \n",
            "/usr/local/lib/python3.7/dist-packages/ipykernel_launcher.py:7: UserWarning: indexing with dtype torch.uint8 is now deprecated, please use a dtype torch.bool instead. (Triggered internally at  ../aten/src/ATen/native/IndexingUtils.h:30.)\n",
            "  import sys\n"
          ]
        },
        {
          "output_type": "stream",
          "name": "stdout",
          "text": [
            "Ratio of 3:8 = 1.0478550675098275. Ratio of 1:7 = 1.0761372705506784\n"
          ]
        }
      ],
      "source": [
        "train_data_38 = mnist_trainset.data[\n",
        "  np.logical_or((mnist_trainset.targets == 3), (mnist_trainset.targets == 8))\n",
        "] \n",
        "train_data_38_labels = np.ones((len(train_data_38), 1))\n",
        "\n",
        "train_data_17 = mnist_trainset.data[\n",
        "  np.logical_or((mnist_trainset.targets == 1), (mnist_trainset.targets == 7))\n",
        "] \n",
        "train_data_17_labels = np.zeros((len(train_data_17), 1))\n",
        "\n",
        "curlyRatio = sum((mnist_trainset.targets == 3)).item() / sum((mnist_trainset.targets == 8)).item()\n",
        "straightRatio = sum((mnist_trainset.targets == 1)).item() / sum((mnist_trainset.targets == 7)).item()\n",
        "\n",
        "print(f\"Ratio of 3:8 = {curlyRatio}. Ratio of 1:7 = {straightRatio}\")\n",
        "\n",
        "train_X = np.concatenate((train_data_38, train_data_17), dtype = float)\n",
        "train_X /= 255\n",
        "train_Y = np.concatenate((train_data_38_labels, train_data_17_labels))\n",
        "\n",
        "train_X, train_Y = unison_shuffled_copies(train_X, train_Y)"
      ]
    },
    {
      "cell_type": "code",
      "execution_count": null,
      "metadata": {
        "colab": {
          "base_uri": "https://localhost:8080/"
        },
        "id": "Qm0xY1zukat5",
        "outputId": "915d6548-96f2-42dd-c9c2-0fb73cb97b1f"
      },
      "outputs": [
        {
          "output_type": "stream",
          "name": "stdout",
          "text": [
            "Ratio of 3:8 = 1.0369609856262834. Ratio of 1:7 = 1.1040856031128405\n"
          ]
        }
      ],
      "source": [
        "test_data_3 = (mnist_testset.data[(mnist_testset.targets == 3)])\n",
        "test_data_8 = mnist_testset.data[(mnist_testset.targets == 8)]\n",
        "\n",
        "test_data_38 = np.concatenate((test_data_3, test_data_8), dtype = float)\n",
        "test_data_38_labels = np.concatenate((np.ones((len(test_data_3), 1)) * 3, (np.ones((len(test_data_8), 1)) * 8)))\n",
        "\n",
        "test_data_1 = mnist_testset.data[(mnist_testset.targets == 1)] \n",
        "test_data_7 = mnist_testset.data[(mnist_testset.targets == 7)]\n",
        "\n",
        "test_data_17 = np.concatenate((test_data_1, test_data_7), dtype = float)\n",
        "test_data_17_labels = np.concatenate((np.ones((len(test_data_1), 1)) * 1, (np.ones((len(test_data_7), 1)) * 7)))\n",
        "\n",
        "curlyRatio = len(test_data_3) / len(test_data_8)\n",
        "straightRatio = len(test_data_1) / len(test_data_7)\n",
        "\n",
        "print(f\"Ratio of 3:8 = {curlyRatio}. Ratio of 1:7 = {straightRatio}\")\n",
        "\n",
        "test_X = np.concatenate((test_data_38, test_data_17), dtype = float)\n",
        "test_X /= 255.0\n",
        "test_Y_detailed = np.concatenate((test_data_38_labels, test_data_17_labels))\n",
        "\n",
        "test_X, test_Y_detailed = unison_shuffled_copies(test_X, test_Y_detailed)"
      ]
    },
    {
      "cell_type": "code",
      "source": [
        "test_Y = np.where(np.logical_or(test_Y_detailed == 3, test_Y_detailed == 8), 1, 0)"
      ],
      "metadata": {
        "id": "LMffdG8eNH4y"
      },
      "execution_count": null,
      "outputs": []
    },
    {
      "cell_type": "code",
      "source": [
        "test_Y"
      ],
      "metadata": {
        "colab": {
          "base_uri": "https://localhost:8080/"
        },
        "id": "EnmB0AMANXXr",
        "outputId": "9db2d6fc-fcc0-4df5-fe73-8fe6ff1b7578"
      },
      "execution_count": null,
      "outputs": [
        {
          "output_type": "execute_result",
          "data": {
            "text/plain": [
              "array([[0],\n",
              "       [0],\n",
              "       [0],\n",
              "       ...,\n",
              "       [1],\n",
              "       [1],\n",
              "       [0]])"
            ]
          },
          "metadata": {},
          "execution_count": 113
        }
      ]
    },
    {
      "cell_type": "markdown",
      "metadata": {
        "id": "r_ZX4tmyY4qi"
      },
      "source": [
        "### Covariate shift determined by PCA sharp line"
      ]
    },
    {
      "cell_type": "markdown",
      "metadata": {
        "id": "y0-aUXt0j4tD"
      },
      "source": [
        "For this experiment, I apply PCA on combined train / test set. Then I pick a random line to separate a new train / test set."
      ]
    },
    {
      "cell_type": "code",
      "execution_count": null,
      "metadata": {
        "id": "fQ87nh2JY6L3"
      },
      "outputs": [],
      "source": [
        "from sklearn import decomposition\n",
        "train_X_flattened = torch.flatten(torch.Tensor(train_X), start_dim=1)\n",
        "test_X_flattened = torch.flatten(torch.Tensor(test_X), start_dim=1)\n",
        "\n",
        "X = np.concatenate((train_X_flattened, test_X_flattened), axis=0)\n",
        "Y = np.concatenate((train_Y, test_Y))\n",
        "\n",
        "pca = decomposition.PCA()\n",
        "pca.n_components = 2\n",
        "pca_X = pca.fit_transform(X)\n",
        "\n",
        "assert len(Y) == len(X)\n",
        "\n",
        "# percentage_var_explained = pca.explained_variance_ / np.sum(pca.explained_variance_);\n",
        "# cum_var_explained = np.cumsum(percentage_var_explained)"
      ]
    },
    {
      "cell_type": "code",
      "execution_count": null,
      "metadata": {
        "id": "XEIftQ5SZtUj"
      },
      "outputs": [],
      "source": [
        "train_idx = pca_X[:, 1] > -0.552\n",
        "test_idx = pca_X[:, 1] <= -0.552\n",
        "\n",
        "X_pca_train = pca_X[train_idx]\n",
        "Y_pca_train = Y[train_idx].flatten()\n",
        "\n",
        "X_pca_train_1 = X_pca_train[(Y_pca_train == 1)]\n",
        "X_pca_train_2 = X_pca_train[Y_pca_train == 0]\n",
        "\n",
        "X_pca_test = pca_X[test_idx]\n",
        "Y_pca_test = Y[test_idx].flatten()\n",
        "\n",
        "X_pca_test_1 = X_pca_test[Y_pca_test == 1]\n",
        "X_pca_test_2 = X_pca_test[Y_pca_test == 0]\n"
      ]
    },
    {
      "cell_type": "code",
      "execution_count": null,
      "metadata": {
        "colab": {
          "base_uri": "https://localhost:8080/",
          "height": 284
        },
        "id": "OmcpPweEZQ-U",
        "outputId": "215d467f-2d88-4b1f-b10e-7c971312362d"
      },
      "outputs": [
        {
          "output_type": "execute_result",
          "data": {
            "text/plain": [
              "<matplotlib.legend.Legend at 0x7f6bffc88210>"
            ]
          },
          "metadata": {},
          "execution_count": 300
        },
        {
          "output_type": "display_data",
          "data": {
            "text/plain": [
              "<Figure size 432x288 with 1 Axes>"
            ],
            "image/png": "[encoded data removed]"
          },
          "metadata": {
            "needs_background": "light"
          }
        }
      ],
      "source": [
        "plt.scatter(X_pca_train_1[:, 0], X_pca_train_1[:, 1], color=\"#8B0000\", label='train +')\n",
        "plt.scatter(X_pca_train_2[:, 0], X_pca_train_2[:, 1], color=\"#ffc6c4\", label='train -')\n",
        "plt.scatter(X_pca_test_1[:, 0], X_pca_test_1[:, 1], color=\"#006400\", label='test +')\n",
        "plt.scatter(X_pca_test_2[:, 0], X_pca_test_2[:, 1], color=\"#90EE90\", label='test - ')\n",
        "plt.legend()"
      ]
    },
    {
      "cell_type": "code",
      "execution_count": null,
      "metadata": {
        "colab": {
          "base_uri": "https://localhost:8080/"
        },
        "id": "s7aAsD-CmU-t",
        "outputId": "3e173ed0-bc3a-4330-b001-7c854431acc2"
      },
      "outputs": [
        {
          "output_type": "execute_result",
          "data": {
            "text/plain": [
              "1.0009614724263443"
            ]
          },
          "metadata": {},
          "execution_count": 27
        }
      ],
      "source": [
        "len(X_pca_test) / len(X_pca_train)"
      ]
    },
    {
      "cell_type": "code",
      "execution_count": null,
      "metadata": {
        "id": "b5bFF1iK6ADJ"
      },
      "outputs": [],
      "source": [
        ""
      ]
    },
    {
      "cell_type": "markdown",
      "metadata": {
        "id": "moX--FBymceq"
      },
      "source": [
        "#### LOG"
      ]
    },
    {
      "cell_type": "code",
      "execution_count": null,
      "metadata": {
        "colab": {
          "base_uri": "https://localhost:8080/"
        },
        "id": "fTvU51Sza4Hl",
        "outputId": "0f3939ff-09b2-4817-82f4-d97eeb04fa6e"
      },
      "outputs": [
        {
          "output_type": "stream",
          "name": "stdout",
          "text": [
            "Grad avg: 9.834551811218262. Grad max: 2680.433837890625\n",
            "Grad avg: 0.1416538804769516. Grad max: 58.348941802978516\n",
            "Grad avg: 0.056860897690057755. Grad max: 26.568937301635742\n",
            "Grad avg: 0.02574307844042778. Grad max: 15.447914123535156\n",
            "Grad avg: 0.011919469572603703. Grad max: 8.993751525878906\n",
            "Grad avg: 0.006580065935850143. Grad max: 5.880842208862305\n",
            "Grad avg: 0.0041084797121584415. Grad max: 3.6958656311035156\n",
            "Grad avg: 0.0026469803415238857. Grad max: 2.401318311691284\n",
            "Grad avg: 0.0016488569090142846. Grad max: 1.667419672012329\n"
          ]
        }
      ],
      "source": [
        "from os.path import exists\n",
        "\n",
        "r_st = torch.ones(Y[train_idx].shape)\n",
        "tmp_X = torch.FloatTensor(X[train_idx])\n",
        "tmp_Y = torch.FloatTensor(Y[train_idx])\n",
        "\n",
        "model = rba_train(tmp_X, tmp_Y, r_st, r_st, lr = 0.002, max_itr=8000)"
      ]
    },
    {
      "cell_type": "code",
      "execution_count": null,
      "metadata": {
        "colab": {
          "base_uri": "https://localhost:8080/",
          "height": 369
        },
        "id": "bqibiYokhyt9",
        "outputId": "9bb5b4e6-f653-478b-e9d9-da712415c679"
      },
      "outputs": [
        {
          "output_type": "stream",
          "name": "stdout",
          "text": [
            "Target Loss: 0.4211235046386719. Target Accuracy: 0.8845968842506409\n",
            "ECE: 0.2829802504833628\n",
            "5 5\n"
          ]
        },
        {
          "output_type": "display_data",
          "data": {
            "text/plain": [
              "<Figure size 432x288 with 25 Axes>"
            ],
            "image/png": "[encoded data removed]"
          },
          "metadata": {
            "needs_background": "light"
          }
        }
      ],
      "source": [
        "loss, outputs, acc = log_test(model, torch.FloatTensor(X[test_idx]), torch.FloatTensor(Y[test_idx]), torch.ones(Y[test_idx].shape))\n",
        "pred_y_pairs = np.concatenate((outputs.detach().numpy(), Y[test_idx]), axis=1)\n",
        "ece = binary_ece(outputs, torch.FloatTensor(Y[test_idx]), n_bins=10)\n",
        "print(f\"ECE: {ece}\")\n",
        "\n",
        "plot_test_samples(X[test_idx], Y[test_idx], outputs)"
      ]
    },
    {
      "cell_type": "markdown",
      "metadata": {
        "id": "5wGjC5egmeo1"
      },
      "source": [
        "#### RBA"
      ]
    },
    {
      "cell_type": "code",
      "execution_count": null,
      "metadata": {
        "id": "bdkh6O23nt4U"
      },
      "outputs": [],
      "source": [
        "pca_kde = get_pca_kernel_density_estimator(X[train_idx], X[test_idx], bandwidth = 0.7)\n",
        "r_st = pca_kde(X[train_idx])"
      ]
    },
    {
      "cell_type": "code",
      "execution_count": null,
      "metadata": {
        "colab": {
          "base_uri": "https://localhost:8080/"
        },
        "id": "-f3m4SSWmNtg",
        "outputId": "113d0f2d-eb6c-4f89-d42f-c894c2666831"
      },
      "outputs": [
        {
          "output_type": "stream",
          "name": "stdout",
          "text": [
            "Grad avg: 11.051609992980957. Grad max: 1982.0302734375\n",
            "Grad avg: 0.027565596625208855. Grad max: 10.897534370422363\n",
            "Grad avg: 0.014587154611945152. Grad max: 8.115497589111328\n",
            "Grad avg: 0.0034039851743727922. Grad max: 2.2708280086517334\n",
            "Grad avg: 0.003890137653797865. Grad max: 2.054633140563965\n",
            "Grad avg: 0.0027457736432552338. Grad max: 0.5701853632926941\n",
            "Grad avg: 0.0023323262576013803. Grad max: 0.34300804138183594\n",
            "Grad avg: 0.0008748727268539369. Grad max: 0.2020047903060913\n"
          ]
        }
      ],
      "source": [
        "rba_model = rba_train(tmp_X, tmp_Y, r_st, torch.ones((tmp_Y.shape[0], 1)), lr = 0.008, max_itr=10000, weight_decay=0.005)"
      ]
    },
    {
      "cell_type": "code",
      "execution_count": null,
      "metadata": {
        "id": "G2sx--ALpL6j",
        "colab": {
          "base_uri": "https://localhost:8080/",
          "height": 369
        },
        "outputId": "60c1ae07-49c4-41ae-8293-762e4c70e3e8"
      },
      "outputs": [
        {
          "output_type": "stream",
          "name": "stdout",
          "text": [
            "Target Loss: 0.4250812530517578. Target Accuracy: 0.9433276057243347\n",
            "ECE:  0.35571346039070684\n",
            "5 5\n"
          ]
        },
        {
          "output_type": "display_data",
          "data": {
            "text/plain": [
              "<Figure size 432x288 with 25 Axes>"
            ],
            "image/png": "[encoded data removed]"
          },
          "metadata": {
            "needs_background": "light"
          }
        }
      ],
      "source": [
        "r_st = pca_kde(X[test_idx])\n",
        "loss, outputs, acc = log_test(rba_model, torch.FloatTensor(X[test_idx]), torch.FloatTensor(Y[test_idx]), r_st)\n",
        "pred_y_pairs = np.concatenate((outputs.detach().numpy(), Y[test_idx]), axis=1)\n",
        "ece = binary_ece(outputs, torch.FloatTensor(Y[test_idx]), n_bins=10)\n",
        "print(\"ECE: \", ece)\n",
        "\n",
        "plot_test_samples(X[test_idx], Y[test_idx], outputs, dev_from_mean = 0.05)"
      ]
    },
    {
      "cell_type": "markdown",
      "source": [
        "#### Size accumulation performance"
      ],
      "metadata": {
        "id": "bGEf9PZDaxwj"
      }
    },
    {
      "cell_type": "code",
      "source": [
        "results = size_acc_perform(torch.Tensor(X[train_idx]), torch.Tensor(Y[train_idx]), torch.Tensor(X[test_idx]), torch.Tensor(Y[test_idx]))"
      ],
      "metadata": {
        "colab": {
          "base_uri": "https://localhost:8080/",
          "height": 1000
        },
        "id": "BdKX2_0RaxKE",
        "outputId": "861950ae-4364-4010-868f-743e33716fa1"
      },
      "execution_count": null,
      "outputs": [
        {
          "output_type": "stream",
          "name": "stdout",
          "text": [
            "1 / 10\n",
            "Grad avg: 1.302848219871521. Grad max: 325.45562744140625\n",
            "Grad avg: 0.000859046820551157. Grad max: 1.726575493812561\n",
            "Target Loss: 1.4719350337982178. Target Accuracy: 0.7953344583511353\n",
            "Grad avg: 26.671215057373047. Grad max: 5209.7939453125\n",
            "Grad avg: 0.020388036966323853. Grad max: 7.909692287445068\n",
            "Grad avg: 0.0049719600938260555. Grad max: 2.1263437271118164\n",
            "Grad avg: 0.0019136419286951423. Grad max: 0.8398217558860779\n",
            "Grad avg: 0.0008907478186301887. Grad max: 0.3982771635055542\n",
            "Target Loss: 0.060814861208200455. Target Accuracy: 0.9875156283378601\n",
            "Grad avg: 26.01810646057129. Grad max: 5331.1103515625\n",
            "Grad avg: 0.020533135160803795. Grad max: 10.426422119140625\n",
            "Grad avg: 0.0063219149596989155. Grad max: 2.9186370372772217\n",
            "Grad avg: 0.003400791436433792. Grad max: 1.2624762058258057\n",
            "Grad avg: 0.0023477214854210615. Grad max: 0.6743790507316589\n",
            "Target Loss: 0.028514372184872627. Target Accuracy: 0.9912609457969666\n",
            "Grad avg: 36.57817459106445. Grad max: 7139.14306640625\n",
            "Grad avg: 0.03461259976029396. Grad max: 12.301728248596191\n",
            "Grad avg: 0.016484851017594337. Grad max: 4.210702896118164\n",
            "Grad avg: 0.012287743389606476. Grad max: 2.211921215057373\n",
            "Grad avg: 0.010508621111512184. Grad max: 1.5288010835647583\n",
            "Target Loss: 0.01803675852715969. Target Accuracy: 0.9912609457969666\n",
            "Grad avg: 24.09123992919922. Grad max: 6440.15087890625\n",
            "Grad avg: 0.02192228101193905. Grad max: 13.94503116607666\n",
            "Target Loss: 0.017157336696982384. Target Accuracy: 0.9965659379959106\n",
            "Grad avg: 3.5303902626037598. Grad max: 1054.282470703125\n",
            "Grad avg: 0.009559581987559795. Grad max: 3.200343132019043\n",
            "Grad avg: 0.00038759593735449016. Grad max: 0.36965781450271606\n",
            "Target Loss: 9.386919021606445. Target Accuracy: 0.0\n",
            "Target Loss: 0.6910736560821533. Target Accuracy: 0.838010311126709\n"
          ]
        },
        {
          "output_type": "stream",
          "name": "stderr",
          "text": [
            "/usr/local/lib/python3.7/dist-packages/ipykernel_launcher.py:29: RuntimeWarning: invalid value encountered in long_scalars\n",
            "/usr/local/lib/python3.7/dist-packages/ipykernel_launcher.py:30: RuntimeWarning: invalid value encountered in long_scalars\n",
            "/usr/local/lib/python3.7/dist-packages/numpy/core/fromnumeric.py:3441: RuntimeWarning: Mean of empty slice.\n",
            "  out=out, **kwargs)\n",
            "/usr/local/lib/python3.7/dist-packages/numpy/core/_methods.py:189: RuntimeWarning: invalid value encountered in true_divide\n",
            "  ret = ret.dtype.type(ret / rcount)\n"
          ]
        },
        {
          "output_type": "stream",
          "name": "stdout",
          "text": [
            "2 / 10\n",
            "Grad avg: 3.944871664047241. Grad max: 1088.681884765625\n",
            "Grad avg: 0.004108165390789509. Grad max: 2.8027477264404297\n",
            "Grad avg: 0.000652612594421953. Grad max: 0.692524790763855\n",
            "Target Loss: 0.8413538932800293. Target Accuracy: 0.8288850784301758\n",
            "Grad avg: 19.120067596435547. Grad max: 4484.2841796875\n",
            "Grad avg: 0.019425861537456512. Grad max: 10.603676795959473\n",
            "Grad avg: 0.005300312303006649. Grad max: 2.8262102603912354\n",
            "Grad avg: 0.0020988122560083866. Grad max: 1.1408389806747437\n",
            "Grad avg: 0.0009925882332026958. Grad max: 0.5479353070259094\n",
            "Target Loss: 0.08177073299884796. Target Accuracy: 0.9822654724121094\n",
            "Grad avg: 20.65747833251953. Grad max: 3606.583984375\n",
            "Grad avg: 0.02026860974729061. Grad max: 9.669713973999023\n",
            "Grad avg: 0.006816466338932514. Grad max: 2.921478033065796\n",
            "Grad avg: 0.0036875163204967976. Grad max: 1.4302759170532227\n",
            "Grad avg: 0.0025574236642569304. Grad max: 0.8443752527236938\n",
            "Target Loss: 0.04392252862453461. Target Accuracy: 0.986270010471344\n",
            "Grad avg: 16.130210876464844. Grad max: 3558.1318359375\n",
            "Grad avg: 0.02621915377676487. Grad max: 13.2027006149292\n",
            "Grad avg: 0.015255835838615894. Grad max: 4.868984699249268\n",
            "Grad avg: 0.012468650005757809. Grad max: 2.9300789833068848\n",
            "Grad avg: 0.010996845550835133. Grad max: 2.006814479827881\n",
            "Target Loss: 0.03367789834737778. Target Accuracy: 0.9897025227546692\n",
            "Grad avg: 28.107603073120117. Grad max: 7134.31494140625\n",
            "Grad avg: 0.028583725914359093. Grad max: 14.019303321838379\n",
            "Target Loss: 0.008563872426748276. Target Accuracy: 0.999656617641449\n",
            "Grad avg: 7.523998260498047. Grad max: 2059.1962890625\n",
            "Grad avg: 0.0015880157006904483. Grad max: 0.6721920967102051\n",
            "Grad avg: 0.0004767805803567171. Grad max: 0.17321953177452087\n",
            "Target Loss: 9.279052734375. Target Accuracy: 0.0\n",
            "Target Loss: 0.6917755007743835. Target Accuracy: 0.8779416680335999\n"
          ]
        },
        {
          "output_type": "stream",
          "name": "stderr",
          "text": [
            "/usr/local/lib/python3.7/dist-packages/ipykernel_launcher.py:29: RuntimeWarning: invalid value encountered in long_scalars\n",
            "/usr/local/lib/python3.7/dist-packages/ipykernel_launcher.py:30: RuntimeWarning: invalid value encountered in long_scalars\n",
            "/usr/local/lib/python3.7/dist-packages/numpy/core/fromnumeric.py:3441: RuntimeWarning: Mean of empty slice.\n",
            "  out=out, **kwargs)\n",
            "/usr/local/lib/python3.7/dist-packages/numpy/core/_methods.py:189: RuntimeWarning: invalid value encountered in true_divide\n",
            "  ret = ret.dtype.type(ret / rcount)\n"
          ]
        },
        {
          "output_type": "stream",
          "name": "stdout",
          "text": [
            "3 / 10\n",
            "Grad avg: 5.458902359008789. Grad max: 1638.1619873046875\n",
            "Grad avg: 0.004432570654898882. Grad max: 3.356144666671753\n",
            "Grad avg: 0.0011623247992247343. Grad max: 1.297031283378601\n",
            "Grad avg: 0.0005501573323272169. Grad max: 0.6409510374069214\n",
            "Target Loss: 0.7409209609031677. Target Accuracy: 0.8367753028869629\n",
            "Grad avg: 22.69882583618164. Grad max: 3570.79638671875\n",
            "Grad avg: 0.023666009306907654. Grad max: 12.627423286437988\n",
            "Grad avg: 0.00670778239145875. Grad max: 3.457897901535034\n",
            "Grad avg: 0.0026693299878388643. Grad max: 1.3740073442459106\n",
            "Grad avg: 0.0012681431835517287. Grad max: 0.646133303642273\n",
            "Target Loss: 0.07711534947156906. Target Accuracy: 0.9830955862998962\n",
            "Grad avg: 11.220386505126953. Grad max: 2588.416259765625\n",
            "Grad avg: 0.020519385114312172. Grad max: 13.345463752746582\n",
            "Grad avg: 0.007170483935624361. Grad max: 3.9655745029449463\n",
            "Grad avg: 0.004079446196556091. Grad max: 1.8409340381622314\n",
            "Grad avg: 0.007477796170860529. Grad max: 1.3988620042800903\n",
            "Target Loss: 0.04138025641441345. Target Accuracy: 0.9857369065284729\n",
            "Grad avg: 16.294036865234375. Grad max: 5565.8740234375\n",
            "Grad avg: 0.031638652086257935. Grad max: 16.789018630981445\n",
            "Grad avg: 0.017689114436507225. Grad max: 6.221525192260742\n",
            "Grad avg: 0.013126754201948643. Grad max: 3.4808473587036133\n",
            "Grad avg: 0.011365978047251701. Grad max: 2.36403489112854\n",
            "Target Loss: 0.029458092525601387. Target Accuracy: 0.9894347786903381\n",
            "Grad avg: 28.56778907775879. Grad max: 5286.662109375\n",
            "Grad avg: 0.028880227357149124. Grad max: 18.859540939331055\n",
            "Target Loss: 0.007561495993286371. Target Accuracy: 0.9997710585594177\n",
            "Grad avg: 11.951295852661133. Grad max: 3149.1318359375\n",
            "Grad avg: 0.0029054407496005297. Grad max: 1.2367091178894043\n",
            "Grad avg: 0.0007891972782090306. Grad max: 0.36049243807792664\n",
            "Target Loss: 10.8883638381958. Target Accuracy: 0.0\n",
            "Target Loss: 0.6914089322090149. Target Accuracy: 0.8929674029350281\n"
          ]
        },
        {
          "output_type": "stream",
          "name": "stderr",
          "text": [
            "/usr/local/lib/python3.7/dist-packages/ipykernel_launcher.py:29: RuntimeWarning: invalid value encountered in long_scalars\n",
            "/usr/local/lib/python3.7/dist-packages/ipykernel_launcher.py:30: RuntimeWarning: invalid value encountered in long_scalars\n",
            "/usr/local/lib/python3.7/dist-packages/numpy/core/fromnumeric.py:3441: RuntimeWarning: Mean of empty slice.\n",
            "  out=out, **kwargs)\n",
            "/usr/local/lib/python3.7/dist-packages/numpy/core/_methods.py:189: RuntimeWarning: invalid value encountered in true_divide\n",
            "  ret = ret.dtype.type(ret / rcount)\n"
          ]
        },
        {
          "output_type": "stream",
          "name": "stdout",
          "text": [
            "4 / 10\n",
            "Grad avg: 4.639098167419434. Grad max: 1089.18017578125\n",
            "Grad avg: 0.005148923024535179. Grad max: 4.382816314697266\n",
            "Grad avg: 0.0015743382973596454. Grad max: 1.5734058618545532\n",
            "Grad avg: 0.0007180250831879675. Grad max: 0.9177365303039551\n",
            "Target Loss: 0.7430033683776855. Target Accuracy: 0.8570154309272766\n",
            "Grad avg: 17.0170955657959. Grad max: 4676.18701171875\n",
            "Grad avg: 0.027208123356103897. Grad max: 21.61252784729004\n",
            "Grad avg: 0.008422293700277805. Grad max: 6.232065200805664\n",
            "Grad avg: 0.0034831631928682327. Grad max: 2.5882821083068848\n",
            "Grad avg: 0.0016653597122058272. Grad max: 1.260332703590393\n",
            "Target Loss: 0.045807916671037674. Target Accuracy: 0.9857773184776306\n",
            "Grad avg: 19.35329818725586. Grad max: 4007.086181640625\n",
            "Grad avg: 0.02780456840991974. Grad max: 12.923834800720215\n",
            "Grad avg: 0.00854456052184105. Grad max: 3.9304869174957275\n",
            "Grad avg: 0.004948502406477928. Grad max: 1.8217357397079468\n",
            "Grad avg: 0.058569032698869705. Grad max: 6.532752990722656\n",
            "Target Loss: 0.02456478774547577. Target Accuracy: 0.988229513168335\n",
            "Grad avg: 18.227327346801758. Grad max: 3795.562744140625\n",
            "Grad avg: 0.5784354209899902. Grad max: 20.372398376464844\n",
            "Grad avg: 0.019181402400135994. Grad max: 4.731631278991699\n"
          ]
        },
        {
          "output_type": "error",
          "ename": "KeyboardInterrupt",
          "evalue": "ignored",
          "traceback": [
            "\u001b[0;31m---------------------------------------------------------------------------\u001b[0m",
            "\u001b[0;31mKeyboardInterrupt\u001b[0m                         Traceback (most recent call last)",
            "\u001b[0;32m<ipython-input-33-ddbe74dfa837>\u001b[0m in \u001b[0;36m<module>\u001b[0;34m()\u001b[0m\n\u001b[0;32m----> 1\u001b[0;31m \u001b[0mresults\u001b[0m \u001b[0;34m=\u001b[0m \u001b[0msize_acc_perform\u001b[0m\u001b[0;34m(\u001b[0m\u001b[0mtorch\u001b[0m\u001b[0;34m.\u001b[0m\u001b[0mTensor\u001b[0m\u001b[0;34m(\u001b[0m\u001b[0mX\u001b[0m\u001b[0;34m[\u001b[0m\u001b[0mtrain_idx\u001b[0m\u001b[0;34m]\u001b[0m\u001b[0;34m)\u001b[0m\u001b[0;34m,\u001b[0m \u001b[0mtorch\u001b[0m\u001b[0;34m.\u001b[0m\u001b[0mTensor\u001b[0m\u001b[0;34m(\u001b[0m\u001b[0mY\u001b[0m\u001b[0;34m[\u001b[0m\u001b[0mtrain_idx\u001b[0m\u001b[0;34m]\u001b[0m\u001b[0;34m)\u001b[0m\u001b[0;34m,\u001b[0m \u001b[0mtorch\u001b[0m\u001b[0;34m.\u001b[0m\u001b[0mTensor\u001b[0m\u001b[0;34m(\u001b[0m\u001b[0mX\u001b[0m\u001b[0;34m[\u001b[0m\u001b[0mtest_idx\u001b[0m\u001b[0;34m]\u001b[0m\u001b[0;34m)\u001b[0m\u001b[0;34m,\u001b[0m \u001b[0mtorch\u001b[0m\u001b[0;34m.\u001b[0m\u001b[0mTensor\u001b[0m\u001b[0;34m(\u001b[0m\u001b[0mY\u001b[0m\u001b[0;34m[\u001b[0m\u001b[0mtest_idx\u001b[0m\u001b[0;34m]\u001b[0m\u001b[0;34m)\u001b[0m\u001b[0;34m)\u001b[0m\u001b[0;34m\u001b[0m\u001b[0;34m\u001b[0m\u001b[0m\n\u001b[0m",
            "\u001b[0;32m<ipython-input-17-c064969ba3f2>\u001b[0m in \u001b[0;36msize_acc_perform\u001b[0;34m(X_s, y_s, X_t, y_t, n_folds)\u001b[0m\n\u001b[1;32m     31\u001b[0m \u001b[0;34m\u001b[0m\u001b[0m\n\u001b[1;32m     32\u001b[0m     \u001b[0;31m# Train RBA\u001b[0m\u001b[0;34m\u001b[0m\u001b[0;34m\u001b[0m\u001b[0;34m\u001b[0m\u001b[0m\n\u001b[0;32m---> 33\u001b[0;31m     \u001b[0mlrdr\u001b[0m \u001b[0;34m=\u001b[0m \u001b[0mget_lrdr_estimator\u001b[0m\u001b[0;34m(\u001b[0m\u001b[0msub_X_s\u001b[0m\u001b[0;34m,\u001b[0m \u001b[0mX_t\u001b[0m\u001b[0;34m)\u001b[0m\u001b[0;34m\u001b[0m\u001b[0;34m\u001b[0m\u001b[0m\n\u001b[0m\u001b[1;32m     34\u001b[0m     \u001b[0mr_st\u001b[0m \u001b[0;34m=\u001b[0m \u001b[0mlrdr\u001b[0m\u001b[0;34m(\u001b[0m\u001b[0msub_X_s\u001b[0m\u001b[0;34m)\u001b[0m\u001b[0;34m\u001b[0m\u001b[0;34m\u001b[0m\u001b[0m\n\u001b[1;32m     35\u001b[0m     \u001b[0mr_ts\u001b[0m \u001b[0;34m=\u001b[0m \u001b[0mtorch\u001b[0m\u001b[0;34m.\u001b[0m\u001b[0mones\u001b[0m\u001b[0;34m(\u001b[0m\u001b[0;34m(\u001b[0m\u001b[0mn_samples\u001b[0m\u001b[0;34m,\u001b[0m \u001b[0;36m1\u001b[0m\u001b[0;34m)\u001b[0m\u001b[0;34m)\u001b[0m\u001b[0;34m\u001b[0m\u001b[0;34m\u001b[0m\u001b[0m\n",
            "\u001b[0;32m<ipython-input-20-b433142398f0>\u001b[0m in \u001b[0;36mget_lrdr_estimator\u001b[0;34m(X_s, X_t, weight_decays)\u001b[0m\n\u001b[1;32m     36\u001b[0m     \u001b[0mlosses\u001b[0m \u001b[0;34m=\u001b[0m \u001b[0mtorch\u001b[0m\u001b[0;34m.\u001b[0m\u001b[0mzeros\u001b[0m\u001b[0;34m(\u001b[0m\u001b[0;34m(\u001b[0m\u001b[0mlen\u001b[0m\u001b[0;34m(\u001b[0m\u001b[0mweight_decays\u001b[0m\u001b[0;34m)\u001b[0m\u001b[0;34m,\u001b[0m \u001b[0;36m1\u001b[0m\u001b[0;34m)\u001b[0m\u001b[0;34m)\u001b[0m\u001b[0;34m\u001b[0m\u001b[0;34m\u001b[0m\u001b[0m\n\u001b[1;32m     37\u001b[0m     \u001b[0;32mfor\u001b[0m \u001b[0mi\u001b[0m\u001b[0;34m,\u001b[0m \u001b[0mlamb\u001b[0m \u001b[0;32min\u001b[0m \u001b[0menumerate\u001b[0m\u001b[0;34m(\u001b[0m\u001b[0mweight_decays\u001b[0m\u001b[0;34m)\u001b[0m\u001b[0;34m:\u001b[0m\u001b[0;34m\u001b[0m\u001b[0;34m\u001b[0m\u001b[0m\n\u001b[0;32m---> 38\u001b[0;31m         \u001b[0mmodel\u001b[0m \u001b[0;34m=\u001b[0m \u001b[0mrba_train\u001b[0m\u001b[0;34m(\u001b[0m\u001b[0mX_train\u001b[0m\u001b[0;34m,\u001b[0m \u001b[0my_train\u001b[0m\u001b[0;34m,\u001b[0m \u001b[0mones_train\u001b[0m\u001b[0;34m,\u001b[0m \u001b[0mones_train\u001b[0m\u001b[0;34m,\u001b[0m \u001b[0mmax_itr\u001b[0m\u001b[0;34m=\u001b[0m\u001b[0;36m4000\u001b[0m\u001b[0;34m,\u001b[0m \u001b[0mweight_decay\u001b[0m\u001b[0;34m=\u001b[0m\u001b[0mlamb\u001b[0m\u001b[0;34m,\u001b[0m \u001b[0mmin_grad\u001b[0m\u001b[0;34m=\u001b[0m\u001b[0;36m0.001\u001b[0m\u001b[0;34m)\u001b[0m\u001b[0;34m\u001b[0m\u001b[0;34m\u001b[0m\u001b[0m\n\u001b[0m\u001b[1;32m     39\u001b[0m         \u001b[0mloss\u001b[0m\u001b[0;34m,\u001b[0m \u001b[0mpred\u001b[0m\u001b[0;34m,\u001b[0m \u001b[0macc\u001b[0m \u001b[0;34m=\u001b[0m \u001b[0mlog_test\u001b[0m\u001b[0;34m(\u001b[0m\u001b[0mmodel\u001b[0m\u001b[0;34m,\u001b[0m \u001b[0mX_valid\u001b[0m\u001b[0;34m,\u001b[0m \u001b[0my_valid\u001b[0m\u001b[0;34m,\u001b[0m \u001b[0mones_valid\u001b[0m\u001b[0;34m)\u001b[0m\u001b[0;34m\u001b[0m\u001b[0;34m\u001b[0m\u001b[0m\n\u001b[1;32m     40\u001b[0m         \u001b[0mlosses\u001b[0m\u001b[0;34m[\u001b[0m\u001b[0mi\u001b[0m\u001b[0;34m]\u001b[0m \u001b[0;34m=\u001b[0m \u001b[0mloss\u001b[0m\u001b[0;34m\u001b[0m\u001b[0;34m\u001b[0m\u001b[0m\n",
            "\u001b[0;32m<ipython-input-7-b0f3b64afddf>\u001b[0m in \u001b[0;36mrba_train\u001b[0;34m(X_s, y_s, r_st, r_ts, max_itr, lr, weight_decay, min_grad)\u001b[0m\n\u001b[1;32m     34\u001b[0m         \u001b[0moutputs\u001b[0m \u001b[0;34m=\u001b[0m \u001b[0mmodel\u001b[0m\u001b[0;34m.\u001b[0m\u001b[0mforward\u001b[0m\u001b[0;34m(\u001b[0m\u001b[0mF\u001b[0m\u001b[0;34m,\u001b[0m \u001b[0mr_st\u001b[0m\u001b[0;34m)\u001b[0m\u001b[0;34m\u001b[0m\u001b[0;34m\u001b[0m\u001b[0m\n\u001b[1;32m     35\u001b[0m         \u001b[0moutputs\u001b[0m\u001b[0;34m.\u001b[0m\u001b[0mbackward\u001b[0m\u001b[0;34m(\u001b[0m\u001b[0my_s\u001b[0m\u001b[0;34m)\u001b[0m\u001b[0;34m\u001b[0m\u001b[0;34m\u001b[0m\u001b[0m\n\u001b[0;32m---> 36\u001b[0;31m         \u001b[0moptimizer\u001b[0m\u001b[0;34m.\u001b[0m\u001b[0mstep\u001b[0m\u001b[0;34m(\u001b[0m\u001b[0;34m)\u001b[0m\u001b[0;34m\u001b[0m\u001b[0;34m\u001b[0m\u001b[0m\n\u001b[0m\u001b[1;32m     37\u001b[0m \u001b[0;34m\u001b[0m\u001b[0m\n\u001b[1;32m     38\u001b[0m         \u001b[0mloss\u001b[0m \u001b[0;34m=\u001b[0m \u001b[0mloss_fn\u001b[0m\u001b[0;34m(\u001b[0m\u001b[0moutputs\u001b[0m\u001b[0;34m.\u001b[0m\u001b[0msqueeze\u001b[0m\u001b[0;34m(\u001b[0m\u001b[0;34m)\u001b[0m\u001b[0;34m,\u001b[0m \u001b[0my_s\u001b[0m\u001b[0;34m.\u001b[0m\u001b[0msqueeze\u001b[0m\u001b[0;34m(\u001b[0m\u001b[0;34m)\u001b[0m\u001b[0;34m)\u001b[0m\u001b[0;34m\u001b[0m\u001b[0;34m\u001b[0m\u001b[0m\n",
            "\u001b[0;32m/usr/local/lib/python3.7/dist-packages/torch/optim/optimizer.py\u001b[0m in \u001b[0;36mwrapper\u001b[0;34m(*args, **kwargs)\u001b[0m\n\u001b[1;32m     85\u001b[0m                 \u001b[0mobj\u001b[0m\u001b[0;34m,\u001b[0m \u001b[0;34m*\u001b[0m\u001b[0m_\u001b[0m \u001b[0;34m=\u001b[0m \u001b[0margs\u001b[0m\u001b[0;34m\u001b[0m\u001b[0;34m\u001b[0m\u001b[0m\n\u001b[1;32m     86\u001b[0m                 \u001b[0mprofile_name\u001b[0m \u001b[0;34m=\u001b[0m \u001b[0;34m\"Optimizer.step#{}.step\"\u001b[0m\u001b[0;34m.\u001b[0m\u001b[0mformat\u001b[0m\u001b[0;34m(\u001b[0m\u001b[0mobj\u001b[0m\u001b[0;34m.\u001b[0m\u001b[0m__class__\u001b[0m\u001b[0;34m.\u001b[0m\u001b[0m__name__\u001b[0m\u001b[0;34m)\u001b[0m\u001b[0;34m\u001b[0m\u001b[0;34m\u001b[0m\u001b[0m\n\u001b[0;32m---> 87\u001b[0;31m                 \u001b[0;32mwith\u001b[0m \u001b[0mtorch\u001b[0m\u001b[0;34m.\u001b[0m\u001b[0mautograd\u001b[0m\u001b[0;34m.\u001b[0m\u001b[0mprofiler\u001b[0m\u001b[0;34m.\u001b[0m\u001b[0mrecord_function\u001b[0m\u001b[0;34m(\u001b[0m\u001b[0mprofile_name\u001b[0m\u001b[0;34m)\u001b[0m\u001b[0;34m:\u001b[0m\u001b[0;34m\u001b[0m\u001b[0;34m\u001b[0m\u001b[0m\n\u001b[0m\u001b[1;32m     88\u001b[0m                     \u001b[0;32mreturn\u001b[0m \u001b[0mfunc\u001b[0m\u001b[0;34m(\u001b[0m\u001b[0;34m*\u001b[0m\u001b[0margs\u001b[0m\u001b[0;34m,\u001b[0m \u001b[0;34m**\u001b[0m\u001b[0mkwargs\u001b[0m\u001b[0;34m)\u001b[0m\u001b[0;34m\u001b[0m\u001b[0;34m\u001b[0m\u001b[0m\n\u001b[1;32m     89\u001b[0m             \u001b[0;32mreturn\u001b[0m \u001b[0mwrapper\u001b[0m\u001b[0;34m\u001b[0m\u001b[0;34m\u001b[0m\u001b[0m\n",
            "\u001b[0;32m/usr/local/lib/python3.7/dist-packages/torch/autograd/profiler.py\u001b[0m in \u001b[0;36m__enter__\u001b[0;34m(self)\u001b[0m\n\u001b[1;32m    432\u001b[0m         \u001b[0mself\u001b[0m\u001b[0;34m.\u001b[0m\u001b[0mhandle\u001b[0m\u001b[0;34m:\u001b[0m \u001b[0mtorch\u001b[0m\u001b[0;34m.\u001b[0m\u001b[0mTensor\u001b[0m \u001b[0;34m=\u001b[0m \u001b[0mtorch\u001b[0m\u001b[0;34m.\u001b[0m\u001b[0mzeros\u001b[0m\u001b[0;34m(\u001b[0m\u001b[0;36m1\u001b[0m\u001b[0;34m)\u001b[0m\u001b[0;34m\u001b[0m\u001b[0;34m\u001b[0m\u001b[0m\n\u001b[1;32m    433\u001b[0m \u001b[0;34m\u001b[0m\u001b[0m\n\u001b[0;32m--> 434\u001b[0;31m     \u001b[0;32mdef\u001b[0m \u001b[0m__enter__\u001b[0m\u001b[0;34m(\u001b[0m\u001b[0mself\u001b[0m\u001b[0;34m)\u001b[0m\u001b[0;34m:\u001b[0m\u001b[0;34m\u001b[0m\u001b[0;34m\u001b[0m\u001b[0m\n\u001b[0m\u001b[1;32m    435\u001b[0m         \u001b[0mself\u001b[0m\u001b[0;34m.\u001b[0m\u001b[0mhandle\u001b[0m \u001b[0;34m=\u001b[0m \u001b[0mtorch\u001b[0m\u001b[0;34m.\u001b[0m\u001b[0mops\u001b[0m\u001b[0;34m.\u001b[0m\u001b[0mprofiler\u001b[0m\u001b[0;34m.\u001b[0m\u001b[0m_record_function_enter\u001b[0m\u001b[0;34m(\u001b[0m\u001b[0mself\u001b[0m\u001b[0;34m.\u001b[0m\u001b[0mname\u001b[0m\u001b[0;34m)\u001b[0m\u001b[0;34m\u001b[0m\u001b[0;34m\u001b[0m\u001b[0m\n\u001b[1;32m    436\u001b[0m         \u001b[0;32mreturn\u001b[0m \u001b[0mself\u001b[0m\u001b[0;34m\u001b[0m\u001b[0;34m\u001b[0m\u001b[0m\n",
            "\u001b[0;31mKeyboardInterrupt\u001b[0m: "
          ]
        }
      ]
    },
    {
      "cell_type": "code",
      "source": [
        "log_result, rba_result = results"
      ],
      "metadata": {
        "id": "nhGF7KdFzWva"
      },
      "execution_count": null,
      "outputs": []
    },
    {
      "cell_type": "code",
      "source": [
        "iter = [i for i in range(1, len(log_result) + 1)]\n",
        "\n",
        "log_ece = [result['ece'] for result in log_result]\n",
        "log_prec = [result['precision'] for result in log_result]\n",
        "log_recall = [result['recall'] for result in log_result]\n",
        "log_f1 = [result['f1'] for result in log_result]\n",
        "\n",
        "rba_ece = [result['ece'] for result in rba_result]\n",
        "rba_prec = [result['precision'] for result in rba_result]\n",
        "rba_recall = [result['recall'] for result in rba_result]\n",
        "rba_f1 = [result['f1'] for result in rba_result]\n",
        "\n",
        "fig, ax = plt.subplots(4, 1)\n",
        "fig.tight_layout()\n",
        "\n",
        "ax[0].set_title('ECE')\n",
        "ax[0].plot(iter, log_ece, label='log')\n",
        "ax[0].plot(iter, rba_ece, label='rba')\n",
        "ax[0].legend(loc=\"upper right\")\n",
        "\n",
        "ax[1].set_title('Precision')\n",
        "ax[1].plot(iter, log_prec, label='log')\n",
        "ax[1].plot(iter, rba_prec, label='rba')\n",
        "\n",
        "ax[2].set_title('Recall')\n",
        "ax[2].plot(iter, log_recall, label='log')\n",
        "ax[2].plot(iter, rba_recall, label='rba')\n",
        "\n",
        "ax[3].set_title('F1 score')\n",
        "ax[3].plot(iter, log_f1, label='log')\n",
        "ax[3].plot(iter, rba_f1, label='rba')\n",
        "ax[3].set_xlabel('K folds of training data')"
      ],
      "metadata": {
        "id": "Xiw3WA9lzjJw"
      },
      "execution_count": null,
      "outputs": []
    },
    {
      "cell_type": "markdown",
      "metadata": {
        "id": "uCTEoK38bAHD"
      },
      "source": [
        "### Covariate shift determined by PCA gaussian sampling"
      ]
    },
    {
      "cell_type": "markdown",
      "metadata": {
        "id": "ajZKVLCKbAHK"
      },
      "source": [
        "For this experiment, I apply PCA on combined train / test set. "
      ]
    },
    {
      "cell_type": "code",
      "execution_count": null,
      "metadata": {
        "id": "UTkrflfjbAHK"
      },
      "outputs": [],
      "source": [
        "from sklearn import decomposition\n",
        "from sklearn.neighbors import NearestNeighbors\n",
        "\n",
        "train_X_flattened = torch.flatten(torch.Tensor(train_X), start_dim=1)\n",
        "test_X_flattened = torch.flatten(torch.Tensor(test_X), start_dim=1)\n",
        "\n",
        "X = np.concatenate((train_X_flattened, test_X_flattened), axis=0)\n",
        "Y = np.concatenate((train_Y, test_Y))\n",
        "\n",
        "pca = decomposition.PCA()\n",
        "pca.n_components = 2\n",
        "pca_X = pca.fit_transform(X)"
      ]
    },
    {
      "cell_type": "code",
      "source": [
        "from scipy.stats import multivariate_normal\n",
        "\n",
        "mvn_s = multivariate_normal(mean = [-1.25, 0], cov = [[1, -0.4], [-0.4, 1]] )\n",
        "mvn_v = multivariate_normal(mean = [-0.3, 0.5], cov = [[2, 1], [1, 2]])"
      ],
      "metadata": {
        "id": "FDzkyLusvewa"
      },
      "execution_count": null,
      "outputs": []
    },
    {
      "cell_type": "code",
      "source": [
        "n = 1000\n",
        "gauss_pca_train = mvn_s.rvs(n)\n",
        "gauss_pca_test = mvn_v.rvs(n)"
      ],
      "metadata": {
        "id": "9-Q1Fv5qxPyY"
      },
      "execution_count": null,
      "outputs": []
    },
    {
      "cell_type": "code",
      "source": [
        "assert gauss_pca_train.shape[1] == pca_X.shape[1]"
      ],
      "metadata": {
        "id": "jFWa5au4x6qI"
      },
      "execution_count": null,
      "outputs": []
    },
    {
      "cell_type": "code",
      "source": [
        "nbrs = NearestNeighbors(n_neighbors=1, algorithm='ball_tree').fit(pca_X)"
      ],
      "metadata": {
        "id": "iB9Xg3wvxZnr"
      },
      "execution_count": null,
      "outputs": []
    },
    {
      "cell_type": "code",
      "source": [
        "distances, train_indices = nbrs.kneighbors(gauss_pca_train)\n",
        "train_indices = train_indices.reshape(-1)\n",
        "train_indices = np.unique(train_indices)\n",
        "print(len(train_indices))"
      ],
      "metadata": {
        "colab": {
          "base_uri": "https://localhost:8080/"
        },
        "id": "VgrsH8OcxmC6",
        "outputId": "8187297c-79d5-463b-cf24-9c23f3f1eb98"
      },
      "execution_count": null,
      "outputs": [
        {
          "output_type": "stream",
          "name": "stdout",
          "text": [
            "873\n"
          ]
        }
      ]
    },
    {
      "cell_type": "code",
      "source": [
        "distances, test_indices = nbrs.kneighbors(gauss_pca_test)\n",
        "test_indices = test_indices.reshape(-1)\n",
        "print(len(test_indices))\n",
        "\n",
        "# remove indices that intersect!\n",
        "test_indices = np.setdiff1d(test_indices, np.intersect1d(train_indices, test_indices))\n",
        "print(len(test_indices))"
      ],
      "metadata": {
        "colab": {
          "base_uri": "https://localhost:8080/"
        },
        "id": "_KY7gXBryKXY",
        "outputId": "4e1e5aae-cc34-4013-8f5e-1c47ef99d3da"
      },
      "execution_count": null,
      "outputs": [
        {
          "output_type": "stream",
          "name": "stdout",
          "text": [
            "1000\n",
            "848\n"
          ]
        }
      ]
    },
    {
      "cell_type": "code",
      "execution_count": null,
      "metadata": {
        "id": "6YpxQrXabAHK"
      },
      "outputs": [],
      "source": [
        "X_pca_train = pca_X[train_indices]\n",
        "Y_pca_train = Y[train_indices].flatten()\n",
        "\n",
        "X_pca_train_1 = X_pca_train[(Y_pca_train == 1)]\n",
        "X_pca_train_2 = X_pca_train[Y_pca_train == 0]\n",
        "\n",
        "X_pca_test = pca_X[test_indices]\n",
        "Y_pca_test = Y[test_indices].flatten()\n",
        "\n",
        "X_pca_test_1 = X_pca_test[Y_pca_test == 1]\n",
        "X_pca_test_2 = X_pca_test[Y_pca_test == 0]"
      ]
    },
    {
      "cell_type": "code",
      "execution_count": null,
      "metadata": {
        "colab": {
          "base_uri": "https://localhost:8080/",
          "height": 284
        },
        "outputId": "0815c8b3-438c-495b-aa6f-fb3618bf9cde",
        "id": "PIDQbnVGbAHL"
      },
      "outputs": [
        {
          "output_type": "execute_result",
          "data": {
            "text/plain": [
              "<matplotlib.legend.Legend at 0x7fbb26af8250>"
            ]
          },
          "metadata": {},
          "execution_count": 186
        },
        {
          "output_type": "display_data",
          "data": {
            "text/plain": [
              "<Figure size 432x288 with 1 Axes>"
            ],
            "image/png": "[encoded data removed]"
          },
          "metadata": {
            "needs_background": "light"
          }
        }
      ],
      "source": [
        "plt.scatter(X_pca_train_1[:, 0], X_pca_train_1[:, 1], color=\"#8B0000\", label='train +')\n",
        "plt.scatter(X_pca_train_2[:, 0], X_pca_train_2[:, 1], color=\"#ffc6c4\", label='train -')\n",
        "plt.scatter(X_pca_test_1[:, 0], X_pca_test_1[:, 1], color=\"#006400\", label='test +')\n",
        "plt.scatter(X_pca_test_2[:, 0], X_pca_test_2[:, 1], color=\"#90EE90\", label='test - ')\n",
        "plt.legend()"
      ]
    },
    {
      "cell_type": "code",
      "source": [
        "train_X = torch.Tensor(X[train_indices])\n",
        "train_Y = torch.Tensor(Y[train_indices])\n",
        "test_X = torch.Tensor(X[test_indices])\n",
        "test_Y = torch.Tensor(Y[test_indices])\n",
        "\n",
        "f\"Training size: {len(train_X)}. Test size: {len(test_X)}\""
      ],
      "metadata": {
        "colab": {
          "base_uri": "https://localhost:8080/",
          "height": 35
        },
        "id": "jBPCS5Un59Ie",
        "outputId": "d88a7783-359e-418e-ddae-d3da1c4138e1"
      },
      "execution_count": null,
      "outputs": [
        {
          "output_type": "execute_result",
          "data": {
            "text/plain": [
              "'Training size: 873. Test size: 848'"
            ],
            "application/vnd.google.colaboratory.intrinsic+json": {
              "type": "string"
            }
          },
          "metadata": {},
          "execution_count": 187
        }
      ]
    },
    {
      "cell_type": "code",
      "source": [
        "n_train_pos = int(sum(train_Y).item())\n",
        "print(f\"Train Positive: {n_train_pos} Train negative: {len(train_X) - n_train_pos}\")"
      ],
      "metadata": {
        "colab": {
          "base_uri": "https://localhost:8080/"
        },
        "id": "c9B2c0ntCBIF",
        "outputId": "e4440b4d-b5d1-4902-f62a-47e8202519c7"
      },
      "execution_count": null,
      "outputs": [
        {
          "output_type": "stream",
          "name": "stdout",
          "text": [
            "Train Positive: 438 Train negative: 435\n"
          ]
        }
      ]
    },
    {
      "cell_type": "code",
      "source": [
        "n_test_pos = int(sum(test_Y).item())\n",
        "print(f\"Test Positive: {n_test_pos} Test negative: {len(test_X) - n_test_pos}\")"
      ],
      "metadata": {
        "colab": {
          "base_uri": "https://localhost:8080/"
        },
        "id": "tbCRXiBOB4cX",
        "outputId": "845a3ee5-9b0d-466e-e7c0-7347e6511e08"
      },
      "execution_count": null,
      "outputs": [
        {
          "output_type": "stream",
          "name": "stdout",
          "text": [
            "Test Positive: 433 Test negative: 415\n"
          ]
        }
      ]
    },
    {
      "cell_type": "markdown",
      "source": [
        "#### LOG"
      ],
      "metadata": {
        "id": "zUAYwETO4Enw"
      }
    },
    {
      "cell_type": "code",
      "execution_count": null,
      "metadata": {
        "colab": {
          "base_uri": "https://localhost:8080/"
        },
        "outputId": "5a97c060-ab90-487b-fd6a-80595ff58d43",
        "id": "aZ7ZHXsEbAHM"
      },
      "outputs": [
        {
          "output_type": "stream",
          "name": "stdout",
          "text": [
            "Grad avg: 0.5116952657699585. Grad max: 70.86502075195312\n",
            "Grad avg: 0.0050504328683018684. Grad max: 2.795034170150757\n",
            "Grad avg: 0.001287404098547995. Grad max: 1.0493332147598267\n",
            "Grad avg: 0.0005861446261405945. Grad max: 0.6274591684341431\n"
          ]
        }
      ],
      "source": [
        "from os.path import exists\n",
        "\n",
        "r_st = torch.ones(train_Y.shape)\n",
        "model = rba_train(train_X, train_Y, r_st, r_st, lr = 0.002, max_itr=8000)"
      ]
    },
    {
      "cell_type": "code",
      "execution_count": null,
      "metadata": {
        "colab": {
          "base_uri": "https://localhost:8080/",
          "height": 332
        },
        "outputId": "61c1e057-cbf5-4965-9c19-fcbac79a5890",
        "id": "uSjaFaJ4bAHM"
      },
      "outputs": [
        {
          "output_type": "stream",
          "name": "stdout",
          "text": [
            "Target Loss: 1.058683156967163. Target Accuracy: 0.7995283007621765\n"
          ]
        },
        {
          "output_type": "display_data",
          "data": {
            "text/plain": [
              "<Figure size 432x288 with 9 Axes>"
            ],
            "image/png": "[encoded data removed]"
          },
          "metadata": {
            "needs_background": "light"
          }
        }
      ],
      "source": [
        "loss, outputs, acc = log_test(model, test_X, test_Y, torch.ones(test_Y.shape))\n",
        "\n",
        "plot_test_samples(test_X, test_Y, outputs)"
      ]
    },
    {
      "cell_type": "code",
      "source": [
        "loss, outputs, acc = log_test(model, test_X, test_Y, torch.ones(test_Y.shape))\n",
        "\n",
        "plot_test_uncertain_samples(test_X, test_Y, outputs)"
      ],
      "metadata": {
        "colab": {
          "base_uri": "https://localhost:8080/",
          "height": 341
        },
        "id": "supiOLq-5wOh",
        "outputId": "904c63a6-11df-4a1e-850b-602b1a815a14"
      },
      "execution_count": null,
      "outputs": [
        {
          "output_type": "stream",
          "name": "stdout",
          "text": [
            "Target Loss: 1.058683156967163. Target Accuracy: 0.7995283007621765\n"
          ]
        },
        {
          "output_type": "display_data",
          "data": {
            "text/plain": [
              "<Figure size 432x288 with 16 Axes>"
            ],
            "image/png": "[encoded data removed]"
          },
          "metadata": {}
        }
      ]
    },
    {
      "cell_type": "code",
      "source": [
        "plot_test_certain_samples(test_X, test_Y, outputs)"
      ],
      "metadata": {
        "colab": {
          "base_uri": "https://localhost:8080/",
          "height": 323
        },
        "id": "EtzP6aVY_9se",
        "outputId": "0ed757f4-1f5d-4694-acd3-c9b15f440eb0"
      },
      "execution_count": null,
      "outputs": [
        {
          "output_type": "display_data",
          "data": {
            "text/plain": [
              "<Figure size 432x288 with 16 Axes>"
            ],
            "image/png": "[encoded data removed]"
          },
          "metadata": {}
        }
      ]
    },
    {
      "cell_type": "markdown",
      "source": [
        "#### RBA"
      ],
      "metadata": {
        "id": "L8b0Hepc99Ph"
      }
    },
    {
      "cell_type": "code",
      "execution_count": null,
      "metadata": {
        "colab": {
          "base_uri": "https://localhost:8080/"
        },
        "outputId": "4d2f6de5-73ea-4fec-910c-be52b8ed8d88",
        "id": "FKYuqHk597oA"
      },
      "outputs": [
        {
          "output_type": "stream",
          "name": "stdout",
          "text": [
            "Grad avg: 0.31255125999450684. Grad max: 9.407883644104004\n",
            "Grad avg: 0.000819435459561646. Grad max: 0.7478271126747131\n",
            "Target Loss: 1.6935104131698608. Target Accuracy: 0.6767441630363464\n",
            "Grad avg: 0.827908456325531. Grad max: 228.70289611816406\n",
            "Grad avg: 0.003612640779465437. Grad max: 1.3926739692687988\n",
            "Grad avg: 0.0023296999279409647. Grad max: 0.5375396609306335\n",
            "Grad avg: 0.0017636024858802557. Grad max: 0.37737295031547546\n",
            "Grad avg: 0.0016068137483671308. Grad max: 0.26791319251060486\n",
            "Target Loss: 1.5433619022369385. Target Accuracy: 0.6767441630363464\n",
            "Grad avg: 0.645547091960907. Grad max: 99.37957000732422\n",
            "Grad avg: 0.00938104186207056. Grad max: 1.5628405809402466\n",
            "Grad avg: 0.006777825765311718. Grad max: 0.8686453104019165\n",
            "Grad avg: 0.0065328520722687244. Grad max: 0.6562654972076416\n",
            "Grad avg: 0.006447929888963699. Grad max: 0.5261934399604797\n",
            "Target Loss: 1.205336332321167. Target Accuracy: 0.6930232644081116\n",
            "Grad avg: 0.3828015923500061. Grad max: 81.15248107910156\n",
            "Grad avg: 0.013685565441846848. Grad max: 1.6019506454467773\n",
            "Grad avg: 0.012601343914866447. Grad max: 1.0028125047683716\n",
            "Grad avg: 0.012074164114892483. Grad max: 0.7887754440307617\n",
            "Grad avg: 0.01167864166200161. Grad max: 0.6620352864265442\n",
            "Target Loss: 1.2451444864273071. Target Accuracy: 0.6744186282157898\n",
            "Grad avg: 0.6937263607978821. Grad max: 104.69202423095703\n",
            "Grad avg: 0.0016311875078827143. Grad max: 1.1699320077896118\n",
            "Target Loss: 0.0021144519560039043. Target Accuracy: 1.0\n"
          ]
        }
      ],
      "source": [
        "lrdr = get_lrdr_estimator(train_X, test_X)\n",
        "r_st = lrdr(train_X)"
      ]
    },
    {
      "cell_type": "code",
      "execution_count": null,
      "metadata": {
        "colab": {
          "base_uri": "https://localhost:8080/"
        },
        "outputId": "7381eb42-c766-4700-db2e-6d1572c08be7",
        "id": "f_7zzAoC97oA"
      },
      "outputs": [
        {
          "output_type": "stream",
          "name": "stdout",
          "text": [
            "Grad avg: 1.6515681743621826. Grad max: 437.72882080078125\n",
            "Grad avg: 0.0011374525493010879. Grad max: 0.5087697505950928\n",
            "Grad avg: 0.0013362953905016184. Grad max: 0.31862545013427734\n",
            "Grad avg: 0.0004426224040798843. Grad max: 0.12796801328659058\n"
          ]
        }
      ],
      "source": [
        "rba_model = rba_train(train_X, train_Y, r_st, torch.ones(train_Y.shape), lr = 0.002, max_itr=10000, weight_decay=0.001)"
      ]
    },
    {
      "cell_type": "code",
      "execution_count": null,
      "metadata": {
        "colab": {
          "base_uri": "https://localhost:8080/",
          "height": 351
        },
        "outputId": "c463f8a2-c666-4f5c-fde7-aaf4efb2c242",
        "id": "wpQ_0ukV97oA"
      },
      "outputs": [
        {
          "output_type": "stream",
          "name": "stdout",
          "text": [
            "Target Loss: 8.729255676269531. Target Accuracy: 0.0\n",
            "Target Loss: 0.6929767727851868. Target Accuracy: 0.8160377144813538\n"
          ]
        },
        {
          "output_type": "display_data",
          "data": {
            "text/plain": [
              "<Figure size 432x288 with 25 Axes>"
            ],
            "image/png": "[encoded data removed]"
          },
          "metadata": {
            "needs_background": "light"
          }
        }
      ],
      "source": [
        "r_st = lrdr(test_X)\n",
        "loss, outputs, acc = log_test(rba_model, test_X, test_Y, r_st)\n",
        "\n",
        "plot_test_samples(test_X, test_Y, outputs)"
      ]
    },
    {
      "cell_type": "code",
      "source": [
        "plot_test_uncertain_samples(test_X, test_Y, outputs)"
      ],
      "metadata": {
        "colab": {
          "base_uri": "https://localhost:8080/",
          "height": 323
        },
        "id": "oVRkVdcm-R4c",
        "outputId": "6f495757-53fe-476e-8fc3-a5e67264e3dd"
      },
      "execution_count": null,
      "outputs": [
        {
          "output_type": "display_data",
          "data": {
            "text/plain": [
              "<Figure size 432x288 with 16 Axes>"
            ],
            "image/png": "[encoded data removed]"
          },
          "metadata": {}
        }
      ]
    },
    {
      "cell_type": "code",
      "source": [
        "plot_test_certain_samples(test_X, test_Y, outputs)"
      ],
      "metadata": {
        "colab": {
          "base_uri": "https://localhost:8080/",
          "height": 323
        },
        "id": "F_EGfjzE-ZyT",
        "outputId": "d4f5daac-9644-42b2-b3dd-910c4e63b8e7"
      },
      "execution_count": null,
      "outputs": [
        {
          "output_type": "display_data",
          "data": {
            "text/plain": [
              "<Figure size 432x288 with 16 Axes>"
            ],
            "image/png": "[encoded data removed]"
          },
          "metadata": {}
        }
      ]
    },
    {
      "cell_type": "markdown",
      "metadata": {
        "id": "_0FgYgyPOifl"
      },
      "source": [
        "### Covariate shift different ratios of numbers within test vs train"
      ]
    },
    {
      "cell_type": "code",
      "execution_count": null,
      "metadata": {
        "id": "5LRfkyADi1d6",
        "colab": {
          "base_uri": "https://localhost:8080/"
        },
        "outputId": "88a538be-1738-4d69-db25-ecef23f2720d"
      },
      "outputs": [
        {
          "output_type": "stream",
          "name": "stdout",
          "text": [
            "Ratio of 3:8 = 1.0369609856262834. Ratio of 1:7 = 1.1040856031128405\n"
          ]
        }
      ],
      "source": [
        "n = 1000 # TODO: n = 10, 20, 30? Make sure accuracy decreases\n",
        "test_data_3 = (mnist_testset.data[(mnist_testset.targets == 3)])\n",
        "test_data_8 = mnist_testset.data[(mnist_testset.targets == 8)]\n",
        "\n",
        "test_data_38 = np.concatenate((test_data_3, test_data_8), dtype = float)\n",
        "test_data_38_labels = np.concatenate((np.ones((len(test_data_3), 1)) * 3, (np.ones((len(test_data_8), 1)) * 8)))\n",
        "\n",
        "test_data_1 = mnist_testset.data[(mnist_testset.targets == 1)] \n",
        "test_data_7 = mnist_testset.data[(mnist_testset.targets == 7)]\n",
        "\n",
        "test_data_17 = np.concatenate((test_data_1, test_data_7), dtype = float)\n",
        "test_data_17_labels = np.concatenate((np.ones((len(test_data_1), 1)) * 1, (np.ones((len(test_data_7), 1)) * 7)))\n",
        "\n",
        "curlyRatio = len(test_data_3) / len(test_data_8)\n",
        "straightRatio = len(test_data_1) / len(test_data_7)\n",
        "\n",
        "print(f\"Ratio of 3:8 = {curlyRatio}. Ratio of 1:7 = {straightRatio}\")\n",
        "\n",
        "test_X = np.concatenate((test_data_38, test_data_17), dtype = float)\n",
        "test_X /= 255.0\n",
        "test_Y_detailed = np.concatenate((test_data_38_labels, test_data_17_labels))\n",
        "\n",
        "test_X, test_Y_detailed = unison_shuffled_copies(test_X, test_Y_detailed)\n",
        "test_Y = np.where(np.logical_or(test_Y_detailed == 3, test_Y_detailed == 8), 1, 0)\n",
        "\n",
        "test_X = test_X[:n]\n",
        "test_Y = test_Y[:n]\n",
        "test_Y_detailed = test_Y_detailed[:n]"
      ]
    },
    {
      "cell_type": "code",
      "source": [
        "# sanity check\n",
        "i = 999\n",
        "plt.imshow(test_X[i])\n",
        "plt.title(f\"Digit: {test_Y_detailed[i][0]}\")"
      ],
      "metadata": {
        "colab": {
          "base_uri": "https://localhost:8080/",
          "height": 299
        },
        "id": "-ynx3AfaOWOU",
        "outputId": "905fe182-6a1e-4575-a488-f098069133cd"
      },
      "execution_count": null,
      "outputs": [
        {
          "output_type": "execute_result",
          "data": {
            "text/plain": [
              "Text(0.5, 1.0, 'Digit: 3.0')"
            ]
          },
          "metadata": {},
          "execution_count": 200
        },
        {
          "output_type": "display_data",
          "data": {
            "text/plain": [
              "<Figure size 432x288 with 1 Axes>"
            ],
            "image/png": "[encoded data removed]"
          },
          "metadata": {
            "needs_background": "light"
          }
        }
      ]
    },
    {
      "cell_type": "code",
      "source": [
        "n_test_pos = int(sum(test_Y).item())\n",
        "print(f\"Test Positive: {n_test_pos} Test negative: {n - n_test_pos}\")"
      ],
      "metadata": {
        "colab": {
          "base_uri": "https://localhost:8080/"
        },
        "id": "Z_CaUXNKMhdu",
        "outputId": "5a537738-325b-4be6-ae1e-df63b6efb8c6"
      },
      "execution_count": null,
      "outputs": [
        {
          "output_type": "stream",
          "name": "stdout",
          "text": [
            "Test Positive: 460 Test negative: 540\n"
          ]
        }
      ]
    },
    {
      "cell_type": "code",
      "execution_count": null,
      "metadata": {
        "id": "DkDETEbPOo-t",
        "colab": {
          "base_uri": "https://localhost:8080/"
        },
        "outputId": "253d9627-a462-4ab7-b7b1-b2cc1d26119c"
      },
      "outputs": [
        {
          "output_type": "stream",
          "name": "stdout",
          "text": [
            "Ratio of 3:8 = 0.01042556827892668. Ratio of 1:7 = 108.74193548387096\n"
          ]
        }
      ],
      "source": [
        "train_data_3 = (mnist_trainset.data[(mnist_trainset.targets == 3)])\n",
        "train_data_3 = train_data_3[:int(0.01 * len(train_data_3))]\n",
        "\n",
        "train_data_8 = mnist_trainset.data[(mnist_trainset.targets == 8)]\n",
        "\n",
        "train_data_38 = np.concatenate((train_data_3, train_data_8), dtype = float)\n",
        "train_data_38_labels = np.ones((len(train_data_38), 1))\n",
        "\n",
        "train_data_1 = mnist_trainset.data[(mnist_trainset.targets == 1)] \n",
        "train_data_7 = mnist_trainset.data[(mnist_trainset.targets == 7)]\n",
        "train_data_7 = train_data_7[:int(0.01 * len(train_data_7))]\n",
        "\n",
        "train_data_17 = np.concatenate((train_data_1, train_data_7), dtype = float)\n",
        "train_data_17_labels = np.zeros((len(train_data_17), 1))\n",
        "\n",
        "curlyRatio = len(train_data_3) / len(train_data_8)\n",
        "straightRatio = len(train_data_1) / len(train_data_7)\n",
        "\n",
        "print(f\"Ratio of 3:8 = {curlyRatio}. Ratio of 1:7 = {straightRatio}\")\n",
        "\n",
        "train_X = np.concatenate((train_data_38, train_data_17), dtype = float)\n",
        "train_X /= 255.0\n",
        "train_Y = np.concatenate((train_data_38_labels, train_data_17_labels))\n",
        "\n",
        "train_X, train_Y = unison_shuffled_copies(train_X, train_Y)\n",
        "train_X = train_X[:n]\n",
        "train_Y = train_Y[:n]"
      ]
    },
    {
      "cell_type": "code",
      "source": [
        "n_train_pos = int(sum(train_Y).item())\n",
        "print(f\"Train Positive: {n_train_pos} Train negative: {n - n_train_pos}\")"
      ],
      "metadata": {
        "id": "Gty3neHwO36p",
        "outputId": "30a217f5-50ff-4766-feed-32db257d18ee",
        "colab": {
          "base_uri": "https://localhost:8080/"
        }
      },
      "execution_count": null,
      "outputs": [
        {
          "output_type": "stream",
          "name": "stdout",
          "text": [
            "Train Positive: 462 Train negative: 538\n"
          ]
        }
      ]
    },
    {
      "cell_type": "code",
      "execution_count": null,
      "metadata": {
        "id": "qXcH8kAGi99u"
      },
      "outputs": [],
      "source": [
        "train_X_flattened = torch.flatten(torch.Tensor(train_X), start_dim=1)\n",
        "test_X_flattened = torch.flatten(torch.Tensor(test_X), start_dim=1)\n",
        "train_Y = torch.FloatTensor(train_Y)\n",
        "test_Y = torch.FloatTensor(test_Y)"
      ]
    },
    {
      "cell_type": "code",
      "execution_count": null,
      "metadata": {
        "id": "EAS01e3EiEFK",
        "colab": {
          "base_uri": "https://localhost:8080/",
          "height": 284
        },
        "outputId": "ec057ffe-9de1-4e3a-f4fd-30c680989926"
      },
      "outputs": [
        {
          "output_type": "execute_result",
          "data": {
            "text/plain": [
              "<matplotlib.legend.Legend at 0x7fbb11575ed0>"
            ]
          },
          "metadata": {},
          "execution_count": 205
        },
        {
          "output_type": "display_data",
          "data": {
            "text/plain": [
              "<Figure size 432x288 with 1 Axes>"
            ],
            "image/png": "[encoded data removed]"
          },
          "metadata": {
            "needs_background": "light"
          }
        }
      ],
      "source": [
        "from sklearn import decomposition\n",
        "pca = decomposition.PCA()\n",
        "pca.n_components = 2\n",
        "X = np.concatenate((train_X_flattened, test_X_flattened))\n",
        "\n",
        "n_train = len(train_X_flattened)\n",
        "n_test = len(test_X_flattened)\n",
        "\n",
        "Y = np.concatenate((train_Y, test_Y))\n",
        "pca_X = pca.fit_transform(X)\n",
        "X_pca_train = pca_X[:n_train]\n",
        "Y_pca_train = Y[:n_train].flatten()\n",
        "\n",
        "X_pca_train_1 = X_pca_train[(Y_pca_train == 1)]\n",
        "X_pca_train_2 = X_pca_train[Y_pca_train == 0]\n",
        "\n",
        "X_pca_test = pca_X[n_train:]\n",
        "Y_pca_test = Y[n_train:].flatten()\n",
        "\n",
        "X_pca_test_1 = X_pca_test[Y_pca_test == 1]\n",
        "X_pca_test_2 = X_pca_test[Y_pca_test == 0]\n",
        "plt.scatter(X_pca_train_1[:, 0], X_pca_train_1[:, 1], color=\"#8B0000\", label='train +')\n",
        "plt.scatter(X_pca_train_2[:, 0], X_pca_train_2[:, 1], color=\"#ffc6c4\", label='train -')\n",
        "plt.scatter(X_pca_test_1[:, 0], X_pca_test_1[:, 1], color=\"#006400\", label='test +')\n",
        "plt.scatter(X_pca_test_2[:, 0], X_pca_test_2[:, 1], color=\"#90EE90\", label='test - ')\n",
        "plt.legend()"
      ]
    },
    {
      "cell_type": "code",
      "execution_count": null,
      "metadata": {
        "id": "m3L4f4Qe5Acp",
        "colab": {
          "base_uri": "https://localhost:8080/",
          "height": 315
        },
        "outputId": "15cf2988-83c5-4a23-e525-92b926ef8124"
      },
      "outputs": [
        {
          "output_type": "stream",
          "name": "stdout",
          "text": [
            "4 4\n"
          ]
        },
        {
          "output_type": "display_data",
          "data": {
            "text/plain": [
              "<Figure size 432x288 with 16 Axes>"
            ],
            "image/png": "[encoded data removed]"
          },
          "metadata": {
            "needs_background": "light"
          }
        }
      ],
      "source": [
        "plot_train_samples(train_X, train_Y)"
      ]
    },
    {
      "cell_type": "code",
      "execution_count": null,
      "metadata": {
        "id": "NllSEbi6ALDe",
        "colab": {
          "base_uri": "https://localhost:8080/",
          "height": 315
        },
        "outputId": "35f8117a-ef6f-411b-986f-4e9fbb66e0ca"
      },
      "outputs": [
        {
          "output_type": "stream",
          "name": "stdout",
          "text": [
            "4 4\n"
          ]
        },
        {
          "output_type": "display_data",
          "data": {
            "text/plain": [
              "<Figure size 432x288 with 16 Axes>"
            ],
            "image/png": "[encoded data removed]"
          },
          "metadata": {
            "needs_background": "light"
          }
        }
      ],
      "source": [
        "plot_train_samples(test_X, test_Y)"
      ]
    },
    {
      "cell_type": "markdown",
      "metadata": {
        "id": "IKOIp1zriR71"
      },
      "source": [
        "#### LOG"
      ]
    },
    {
      "cell_type": "code",
      "execution_count": null,
      "metadata": {
        "id": "HlZlJDyyiOB4",
        "colab": {
          "base_uri": "https://localhost:8080/"
        },
        "outputId": "81da9dd9-a7bd-4b0f-d548-c191aa670250"
      },
      "outputs": [
        {
          "output_type": "stream",
          "name": "stdout",
          "text": [
            "Grad avg: 0.9291321635246277. Grad max: 63.70247268676758\n",
            "Grad avg: 0.004280338529497385. Grad max: 2.423997640609741\n",
            "Grad avg: 0.0011172326048836112. Grad max: 1.2872166633605957\n",
            "Grad avg: 0.0005424692644737661. Grad max: 1.0625553131103516\n"
          ]
        }
      ],
      "source": [
        "from os.path import exists\n",
        "\n",
        "r_st = torch.ones(train_Y.shape)\n",
        "\n",
        "model = rba_train(train_X_flattened, train_Y, r_st, r_st, lr = 0.002, max_itr=10000)"
      ]
    },
    {
      "cell_type": "code",
      "execution_count": null,
      "metadata": {
        "id": "avoqmrLDjf0u",
        "colab": {
          "base_uri": "https://localhost:8080/",
          "height": 341
        },
        "outputId": "55361a41-1aee-445d-9d24-5a9bb0fbf690"
      },
      "outputs": [
        {
          "output_type": "stream",
          "name": "stdout",
          "text": [
            "Target Loss: 1.0913574695587158. Target Accuracy: 0.7829999923706055\n"
          ]
        },
        {
          "output_type": "display_data",
          "data": {
            "text/plain": [
              "<Figure size 432x288 with 16 Axes>"
            ],
            "image/png": "[encoded data removed]"
          },
          "metadata": {}
        }
      ],
      "source": [
        "loss, outputs, acc = log_test(model, test_X_flattened, test_Y, torch.ones(test_Y.shape))\n",
        "pred_y_pairs = np.concatenate((outputs.detach().numpy(), test_Y), axis=1)\n",
        "\n",
        "plot_test_uncertain_samples(test_X, test_Y, outputs)"
      ]
    },
    {
      "cell_type": "code",
      "source": [
        "plot_test_certain_samples(test_X, test_Y, outputs)"
      ],
      "metadata": {
        "colab": {
          "base_uri": "https://localhost:8080/",
          "height": 323
        },
        "id": "mEK-vR8_KpbS",
        "outputId": "09260bd4-2934-4090-a7d3-2c5b52f76c0b"
      },
      "execution_count": null,
      "outputs": [
        {
          "output_type": "display_data",
          "data": {
            "text/plain": [
              "<Figure size 432x288 with 16 Axes>"
            ],
            "image/png": "[encoded data removed]"
          },
          "metadata": {}
        }
      ]
    },
    {
      "cell_type": "code",
      "source": [
        "import seaborn as sns\n",
        "import pandas as pd\n",
        "\n",
        "ones = outputs[test_Y_detailed == 1].unsqueeze(1).detach().numpy()\n",
        "ones = np.concatenate((ones, np.ones(ones.shape)), axis = 1)\n",
        "\n",
        "threes = outputs[test_Y_detailed == 3].unsqueeze(1).detach().numpy()\n",
        "threes = np.concatenate((threes, np.ones(threes.shape) * 3), axis = 1)\n",
        "\n",
        "sevens = outputs[test_Y_detailed == 7].unsqueeze(1).detach().numpy()\n",
        "sevens = np.concatenate((sevens, np.ones(sevens.shape) * 7), axis = 1)\n",
        "\n",
        "eights = outputs[test_Y_detailed == 8].unsqueeze(1).detach().numpy()\n",
        "eights = np.concatenate((eights, np.ones(eights.shape) * 8), axis = 1)\n",
        "\n",
        "all_digits = np.concatenate((ones, threes, sevens, eights), axis = 0)\n",
        "\n",
        "df = pd.DataFrame(all_digits, columns = ['Prob', 'Digit'])\n",
        "ax = sns.violinplot(x=\"Digit\", y=\"Prob\", data=df,\n",
        "                    inner=None, color=\".8\")\n",
        "ax = sns.stripplot(x=\"Digit\", y=\"Prob\", data=df, jitter = 0.4)"
      ],
      "metadata": {
        "colab": {
          "base_uri": "https://localhost:8080/",
          "height": 279
        },
        "id": "30k8Xtj8PMZc",
        "outputId": "44f38d44-b3f8-4c5a-d0d4-4233319a4ac0"
      },
      "execution_count": null,
      "outputs": [
        {
          "output_type": "display_data",
          "data": {
            "text/plain": [
              "<Figure size 432x288 with 1 Axes>"
            ],
            "image/png": "[encoded data removed]"
          },
          "metadata": {
            "needs_background": "light"
          }
        }
      ]
    },
    {
      "cell_type": "markdown",
      "metadata": {
        "id": "tWf9oTJWiTMm"
      },
      "source": [
        "#### RBA"
      ]
    },
    {
      "cell_type": "code",
      "execution_count": null,
      "metadata": {
        "id": "_m4nHJUuvW9j"
      },
      "outputs": [],
      "source": [
        "# lrdr = get_lrdr_estimator(train_X_flattened, test_X_flattened)\n",
        "# r_st = lrdr(train_X_flattened)\n",
        "\n",
        "kde = get_pca_kernel_density_estimator(train_X_flattened, test_X_flattened, bandwidth=0.4)\n",
        "r_st = kde(train_X_flattened)"
      ]
    },
    {
      "cell_type": "code",
      "execution_count": null,
      "metadata": {
        "id": "Hus3rX3FiTxy",
        "colab": {
          "base_uri": "https://localhost:8080/"
        },
        "outputId": "9cdc4269-613e-4a0f-9204-325c76fa1c69"
      },
      "outputs": [
        {
          "output_type": "stream",
          "name": "stdout",
          "text": [
            "Grad avg: 0.8034003376960754. Grad max: 133.24432373046875\n",
            "Grad avg: 0.007301401346921921. Grad max: 4.594736576080322\n",
            "Grad avg: 0.00280341156758368. Grad max: 2.165195941925049\n",
            "Grad avg: 0.0016238171374425292. Grad max: 1.3256195783615112\n",
            "Grad avg: 0.0010612282203510404. Grad max: 0.9845344424247742\n",
            "Grad avg: 0.0007603742997162044. Grad max: 0.6854457259178162\n"
          ]
        }
      ],
      "source": [
        "rba_model = rba_train(train_X_flattened, train_Y, r_st, torch.ones(train_Y.shape), lr = 0.002, max_itr=10000, weight_decay=0.001)"
      ]
    },
    {
      "cell_type": "code",
      "execution_count": null,
      "metadata": {
        "id": "YmStMhanvwg-",
        "colab": {
          "base_uri": "https://localhost:8080/",
          "height": 332
        },
        "outputId": "19333821-b924-4d46-c8bb-b5d683fa6339"
      },
      "outputs": [
        {
          "output_type": "stream",
          "name": "stdout",
          "text": [
            "Target Loss: 1.106729507446289. Target Accuracy: 0.8180000185966492\n"
          ]
        },
        {
          "output_type": "display_data",
          "data": {
            "text/plain": [
              "<Figure size 432x288 with 16 Axes>"
            ],
            "image/png": "[encoded data removed]"
          },
          "metadata": {
            "needs_background": "light"
          }
        }
      ],
      "source": [
        "# r_st = lrdr(test_X_flattened)\n",
        "r_st = kde(test_X_flattened)\n",
        "\n",
        "loss, outputs, acc = log_test(rba_model, test_X_flattened, test_Y, r_st)\n",
        "\n",
        "plot_test_samples(test_X, test_Y, outputs)"
      ]
    },
    {
      "cell_type": "code",
      "source": [
        "# plot the top 10 most uncertain images"
      ],
      "metadata": {
        "id": "5BECQbhqOkcg"
      },
      "execution_count": null,
      "outputs": []
    },
    {
      "cell_type": "code",
      "source": [
        "plot_test_uncertain_samples(test_X,test_Y,outputs)"
      ],
      "metadata": {
        "id": "RO03wZMzOm29",
        "colab": {
          "base_uri": "https://localhost:8080/",
          "height": 323
        },
        "outputId": "ab525011-451e-42f4-df85-b941ee299826"
      },
      "execution_count": null,
      "outputs": [
        {
          "output_type": "display_data",
          "data": {
            "text/plain": [
              "<Figure size 432x288 with 16 Axes>"
            ],
            "image/png": "[encoded data removed]"
          },
          "metadata": {}
        }
      ]
    },
    {
      "cell_type": "code",
      "source": [
        "plot_test_certain_samples(test_X,test_Y,outputs)"
      ],
      "metadata": {
        "colab": {
          "base_uri": "https://localhost:8080/",
          "height": 323
        },
        "id": "pJdotO-VMR_d",
        "outputId": "6c381280-270f-4437-88b1-5f11763d1ccb"
      },
      "execution_count": null,
      "outputs": [
        {
          "output_type": "display_data",
          "data": {
            "text/plain": [
              "<Figure size 432x288 with 16 Axes>"
            ],
            "image/png": "[encoded data removed]"
          },
          "metadata": {}
        }
      ]
    },
    {
      "cell_type": "code",
      "source": [
        "import seaborn as sns\n",
        "import pandas as pd\n",
        "\n",
        "ones = outputs[test_Y_detailed == 1].unsqueeze(1).detach().numpy()\n",
        "ones = np.concatenate((ones, np.ones(ones.shape)), axis = 1)\n",
        "\n",
        "threes = outputs[test_Y_detailed == 3].unsqueeze(1).detach().numpy()\n",
        "threes = np.concatenate((threes, np.ones(threes.shape) * 3), axis = 1)\n",
        "\n",
        "sevens = outputs[test_Y_detailed == 7].unsqueeze(1).detach().numpy()\n",
        "sevens = np.concatenate((sevens, np.ones(sevens.shape) * 7), axis = 1)\n",
        "\n",
        "eights = outputs[test_Y_detailed == 8].unsqueeze(1).detach().numpy()\n",
        "eights = np.concatenate((eights, np.ones(eights.shape) * 8), axis = 1)\n",
        "\n",
        "all_digits = np.concatenate((ones, threes, sevens, eights), axis = 0)\n",
        "\n",
        "df = pd.DataFrame(all_digits, columns = ['Prob', 'Digit'])\n",
        "ax = sns.violinplot(x=\"Digit\", y=\"Prob\", data=df,\n",
        "                    inner=None, color=\".8\")\n",
        "ax = sns.stripplot(x=\"Digit\", y=\"Prob\", data=df, jitter = 0.4)"
      ],
      "metadata": {
        "colab": {
          "base_uri": "https://localhost:8080/",
          "height": 279
        },
        "id": "vkC9ROlgTxMd",
        "outputId": "746bab8f-b325-43bf-a563-2e73c4b2f24d"
      },
      "execution_count": null,
      "outputs": [
        {
          "output_type": "display_data",
          "data": {
            "text/plain": [
              "<Figure size 432x288 with 1 Axes>"
            ],
            "image/png": "[encoded data removed]"
          },
          "metadata": {
            "needs_background": "light"
          }
        }
      ]
    },
    {
      "cell_type": "markdown",
      "source": [
        "## 1 vs 7 Classification"
      ],
      "metadata": {
        "id": "OS2UXJbFTSFC"
      }
    },
    {
      "cell_type": "code",
      "source": [
        "train_data_1 = mnist_trainset.data[\n",
        "  (mnist_trainset.targets == 1)\n",
        "] \n",
        "train_data_1_labels = np.zeros((len(train_data_1), 1))\n",
        "\n",
        "train_data_7 = mnist_trainset.data[\n",
        "  (mnist_trainset.targets == 7)\n",
        "] \n",
        "train_data_7_labels = np.ones((len(train_data_7), 1))\n",
        "\n",
        "train_X = np.concatenate((train_data_1, train_data_7), dtype = float)\n",
        "train_X /= 255\n",
        "train_Y = np.concatenate((train_data_1_labels, train_data_7_labels))\n",
        "\n",
        "train_X, train_Y = unison_shuffled_copies(train_X, train_Y)"
      ],
      "metadata": {
        "id": "XHvF-L6uejM4"
      },
      "execution_count": null,
      "outputs": []
    },
    {
      "cell_type": "code",
      "source": [
        "plot_train_samples(train_X, train_Y)"
      ],
      "metadata": {
        "id": "uYHf8fLzi_Fy"
      },
      "execution_count": null,
      "outputs": []
    },
    {
      "cell_type": "code",
      "source": [
        "test_data_1 = mnist_testset.data[\n",
        "  (mnist_testset.targets == 1)\n",
        "] \n",
        "test_data_1_labels = np.zeros((len(test_data_1), 1))\n",
        "\n",
        "test_data_7 = mnist_testset.data[\n",
        "  (mnist_testset.targets == 7)\n",
        "] \n",
        "test_data_7_labels = np.ones((len(test_data_7), 1))\n",
        "\n",
        "test_X = np.concatenate((test_data_1, test_data_7), dtype = float)\n",
        "test_X /= 255\n",
        "test_Y = np.concatenate((test_data_1_labels, test_data_7_labels))\n",
        "\n",
        "test_X, test_Y = unison_shuffled_copies(test_X, test_Y)"
      ],
      "metadata": {
        "id": "lcL6xOZNjfwp"
      },
      "execution_count": null,
      "outputs": []
    },
    {
      "cell_type": "code",
      "source": [
        "plot_train_samples(test_X, test_Y)"
      ],
      "metadata": {
        "id": "TmleEquwj9UR"
      },
      "execution_count": null,
      "outputs": []
    },
    {
      "cell_type": "markdown",
      "source": [
        "### Covariate shift: Gaussian noise added to test set"
      ],
      "metadata": {
        "id": "qhyyKLtyb9fC"
      }
    },
    {
      "cell_type": "code",
      "source": [
        "from skimage.util import random_noise, apply_parallel\n",
        "\n",
        "test_X_noisy_gauss = test_X\n",
        "# test_X_noisy_gauss = apply_parallel(random_noise, test_X, extra_keywords={\n",
        "#       'mode':'gaussian',\n",
        "#       'mean' : 0,\n",
        "#       'var' : 0.2\n",
        "#     })"
      ],
      "metadata": {
        "id": "rGIKOSNGTVyC"
      },
      "execution_count": null,
      "outputs": []
    },
    {
      "cell_type": "code",
      "source": [
        "plot_train_samples(test_X_noisy_gauss, test_Y)"
      ],
      "metadata": {
        "id": "KrFaLI-9lZwC"
      },
      "execution_count": null,
      "outputs": []
    },
    {
      "cell_type": "code",
      "source": [
        "train_X_flattened = torch.flatten(torch.Tensor(train_X), start_dim=1)\n",
        "test_X_noisy_gauss_flattened = torch.flatten(torch.Tensor(test_X_noisy_gauss), start_dim=1)\n",
        "train_Y = torch.FloatTensor(train_Y)\n",
        "test_Y = torch.FloatTensor(test_Y)"
      ],
      "metadata": {
        "id": "jx1vJsphyYg6"
      },
      "execution_count": null,
      "outputs": []
    },
    {
      "cell_type": "code",
      "source": [
        "pca = decomposition.PCA()\n",
        "pca.n_components = 2\n",
        "X = np.concatenate((train_X_flattened, test_X_noisy_gauss_flattened))\n",
        "\n",
        "n_train = len(train_X_flattened)\n",
        "n_test = len(test_X_noisy_gauss_flattened)\n",
        "\n",
        "Y = np.concatenate((train_Y, test_Y))\n",
        "pca_X = pca.fit_transform(X)\n",
        "X_pca_train = pca_X[:n_train]\n",
        "Y_pca_train = Y[:n_train].flatten()\n",
        "\n",
        "X_pca_train_1 = X_pca_train[(Y_pca_train == 1)]\n",
        "X_pca_train_2 = X_pca_train[Y_pca_train == 0]\n",
        "\n",
        "X_pca_test = pca_X[n_train:]\n",
        "Y_pca_test = Y[n_train:].flatten()\n",
        "\n",
        "X_pca_test_1 = X_pca_test[Y_pca_test == 1]\n",
        "X_pca_test_2 = X_pca_test[Y_pca_test == 0]\n",
        "plt.scatter(X_pca_train_1[:, 0], X_pca_train_1[:, 1], color=\"#8B0000\", label='train +')\n",
        "plt.scatter(X_pca_train_2[:, 0], X_pca_train_2[:, 1], color=\"#ffc6c4\", label='train -')\n",
        "plt.scatter(X_pca_test_1[:, 0], X_pca_test_1[:, 1], color=\"#006400\", label='test +')\n",
        "plt.scatter(X_pca_test_2[:, 0], X_pca_test_2[:, 1], color=\"#90EE90\", label='test - ')\n",
        "plt.legend()"
      ],
      "metadata": {
        "id": "0cwxyoUB0sNm"
      },
      "execution_count": null,
      "outputs": []
    },
    {
      "cell_type": "code",
      "source": [
        ""
      ],
      "metadata": {
        "id": "jjMxjJSN2yqq"
      },
      "execution_count": null,
      "outputs": []
    },
    {
      "cell_type": "markdown",
      "source": [
        "#### LOG"
      ],
      "metadata": {
        "id": "AbvmtARMwtyR"
      }
    },
    {
      "cell_type": "code",
      "execution_count": null,
      "metadata": {
        "id": "Fbqmw28tyApl"
      },
      "outputs": [],
      "source": [
        "from os.path import exists\n",
        "\n",
        "r_st = torch.ones(train_Y.shape)\n",
        "\n",
        "model = rba_train(train_X_flattened, train_Y, r_st, r_st, lr = 0.002, max_itr=10000)"
      ]
    },
    {
      "cell_type": "code",
      "execution_count": null,
      "metadata": {
        "id": "FSuZO4loyApz"
      },
      "outputs": [],
      "source": [
        "loss, outputs, acc = log_test(model, test_X_noisy_gauss_flattened, test_Y, torch.ones(test_Y.shape))\n",
        "pred_y_pairs = np.concatenate((outputs.detach().numpy(), test_Y), axis=1)\n",
        "ece = binary_ece(pred_y_pairs, n_bins=1)\n",
        "print(f\"ECE: {ece}\")\n",
        "\n",
        "plot_test_samples(test_X, test_Y, outputs)"
      ]
    },
    {
      "cell_type": "markdown",
      "metadata": {
        "id": "_NEV388-yAp0"
      },
      "source": [
        "#### RBA"
      ]
    },
    {
      "cell_type": "code",
      "execution_count": null,
      "metadata": {
        "id": "8MdVGj7byAp1"
      },
      "outputs": [],
      "source": [
        "pca_kde = get_pca_kernel_density_estimator(train_X_flattened, test_X_noisy_gauss_flattened)\n",
        "r_st = pca_kde(train_X_flattened)"
      ]
    },
    {
      "cell_type": "code",
      "execution_count": null,
      "metadata": {
        "id": "3rWmI66eyAp1"
      },
      "outputs": [],
      "source": [
        "rba_model = rba_train(train_X_flattened, train_Y, r_st, torch.ones(train_Y.shape), lr = 0.002, max_itr=10000, weight_decay=0.001)"
      ]
    },
    {
      "cell_type": "code",
      "source": [
        "r_st = pca_kde(test_X_noisy_gauss_flattened)\n",
        "loss, outputs, acc = log_test(rba_model, test_X_noisy_gauss_flattened, test_Y, r_st)\n",
        "pred_y_pairs = np.concatenate((outputs.detach().numpy(), test_Y), axis=1)\n",
        "ece = binary_ece(pred_y_pairs, n_bins=1)\n",
        "print(f\"ECE: {ece}\")\n",
        "\n",
        "plot_test_samples(test_X_noisy_gauss, test_Y, outputs)"
      ],
      "metadata": {
        "id": "yDeUNZh8wv6b"
      },
      "execution_count": null,
      "outputs": []
    },
    {
      "cell_type": "code",
      "source": [
        ""
      ],
      "metadata": {
        "id": "mXQaJ-tx0iE9"
      },
      "execution_count": null,
      "outputs": []
    },
    {
      "cell_type": "markdown",
      "source": [
        "###QMINST"
      ],
      "metadata": {
        "id": "ir-lS_HcMuM-"
      }
    },
    {
      "cell_type": "code",
      "source": [
        "# https://github.com/facebookresearch/qmnist?utm_source=catalyzex.com "
      ],
      "metadata": {
        "id": "lR0pbnjFwR9a"
      },
      "execution_count": null,
      "outputs": []
    },
    {
      "cell_type": "code",
      "source": [
        "!wget https://raw.githubusercontent.com/facebookresearch/qmnist/main/qmnist.py"
      ],
      "metadata": {
        "id": "s6x3wsDW5DBs"
      },
      "execution_count": null,
      "outputs": []
    },
    {
      "cell_type": "code",
      "source": [
        "from qmnist import QMNIST"
      ],
      "metadata": {
        "id": "SnZmZDfzvvJD"
      },
      "execution_count": null,
      "outputs": []
    },
    {
      "cell_type": "code",
      "source": [
        "qall = QMNIST('_qmnist', what='nist', compat=False, download=True)"
      ],
      "metadata": {
        "id": "jT3OIJ8C5CR9"
      },
      "execution_count": null,
      "outputs": []
    },
    {
      "cell_type": "code",
      "source": [
        "# Written by employees of Cenus Bureau\n",
        "X_train = np.array([np.array(qall[i][0])  for i in range(len(qall)) if qall[i][1][1] == 1])\n",
        "Y_train = np.array([np.array(qall[i][1][0])  for i in range(len(qall)) if qall[i][1][1] == 1])\n",
        "\n",
        "# Written by high school students\n",
        "X_test = np.array([np.array(qall[i][0]) for i in range(len(qall)) if qall[i][1][1] == 4])\n",
        "Y_test = np.array([np.array(qall[i][1][0])  for i in range(len(qall)) if qall[i][1][1] == 4])"
      ],
      "metadata": {
        "id": "Gz-Trg4k56aQ"
      },
      "execution_count": null,
      "outputs": []
    },
    {
      "cell_type": "code",
      "source": [
        "plot_train_samples(X_train, Y_train)"
      ],
      "metadata": {
        "id": "8ZHGX5_M6B7t"
      },
      "execution_count": null,
      "outputs": []
    },
    {
      "cell_type": "code",
      "source": [
        "X_s = X_train[np.logical_or(Y_train == 1, Y_train == 7)]\n",
        "Y_s = Y_train[np.logical_or(Y_train == 1, Y_train == 7)]\n",
        "Y_s = np.where(Y_s == 1, 0, 1)\n",
        "\n",
        "X_t = X_test[np.logical_or(Y_test == 1, Y_test == 7)]\n",
        "Y_t = Y_test[np.logical_or(Y_test == 1, Y_test == 7)]\n",
        "Y_t = np.where(Y_t == 1, 0, 1)\n"
      ],
      "metadata": {
        "id": "_39SWSnTAKXo"
      },
      "execution_count": null,
      "outputs": []
    },
    {
      "cell_type": "code",
      "source": [
        "plot_train_samples(X_s, Y_s)"
      ],
      "metadata": {
        "id": "y2DrP49fBzg0"
      },
      "execution_count": null,
      "outputs": []
    },
    {
      "cell_type": "code",
      "source": [
        "plot_train_samples(X_t, Y_t)"
      ],
      "metadata": {
        "id": "Hq9BL2Dst68e"
      },
      "execution_count": null,
      "outputs": []
    },
    {
      "cell_type": "code",
      "source": [
        "train_X_flattened = torch.flatten(torch.Tensor(X_s), start_dim=1)\n",
        "train_Y = torch.Tensor(Y_s).unsqueeze(1)\n",
        "test_X_flattened = torch.flatten(torch.Tensor(X_t), start_dim=1)\n",
        "test_Y = torch.Tensor(Y_t).unsqueeze(1)"
      ],
      "metadata": {
        "id": "zsfvgyrOC46_"
      },
      "execution_count": null,
      "outputs": []
    },
    {
      "cell_type": "code",
      "source": [
        "pca = decomposition.PCA()\n",
        "pca.n_components = 2\n",
        "X = np.concatenate((train_X_flattened, test_X_flattened))\n",
        "\n",
        "n_train = len(train_X_flattened)\n",
        "n_test = len(test_X_flattened)\n",
        "\n",
        "Y = np.concatenate((train_Y, test_Y))\n",
        "pca_X = pca.fit_transform(X)\n",
        "X_pca_train = pca_X[:n_train]\n",
        "Y_pca_train = Y[:n_train].flatten()\n",
        "\n",
        "X_pca_train_1 = X_pca_train[(Y_pca_train == 1)]\n",
        "X_pca_train_2 = X_pca_train[Y_pca_train == 0]\n",
        "\n",
        "X_pca_test = pca_X[n_train:]\n",
        "Y_pca_test = Y[n_train:].flatten()\n",
        "\n",
        "X_pca_test_1 = X_pca_test[Y_pca_test == 1]\n",
        "X_pca_test_2 = X_pca_test[Y_pca_test == 0]\n",
        "plt.scatter(X_pca_train_1[:, 0], X_pca_train_1[:, 1], color=\"#8B0000\", label='train +')\n",
        "plt.scatter(X_pca_train_2[:, 0], X_pca_train_2[:, 1], color=\"#ffc6c4\", label='train -')\n",
        "plt.scatter(X_pca_test_1[:, 0], X_pca_test_1[:, 1], color=\"#006400\", label='test +')\n",
        "plt.scatter(X_pca_test_2[:, 0], X_pca_test_2[:, 1], color=\"#90EE90\", label='test - ')\n",
        "plt.legend()"
      ],
      "metadata": {
        "id": "gE-dBAWCuNFv"
      },
      "execution_count": null,
      "outputs": []
    },
    {
      "cell_type": "markdown",
      "source": [
        "#### LOG"
      ],
      "metadata": {
        "id": "mlwRSdMl_7tD"
      }
    },
    {
      "cell_type": "code",
      "source": [
        "from os.path import exists\n",
        "\n",
        "r_st = torch.ones(train_Y.shape)\n",
        "log_model = rba_train(train_X_flattened, train_Y, r_st, r_st, lr = 0.002, max_itr=10000)"
      ],
      "metadata": {
        "id": "A9sbg2lr7XzR"
      },
      "execution_count": null,
      "outputs": []
    },
    {
      "cell_type": "code",
      "source": [
        "loss, outputs, acc = log_test(log_model, test_X_flattened, test_Y, torch.ones(test_Y.shape))\n",
        "ece = binary_ece(outputs, test_Y, n_bins=10)\n",
        "print(ece)\n",
        "plot_test_samples(X_t, test_Y, outputs)"
      ],
      "metadata": {
        "id": "gPzbpOlPEZse"
      },
      "execution_count": null,
      "outputs": []
    },
    {
      "cell_type": "markdown",
      "source": [
        "#### RBA"
      ],
      "metadata": {
        "id": "asPwwKEl_9HJ"
      }
    },
    {
      "cell_type": "code",
      "source": [
        "lrdr =  get_lrdr_estimator(train_X_flattened, test_X_flattened)\n",
        "r_st = lrdr(train_X_flattened)"
      ],
      "metadata": {
        "id": "zsl8yufb7zzj"
      },
      "execution_count": null,
      "outputs": []
    },
    {
      "cell_type": "code",
      "source": [
        "rba_model = rba_train(train_X_flattened, train_Y, r_st, torch.ones(train_Y.shape), lr = 0.002, max_itr=10000, weight_decay=0)"
      ],
      "metadata": {
        "id": "jDRnaxwJYfEO"
      },
      "execution_count": null,
      "outputs": []
    },
    {
      "cell_type": "code",
      "source": [
        "r_st = lrdr(test_X_flattened)\n",
        "loss, outputs, acc = log_test(rba_model, test_X_flattened, test_Y, r_st)\n",
        "ece = binary_ece(outputs, test_Y, n_bins=10)\n",
        "print(f\"ECE: {ece}\")\n",
        "\n",
        "plot_test_samples(X_t, test_Y, outputs)"
      ],
      "metadata": {
        "id": "3BQPj_d3Ymsz"
      },
      "execution_count": null,
      "outputs": []
    },
    {
      "cell_type": "code",
      "source": [
        ""
      ],
      "metadata": {
        "id": "afykqM5kAFmV"
      },
      "execution_count": null,
      "outputs": []
    },
    {
      "cell_type": "markdown",
      "source": [
        "#### Size Accumulation performance"
      ],
      "metadata": {
        "id": "sujLM4xuOTm0"
      }
    },
    {
      "cell_type": "code",
      "source": [
        "results = size_acc_perform(train_X_flattened, train_Y, test_X_flattened, test_Y, n_folds = 5)"
      ],
      "metadata": {
        "id": "lh7_aD0FfI8K"
      },
      "execution_count": null,
      "outputs": []
    },
    {
      "cell_type": "code",
      "source": [
        ""
      ],
      "metadata": {
        "id": "pqruJ2k1SBE_"
      },
      "execution_count": null,
      "outputs": []
    }
  ],
  "metadata": {
    "accelerator": "GPU",
    "colab": {
      "collapsed_sections": [],
      "name": "MNIST_RBA",
      "toc_visible": true,
      "provenance": [],
      "authorship_tag": "ABX9TyO/RmXov2lhCgnl5tObJOhV",
      "include_colab_link": true
    },
    "kernelspec": {
      "display_name": "Python 3",
      "name": "python3"
    },
    "language_info": {
      "name": "python"
    },
    "widgets": {
      "application/vnd.jupyter.widget-state+json": {
        "a0965b996ff142f7ab287667e66b0cb2": {
          "model_module": "@jupyter-widgets/controls",
          "model_name": "HBoxModel",
          "model_module_version": "1.5.0",
          "state": {
            "_dom_classes": [],
            "_model_module": "@jupyter-widgets/controls",
            "_model_module_version": "1.5.0",
            "_model_name": "HBoxModel",
            "_view_count": null,
            "_view_module": "@jupyter-widgets/controls",
            "_view_module_version": "1.5.0",
            "_view_name": "HBoxView",
            "box_style": "",
            "children": [
              "IPY_MODEL_893c10e838494793976c4a88241397cc",
              "IPY_MODEL_c705def99a51440a94ffb4249b6b0dbd",
              "IPY_MODEL_164b5265f50a4370be0dc52e166698e1"
            ],
            "layout": "IPY_MODEL_419dc5dabdfd493f87886d6b5f713e91"
          }
        },
        "893c10e838494793976c4a88241397cc": {
          "model_module": "@jupyter-widgets/controls",
          "model_name": "HTMLModel",
          "model_module_version": "1.5.0",
          "state": {
            "_dom_classes": [],
            "_model_module": "@jupyter-widgets/controls",
            "_model_module_version": "1.5.0",
            "_model_name": "HTMLModel",
            "_view_count": null,
            "_view_module": "@jupyter-widgets/controls",
            "_view_module_version": "1.5.0",
            "_view_name": "HTMLView",
            "description": "",
            "description_tooltip": null,
            "layout": "IPY_MODEL_529a2bb92fa444e0a5ade92c864b908d",
            "placeholder": "​",
            "style": "IPY_MODEL_bbc19184ff714e689fc6e575d66aa0c7",
            "value": ""
          }
        },
        "c705def99a51440a94ffb4249b6b0dbd": {
          "model_module": "@jupyter-widgets/controls",
          "model_name": "FloatProgressModel",
          "model_module_version": "1.5.0",
          "state": {
            "_dom_classes": [],
            "_model_module": "@jupyter-widgets/controls",
            "_model_module_version": "1.5.0",
            "_model_name": "FloatProgressModel",
            "_view_count": null,
            "_view_module": "@jupyter-widgets/controls",
            "_view_module_version": "1.5.0",
            "_view_name": "ProgressView",
            "bar_style": "success",
            "description": "",
            "description_tooltip": null,
            "layout": "IPY_MODEL_79c4a4d040e647ee87f02fc9a092f1bf",
            "max": 9912422,
            "min": 0,
            "orientation": "horizontal",
            "style": "IPY_MODEL_d2d760e93c8e4b989546aa7c1794ba79",
            "value": 9912422
          }
        },
        "164b5265f50a4370be0dc52e166698e1": {
          "model_module": "@jupyter-widgets/controls",
          "model_name": "HTMLModel",
          "model_module_version": "1.5.0",
          "state": {
            "_dom_classes": [],
            "_model_module": "@jupyter-widgets/controls",
            "_model_module_version": "1.5.0",
            "_model_name": "HTMLModel",
            "_view_count": null,
            "_view_module": "@jupyter-widgets/controls",
            "_view_module_version": "1.5.0",
            "_view_name": "HTMLView",
            "description": "",
            "description_tooltip": null,
            "layout": "IPY_MODEL_c7a0a4d36aa7454bb98d62497f414797",
            "placeholder": "​",
            "style": "IPY_MODEL_e30568010d2746448f12174ebbd93492",
            "value": " 9913344/? [00:00&lt;00:00, 23724816.70it/s]"
          }
        },
        "419dc5dabdfd493f87886d6b5f713e91": {
          "model_module": "@jupyter-widgets/base",
          "model_name": "LayoutModel",
          "model_module_version": "1.2.0",
          "state": {
            "_model_module": "@jupyter-widgets/base",
            "_model_module_version": "1.2.0",
            "_model_name": "LayoutModel",
            "_view_count": null,
            "_view_module": "@jupyter-widgets/base",
            "_view_module_version": "1.2.0",
            "_view_name": "LayoutView",
            "align_content": null,
            "align_items": null,
            "align_self": null,
            "border": null,
            "bottom": null,
            "display": null,
            "flex": null,
            "flex_flow": null,
            "grid_area": null,
            "grid_auto_columns": null,
            "grid_auto_flow": null,
            "grid_auto_rows": null,
            "grid_column": null,
            "grid_gap": null,
            "grid_row": null,
            "grid_template_areas": null,
            "grid_template_columns": null,
            "grid_template_rows": null,
            "height": null,
            "justify_content": null,
            "justify_items": null,
            "left": null,
            "margin": null,
            "max_height": null,
            "max_width": null,
            "min_height": null,
            "min_width": null,
            "object_fit": null,
            "object_position": null,
            "order": null,
            "overflow": null,
            "overflow_x": null,
            "overflow_y": null,
            "padding": null,
            "right": null,
            "top": null,
            "visibility": null,
            "width": null
          }
        },
        "529a2bb92fa444e0a5ade92c864b908d": {
          "model_module": "@jupyter-widgets/base",
          "model_name": "LayoutModel",
          "model_module_version": "1.2.0",
          "state": {
            "_model_module": "@jupyter-widgets/base",
            "_model_module_version": "1.2.0",
            "_model_name": "LayoutModel",
            "_view_count": null,
            "_view_module": "@jupyter-widgets/base",
            "_view_module_version": "1.2.0",
            "_view_name": "LayoutView",
            "align_content": null,
            "align_items": null,
            "align_self": null,
            "border": null,
            "bottom": null,
            "display": null,
            "flex": null,
            "flex_flow": null,
            "grid_area": null,
            "grid_auto_columns": null,
            "grid_auto_flow": null,
            "grid_auto_rows": null,
            "grid_column": null,
            "grid_gap": null,
            "grid_row": null,
            "grid_template_areas": null,
            "grid_template_columns": null,
            "grid_template_rows": null,
            "height": null,
            "justify_content": null,
            "justify_items": null,
            "left": null,
            "margin": null,
            "max_height": null,
            "max_width": null,
            "min_height": null,
            "min_width": null,
            "object_fit": null,
            "object_position": null,
            "order": null,
            "overflow": null,
            "overflow_x": null,
            "overflow_y": null,
            "padding": null,
            "right": null,
            "top": null,
            "visibility": null,
            "width": null
          }
        },
        "bbc19184ff714e689fc6e575d66aa0c7": {
          "model_module": "@jupyter-widgets/controls",
          "model_name": "DescriptionStyleModel",
          "model_module_version": "1.5.0",
          "state": {
            "_model_module": "@jupyter-widgets/controls",
            "_model_module_version": "1.5.0",
            "_model_name": "DescriptionStyleModel",
            "_view_count": null,
            "_view_module": "@jupyter-widgets/base",
            "_view_module_version": "1.2.0",
            "_view_name": "StyleView",
            "description_width": ""
          }
        },
        "79c4a4d040e647ee87f02fc9a092f1bf": {
          "model_module": "@jupyter-widgets/base",
          "model_name": "LayoutModel",
          "model_module_version": "1.2.0",
          "state": {
            "_model_module": "@jupyter-widgets/base",
            "_model_module_version": "1.2.0",
            "_model_name": "LayoutModel",
            "_view_count": null,
            "_view_module": "@jupyter-widgets/base",
            "_view_module_version": "1.2.0",
            "_view_name": "LayoutView",
            "align_content": null,
            "align_items": null,
            "align_self": null,
            "border": null,
            "bottom": null,
            "display": null,
            "flex": null,
            "flex_flow": null,
            "grid_area": null,
            "grid_auto_columns": null,
            "grid_auto_flow": null,
            "grid_auto_rows": null,
            "grid_column": null,
            "grid_gap": null,
            "grid_row": null,
            "grid_template_areas": null,
            "grid_template_columns": null,
            "grid_template_rows": null,
            "height": null,
            "justify_content": null,
            "justify_items": null,
            "left": null,
            "margin": null,
            "max_height": null,
            "max_width": null,
            "min_height": null,
            "min_width": null,
            "object_fit": null,
            "object_position": null,
            "order": null,
            "overflow": null,
            "overflow_x": null,
            "overflow_y": null,
            "padding": null,
            "right": null,
            "top": null,
            "visibility": null,
            "width": null
          }
        },
        "d2d760e93c8e4b989546aa7c1794ba79": {
          "model_module": "@jupyter-widgets/controls",
          "model_name": "ProgressStyleModel",
          "model_module_version": "1.5.0",
          "state": {
            "_model_module": "@jupyter-widgets/controls",
            "_model_module_version": "1.5.0",
            "_model_name": "ProgressStyleModel",
            "_view_count": null,
            "_view_module": "@jupyter-widgets/base",
            "_view_module_version": "1.2.0",
            "_view_name": "StyleView",
            "bar_color": null,
            "description_width": ""
          }
        },
        "c7a0a4d36aa7454bb98d62497f414797": {
          "model_module": "@jupyter-widgets/base",
          "model_name": "LayoutModel",
          "model_module_version": "1.2.0",
          "state": {
            "_model_module": "@jupyter-widgets/base",
            "_model_module_version": "1.2.0",
            "_model_name": "LayoutModel",
            "_view_count": null,
            "_view_module": "@jupyter-widgets/base",
            "_view_module_version": "1.2.0",
            "_view_name": "LayoutView",
            "align_content": null,
            "align_items": null,
            "align_self": null,
            "border": null,
            "bottom": null,
            "display": null,
            "flex": null,
            "flex_flow": null,
            "grid_area": null,
            "grid_auto_columns": null,
            "grid_auto_flow": null,
            "grid_auto_rows": null,
            "grid_column": null,
            "grid_gap": null,
            "grid_row": null,
            "grid_template_areas": null,
            "grid_template_columns": null,
            "grid_template_rows": null,
            "height": null,
            "justify_content": null,
            "justify_items": null,
            "left": null,
            "margin": null,
            "max_height": null,
            "max_width": null,
            "min_height": null,
            "min_width": null,
            "object_fit": null,
            "object_position": null,
            "order": null,
            "overflow": null,
            "overflow_x": null,
            "overflow_y": null,
            "padding": null,
            "right": null,
            "top": null,
            "visibility": null,
            "width": null
          }
        },
        "e30568010d2746448f12174ebbd93492": {
          "model_module": "@jupyter-widgets/controls",
          "model_name": "DescriptionStyleModel",
          "model_module_version": "1.5.0",
          "state": {
            "_model_module": "@jupyter-widgets/controls",
            "_model_module_version": "1.5.0",
            "_model_name": "DescriptionStyleModel",
            "_view_count": null,
            "_view_module": "@jupyter-widgets/base",
            "_view_module_version": "1.2.0",
            "_view_name": "StyleView",
            "description_width": ""
          }
        },
        "64dd8700cd6f4123830a6ff5db0f330b": {
          "model_module": "@jupyter-widgets/controls",
          "model_name": "HBoxModel",
          "model_module_version": "1.5.0",
          "state": {
            "_dom_classes": [],
            "_model_module": "@jupyter-widgets/controls",
            "_model_module_version": "1.5.0",
            "_model_name": "HBoxModel",
            "_view_count": null,
            "_view_module": "@jupyter-widgets/controls",
            "_view_module_version": "1.5.0",
            "_view_name": "HBoxView",
            "box_style": "",
            "children": [
              "IPY_MODEL_912f924d064f4e9480c3959deebf7456",
              "IPY_MODEL_dcce6072cec9410db79414804cb9c1f2",
              "IPY_MODEL_363e1ecf8f2641ac9059ad71cfe055ec"
            ],
            "layout": "IPY_MODEL_838dae79b9e34c0095e6573496f102d0"
          }
        },
        "912f924d064f4e9480c3959deebf7456": {
          "model_module": "@jupyter-widgets/controls",
          "model_name": "HTMLModel",
          "model_module_version": "1.5.0",
          "state": {
            "_dom_classes": [],
            "_model_module": "@jupyter-widgets/controls",
            "_model_module_version": "1.5.0",
            "_model_name": "HTMLModel",
            "_view_count": null,
            "_view_module": "@jupyter-widgets/controls",
            "_view_module_version": "1.5.0",
            "_view_name": "HTMLView",
            "description": "",
            "description_tooltip": null,
            "layout": "IPY_MODEL_fba2c83dac8144de8cad330cd2cce6f1",
            "placeholder": "​",
            "style": "IPY_MODEL_9c5d057170f349bfafb2984ab8d5e702",
            "value": ""
          }
        },
        "dcce6072cec9410db79414804cb9c1f2": {
          "model_module": "@jupyter-widgets/controls",
          "model_name": "FloatProgressModel",
          "model_module_version": "1.5.0",
          "state": {
            "_dom_classes": [],
            "_model_module": "@jupyter-widgets/controls",
            "_model_module_version": "1.5.0",
            "_model_name": "FloatProgressModel",
            "_view_count": null,
            "_view_module": "@jupyter-widgets/controls",
            "_view_module_version": "1.5.0",
            "_view_name": "ProgressView",
            "bar_style": "success",
            "description": "",
            "description_tooltip": null,
            "layout": "IPY_MODEL_f1529fa8e40b404581750ded265ff7c4",
            "max": 28881,
            "min": 0,
            "orientation": "horizontal",
            "style": "IPY_MODEL_7373fba52cde44e6a6568028f9718835",
            "value": 28881
          }
        },
        "363e1ecf8f2641ac9059ad71cfe055ec": {
          "model_module": "@jupyter-widgets/controls",
          "model_name": "HTMLModel",
          "model_module_version": "1.5.0",
          "state": {
            "_dom_classes": [],
            "_model_module": "@jupyter-widgets/controls",
            "_model_module_version": "1.5.0",
            "_model_name": "HTMLModel",
            "_view_count": null,
            "_view_module": "@jupyter-widgets/controls",
            "_view_module_version": "1.5.0",
            "_view_name": "HTMLView",
            "description": "",
            "description_tooltip": null,
            "layout": "IPY_MODEL_9e4f8f103cba4a94be43015f34dba73a",
            "placeholder": "​",
            "style": "IPY_MODEL_91f357fa67f4459882c4ce2d5dacf7a0",
            "value": " 29696/? [00:00&lt;00:00, 317087.96it/s]"
          }
        },
        "838dae79b9e34c0095e6573496f102d0": {
          "model_module": "@jupyter-widgets/base",
          "model_name": "LayoutModel",
          "model_module_version": "1.2.0",
          "state": {
            "_model_module": "@jupyter-widgets/base",
            "_model_module_version": "1.2.0",
            "_model_name": "LayoutModel",
            "_view_count": null,
            "_view_module": "@jupyter-widgets/base",
            "_view_module_version": "1.2.0",
            "_view_name": "LayoutView",
            "align_content": null,
            "align_items": null,
            "align_self": null,
            "border": null,
            "bottom": null,
            "display": null,
            "flex": null,
            "flex_flow": null,
            "grid_area": null,
            "grid_auto_columns": null,
            "grid_auto_flow": null,
            "grid_auto_rows": null,
            "grid_column": null,
            "grid_gap": null,
            "grid_row": null,
            "grid_template_areas": null,
            "grid_template_columns": null,
            "grid_template_rows": null,
            "height": null,
            "justify_content": null,
            "justify_items": null,
            "left": null,
            "margin": null,
            "max_height": null,
            "max_width": null,
            "min_height": null,
            "min_width": null,
            "object_fit": null,
            "object_position": null,
            "order": null,
            "overflow": null,
            "overflow_x": null,
            "overflow_y": null,
            "padding": null,
            "right": null,
            "top": null,
            "visibility": null,
            "width": null
          }
        },
        "fba2c83dac8144de8cad330cd2cce6f1": {
          "model_module": "@jupyter-widgets/base",
          "model_name": "LayoutModel",
          "model_module_version": "1.2.0",
          "state": {
            "_model_module": "@jupyter-widgets/base",
            "_model_module_version": "1.2.0",
            "_model_name": "LayoutModel",
            "_view_count": null,
            "_view_module": "@jupyter-widgets/base",
            "_view_module_version": "1.2.0",
            "_view_name": "LayoutView",
            "align_content": null,
            "align_items": null,
            "align_self": null,
            "border": null,
            "bottom": null,
            "display": null,
            "flex": null,
            "flex_flow": null,
            "grid_area": null,
            "grid_auto_columns": null,
            "grid_auto_flow": null,
            "grid_auto_rows": null,
            "grid_column": null,
            "grid_gap": null,
            "grid_row": null,
            "grid_template_areas": null,
            "grid_template_columns": null,
            "grid_template_rows": null,
            "height": null,
            "justify_content": null,
            "justify_items": null,
            "left": null,
            "margin": null,
            "max_height": null,
            "max_width": null,
            "min_height": null,
            "min_width": null,
            "object_fit": null,
            "object_position": null,
            "order": null,
            "overflow": null,
            "overflow_x": null,
            "overflow_y": null,
            "padding": null,
            "right": null,
            "top": null,
            "visibility": null,
            "width": null
          }
        },
        "9c5d057170f349bfafb2984ab8d5e702": {
          "model_module": "@jupyter-widgets/controls",
          "model_name": "DescriptionStyleModel",
          "model_module_version": "1.5.0",
          "state": {
            "_model_module": "@jupyter-widgets/controls",
            "_model_module_version": "1.5.0",
            "_model_name": "DescriptionStyleModel",
            "_view_count": null,
            "_view_module": "@jupyter-widgets/base",
            "_view_module_version": "1.2.0",
            "_view_name": "StyleView",
            "description_width": ""
          }
        },
        "f1529fa8e40b404581750ded265ff7c4": {
          "model_module": "@jupyter-widgets/base",
          "model_name": "LayoutModel",
          "model_module_version": "1.2.0",
          "state": {
            "_model_module": "@jupyter-widgets/base",
            "_model_module_version": "1.2.0",
            "_model_name": "LayoutModel",
            "_view_count": null,
            "_view_module": "@jupyter-widgets/base",
            "_view_module_version": "1.2.0",
            "_view_name": "LayoutView",
            "align_content": null,
            "align_items": null,
            "align_self": null,
            "border": null,
            "bottom": null,
            "display": null,
            "flex": null,
            "flex_flow": null,
            "grid_area": null,
            "grid_auto_columns": null,
            "grid_auto_flow": null,
            "grid_auto_rows": null,
            "grid_column": null,
            "grid_gap": null,
            "grid_row": null,
            "grid_template_areas": null,
            "grid_template_columns": null,
            "grid_template_rows": null,
            "height": null,
            "justify_content": null,
            "justify_items": null,
            "left": null,
            "margin": null,
            "max_height": null,
            "max_width": null,
            "min_height": null,
            "min_width": null,
            "object_fit": null,
            "object_position": null,
            "order": null,
            "overflow": null,
            "overflow_x": null,
            "overflow_y": null,
            "padding": null,
            "right": null,
            "top": null,
            "visibility": null,
            "width": null
          }
        },
        "7373fba52cde44e6a6568028f9718835": {
          "model_module": "@jupyter-widgets/controls",
          "model_name": "ProgressStyleModel",
          "model_module_version": "1.5.0",
          "state": {
            "_model_module": "@jupyter-widgets/controls",
            "_model_module_version": "1.5.0",
            "_model_name": "ProgressStyleModel",
            "_view_count": null,
            "_view_module": "@jupyter-widgets/base",
            "_view_module_version": "1.2.0",
            "_view_name": "StyleView",
            "bar_color": null,
            "description_width": ""
          }
        },
        "9e4f8f103cba4a94be43015f34dba73a": {
          "model_module": "@jupyter-widgets/base",
          "model_name": "LayoutModel",
          "model_module_version": "1.2.0",
          "state": {
            "_model_module": "@jupyter-widgets/base",
            "_model_module_version": "1.2.0",
            "_model_name": "LayoutModel",
            "_view_count": null,
            "_view_module": "@jupyter-widgets/base",
            "_view_module_version": "1.2.0",
            "_view_name": "LayoutView",
            "align_content": null,
            "align_items": null,
            "align_self": null,
            "border": null,
            "bottom": null,
            "display": null,
            "flex": null,
            "flex_flow": null,
            "grid_area": null,
            "grid_auto_columns": null,
            "grid_auto_flow": null,
            "grid_auto_rows": null,
            "grid_column": null,
            "grid_gap": null,
            "grid_row": null,
            "grid_template_areas": null,
            "grid_template_columns": null,
            "grid_template_rows": null,
            "height": null,
            "justify_content": null,
            "justify_items": null,
            "left": null,
            "margin": null,
            "max_height": null,
            "max_width": null,
            "min_height": null,
            "min_width": null,
            "object_fit": null,
            "object_position": null,
            "order": null,
            "overflow": null,
            "overflow_x": null,
            "overflow_y": null,
            "padding": null,
            "right": null,
            "top": null,
            "visibility": null,
            "width": null
          }
        },
        "91f357fa67f4459882c4ce2d5dacf7a0": {
          "model_module": "@jupyter-widgets/controls",
          "model_name": "DescriptionStyleModel",
          "model_module_version": "1.5.0",
          "state": {
            "_model_module": "@jupyter-widgets/controls",
            "_model_module_version": "1.5.0",
            "_model_name": "DescriptionStyleModel",
            "_view_count": null,
            "_view_module": "@jupyter-widgets/base",
            "_view_module_version": "1.2.0",
            "_view_name": "StyleView",
            "description_width": ""
          }
        },
        "f367a4d158d54f8094e630e515968c64": {
          "model_module": "@jupyter-widgets/controls",
          "model_name": "HBoxModel",
          "model_module_version": "1.5.0",
          "state": {
            "_dom_classes": [],
            "_model_module": "@jupyter-widgets/controls",
            "_model_module_version": "1.5.0",
            "_model_name": "HBoxModel",
            "_view_count": null,
            "_view_module": "@jupyter-widgets/controls",
            "_view_module_version": "1.5.0",
            "_view_name": "HBoxView",
            "box_style": "",
            "children": [
              "IPY_MODEL_1ca5aa788817415baec132d30ff8059c",
              "IPY_MODEL_c9467ed47d2f45778ab0b91b8dfd352c",
              "IPY_MODEL_eb5c209359324782bc87cc70ff8de955"
            ],
            "layout": "IPY_MODEL_ce3c69f09e4d4c049afa7e8828ee090e"
          }
        },
        "1ca5aa788817415baec132d30ff8059c": {
          "model_module": "@jupyter-widgets/controls",
          "model_name": "HTMLModel",
          "model_module_version": "1.5.0",
          "state": {
            "_dom_classes": [],
            "_model_module": "@jupyter-widgets/controls",
            "_model_module_version": "1.5.0",
            "_model_name": "HTMLModel",
            "_view_count": null,
            "_view_module": "@jupyter-widgets/controls",
            "_view_module_version": "1.5.0",
            "_view_name": "HTMLView",
            "description": "",
            "description_tooltip": null,
            "layout": "IPY_MODEL_d536d6aff34e4dfab5e1c8a6840d5693",
            "placeholder": "​",
            "style": "IPY_MODEL_051331df9b84410898e137af829c63e0",
            "value": ""
          }
        },
        "c9467ed47d2f45778ab0b91b8dfd352c": {
          "model_module": "@jupyter-widgets/controls",
          "model_name": "FloatProgressModel",
          "model_module_version": "1.5.0",
          "state": {
            "_dom_classes": [],
            "_model_module": "@jupyter-widgets/controls",
            "_model_module_version": "1.5.0",
            "_model_name": "FloatProgressModel",
            "_view_count": null,
            "_view_module": "@jupyter-widgets/controls",
            "_view_module_version": "1.5.0",
            "_view_name": "ProgressView",
            "bar_style": "success",
            "description": "",
            "description_tooltip": null,
            "layout": "IPY_MODEL_fc5bed3e428f4101a31839fffe3f812e",
            "max": 1648877,
            "min": 0,
            "orientation": "horizontal",
            "style": "IPY_MODEL_370c6feb6d7246228257f5a841c170c1",
            "value": 1648877
          }
        },
        "eb5c209359324782bc87cc70ff8de955": {
          "model_module": "@jupyter-widgets/controls",
          "model_name": "HTMLModel",
          "model_module_version": "1.5.0",
          "state": {
            "_dom_classes": [],
            "_model_module": "@jupyter-widgets/controls",
            "_model_module_version": "1.5.0",
            "_model_name": "HTMLModel",
            "_view_count": null,
            "_view_module": "@jupyter-widgets/controls",
            "_view_module_version": "1.5.0",
            "_view_name": "HTMLView",
            "description": "",
            "description_tooltip": null,
            "layout": "IPY_MODEL_a5009d5415bb45b1a35b343d4bd63e2e",
            "placeholder": "​",
            "style": "IPY_MODEL_aacaf9e479524236aac023e3912dfed7",
            "value": " 1649664/? [00:00&lt;00:00, 2919720.51it/s]"
          }
        },
        "ce3c69f09e4d4c049afa7e8828ee090e": {
          "model_module": "@jupyter-widgets/base",
          "model_name": "LayoutModel",
          "model_module_version": "1.2.0",
          "state": {
            "_model_module": "@jupyter-widgets/base",
            "_model_module_version": "1.2.0",
            "_model_name": "LayoutModel",
            "_view_count": null,
            "_view_module": "@jupyter-widgets/base",
            "_view_module_version": "1.2.0",
            "_view_name": "LayoutView",
            "align_content": null,
            "align_items": null,
            "align_self": null,
            "border": null,
            "bottom": null,
            "display": null,
            "flex": null,
            "flex_flow": null,
            "grid_area": null,
            "grid_auto_columns": null,
            "grid_auto_flow": null,
            "grid_auto_rows": null,
            "grid_column": null,
            "grid_gap": null,
            "grid_row": null,
            "grid_template_areas": null,
            "grid_template_columns": null,
            "grid_template_rows": null,
            "height": null,
            "justify_content": null,
            "justify_items": null,
            "left": null,
            "margin": null,
            "max_height": null,
            "max_width": null,
            "min_height": null,
            "min_width": null,
            "object_fit": null,
            "object_position": null,
            "order": null,
            "overflow": null,
            "overflow_x": null,
            "overflow_y": null,
            "padding": null,
            "right": null,
            "top": null,
            "visibility": null,
            "width": null
          }
        },
        "d536d6aff34e4dfab5e1c8a6840d5693": {
          "model_module": "@jupyter-widgets/base",
          "model_name": "LayoutModel",
          "model_module_version": "1.2.0",
          "state": {
            "_model_module": "@jupyter-widgets/base",
            "_model_module_version": "1.2.0",
            "_model_name": "LayoutModel",
            "_view_count": null,
            "_view_module": "@jupyter-widgets/base",
            "_view_module_version": "1.2.0",
            "_view_name": "LayoutView",
            "align_content": null,
            "align_items": null,
            "align_self": null,
            "border": null,
            "bottom": null,
            "display": null,
            "flex": null,
            "flex_flow": null,
            "grid_area": null,
            "grid_auto_columns": null,
            "grid_auto_flow": null,
            "grid_auto_rows": null,
            "grid_column": null,
            "grid_gap": null,
            "grid_row": null,
            "grid_template_areas": null,
            "grid_template_columns": null,
            "grid_template_rows": null,
            "height": null,
            "justify_content": null,
            "justify_items": null,
            "left": null,
            "margin": null,
            "max_height": null,
            "max_width": null,
            "min_height": null,
            "min_width": null,
            "object_fit": null,
            "object_position": null,
            "order": null,
            "overflow": null,
            "overflow_x": null,
            "overflow_y": null,
            "padding": null,
            "right": null,
            "top": null,
            "visibility": null,
            "width": null
          }
        },
        "051331df9b84410898e137af829c63e0": {
          "model_module": "@jupyter-widgets/controls",
          "model_name": "DescriptionStyleModel",
          "model_module_version": "1.5.0",
          "state": {
            "_model_module": "@jupyter-widgets/controls",
            "_model_module_version": "1.5.0",
            "_model_name": "DescriptionStyleModel",
            "_view_count": null,
            "_view_module": "@jupyter-widgets/base",
            "_view_module_version": "1.2.0",
            "_view_name": "StyleView",
            "description_width": ""
          }
        },
        "fc5bed3e428f4101a31839fffe3f812e": {
          "model_module": "@jupyter-widgets/base",
          "model_name": "LayoutModel",
          "model_module_version": "1.2.0",
          "state": {
            "_model_module": "@jupyter-widgets/base",
            "_model_module_version": "1.2.0",
            "_model_name": "LayoutModel",
            "_view_count": null,
            "_view_module": "@jupyter-widgets/base",
            "_view_module_version": "1.2.0",
            "_view_name": "LayoutView",
            "align_content": null,
            "align_items": null,
            "align_self": null,
            "border": null,
            "bottom": null,
            "display": null,
            "flex": null,
            "flex_flow": null,
            "grid_area": null,
            "grid_auto_columns": null,
            "grid_auto_flow": null,
            "grid_auto_rows": null,
            "grid_column": null,
            "grid_gap": null,
            "grid_row": null,
            "grid_template_areas": null,
            "grid_template_columns": null,
            "grid_template_rows": null,
            "height": null,
            "justify_content": null,
            "justify_items": null,
            "left": null,
            "margin": null,
            "max_height": null,
            "max_width": null,
            "min_height": null,
            "min_width": null,
            "object_fit": null,
            "object_position": null,
            "order": null,
            "overflow": null,
            "overflow_x": null,
            "overflow_y": null,
            "padding": null,
            "right": null,
            "top": null,
            "visibility": null,
            "width": null
          }
        },
        "370c6feb6d7246228257f5a841c170c1": {
          "model_module": "@jupyter-widgets/controls",
          "model_name": "ProgressStyleModel",
          "model_module_version": "1.5.0",
          "state": {
            "_model_module": "@jupyter-widgets/controls",
            "_model_module_version": "1.5.0",
            "_model_name": "ProgressStyleModel",
            "_view_count": null,
            "_view_module": "@jupyter-widgets/base",
            "_view_module_version": "1.2.0",
            "_view_name": "StyleView",
            "bar_color": null,
            "description_width": ""
          }
        },
        "a5009d5415bb45b1a35b343d4bd63e2e": {
          "model_module": "@jupyter-widgets/base",
          "model_name": "LayoutModel",
          "model_module_version": "1.2.0",
          "state": {
            "_model_module": "@jupyter-widgets/base",
            "_model_module_version": "1.2.0",
            "_model_name": "LayoutModel",
            "_view_count": null,
            "_view_module": "@jupyter-widgets/base",
            "_view_module_version": "1.2.0",
            "_view_name": "LayoutView",
            "align_content": null,
            "align_items": null,
            "align_self": null,
            "border": null,
            "bottom": null,
            "display": null,
            "flex": null,
            "flex_flow": null,
            "grid_area": null,
            "grid_auto_columns": null,
            "grid_auto_flow": null,
            "grid_auto_rows": null,
            "grid_column": null,
            "grid_gap": null,
            "grid_row": null,
            "grid_template_areas": null,
            "grid_template_columns": null,
            "grid_template_rows": null,
            "height": null,
            "justify_content": null,
            "justify_items": null,
            "left": null,
            "margin": null,
            "max_height": null,
            "max_width": null,
            "min_height": null,
            "min_width": null,
            "object_fit": null,
            "object_position": null,
            "order": null,
            "overflow": null,
            "overflow_x": null,
            "overflow_y": null,
            "padding": null,
            "right": null,
            "top": null,
            "visibility": null,
            "width": null
          }
        },
        "aacaf9e479524236aac023e3912dfed7": {
          "model_module": "@jupyter-widgets/controls",
          "model_name": "DescriptionStyleModel",
          "model_module_version": "1.5.0",
          "state": {
            "_model_module": "@jupyter-widgets/controls",
            "_model_module_version": "1.5.0",
            "_model_name": "DescriptionStyleModel",
            "_view_count": null,
            "_view_module": "@jupyter-widgets/base",
            "_view_module_version": "1.2.0",
            "_view_name": "StyleView",
            "description_width": ""
          }
        },
        "798851f80a1d49b59188f16633265109": {
          "model_module": "@jupyter-widgets/controls",
          "model_name": "HBoxModel",
          "model_module_version": "1.5.0",
          "state": {
            "_dom_classes": [],
            "_model_module": "@jupyter-widgets/controls",
            "_model_module_version": "1.5.0",
            "_model_name": "HBoxModel",
            "_view_count": null,
            "_view_module": "@jupyter-widgets/controls",
            "_view_module_version": "1.5.0",
            "_view_name": "HBoxView",
            "box_style": "",
            "children": [
              "IPY_MODEL_00c36282dc7d498fbf9fdae922af01dc",
              "IPY_MODEL_35f535c6541742b6a2f1d09e595eb0c5",
              "IPY_MODEL_c57948e550c74b5f99b6feb97e383dc8"
            ],
            "layout": "IPY_MODEL_d6b91cdb21ca4f708608b9106a109621"
          }
        },
        "00c36282dc7d498fbf9fdae922af01dc": {
          "model_module": "@jupyter-widgets/controls",
          "model_name": "HTMLModel",
          "model_module_version": "1.5.0",
          "state": {
            "_dom_classes": [],
            "_model_module": "@jupyter-widgets/controls",
            "_model_module_version": "1.5.0",
            "_model_name": "HTMLModel",
            "_view_count": null,
            "_view_module": "@jupyter-widgets/controls",
            "_view_module_version": "1.5.0",
            "_view_name": "HTMLView",
            "description": "",
            "description_tooltip": null,
            "layout": "IPY_MODEL_2149e12280044068a6cf1b4f6a2e2bb8",
            "placeholder": "​",
            "style": "IPY_MODEL_f710d39c79ba40a580af35fbb9a2ea78",
            "value": ""
          }
        },
        "35f535c6541742b6a2f1d09e595eb0c5": {
          "model_module": "@jupyter-widgets/controls",
          "model_name": "FloatProgressModel",
          "model_module_version": "1.5.0",
          "state": {
            "_dom_classes": [],
            "_model_module": "@jupyter-widgets/controls",
            "_model_module_version": "1.5.0",
            "_model_name": "FloatProgressModel",
            "_view_count": null,
            "_view_module": "@jupyter-widgets/controls",
            "_view_module_version": "1.5.0",
            "_view_name": "ProgressView",
            "bar_style": "success",
            "description": "",
            "description_tooltip": null,
            "layout": "IPY_MODEL_b83affcc9e7444d28db2f7bad47c2f69",
            "max": 4542,
            "min": 0,
            "orientation": "horizontal",
            "style": "IPY_MODEL_da360c7798f945388d99b466a09abe64",
            "value": 4542
          }
        },
        "c57948e550c74b5f99b6feb97e383dc8": {
          "model_module": "@jupyter-widgets/controls",
          "model_name": "HTMLModel",
          "model_module_version": "1.5.0",
          "state": {
            "_dom_classes": [],
            "_model_module": "@jupyter-widgets/controls",
            "_model_module_version": "1.5.0",
            "_model_name": "HTMLModel",
            "_view_count": null,
            "_view_module": "@jupyter-widgets/controls",
            "_view_module_version": "1.5.0",
            "_view_name": "HTMLView",
            "description": "",
            "description_tooltip": null,
            "layout": "IPY_MODEL_7f1c5143043b4b9aa6262c18d6a91057",
            "placeholder": "​",
            "style": "IPY_MODEL_1d3a40c1ef444de38a928ca72813fcbe",
            "value": " 5120/? [00:00&lt;00:00, 8074.31it/s]"
          }
        },
        "d6b91cdb21ca4f708608b9106a109621": {
          "model_module": "@jupyter-widgets/base",
          "model_name": "LayoutModel",
          "model_module_version": "1.2.0",
          "state": {
            "_model_module": "@jupyter-widgets/base",
            "_model_module_version": "1.2.0",
            "_model_name": "LayoutModel",
            "_view_count": null,
            "_view_module": "@jupyter-widgets/base",
            "_view_module_version": "1.2.0",
            "_view_name": "LayoutView",
            "align_content": null,
            "align_items": null,
            "align_self": null,
            "border": null,
            "bottom": null,
            "display": null,
            "flex": null,
            "flex_flow": null,
            "grid_area": null,
            "grid_auto_columns": null,
            "grid_auto_flow": null,
            "grid_auto_rows": null,
            "grid_column": null,
            "grid_gap": null,
            "grid_row": null,
            "grid_template_areas": null,
            "grid_template_columns": null,
            "grid_template_rows": null,
            "height": null,
            "justify_content": null,
            "justify_items": null,
            "left": null,
            "margin": null,
            "max_height": null,
            "max_width": null,
            "min_height": null,
            "min_width": null,
            "object_fit": null,
            "object_position": null,
            "order": null,
            "overflow": null,
            "overflow_x": null,
            "overflow_y": null,
            "padding": null,
            "right": null,
            "top": null,
            "visibility": null,
            "width": null
          }
        },
        "2149e12280044068a6cf1b4f6a2e2bb8": {
          "model_module": "@jupyter-widgets/base",
          "model_name": "LayoutModel",
          "model_module_version": "1.2.0",
          "state": {
            "_model_module": "@jupyter-widgets/base",
            "_model_module_version": "1.2.0",
            "_model_name": "LayoutModel",
            "_view_count": null,
            "_view_module": "@jupyter-widgets/base",
            "_view_module_version": "1.2.0",
            "_view_name": "LayoutView",
            "align_content": null,
            "align_items": null,
            "align_self": null,
            "border": null,
            "bottom": null,
            "display": null,
            "flex": null,
            "flex_flow": null,
            "grid_area": null,
            "grid_auto_columns": null,
            "grid_auto_flow": null,
            "grid_auto_rows": null,
            "grid_column": null,
            "grid_gap": null,
            "grid_row": null,
            "grid_template_areas": null,
            "grid_template_columns": null,
            "grid_template_rows": null,
            "height": null,
            "justify_content": null,
            "justify_items": null,
            "left": null,
            "margin": null,
            "max_height": null,
            "max_width": null,
            "min_height": null,
            "min_width": null,
            "object_fit": null,
            "object_position": null,
            "order": null,
            "overflow": null,
            "overflow_x": null,
            "overflow_y": null,
            "padding": null,
            "right": null,
            "top": null,
            "visibility": null,
            "width": null
          }
        },
        "f710d39c79ba40a580af35fbb9a2ea78": {
          "model_module": "@jupyter-widgets/controls",
          "model_name": "DescriptionStyleModel",
          "model_module_version": "1.5.0",
          "state": {
            "_model_module": "@jupyter-widgets/controls",
            "_model_module_version": "1.5.0",
            "_model_name": "DescriptionStyleModel",
            "_view_count": null,
            "_view_module": "@jupyter-widgets/base",
            "_view_module_version": "1.2.0",
            "_view_name": "StyleView",
            "description_width": ""
          }
        },
        "b83affcc9e7444d28db2f7bad47c2f69": {
          "model_module": "@jupyter-widgets/base",
          "model_name": "LayoutModel",
          "model_module_version": "1.2.0",
          "state": {
            "_model_module": "@jupyter-widgets/base",
            "_model_module_version": "1.2.0",
            "_model_name": "LayoutModel",
            "_view_count": null,
            "_view_module": "@jupyter-widgets/base",
            "_view_module_version": "1.2.0",
            "_view_name": "LayoutView",
            "align_content": null,
            "align_items": null,
            "align_self": null,
            "border": null,
            "bottom": null,
            "display": null,
            "flex": null,
            "flex_flow": null,
            "grid_area": null,
            "grid_auto_columns": null,
            "grid_auto_flow": null,
            "grid_auto_rows": null,
            "grid_column": null,
            "grid_gap": null,
            "grid_row": null,
            "grid_template_areas": null,
            "grid_template_columns": null,
            "grid_template_rows": null,
            "height": null,
            "justify_content": null,
            "justify_items": null,
            "left": null,
            "margin": null,
            "max_height": null,
            "max_width": null,
            "min_height": null,
            "min_width": null,
            "object_fit": null,
            "object_position": null,
            "order": null,
            "overflow": null,
            "overflow_x": null,
            "overflow_y": null,
            "padding": null,
            "right": null,
            "top": null,
            "visibility": null,
            "width": null
          }
        },
        "da360c7798f945388d99b466a09abe64": {
          "model_module": "@jupyter-widgets/controls",
          "model_name": "ProgressStyleModel",
          "model_module_version": "1.5.0",
          "state": {
            "_model_module": "@jupyter-widgets/controls",
            "_model_module_version": "1.5.0",
            "_model_name": "ProgressStyleModel",
            "_view_count": null,
            "_view_module": "@jupyter-widgets/base",
            "_view_module_version": "1.2.0",
            "_view_name": "StyleView",
            "bar_color": null,
            "description_width": ""
          }
        },
        "7f1c5143043b4b9aa6262c18d6a91057": {
          "model_module": "@jupyter-widgets/base",
          "model_name": "LayoutModel",
          "model_module_version": "1.2.0",
          "state": {
            "_model_module": "@jupyter-widgets/base",
            "_model_module_version": "1.2.0",
            "_model_name": "LayoutModel",
            "_view_count": null,
            "_view_module": "@jupyter-widgets/base",
            "_view_module_version": "1.2.0",
            "_view_name": "LayoutView",
            "align_content": null,
            "align_items": null,
            "align_self": null,
            "border": null,
            "bottom": null,
            "display": null,
            "flex": null,
            "flex_flow": null,
            "grid_area": null,
            "grid_auto_columns": null,
            "grid_auto_flow": null,
            "grid_auto_rows": null,
            "grid_column": null,
            "grid_gap": null,
            "grid_row": null,
            "grid_template_areas": null,
            "grid_template_columns": null,
            "grid_template_rows": null,
            "height": null,
            "justify_content": null,
            "justify_items": null,
            "left": null,
            "margin": null,
            "max_height": null,
            "max_width": null,
            "min_height": null,
            "min_width": null,
            "object_fit": null,
            "object_position": null,
            "order": null,
            "overflow": null,
            "overflow_x": null,
            "overflow_y": null,
            "padding": null,
            "right": null,
            "top": null,
            "visibility": null,
            "width": null
          }
        },
        "1d3a40c1ef444de38a928ca72813fcbe": {
          "model_module": "@jupyter-widgets/controls",
          "model_name": "DescriptionStyleModel",
          "model_module_version": "1.5.0",
          "state": {
            "_model_module": "@jupyter-widgets/controls",
            "_model_module_version": "1.5.0",
            "_model_name": "DescriptionStyleModel",
            "_view_count": null,
            "_view_module": "@jupyter-widgets/base",
            "_view_module_version": "1.2.0",
            "_view_name": "StyleView",
            "description_width": ""
          }
        }
      }
    }
  },
  "nbformat": 4,
  "nbformat_minor": 0
}
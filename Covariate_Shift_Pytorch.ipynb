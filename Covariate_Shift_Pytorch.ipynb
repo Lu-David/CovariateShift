{
  "nbformat": 4,
  "nbformat_minor": 0,
  "metadata": {
    "colab": {
      "name": "Covariate Shift Pytorch",
      "provenance": [],
      "toc_visible": true,
      "authorship_tag": "ABX9TyNrRx+5R1Wq11C1uPxmMVPp",
      "include_colab_link": true
    },
    "kernelspec": {
      "name": "python3",
      "display_name": "Python 3"
    },
    "language_info": {
      "name": "python"
    }
  },
  "cells": [
    {
      "cell_type": "markdown",
      "metadata": {
        "id": "view-in-github",
        "colab_type": "text"
      },
      "source": [
        "<a href=\"https://colab.research.google.com/github/Lu-David/CovariateShift/blob/main/Covariate_Shift_Pytorch.ipynb\" target=\"_parent\"><img src=\"https://colab.research.google.com/assets/colab-badge.svg\" alt=\"Open In Colab\"/></a>"
      ]
    },
    {
      "cell_type": "markdown",
      "source": [
        "# Python implementation of 2014 Liu Paper\n",
        "\n",
        "https://proceedings.neurips.cc/paper/2014/file/d67d8ab4f4c10bf22aa353e27879133c-Paper.pdf"
      ],
      "metadata": {
        "id": "_2PBOjKyuBb0"
      }
    },
    {
      "cell_type": "markdown",
      "source": [
        "## Binary Classification"
      ],
      "metadata": {
        "id": "Wpc54G11wtVt"
      }
    },
    {
      "cell_type": "markdown",
      "source": [
        "### Load Data"
      ],
      "metadata": {
        "id": "8ouUIYmRtHX_"
      }
    },
    {
      "cell_type": "code",
      "source": [
        "import scipy.io\n",
        "import numpy as np\n",
        "import os\n",
        "import torch\n",
        "\n",
        "folder_path = '/content' # TODO Upload data files and / or specify path\n",
        "\n",
        "x_1 = scipy.io.loadmat(os.path.join(folder_path, 'x_1.mat'))['x_1']\n",
        "x_2 = scipy.io.loadmat(os.path.join(folder_path, 'x_2.mat'))['x_2']\n",
        "y_1 = np.transpose(scipy.io.loadmat(os.path.join(folder_path, 'y_1.mat'))['y_1'])\n",
        "y_2 = np.transpose(scipy.io.loadmat(os.path.join(folder_path, 'y_2.mat'))['y_2'])"
      ],
      "metadata": {
        "id": "S6gJmDSxtt81"
      },
      "execution_count": 153,
      "outputs": []
    },
    {
      "cell_type": "code",
      "source": [
        "# source mean \n",
        "mu_s = [6, 6] \n",
        "\n",
        "# source variance\n",
        "var_s = [[3, -2], [-2, 3]] \n",
        "\n",
        "# target mean\n",
        "mu_t = [7, 7] \n",
        "\n",
        "# target variance\n",
        "var_t = [[3, 2], [2, 3]] "
      ],
      "metadata": {
        "id": "QDH0YmX-0qlj"
      },
      "execution_count": 154,
      "outputs": []
    },
    {
      "cell_type": "code",
      "source": [
        "from scipy.stats import multivariate_normal\n",
        "\n",
        "mvn_s = multivariate_normal(mu_s, var_s)\n",
        "mvn_t = multivariate_normal(mu_t, var_t)\n",
        "\n",
        "# Because we have expert knowledge on mu and var for both source and target, \n",
        "# we can get the predicted probabilities for each data point under source and target distributions \n",
        "d_s = mvn_s.pdf(x_1)\n",
        "d_t = mvn_t.pdf(x_1)"
      ],
      "metadata": {
        "id": "nPZQyX4R9iyC"
      },
      "execution_count": 155,
      "outputs": []
    },
    {
      "cell_type": "code",
      "source": [
        "r_ts = np.tile(np.reshape((d_t / d_s), (100, 1)), 2)\n",
        "x_1_iw = x_1 * r_ts"
      ],
      "metadata": {
        "id": "DwYRA_gHZh45"
      },
      "execution_count": 156,
      "outputs": []
    },
    {
      "cell_type": "code",
      "source": [
        "x_1 = torch.FloatTensor(x_1)\n",
        "x_2 = torch.FloatTensor(x_2)\n",
        "y_1 = torch.FloatTensor(y_1)\n",
        "y_2 = torch.FloatTensor(y_2)"
      ],
      "metadata": {
        "id": "j2fH02u3ZmvI"
      },
      "execution_count": 196,
      "outputs": []
    },
    {
      "cell_type": "code",
      "source": [
        "x_1_sec = torch.cat((x_1, (x_1[:, 0] ** 2).unsqueeze(1), (x_1[:, 0] * x_1[:, 1]).unsqueeze(1), (x_1[:, 1] ** 2).unsqueeze(1)), dim =1)\n",
        "x_2_sec = torch.cat((x_2, (x_2[:, 0] ** 2).unsqueeze(1), (x_2[:, 0] * x_2[:, 1]).unsqueeze(1), (x_2[:, 1] ** 2).unsqueeze(1)), dim =1)"
      ],
      "metadata": {
        "id": "FwK832BjuXCy"
      },
      "execution_count": 199,
      "outputs": []
    },
    {
      "cell_type": "markdown",
      "source": [
        "### Logistic Regression (LR) and Importance Weighting (IW)"
      ],
      "metadata": {
        "id": "tDonecKnmNJ6"
      }
    },
    {
      "cell_type": "code",
      "source": [
        "import torch\n",
        "import torch.nn as nn\n",
        "import torchvision\n",
        "import torch.nn.functional as F\n",
        "from torch.optim import Adam\n",
        "\n",
        "class LRClassifier(nn.Module):\n",
        "    def __init__(self, in_features = 2, out_features = 1):\n",
        "      super(LRClassifier, self).__init__()\n",
        "      \n",
        "      self.layer1 = nn.Linear(in_features, out_features)\n",
        "      \n",
        "      self.activation1 = nn.Sigmoid()\n",
        "\n",
        "    def forward(self, input):\n",
        "      return self.activation1(self.layer1(input))"
      ],
      "metadata": {
        "id": "bkTJCkOimPWo"
      },
      "execution_count": 101,
      "outputs": []
    },
    {
      "cell_type": "code",
      "source": [
        "def binaryLRTrain(X_s, y_s, r_ts, max_itr = 10000):\n",
        "\n",
        "  lr_model = LRClassifier(in_features = X_s.shape[1])\n",
        "  loss_fn = nn.BCELoss() \n",
        "  optimizer = torch.optim.Adam(lr_model.parameters(), lr = 0.01)\n",
        "  for param in lr_model.parameters():\n",
        "    param.data = nn.parameter.Parameter(torch.ones_like(param))\n",
        "\n",
        "  lr_model.train()\n",
        "\n",
        "  # convert labels from -1, 1 to 0, 1\n",
        "  if -1 in y_s:\n",
        "    y_s = torch.FloatTensor(np.where(y_s == 1, 1, 0))\n",
        "\n",
        "  n_row, _ = X_s.shape\n",
        "\n",
        "  X_s = X_s * r_ts\n",
        "  \n",
        "  for i in range(max_itr): \n",
        "      running_loss = 0.0\n",
        "      optimizer.zero_grad()\n",
        "      \n",
        "      outputs = lr_model.forward(X_s)\n",
        "      loss = loss_fn(outputs.squeeze(), y_s.squeeze())\n",
        "\n",
        "      loss.backward()\n",
        "\n",
        "      optimizer.step()\n",
        "\n",
        "      if i % 1000 == 0:\n",
        "        print(f\"Loss at step {i}: {float(loss.data)}\")\n",
        "\n",
        "  return lr_model"
      ],
      "metadata": {
        "id": "WvHqSv2Alazi"
      },
      "execution_count": 143,
      "outputs": []
    },
    {
      "cell_type": "code",
      "source": [
        "model = binaryLRTrain(x_1_sec, y_1, torch.ones((len(x_1_sec), 1)))"
      ],
      "metadata": {
        "colab": {
          "base_uri": "https://localhost:8080/"
        },
        "id": "FBW-NrpvsmvS",
        "outputId": "ed8d43b8-4e8f-45dc-825d-7aa3a794ebcc"
      },
      "execution_count": 115,
      "outputs": [
        {
          "output_type": "stream",
          "name": "stdout",
          "text": [
            "Loss at step 0: 19.068561553955078\n",
            "Loss at step 1000: 0.5310608148574829\n",
            "Loss at step 2000: 0.43557366728782654\n",
            "Loss at step 3000: 0.39726749062538147\n",
            "Loss at step 4000: 0.38306552171707153\n",
            "Loss at step 5000: 0.37863361835479736\n",
            "Loss at step 6000: 0.3776043653488159\n",
            "Loss at step 7000: 0.37725743651390076\n",
            "Loss at step 8000: 0.37683531641960144\n",
            "Loss at step 9000: 0.3762158453464508\n"
          ]
        }
      ]
    },
    {
      "cell_type": "code",
      "source": [
        "from matplotlib import markers\n",
        "import matplotlib as mpl\n",
        "import matplotlib.pyplot as plt\n",
        "from matplotlib import cm\n",
        "\n",
        "maxs = 15\n",
        "mins = -5\n",
        " \n",
        "X_dim1, X_dim2 = np.meshgrid(np.arange(mins, maxs + 0.1, 0.1), np.arange(mins, maxs + 0.1, 0.1))\n",
        "\n",
        "dim = int((maxs - mins) / 0.1 + 1)\n",
        "\n",
        "prediction = np.zeros((dim, dim))\n",
        "\n",
        "for i in range(dim):\n",
        "  for j in range(dim):\n",
        "    \n",
        "    x_t = torch.FloatTensor([X_dim1[i, j], X_dim2[i, j], X_dim1[i, j] ** 2, X_dim1[i, j] * X_dim2[i, j], X_dim2[i, j] ** 2]) / 10 # X_dim1[i, j] ** 2, X_dim1[i, j] * X_dim2[i, j], X_dim2[i, j] ** 2\n",
        "    outputs = model(x_t).double()\n",
        "    prediction[i, j] = outputs[0]\n",
        "    \n",
        "\n",
        "plt.imshow(prediction, cmap='Spectral', interpolation='nearest', origin='lower', extent=[-5, 15, -5, 15])\n",
        "\n",
        "pos = x_1[np.array(y_1 == 1).flatten()]\n",
        "neg = x_1[np.array(y_1 == -1).flatten()]\n",
        "\n",
        "plt.scatter(pos[:,0], pos[:,1], marker=\"x\", color=\"black\")\n",
        "plt.scatter(neg[:,0], neg[:,1], marker=\"o\", color=\"white\")"
      ],
      "metadata": {
        "id": "8qzTnw_133zy",
        "colab": {
          "base_uri": "https://localhost:8080/",
          "height": 286
        },
        "outputId": "a37b229c-1756-42a1-ac1c-b6d573ff9ec6"
      },
      "execution_count": 135,
      "outputs": [
        {
          "output_type": "execute_result",
          "data": {
            "text/plain": [
              "<matplotlib.collections.PathCollection at 0x7f3a42cf9350>"
            ]
          },
          "metadata": {},
          "execution_count": 135
        },
        {
          "output_type": "display_data",
          "data": {
            "image/png": "[encoded data removed]",
            "text/plain": [
              "<Figure size 432x288 with 1 Axes>"
            ]
          },
          "metadata": {
            "needs_background": "light"
          }
        }
      ]
    },
    {
      "cell_type": "code",
      "source": [
        "r_ts = np.tile(np.reshape((d_t / d_s), (100, 1)), 2)\n",
        "(x_1 * r_ts).float() "
      ],
      "metadata": {
        "colab": {
          "base_uri": "https://localhost:8080/"
        },
        "id": "RN3CUzAbYAdx",
        "outputId": "698bfbc1-11b1-4e5c-e04f-0b84126d8446"
      },
      "execution_count": 170,
      "outputs": [
        {
          "output_type": "execute_result",
          "data": {
            "text/plain": [
              "tensor([[5.6315e-02, 2.2233e-02],\n",
              "        [2.9625e+00, 2.1157e+00],\n",
              "        [2.7537e+00, 3.5105e+00],\n",
              "        [1.0586e-01, 2.3099e-01],\n",
              "        [4.4715e+00, 3.9502e+00],\n",
              "        [5.8054e+00, 4.5030e+00],\n",
              "        [3.4196e+00, 4.2582e+00],\n",
              "        [1.4317e+00, 2.1474e+00],\n",
              "        [2.1984e+00, 3.4802e+00],\n",
              "        [5.3776e-02, 1.1600e-01],\n",
              "        [6.0063e+00, 5.7338e+00],\n",
              "        [5.0364e+00, 2.8357e+00],\n",
              "        [6.7780e+00, 7.9286e+00],\n",
              "        [3.6502e+00, 2.2956e+00],\n",
              "        [3.7328e+00, 2.8451e+00],\n",
              "        [5.1163e+00, 4.8933e+00],\n",
              "        [1.1669e+02, 8.6550e+01],\n",
              "        [4.4896e+00, 3.8099e+00],\n",
              "        [8.5733e-03, 3.0641e-03],\n",
              "        [1.2133e+00, 1.8246e+00],\n",
              "        [5.1834e+00, 4.2815e+00],\n",
              "        [3.8990e+00, 4.4904e+00],\n",
              "        [1.5435e+00, 9.9138e-01],\n",
              "        [6.9737e-01, 3.7066e-01],\n",
              "        [2.1186e-04, 8.5489e-04],\n",
              "        [2.6616e+00, 4.1696e+00],\n",
              "        [9.6014e-01, 1.7348e+00],\n",
              "        [1.6284e+01, 1.7643e+01],\n",
              "        [7.7850e-02, 3.4264e-02],\n",
              "        [3.7804e+00, 4.3108e+00],\n",
              "        [1.0808e+01, 9.0817e+00],\n",
              "        [2.5973e+00, 1.8634e+00],\n",
              "        [9.7136e-02, 1.9860e-01],\n",
              "        [3.1870e+00, 2.4280e+00],\n",
              "        [4.7471e-01, 8.2618e-01],\n",
              "        [1.3783e+00, 8.0877e-01],\n",
              "        [4.6379e+00, 4.4967e+00],\n",
              "        [7.6584e-03, 2.5951e-03],\n",
              "        [5.1888e+00, 5.0709e+00],\n",
              "        [2.4758e+00, 1.7528e+00],\n",
              "        [4.4638e+00, 4.1725e+00],\n",
              "        [9.2171e-03, 2.8808e-02],\n",
              "        [1.5375e-01, 3.0057e-01],\n",
              "        [2.2750e+00, 1.5815e+00],\n",
              "        [5.7410e+00, 7.3306e+00],\n",
              "        [9.9672e-01, 1.6207e+00],\n",
              "        [8.6379e-01, 1.4022e+00],\n",
              "        [3.3959e+00, 2.6596e+00],\n",
              "        [4.9336e-01, 8.5007e-01],\n",
              "        [1.0752e+01, 8.5691e+00],\n",
              "        [2.7844e+00, 3.5332e+00],\n",
              "        [1.0613e-02, 3.8875e-03],\n",
              "        [1.6163e-02, 3.8488e-02],\n",
              "        [8.9494e+00, 9.8701e+00],\n",
              "        [1.6533e-01, 3.5364e-01],\n",
              "        [7.8944e-01, 1.2762e+00],\n",
              "        [2.8906e+00, 3.6159e+00],\n",
              "        [8.8379e+00, 8.5115e+00],\n",
              "        [2.6382e+01, 2.3299e+01],\n",
              "        [1.3343e+00, 7.3293e-01],\n",
              "        [2.2057e+00, 3.1967e+00],\n",
              "        [2.8124e+01, 2.6333e+01],\n",
              "        [2.5869e+00, 1.8004e+00],\n",
              "        [1.1508e+01, 1.5043e+01],\n",
              "        [4.4245e+00, 3.5076e+00],\n",
              "        [1.2794e+00, 7.4808e-01],\n",
              "        [1.7997e+01, 1.8070e+01],\n",
              "        [1.5151e+00, 9.7186e-01],\n",
              "        [9.6060e-01, 1.5175e+00],\n",
              "        [1.6257e+00, 2.3323e+00],\n",
              "        [6.3575e+00, 6.3808e+00],\n",
              "        [4.3949e+00, 4.5096e+00],\n",
              "        [4.5411e+00, 4.9867e+00],\n",
              "        [3.9999e-01, 1.8187e-01],\n",
              "        [2.4751e-01, 1.2069e-01],\n",
              "        [4.5993e+00, 4.2045e+00],\n",
              "        [7.2938e+00, 6.9884e+00],\n",
              "        [4.0735e+00, 4.5617e+00],\n",
              "        [2.2822e+00, 1.5136e+00],\n",
              "        [4.2309e+00, 3.4285e+00],\n",
              "        [3.6644e+00, 4.3259e+00],\n",
              "        [2.9419e+00, 2.1905e+00],\n",
              "        [1.0972e+01, 1.0007e+01],\n",
              "        [5.2756e+00, 5.1728e+00],\n",
              "        [2.8489e-01, 1.4304e-01],\n",
              "        [1.0017e+00, 1.5886e+00],\n",
              "        [1.2301e+00, 1.8448e+00],\n",
              "        [3.0421e-03, 8.9463e-03],\n",
              "        [6.6365e+00, 5.1067e+00],\n",
              "        [1.6951e+01, 1.4710e+01],\n",
              "        [4.9721e+00, 5.6889e+00],\n",
              "        [2.6283e+01, 2.3603e+01],\n",
              "        [5.0729e+00, 4.6706e+00],\n",
              "        [4.6339e+00, 3.9917e+00],\n",
              "        [1.1018e+01, 1.4344e+01],\n",
              "        [2.5085e+00, 1.7932e+00],\n",
              "        [5.0260e+00, 4.7842e+00],\n",
              "        [6.0802e-03, 2.2287e-03],\n",
              "        [2.4528e-01, 4.6479e-01],\n",
              "        [1.0229e-04, 3.6521e-04]])"
            ]
          },
          "metadata": {},
          "execution_count": 170
        }
      ]
    },
    {
      "cell_type": "code",
      "source": [
        "iw_bin_model = binaryLRTrain(x_1_iw, y_1, torch.ones((len(x_1), 1)))"
      ],
      "metadata": {
        "colab": {
          "base_uri": "https://localhost:8080/"
        },
        "id": "qAgUcI7glqit",
        "outputId": "42ee564d-3cf4-47cf-8fbb-79de28517934"
      },
      "execution_count": 168,
      "outputs": [
        {
          "output_type": "stream",
          "name": "stdout",
          "text": [
            "Loss at step 0: 15.914134979248047\n",
            "Loss at step 1000: 0.6314664483070374\n",
            "Loss at step 2000: 0.6309084296226501\n",
            "Loss at step 3000: 0.6309014558792114\n",
            "Loss at step 4000: 0.6309013962745667\n",
            "Loss at step 5000: 0.6309013962745667\n",
            "Loss at step 6000: 0.6309014558792114\n",
            "Loss at step 7000: 0.6309014558792114\n",
            "Loss at step 8000: 0.6309014558792114\n",
            "Loss at step 9000: 0.6309014558792114\n"
          ]
        }
      ]
    },
    {
      "cell_type": "code",
      "source": [
        "from matplotlib import markers\n",
        "import matplotlib as mpl\n",
        "import matplotlib.pyplot as plt\n",
        "from matplotlib import cm\n",
        "\n",
        "maxs = 15\n",
        "mins = -5\n",
        " \n",
        "X_dim1, X_dim2 = np.meshgrid(np.arange(mins, maxs + 0.1, 0.1), np.arange(mins, maxs + 0.1, 0.1))\n",
        "\n",
        "dim = int((maxs - mins) / 0.1 + 1)\n",
        "\n",
        "prediction = np.zeros((dim, dim))\n",
        "\n",
        "for i in range(dim):\n",
        "  for j in range(dim):\n",
        "    \n",
        "    x_t = torch.FloatTensor([X_dim1[i, j], X_dim2[i, j]]) # X_dim1[i, j] ** 2, X_dim1[i, j] * X_dim2[i, j], X_dim2[i, j] ** 2\n",
        "    outputs = iw_bin_model(x_t)\n",
        "    prediction[i, j] = outputs[0]\n",
        "\n",
        "plt.imshow(prediction, cmap='Spectral', interpolation='nearest', origin='lower', extent=[-5, 15, -5, 15])\n",
        "\n",
        "pos = x_1[np.array(y_1 == 1).flatten()]\n",
        "neg = x_1[np.array(y_1 == -1).flatten()]\n",
        "\n",
        "plt.scatter(pos[:,0], pos[:,1], marker=\"x\", color=\"black\")\n",
        "plt.scatter(neg[:,0], neg[:,1], marker=\"o\", color=\"white\")"
      ],
      "metadata": {
        "id": "WDlVtQG6l3Cm",
        "colab": {
          "base_uri": "https://localhost:8080/",
          "height": 286
        },
        "outputId": "03ec4a07-7b05-4bd3-c648-893b77ad4adb"
      },
      "execution_count": 169,
      "outputs": [
        {
          "output_type": "execute_result",
          "data": {
            "text/plain": [
              "<matplotlib.collections.PathCollection at 0x7f3a42a57350>"
            ]
          },
          "metadata": {},
          "execution_count": 169
        },
        {
          "output_type": "display_data",
          "data": {
            "image/png": "[encoded data removed]",
            "text/plain": [
              "<Figure size 432x288 with 1 Axes>"
            ]
          },
          "metadata": {
            "needs_background": "light"
          }
        }
      ]
    },
    {
      "cell_type": "code",
      "source": [
        "rba_bin_model = binaryLRTrain(x_1, y_1, torch.FloatTensor(d_s / d_t).unsqueeze(1) , torch.ones((len(x_1), 1)))"
      ],
      "metadata": {
        "colab": {
          "base_uri": "https://localhost:8080/"
        },
        "id": "LuQZWSeo9DeX",
        "outputId": "d3386afe-3763-425f-c820-9eb644f24bc1"
      },
      "execution_count": null,
      "outputs": [
        {
          "output_type": "stream",
          "name": "stdout",
          "text": [
            "layer1.weight tensor([[1., 1.]]) None\n",
            "layer1.bias tensor([1.]) None\n",
            "layer1.weight tensor([[-0.2543, -0.2662]]) tensor([[0.0064, 0.0147]])\n",
            "layer1.bias tensor([3.0896]) tensor([-0.0188])\n",
            "tensor(0.4542)\n"
          ]
        }
      ]
    },
    {
      "cell_type": "code",
      "source": [
        "maxs = 15\n",
        "mins = -5\n",
        "\n",
        "X_dim1, X_dim2 = np.meshgrid(np.arange(mins, maxs + 0.1, 0.1), np.arange(mins, maxs + 0.1, 0.1))\n",
        "\n",
        "dim = int((maxs - mins) / 0.1 + 1)\n",
        "\n",
        "prediction = np.zeros((dim, dim))\n",
        "\n",
        "for i in range(dim):\n",
        "  for j in range(dim):\n",
        "    x_t = torch.FloatTensor([X_dim1[i, j], X_dim2[i, j]])\n",
        "    outputs = rba_bin_model(x_t, torch.ones(len(x_t)))\n",
        "    prediction[i, j] = outputs[0]"
      ],
      "metadata": {
        "id": "aSjoUmDy_wcY"
      },
      "execution_count": null,
      "outputs": []
    },
    {
      "cell_type": "code",
      "source": [
        "plt.imshow(prediction, cmap='Spectral', interpolation='nearest', origin='lower', extent=[-5, 15, -5, 15])\n",
        "\n",
        "pos = x_1[np.array(y_1 == 1).flatten()]\n",
        "neg = x_1[np.array(y_1 == -1).flatten()]\n",
        "\n",
        "plt.scatter(pos[:,0], pos[:,1], marker=\"x\", color=\"black\")\n",
        "plt.scatter(neg[:,0], neg[:,1], marker=\"o\", color=\"white\")"
      ],
      "metadata": {
        "colab": {
          "base_uri": "https://localhost:8080/",
          "height": 287
        },
        "id": "rlZ5aLQs_2l0",
        "outputId": "6b0ade33-8196-4a6a-ab8c-3ca6ad85e68a"
      },
      "execution_count": null,
      "outputs": [
        {
          "output_type": "execute_result",
          "data": {
            "text/plain": [
              "<matplotlib.collections.PathCollection at 0x7f7d7d26dc50>"
            ]
          },
          "metadata": {},
          "execution_count": 146
        },
        {
          "output_type": "display_data",
          "data": {
            "image/png": "[encoded data removed]",
            "text/plain": [
              "<Figure size 432x288 with 1 Axes>"
            ]
          },
          "metadata": {
            "needs_background": "light"
          }
        }
      ]
    },
    {
      "cell_type": "code",
      "source": [
        "torch.cat((model(x_2), y_2), dim = 1)"
      ],
      "metadata": {
        "id": "gVu14CSMB22Y"
      },
      "execution_count": null,
      "outputs": []
    },
    {
      "cell_type": "code",
      "source": [
        "def binaryLRTest(X_t, y_t, model):\n",
        "    \n",
        "    model.eval()\n",
        "    accuracy = 0.0\n",
        "    total = 0.0\n",
        "    \n",
        "    with torch.no_grad():\n",
        "      outputs = model(X_t)\n",
        "      # the label with the highest energy will be our prediction\n",
        "      total += labels.size(0)\n",
        "      accuracy += (predicted == labels).sum().item()\n",
        "    \n",
        "    # compute the accuracy over all test images\n",
        "    accuracy = (100 * accuracy / total)\n",
        "    return(accuracy)\n"
      ],
      "metadata": {
        "id": "GnUCs4_TxOiT"
      },
      "execution_count": null,
      "outputs": []
    },
    {
      "cell_type": "markdown",
      "source": [
        "### Robust Bias-Aware (RBA)\n"
      ],
      "metadata": {
        "id": "2Cgsr6FKNdwX"
      }
    },
    {
      "cell_type": "code",
      "source": [
        "import torch\n",
        "import torch.nn as nn\n",
        "import torchvision\n",
        "import torch.nn.functional as F\n",
        "from torch.optim import Adam\n",
        "\n",
        "class RBAClassifier(nn.Module):\n",
        "    def __init__(self, in_features = 2, out_features = 1):\n",
        "      super(RBAClassifier, self).__init__()\n",
        "      \n",
        "      self.layer1 = nn.Linear(in_features, out_features, bias = True)\n",
        "\n",
        "    def forward(self, input):\n",
        "      return self.layer1(input)"
      ],
      "metadata": {
        "id": "l6o_d1RiNkMo"
      },
      "execution_count": 171,
      "outputs": []
    },
    {
      "cell_type": "code",
      "source": [
        "class RBAGrad(torch.autograd.Function):\n",
        "    @staticmethod\n",
        "    def forward(ctx, output, prob, y):\n",
        "        ctx.save_for_backward(output, prob, y)\n",
        "        return output\n",
        "\n",
        "    @staticmethod\n",
        "    def backward(ctx, grad_output):\n",
        "        output, prob, y = ctx.saved_tensors\n",
        "        grad_temp = grad_output.clone()\n",
        "        grad_input = grad_temp * (prob - y)\n",
        "        return grad_input, None, None"
      ],
      "metadata": {
        "id": "Qs9c2s17QlEQ"
      },
      "execution_count": 172,
      "outputs": []
    },
    {
      "cell_type": "code",
      "source": [
        "def binaryRBATrain(X_s, y_s, r_st, r_ts, max_itr = 10000):\n",
        "\n",
        "  rba_model = RBAClassifier(in_features = X_s.shape[1])\n",
        " \n",
        "  optimizer = torch.optim.Adam(rba_model.parameters(), lr = 0.01)\n",
        "\n",
        "  for param in rba_model.parameters():\n",
        "    param.data = nn.parameter.Parameter(torch.ones_like(param))\n",
        "\n",
        "  rba_model.train()\n",
        "\n",
        "  # convert labels from -1, 1 to 0, 1\n",
        "  if -1 in y_s:\n",
        "    y_s = torch.FloatTensor(np.where(y_s == 1, 1, 0))\n",
        "\n",
        "  n_row, _ = X_s.shape\n",
        "\n",
        "  X_s *= r_ts\n",
        "\n",
        "  for i in range(max_itr):  # loop over the dataset multiple times\n",
        "      running_loss = 0.0\n",
        "    \n",
        "      optimizer.zero_grad()\n",
        "      \n",
        "      outputs = rba_model.forward(X_s)\n",
        "      output_last = RBAGrad.apply(outputs, torch.sigmoid(outputs * r_st), y_s)\n",
        "      output_last.backward(torch.ones(output_last.shape))\n",
        "\n",
        "      # adjust parameters based on the calculated gradients\n",
        "      optimizer.step()\n",
        "\n",
        "  return rba_model"
      ],
      "metadata": {
        "id": "se_GxYcrO6mg"
      },
      "execution_count": 204,
      "outputs": []
    },
    {
      "cell_type": "code",
      "source": [
        "iw_model = binaryRBATrain(x_1_sec, y_1, torch.ones((x_1.shape[0], 1)), torch.Tensor(d_t / d_s).unsqueeze(1)) "
      ],
      "metadata": {
        "id": "CRidJY6LqBHL"
      },
      "execution_count": 205,
      "outputs": []
    },
    {
      "cell_type": "code",
      "source": [
        "from matplotlib import markers\n",
        "import matplotlib as mpl\n",
        "import matplotlib.pyplot as plt\n",
        "from matplotlib import cm\n",
        "\n",
        "maxs = 15\n",
        "mins = -5\n",
        "\n",
        "X_dim1, X_dim2 = np.meshgrid(np.arange(mins, maxs + 0.1, 0.1), np.arange(mins, maxs + 0.1, 0.1))\n",
        "\n",
        "dim = int((maxs - mins) / 0.1 + 1)\n",
        "\n",
        "prediction = np.zeros((dim, dim))\n",
        "\n",
        "for i in range(dim):\n",
        "  for j in range(dim):\n",
        "    x_t = torch.FloatTensor([X_dim1[i, j], X_dim2[i, j], X_dim1[i, j] ** 2, X_dim1[i, j] * X_dim2[i, j], X_dim2[i, j] ** 2])\n",
        "    outputs = torch.sigmoid(iw_model(x_t))\n",
        "    prediction[i, j] = outputs[0]\n",
        "\n",
        "plt.imshow(prediction, cmap='Spectral', interpolation='nearest', origin='lower', extent=[-5, 15, -5, 15])\n",
        "\n",
        "pos = x_1[np.array(y_1 == 1).flatten()]\n",
        "neg = x_1[np.array(y_1 == -1).flatten()]\n",
        "\n",
        "plt.scatter(pos[:,0], pos[:,1], marker=\"x\", color=\"black\")\n",
        "plt.scatter(neg[:,0], neg[:,1], marker=\"o\", color=\"white\")"
      ],
      "metadata": {
        "colab": {
          "base_uri": "https://localhost:8080/",
          "height": 286
        },
        "id": "xrpypnAYqMiE",
        "outputId": "f10d967e-b6c5-472e-de2e-7d73db4fd36b"
      },
      "execution_count": 206,
      "outputs": [
        {
          "output_type": "execute_result",
          "data": {
            "text/plain": [
              "<matplotlib.collections.PathCollection at 0x7f3a425c9110>"
            ]
          },
          "metadata": {},
          "execution_count": 206
        },
        {
          "output_type": "display_data",
          "data": {
            "image/png": "[encoded data removed]",
            "text/plain": [
              "<Figure size 432x288 with 1 Axes>"
            ]
          },
          "metadata": {
            "needs_background": "light"
          }
        }
      ]
    },
    {
      "cell_type": "code",
      "source": [
        "rba_model = binaryRBATrain(x_1, y_1, torch.Tensor(d_s / d_t).unsqueeze(1), torch.ones((x_1.shape[0], 1))) "
      ],
      "metadata": {
        "id": "CfIYv7QfQrUB"
      },
      "execution_count": 201,
      "outputs": []
    },
    {
      "cell_type": "code",
      "source": [
        "from matplotlib import markers\n",
        "import matplotlib as mpl\n",
        "import matplotlib.pyplot as plt\n",
        "from matplotlib import cm\n",
        "\n",
        "maxs = 15\n",
        "mins = -5\n",
        "\n",
        "X_dim1, X_dim2 = np.meshgrid(np.arange(mins, maxs + 0.1, 0.1), np.arange(mins, maxs + 0.1, 0.1))\n",
        "\n",
        "dim = int((maxs - mins) / 0.1 + 1)\n",
        "\n",
        "prediction = np.zeros((dim, dim))\n",
        "\n",
        "for i in range(dim):\n",
        "  for j in range(dim):\n",
        "    x_t = torch.FloatTensor([X_dim1[i, j], X_dim2[i, j]])\n",
        "    x_t = x_t.reshape((1, 2))\n",
        "    outputs = torch.sigmoid(rba_model(x_t) * mvn_s.pdf(x_t) / mvn_t.pdf(x_t))\n",
        "    prediction[i, j] = outputs[0]\n",
        "\n",
        "plt.imshow(prediction, cmap='Spectral', interpolation='nearest', origin='lower', extent=[-5, 15, -5, 15])\n",
        "\n",
        "pos = x_1[np.array(y_1 == 1).flatten()]\n",
        "neg = x_1[np.array(y_1 == -1).flatten()]\n",
        "\n",
        "plt.scatter(pos[:,0], pos[:,1], marker=\"x\", color=\"black\")\n",
        "plt.scatter(neg[:,0], neg[:,1], marker=\"o\", color=\"white\")"
      ],
      "metadata": {
        "id": "7I8g5IoeTeOQ",
        "colab": {
          "base_uri": "https://localhost:8080/",
          "height": 286
        },
        "outputId": "9dbdba42-3eee-43ea-ce76-cd961757dc44"
      },
      "execution_count": 191,
      "outputs": [
        {
          "output_type": "execute_result",
          "data": {
            "text/plain": [
              "<matplotlib.collections.PathCollection at 0x7f3a42f6b190>"
            ]
          },
          "metadata": {},
          "execution_count": 191
        },
        {
          "output_type": "display_data",
          "data": {
            "image/png": "[encoded data removed]",
            "text/plain": [
              "<Figure size 432x288 with 1 Axes>"
            ]
          },
          "metadata": {
            "needs_background": "light"
          }
        }
      ]
    },
    {
      "cell_type": "markdown",
      "source": [
        "### Text"
      ],
      "metadata": {
        "id": "ZtoK9581Qt_4"
      }
    },
    {
      "cell_type": "code",
      "source": [
        "from scipy.stats import multivariate_normal\n",
        "\n",
        "mvn_s = multivariate_normal(mu_s, var_s)\n",
        "mvn_t = multivariate_normal(mu_t, var_t)\n",
        "\n",
        "# Because we have expert knowledge on mu and var for both source and target, \n",
        "# we can get the predicted probabilities for each data point under source and target distributions \n",
        "d_s = mvn_s.pdf(x_1)\n",
        "d_t = mvn_t.pdf(x_1)"
      ],
      "metadata": {
        "id": "21mGJZQQYjoU"
      },
      "execution_count": null,
      "outputs": []
    },
    {
      "cell_type": "code",
      "source": [
        "# RBA\n",
        "theta_1 = binaryRobustTrain(x_1, y_1, d_s / d_t, np.ones((x_1.shape[0], 1)))\n",
        "print(\"Weights\", theta_1)"
      ],
      "metadata": {
        "colab": {
          "base_uri": "https://localhost:8080/"
        },
        "id": "TIOqqxGmdjzw",
        "outputId": "51652775-3aeb-4c0f-b5d7-11840b0b9c0e"
      },
      "execution_count": null,
      "outputs": [
        {
          "output_type": "stream",
          "name": "stdout",
          "text": [
            "Optimizination stops by reaching maximum iteration\n",
            "Weights [[11.91705313]\n",
            " [-1.00605443]\n",
            " [-1.0069282 ]]\n"
          ]
        }
      ]
    },
    {
      "cell_type": "code",
      "source": [
        "# Logistic Regression\n",
        "theta_2 = binaryRobustTrain(x_1, y_1, np.ones((x_1.shape[0], 1)), np.ones((x_1.shape[0], 1)))\n",
        "print(\"Weights\", theta_2)"
      ],
      "metadata": {
        "colab": {
          "base_uri": "https://localhost:8080/"
        },
        "id": "u1dDLQsdGD8j",
        "outputId": "43527841-5c3b-4be3-b58e-c1522bd28fad"
      },
      "execution_count": null,
      "outputs": [
        {
          "output_type": "stream",
          "name": "stdout",
          "text": [
            "Optimization stops by reaching minimum gradient.\n",
            "Weights [[12.35379291]\n",
            " [-1.04099695]\n",
            " [-1.0359673 ]]\n"
          ]
        }
      ]
    },
    {
      "cell_type": "code",
      "source": [
        "# Importance Weighting\n",
        "r_ts = d_t / d_s\n",
        "theta_3 = binaryRobustTrain(x_1, y_1, np.ones((x_1.shape[0], 1)), r_ts.reshape(r_ts.shape[0], 1))\n",
        "print(\"Weights\", theta_3)"
      ],
      "metadata": {
        "colab": {
          "base_uri": "https://localhost:8080/"
        },
        "id": "HAggbFoMGZhH",
        "outputId": "9687d145-d50a-4c90-a35e-1001f9946b9f"
      },
      "execution_count": null,
      "outputs": [
        {
          "output_type": "stream",
          "name": "stdout",
          "text": [
            "Optimization stops by reaching minimum gradient.\n",
            "Weights [[ 9.40884544]\n",
            " [-0.76023811]\n",
            " [-0.85193742]]\n"
          ]
        }
      ]
    },
    {
      "cell_type": "markdown",
      "source": [
        "### Testing"
      ],
      "metadata": {
        "id": "vBAqpEPrnNCU"
      }
    },
    {
      "cell_type": "code",
      "source": [
        "def binaryRobustTest(theta, X_t, y_t, r_st):\n",
        "  n_row, _ = X_t.shape\n",
        "\n",
        "  F = np.concatenate((np.ones((n_row, 1)), X_t), axis=1) \n",
        "\n",
        "  P = np.zeros((n_row, 1))\n",
        "  logloss = 0\n",
        "  prediction = np.zeros((n_row, 2))\n",
        "  for i in range(n_row):\n",
        "    W = r_st[i]\n",
        "    temp =  (np.dot(np.transpose(theta), np.transpose(F[i, :])) * y_t[i] * W)[0]      \n",
        "    temp_max = max(temp, -1 * temp)\n",
        "    temp_min = min(temp, -1 * temp)\n",
        "    P[i] = np.exp(temp - temp_max - np.log(1 + np.exp(temp_min - temp_max)))\n",
        "    logloss = logloss - np.log(P[i])\n",
        "\n",
        "    if y_t[i] == 1:\n",
        "      prediction[i] = [P[i], 1 - P[i]]\n",
        "    else:\n",
        "      prediction[i] = [1 - P[i], P[i]]\n",
        "\n",
        "  logloss = logloss / n_row / 0.6931\n",
        "  return logloss, prediction\n",
        "\n",
        "def computeAcc(pred, y):\n",
        "  n_row, n_class = pred.shape\n",
        "  \n",
        "  max_ind = np.argmax(pred, axis = 1)\n",
        "\n",
        "  summ = 0\n",
        "\n",
        "  if n_class == 2:\n",
        "    for i in range(n_row):\n",
        "      if max_ind[i] == 1 and y[i] == -1:\n",
        "        summ += 1\n",
        "      elif max_ind[i] == 0 and y[i] == 1:\n",
        "        summ += 1\n",
        "  else:\n",
        "    summ = sum(np.argmax(pred, axis = 1) == y_t - 1)\n",
        "\n",
        "  return summ / n_row"
      ],
      "metadata": {
        "id": "NBxGgX1tnNwQ"
      },
      "execution_count": null,
      "outputs": []
    },
    {
      "cell_type": "code",
      "source": [
        "d_s = mvn_s.pdf(x_2)\n",
        "d_t = mvn_t.pdf(x_2)"
      ],
      "metadata": {
        "id": "BgUO9mgnrF7n"
      },
      "execution_count": null,
      "outputs": []
    },
    {
      "cell_type": "code",
      "source": [
        "# RBA\n",
        "logloss_1, pred_1 = binaryRobustTest(theta_1, x_2, y_2, d_s / d_t)\n",
        "print(logloss_1)"
      ],
      "metadata": {
        "colab": {
          "base_uri": "https://localhost:8080/"
        },
        "id": "BkxdsV8hrWNa",
        "outputId": "edc9c95e-375e-4e72-a908-c09286c3083a"
      },
      "execution_count": null,
      "outputs": [
        {
          "output_type": "stream",
          "name": "stdout",
          "text": [
            "[0.82562143]\n"
          ]
        }
      ]
    },
    {
      "cell_type": "code",
      "source": [
        "logloss_2, pred_2 = binaryRobustTest(theta_2, x_2, y_2, np.ones((x_1.shape[0], 1)))\n",
        "print(logloss_2)"
      ],
      "metadata": {
        "colab": {
          "base_uri": "https://localhost:8080/"
        },
        "id": "uX5hh4G7ryiH",
        "outputId": "290e596b-e1b3-44ac-c7d9-2ddff9e95130"
      },
      "execution_count": null,
      "outputs": [
        {
          "output_type": "stream",
          "name": "stdout",
          "text": [
            "[0.78499119]\n"
          ]
        }
      ]
    },
    {
      "cell_type": "code",
      "source": [
        "logloss_3, pred_3 = binaryRobustTest(theta_3, x_2, y_2, np.ones((x_1.shape[0], 1)))\n",
        "print(logloss_3)"
      ],
      "metadata": {
        "colab": {
          "base_uri": "https://localhost:8080/"
        },
        "id": "bdvUgB8WtVR9",
        "outputId": "18036eef-6304-4954-9ee6-adb070472829"
      },
      "execution_count": null,
      "outputs": [
        {
          "output_type": "stream",
          "name": "stdout",
          "text": [
            "[0.69593336]\n"
          ]
        }
      ]
    },
    {
      "cell_type": "code",
      "source": [
        "print(computeAcc(pred_1, y_2))\n",
        "print(computeAcc(pred_2, y_2))\n",
        "print(computeAcc(pred_3, y_2))"
      ],
      "metadata": {
        "colab": {
          "base_uri": "https://localhost:8080/"
        },
        "id": "xR7rPN4Htalw",
        "outputId": "8cf64440-ca09-42d8-b1cc-21ee5fc8d1a0"
      },
      "execution_count": null,
      "outputs": [
        {
          "output_type": "stream",
          "name": "stdout",
          "text": [
            "0.89\n",
            "0.9\n",
            "0.87\n"
          ]
        }
      ]
    },
    {
      "cell_type": "markdown",
      "source": [
        "## MultiClass Classification"
      ],
      "metadata": {
        "id": "3DfdxoUUwzw8"
      }
    },
    {
      "cell_type": "code",
      "source": [
        "import scipy.io\n",
        "import numpy as np\n",
        "import os\n",
        "\n",
        "folder_path = '/content' # TODO Change this\n",
        "\n",
        "iris_train = scipy.io.loadmat(os.path.join(folder_path, 'iris_train.mat'))['iris_train']\n",
        "iris_test = scipy.io.loadmat(os.path.join(folder_path, 'iris_test.mat'))['iris_test']\n",
        "\n",
        "X_s = iris_train[:,0:-1]\n",
        "y_s = iris_train[:, -1]\n",
        "X_t = iris_test[:,0:-1]\n",
        "y_t = iris_test[:,-1]"
      ],
      "metadata": {
        "id": "f-x7il86yMPG"
      },
      "execution_count": null,
      "outputs": []
    },
    {
      "cell_type": "code",
      "source": [
        "from sklearn import preprocessing\n",
        "lb = preprocessing.LabelBinarizer()\n",
        "lb.fit(y_s)\n",
        "\n",
        "Y_s = lb.transform(y_s)\n",
        "Y_t = lb.transform(y_t)\n",
        "\n",
        "X_s = torch.FloatTensor(X_s)\n",
        "X_t = torch.FloatTensor(X_t)\n",
        "Y_s = torch.FloatTensor(Y_s)\n",
        "Y_t = torch.FloatTensor(Y_t)\n",
        "\n",
        "n_row, n_col = X_s.shape"
      ],
      "metadata": {
        "id": "LptqJQD_lVni"
      },
      "execution_count": null,
      "outputs": []
    },
    {
      "cell_type": "markdown",
      "source": [
        "### Training\n"
      ],
      "metadata": {
        "id": "7nVajMrByMqd"
      }
    },
    {
      "cell_type": "markdown",
      "source": [
        "### Logistic Regression"
      ],
      "metadata": {
        "id": "rfYo8Oer43ko"
      }
    },
    {
      "cell_type": "code",
      "source": [
        "import torch\n",
        "\n",
        "\n",
        "class MyLoss(torch.autograd.Function):\n",
        "    \"\"\"\n",
        "    We can implement our own custom autograd Functions by subclassing\n",
        "    torch.autograd.Function and implementing the forward and backward passes\n",
        "    which operate on Tensors.\n",
        "    \"\"\"\n",
        "\n",
        "    @staticmethod\n",
        "    def forward(ctx, y_pred, y):\n",
        "        \"\"\"\n",
        "        In the forward pass we receive a Tensor containing the input and return\n",
        "        a Tensor containing the output. ctx is a context object that can be used\n",
        "        to stash information for backward computation. You can cache arbitrary\n",
        "        objects for use in the backward pass using the ctx.save_for_backward method.\n",
        "        \"\"\"\n",
        "        ctx.save_for_backward(input)\n",
        "        return input.clamp(min=0)\n",
        "\n",
        "    @staticmethod\n",
        "    def backward(ctx, grad_output):\n",
        "        \"\"\"\n",
        "        In the backward pass we receive a Tensor containing the gradient of the loss\n",
        "        with respect to the output, and we need to compute the gradient of the loss\n",
        "        with respect to the input.\n",
        "        \"\"\"\n",
        "        y_pred, y = ctx.saved_tensors\n",
        "        grad_input = \n",
        "        return grad_input, None"
      ],
      "metadata": {
        "id": "SpU_pEZXiRRi",
        "colab": {
          "base_uri": "https://localhost:8080/",
          "height": 135
        },
        "outputId": "a3e538b6-fe3c-4130-c482-7199b43607bd"
      },
      "execution_count": null,
      "outputs": [
        {
          "output_type": "error",
          "ename": "SyntaxError",
          "evalue": "ignored",
          "traceback": [
            "\u001b[0;36m  File \u001b[0;32m\"<ipython-input-1-e75d2493b860>\"\u001b[0;36m, line \u001b[0;32m30\u001b[0m\n\u001b[0;31m    grad_input =\u001b[0m\n\u001b[0m                 ^\u001b[0m\n\u001b[0;31mSyntaxError\u001b[0m\u001b[0;31m:\u001b[0m invalid syntax\n"
          ]
        }
      ]
    },
    {
      "cell_type": "code",
      "source": [
        "import torch\n",
        "import torch.nn as nn\n",
        "import torchvision\n",
        "import torch.nn.functional as F\n",
        "\n",
        "class MultiClassLR(nn.Module):\n",
        "    def __init__(self, in_features = 4, out_features = 3):\n",
        "      super(MultiClassLR, self).__init__()\n",
        "      \n",
        "      self.layer1 = nn.Linear(in_features, out_features, bias = False)\n",
        "      self.activation1 = nn.Softmax(dim=1) # https://stackoverflow.com/questions/55675345/should-i-use-softmax-as-output-when-using-cross-entropy-loss-in-pytorch\n",
        "\n",
        "    def forward(self, input):\n",
        "      # return self.layer1(input)\n",
        "      return self.activation1(self.layer1(input))\n",
        "\n"
      ],
      "metadata": {
        "id": "uwtSEN8K49KH"
      },
      "execution_count": null,
      "outputs": []
    },
    {
      "cell_type": "code",
      "source": [
        "def my_loss(output, target):\n",
        "    loss = torch.mean((output - target)**2)\n",
        "    return loss"
      ],
      "metadata": {
        "id": "MK0RsADr6rTL"
      },
      "execution_count": null,
      "outputs": []
    },
    {
      "cell_type": "code",
      "source": [
        "def LRDensityEstimation(X_s, X_t, lambdas = [0.0625, 1, 16]):\n",
        "\n",
        "  np.random.seed(10) # seed set in matlab code as well for verification\n",
        "\n",
        "  ns_row, _ = X_s.shape\n",
        "  nt_row, _ = X_t.shape\n",
        "\n",
        "  inda_s = np.arange(ns_row)\n",
        "  inda_t = np.arange(nt_row)\n",
        "\n",
        "  nv_s = int(np.floor(0.2 * ns_row))\n",
        "  nv_t = int(np.floor(0.2 * nt_row))\n",
        "\n",
        "  indv_s = np.array([92, 3, 74, 87, 57, 26, 23, 85, 19, 10, 75, 103, 1, 54, 111, 64, 116, 30, 118, 71, 105, 14, 36]) - 1 # indv_s = np.random.permutation(ns_row)[:nv_s] \n",
        "\n",
        "  indv_t = np.array([22, 14, 31, 18, 15, 29]) - 1 # np.random.permutation(nt_row)[:nv_t]\n",
        "\n",
        "  indt_s = np.setdiff1d(inda_s, indv_s)\n",
        "  \n",
        "  indt_t = np.setdiff1d(inda_t, indv_t)\n",
        "\n",
        "  X_train = np.concatenate((X_s[indt_s, :], X_t[indt_t, :]))\n",
        "  X_valid = np.concatenate((X_s[indv_s, :], X_t[indv_t, :]))\n",
        "  \n",
        "  y_train = np.concatenate((np.ones((ns_row - nv_s, 1)), -1 * np.ones((nt_row - nv_t, 1)) ))\n",
        "  y_valid = np.concatenate((np.ones((nv_s, 1)), -1 * np.ones((nv_t, 1)) ))\n",
        "\n",
        "  rt_st = np.ones((ns_row + nt_row - nv_s - nv_t, 1))\n",
        "  rv_st = np.ones((nv_s + nv_t, 1))\n",
        "  \n",
        "  logloss = np.zeros((len(lambdas), 1))\n",
        "  for i, lamb in enumerate(lambdas):\n",
        "    theta = binaryRobustTrain(X_train, y_train, rt_st, rt_st, lamb=lamb,min_gradient=0.1)\n",
        "    _, pred = binaryRobustTest(theta, X_valid, y_valid, rv_st )\n",
        "    logloss[i] = (-sum(np.log(pred[:nv_s, 0])) - sum(np.log(pred[nv_s: nv_s + nv_t, 1]))) / (nv_s + nv_t) / 0.6931\n",
        "\n",
        "  ind_min = np.argmin(logloss)\n",
        "\n",
        "  X_train = np.concatenate((X_s, X_t))\n",
        "  y_train = np.concatenate((np.ones((ns_row, 1)), -1 * np.ones((nt_row, 1)) ))\n",
        "  r_st = np.ones((ns_row + nt_row, 1))\n",
        "\n",
        "  theta = binaryRobustTrain(X_train, y_train, r_st, r_st, lambdas[ind_min])\n",
        "  _, pred = binaryRobustTest(theta, X_train, y_train, r_st)\n",
        "\n",
        "  d_ss = pred[:ns_row, 0]\n",
        "  d_st = pred[:ns_row, 1]\n",
        "\n",
        "  d_ts = pred[ns_row:, 0]\n",
        "  d_tt = pred[ns_row:, 1]\n",
        "\n",
        "  print(\"Finish Density Estimation\")\n",
        "\n",
        "  return d_ss, d_st, d_ts, d_tt"
      ],
      "metadata": {
        "id": "5tNiXD3jiT1y"
      },
      "execution_count": null,
      "outputs": []
    },
    {
      "cell_type": "code",
      "source": [
        "from torch.optim import Adam\n",
        "\n",
        "# \n",
        "#\n",
        "#\n",
        "# \n",
        "def multiLRTrain(X_s, y_s, r_st, r_ts, max_itr = 10000):\n",
        "  \n",
        "  model = MultiClassLR()\n",
        "  loss_fn = nn.CrossEntropyLoss()\n",
        "  optimizer = Adam(model.parameters(), lr=0.01)\n",
        "\n",
        "  for param in model.parameters():\n",
        "    param.data = nn.parameter.Parameter(torch.ones_like(param))\n",
        "\n",
        "  \n",
        "  model.train()\n",
        "\n",
        "  n_row, n_col = X_s.shape\n",
        "  X_s *= r_ts.repeat(1, n_col) * r_st.repeat(1, n_col)\n",
        "\n",
        "  n_row, _ = X_s.shape\n",
        "\n",
        "  # Define your execution device\n",
        "  device = torch.device(\"cuda:0\" if torch.cuda.is_available() else \"cpu\")\n",
        "  print(\"The model will be running on\", device, \"device\")\n",
        "  # Convert model parameters and buffers to CPU or Cuda\n",
        "  model.to(device)\n",
        "\n",
        "  for name, param in model.named_parameters():\n",
        "    if param.requires_grad:\n",
        "        print(name, param.data, param.grad)\n",
        "  \n",
        "  for epoch in range(max_itr):  # loop over the dataset multiple times\n",
        "   \n",
        "      # zero the parameter gradients\n",
        "      optimizer.zero_grad()\n",
        "      \n",
        "      outputs = model(X_s) \n",
        "\n",
        "      # print(outputs)\n",
        "\n",
        "      # print(torch.mm(torch.transpose(outputs - y_s, 0, 1), X_s) + 2 * multi_lr_model.layer1.weight)\n",
        "      # print(torch.mm(torch.transpose(outputs - y_s, 0, 1), X_s) + 2 * multi_lr_model.layer1.weight)\n",
        "\n",
        "      # compute the loss based on model output and real labels\n",
        "      loss = loss_fn(outputs, y_s)\n",
        "      # backpropagate the loss\n",
        "      loss.backward()\n",
        "\n",
        "      # for name, param in model.named_parameters():\n",
        "      #   if param.requires_grad:\n",
        "      #     print(name, param.data, param.grad)\n",
        "  \n",
        "      # adjust parameters based on the calculated gradients\n",
        "      optimizer.step()\n",
        "  \n",
        "  return model\n",
        "\n",
        "def multiLRTest(model, X_t, y_t):\n",
        "\n",
        "  loss_fn = nn.NLLLoss()\n",
        "  outputs = model(X_t)\n",
        "\n",
        "  out, y_ind = torch.max(outputs, dim = 1)\n",
        "\n",
        "  loss = -1 * sum(torch.log(out)) / len(X_t) / 0.6931\n",
        "\n",
        "  return loss, outputs\n",
        "\n",
        "def computeAcc(pred, y_t):\n",
        "  out, ind = torch.max(pred, dim = 1)\n",
        "  out, y_ind = torch.max(y_t, dim = 1)\n",
        "  return torch.sum(ind == y_ind) / len(ind)"
      ],
      "metadata": {
        "id": "O1jKGICK4vSq"
      },
      "execution_count": null,
      "outputs": []
    },
    {
      "cell_type": "code",
      "source": [
        "multi_lr_model = multiLRTrain(X_s, Y_s, torch.ones((n_row, 1)), torch.ones(n_row, 1))\n",
        "multi_iw_model = multiLRTrain(X_s, Y_s, torch.ones((n_row, 1)), torch.ones(n_row, 1))\n",
        "multi_lr_model = multiLRTrain(X_s, Y_s, torch.ones((n_row, 1)), torch.ones(n_row, 1))"
      ],
      "metadata": {
        "colab": {
          "base_uri": "https://localhost:8080/"
        },
        "id": "okjCr3HHYZdZ",
        "outputId": "4e60362c-03ca-4e4d-db0a-286b2681e68a"
      },
      "execution_count": null,
      "outputs": [
        {
          "output_type": "stream",
          "name": "stdout",
          "text": [
            "The model will be running on cpu device\n",
            "layer1.weight tensor([[1., 1., 1., 1.],\n",
            "        [1., 1., 1., 1.],\n",
            "        [1., 1., 1., 1.]]) None\n"
          ]
        }
      ]
    },
    {
      "cell_type": "code",
      "source": [
        "multi_lr_model.layer1.weight"
      ],
      "metadata": {
        "colab": {
          "base_uri": "https://localhost:8080/"
        },
        "id": "PfvNmXxduy_m",
        "outputId": "314f7f76-99c6-4cfb-b7c6-ad7693255836"
      },
      "execution_count": null,
      "outputs": [
        {
          "output_type": "execute_result",
          "data": {
            "text/plain": [
              "Parameter containing:\n",
              "tensor([[  8.0083,  17.0886, -16.0356, -16.3362],\n",
              "        [ 13.3521,   5.7625, -15.5188,  -9.5025],\n",
              "        [-12.2630, -20.7378,  23.4250,  17.7295]], requires_grad=True)"
            ]
          },
          "metadata": {},
          "execution_count": 18
        }
      ]
    },
    {
      "cell_type": "code",
      "source": [
        ""
      ],
      "metadata": {
        "id": "weDv3A_uhodr"
      },
      "execution_count": null,
      "outputs": []
    },
    {
      "cell_type": "code",
      "source": [
        "for name, param in multi_lr_model.named_parameters():\n",
        "  if param.requires_grad:\n",
        "      print(name, param.data)"
      ],
      "metadata": {
        "colab": {
          "base_uri": "https://localhost:8080/"
        },
        "id": "0uzrGYBxs2ts",
        "outputId": "ba9f0b0f-288c-40a7-9db8-6e552ee59c6d"
      },
      "execution_count": null,
      "outputs": [
        {
          "output_type": "stream",
          "name": "stdout",
          "text": [
            "layer1.weight tensor([[  8.0083,  17.0886, -16.0356, -16.3362],\n",
            "        [ 13.3521,   5.7625, -15.5188,  -9.5025],\n",
            "        [-12.2630, -20.7378,  23.4250,  17.7295]])\n"
          ]
        }
      ]
    },
    {
      "cell_type": "code",
      "source": [
        "loss, outputs = multiLRTest(multi_lr_model, X_t, Y_t)\n",
        "print(loss, outputs)"
      ],
      "metadata": {
        "colab": {
          "base_uri": "https://localhost:8080/"
        },
        "id": "4_Vul7ZzYaYt",
        "outputId": "ba42dae2-9635-4e8b-9701-17b1178e530d"
      },
      "execution_count": null,
      "outputs": [
        {
          "output_type": "stream",
          "name": "stdout",
          "text": [
            "tensor(0.0188, grad_fn=<DivBackward0>) tensor([[9.9668e-01, 3.3231e-03, 0.0000e+00],\n",
            "        [9.9989e-01, 1.1287e-04, 0.0000e+00],\n",
            "        [9.9977e-01, 2.2762e-04, 0.0000e+00],\n",
            "        [9.9999e-01, 6.3643e-06, 0.0000e+00],\n",
            "        [9.9999e-01, 1.4322e-05, 0.0000e+00],\n",
            "        [9.9994e-01, 6.4556e-05, 0.0000e+00],\n",
            "        [9.9929e-01, 7.1479e-04, 0.0000e+00],\n",
            "        [9.9943e-01, 5.7084e-04, 0.0000e+00],\n",
            "        [9.9998e-01, 2.3348e-05, 0.0000e+00],\n",
            "        [9.9901e-01, 9.8560e-04, 0.0000e+00],\n",
            "        [9.9994e-01, 5.8397e-05, 0.0000e+00],\n",
            "        [1.0000e+00, 6.1048e-07, 0.0000e+00],\n",
            "        [9.9997e-01, 2.7263e-05, 0.0000e+00],\n",
            "        [9.9373e-01, 6.2693e-03, 0.0000e+00],\n",
            "        [9.9973e-01, 2.6660e-04, 0.0000e+00],\n",
            "        [9.9987e-01, 1.3179e-04, 0.0000e+00],\n",
            "        [9.9930e-01, 6.9761e-04, 0.0000e+00],\n",
            "        [9.9943e-01, 5.7084e-04, 0.0000e+00],\n",
            "        [9.9947e-01, 5.3232e-04, 0.0000e+00],\n",
            "        [9.9943e-01, 5.7084e-04, 0.0000e+00],\n",
            "        [9.9978e-01, 2.1881e-04, 0.0000e+00],\n",
            "        [9.9996e-01, 3.7150e-05, 0.0000e+00],\n",
            "        [3.2763e-01, 6.7237e-01, 0.0000e+00],\n",
            "        [9.9998e-01, 2.2718e-05, 0.0000e+00],\n",
            "        [9.9966e-01, 3.3691e-04, 0.0000e+00],\n",
            "        [9.9615e-01, 3.8550e-03, 0.0000e+00],\n",
            "        [9.9993e-01, 6.9655e-05, 0.0000e+00],\n",
            "        [9.9981e-01, 1.9025e-04, 0.0000e+00],\n",
            "        [5.3062e-04, 9.9947e-01, 3.2224e-15],\n",
            "        [3.0235e-06, 1.0000e+00, 2.4108e-08],\n",
            "        [1.0023e-04, 9.9990e-01, 3.5222e-15],\n",
            "        [8.6734e-19, 1.1697e-13, 1.0000e+00]], grad_fn=<SoftmaxBackward0>)\n"
          ]
        }
      ]
    },
    {
      "cell_type": "code",
      "source": [
        "torch.cat((outputs, Y_t), dim = 1)"
      ],
      "metadata": {
        "colab": {
          "base_uri": "https://localhost:8080/"
        },
        "id": "d7qQqEf0bCnK",
        "outputId": "64b22fa3-d1f0-44d2-9c12-eb9b7994991f"
      },
      "execution_count": null,
      "outputs": [
        {
          "output_type": "execute_result",
          "data": {
            "text/plain": [
              "tensor([[9.9668e-01, 3.3231e-03, 0.0000e+00, 1.0000e+00, 0.0000e+00, 0.0000e+00],\n",
              "        [9.9989e-01, 1.1287e-04, 0.0000e+00, 1.0000e+00, 0.0000e+00, 0.0000e+00],\n",
              "        [9.9977e-01, 2.2762e-04, 0.0000e+00, 1.0000e+00, 0.0000e+00, 0.0000e+00],\n",
              "        [9.9999e-01, 6.3643e-06, 0.0000e+00, 1.0000e+00, 0.0000e+00, 0.0000e+00],\n",
              "        [9.9999e-01, 1.4322e-05, 0.0000e+00, 1.0000e+00, 0.0000e+00, 0.0000e+00],\n",
              "        [9.9994e-01, 6.4556e-05, 0.0000e+00, 1.0000e+00, 0.0000e+00, 0.0000e+00],\n",
              "        [9.9929e-01, 7.1479e-04, 0.0000e+00, 1.0000e+00, 0.0000e+00, 0.0000e+00],\n",
              "        [9.9943e-01, 5.7084e-04, 0.0000e+00, 1.0000e+00, 0.0000e+00, 0.0000e+00],\n",
              "        [9.9998e-01, 2.3348e-05, 0.0000e+00, 1.0000e+00, 0.0000e+00, 0.0000e+00],\n",
              "        [9.9901e-01, 9.8560e-04, 0.0000e+00, 1.0000e+00, 0.0000e+00, 0.0000e+00],\n",
              "        [9.9994e-01, 5.8397e-05, 0.0000e+00, 1.0000e+00, 0.0000e+00, 0.0000e+00],\n",
              "        [1.0000e+00, 6.1048e-07, 0.0000e+00, 1.0000e+00, 0.0000e+00, 0.0000e+00],\n",
              "        [9.9997e-01, 2.7263e-05, 0.0000e+00, 1.0000e+00, 0.0000e+00, 0.0000e+00],\n",
              "        [9.9373e-01, 6.2693e-03, 0.0000e+00, 1.0000e+00, 0.0000e+00, 0.0000e+00],\n",
              "        [9.9973e-01, 2.6660e-04, 0.0000e+00, 1.0000e+00, 0.0000e+00, 0.0000e+00],\n",
              "        [9.9987e-01, 1.3179e-04, 0.0000e+00, 1.0000e+00, 0.0000e+00, 0.0000e+00],\n",
              "        [9.9930e-01, 6.9761e-04, 0.0000e+00, 1.0000e+00, 0.0000e+00, 0.0000e+00],\n",
              "        [9.9943e-01, 5.7084e-04, 0.0000e+00, 1.0000e+00, 0.0000e+00, 0.0000e+00],\n",
              "        [9.9947e-01, 5.3232e-04, 0.0000e+00, 1.0000e+00, 0.0000e+00, 0.0000e+00],\n",
              "        [9.9943e-01, 5.7084e-04, 0.0000e+00, 1.0000e+00, 0.0000e+00, 0.0000e+00],\n",
              "        [9.9978e-01, 2.1881e-04, 0.0000e+00, 1.0000e+00, 0.0000e+00, 0.0000e+00],\n",
              "        [9.9996e-01, 3.7150e-05, 0.0000e+00, 1.0000e+00, 0.0000e+00, 0.0000e+00],\n",
              "        [3.2763e-01, 6.7237e-01, 0.0000e+00, 1.0000e+00, 0.0000e+00, 0.0000e+00],\n",
              "        [9.9998e-01, 2.2718e-05, 0.0000e+00, 1.0000e+00, 0.0000e+00, 0.0000e+00],\n",
              "        [9.9966e-01, 3.3691e-04, 0.0000e+00, 1.0000e+00, 0.0000e+00, 0.0000e+00],\n",
              "        [9.9615e-01, 3.8550e-03, 0.0000e+00, 1.0000e+00, 0.0000e+00, 0.0000e+00],\n",
              "        [9.9993e-01, 6.9655e-05, 0.0000e+00, 1.0000e+00, 0.0000e+00, 0.0000e+00],\n",
              "        [9.9981e-01, 1.9025e-04, 0.0000e+00, 1.0000e+00, 0.0000e+00, 0.0000e+00],\n",
              "        [5.3062e-04, 9.9947e-01, 3.2224e-15, 0.0000e+00, 1.0000e+00, 0.0000e+00],\n",
              "        [3.0235e-06, 1.0000e+00, 2.4108e-08, 0.0000e+00, 1.0000e+00, 0.0000e+00],\n",
              "        [1.0023e-04, 9.9990e-01, 3.5222e-15, 0.0000e+00, 1.0000e+00, 0.0000e+00],\n",
              "        [8.6734e-19, 1.1697e-13, 1.0000e+00, 0.0000e+00, 0.0000e+00, 1.0000e+00]],\n",
              "       grad_fn=<CatBackward0>)"
            ]
          },
          "metadata": {},
          "execution_count": 198
        }
      ]
    },
    {
      "cell_type": "code",
      "source": [
        "computeAcc(outputs, Y_t)"
      ],
      "metadata": {
        "colab": {
          "base_uri": "https://localhost:8080/"
        },
        "id": "QyXFbWv_acir",
        "outputId": "ddacb7e0-d91a-4efc-bf58-83385477067e"
      },
      "execution_count": null,
      "outputs": [
        {
          "output_type": "execute_result",
          "data": {
            "text/plain": [
              "tensor(0.9688)"
            ]
          },
          "metadata": {},
          "execution_count": 187
        }
      ]
    },
    {
      "cell_type": "code",
      "source": [
        "multi_lr_model(torch.FloatTensor(X_s))"
      ],
      "metadata": {
        "colab": {
          "base_uri": "https://localhost:8080/"
        },
        "id": "RCQXJwdMo_kq",
        "outputId": "7c7f6dae-1661-45d1-eeb7-72f8357eb5c1"
      },
      "execution_count": null,
      "outputs": [
        {
          "output_type": "stream",
          "name": "stderr",
          "text": [
            "/usr/local/lib/python3.7/dist-packages/ipykernel_launcher.py:14: UserWarning: Implicit dimension choice for log_softmax has been deprecated. Change the call to include dim=X as an argument.\n",
            "  \n"
          ]
        },
        {
          "output_type": "execute_result",
          "data": {
            "text/plain": [
              "tensor([[-0.3333, -1.4788, -2.8912],\n",
              "        [-0.3350, -1.4956, -2.8047],\n",
              "        [-0.3168, -1.5063, -3.0001],\n",
              "        [-0.2336, -1.7227, -3.5143],\n",
              "        [-0.2167, -1.8353, -3.3443],\n",
              "        [-0.2748, -1.6302, -3.1155],\n",
              "        [-0.3518, -1.4422, -2.8109],\n",
              "        [-0.3595, -1.4002, -2.8920],\n",
              "        [-0.2947, -1.6042, -2.9153],\n",
              "        [-0.4347, -1.2592, -2.6783],\n",
              "        [-0.3359, -1.5012, -2.7730],\n",
              "        [-0.5200, -1.1759, -2.3338],\n",
              "        [-0.3558, -1.4240, -2.8371],\n",
              "        [-0.3652, -1.3928, -2.8546],\n",
              "        [-0.4392, -1.2510, -2.6707],\n",
              "        [-0.2118, -1.8705, -3.3005],\n",
              "        [-0.2079, -1.8638, -3.4238],\n",
              "        [-0.3406, -1.4205, -3.0561],\n",
              "        [-0.3768, -1.3843, -2.7572],\n",
              "        [-0.3804, -1.4402, -2.5313],\n",
              "        [-0.2931, -1.6089, -2.9197],\n",
              "        [-0.3113, -1.5295, -2.9784],\n",
              "        [-2.5670, -0.6350, -0.9331],\n",
              "        [-2.4641, -0.7460, -0.8195],\n",
              "        [-2.8375, -0.6925, -0.8184],\n",
              "        [-2.6665, -0.7558, -0.7746],\n",
              "        [-2.8594, -0.7070, -0.7994],\n",
              "        [-2.6045, -0.8394, -0.7050],\n",
              "        [-2.5799, -0.8272, -0.7196],\n",
              "        [-2.6445, -0.6628, -0.8830],\n",
              "        [-2.3379, -0.8636, -0.7302],\n",
              "        [-2.4005, -0.7929, -0.7836],\n",
              "        [-2.5785, -0.6006, -0.9792],\n",
              "        [-2.7487, -0.8062, -0.7145],\n",
              "        [-1.9542, -0.7452, -0.9579],\n",
              "        [-2.4353, -0.6459, -0.9462],\n",
              "        [-2.5867, -0.9188, -0.6430],\n",
              "        [-2.2255, -0.7024, -0.9248],\n",
              "        [-3.2709, -0.7174, -0.7465],\n",
              "        [-2.3109, -0.7088, -0.8950],\n",
              "        [-2.8662, -0.9800, -0.5660],\n",
              "        [-2.3099, -0.6739, -0.9390],\n",
              "        [-3.2994, -0.7904, -0.6745],\n",
              "        [-2.6853, -0.7635, -0.7640],\n",
              "        [-2.4400, -0.6616, -0.9243],\n",
              "        [-2.5067, -0.6566, -0.9166],\n",
              "        [-2.9408, -0.6603, -0.8428],\n",
              "        [-3.1205, -0.7847, -0.6939],\n",
              "        [-2.6826, -0.8111, -0.7190],\n",
              "        [-1.9413, -0.6496, -1.0960],\n",
              "        [-2.3202, -0.7061, -0.8960],\n",
              "        [-2.1926, -0.6822, -0.9600],\n",
              "        [-2.2366, -0.7008, -0.9238],\n",
              "        [-3.3410, -0.9438, -0.5526],\n",
              "        [-2.5819, -0.9711, -0.6057],\n",
              "        [-2.3554, -0.8752, -0.7167],\n",
              "        [-2.6934, -0.7029, -0.8273],\n",
              "        [-2.9837, -0.6496, -0.8506],\n",
              "        [-2.1821, -0.8189, -0.8068],\n",
              "        [-2.5056, -0.7734, -0.7832],\n",
              "        [-2.6173, -0.8346, -0.7074],\n",
              "        [-2.6012, -0.7966, -0.7445],\n",
              "        [-2.3768, -0.7031, -0.8865],\n",
              "        [-2.4816, -0.8020, -0.7594],\n",
              "        [-2.1822, -0.7967, -0.8292],\n",
              "        [-2.3288, -0.7990, -0.7922],\n",
              "        [-2.4243, -0.7030, -0.8762],\n",
              "        [-1.7432, -0.7222, -1.0808],\n",
              "        [-2.3437, -0.7734, -0.8151],\n",
              "        [-4.2629, -1.3824, -0.3080],\n",
              "        [-3.5786, -1.0737, -0.4615],\n",
              "        [-4.0888, -0.9806, -0.4973],\n",
              "        [-3.7033, -1.0455, -0.4719],\n",
              "        [-4.0979, -1.1548, -0.4030],\n",
              "        [-4.6186, -1.0266, -0.4590],\n",
              "        [-4.2326, -0.9481, -0.5142],\n",
              "        [-4.1939, -0.9673, -0.5028],\n",
              "        [-4.0586, -1.1399, -0.4112],\n",
              "        [-3.2456, -0.9319, -0.5670],\n",
              "        [-3.7301, -0.9562, -0.5248],\n",
              "        [-3.7887, -0.9609, -0.5195],\n",
              "        [-3.7535, -1.0923, -0.4446],\n",
              "        [-3.9068, -1.2161, -0.3805],\n",
              "        [-3.6308, -1.0833, -0.4541],\n",
              "        [-3.5462, -0.9691, -0.5247],\n",
              "        [-4.0949, -1.0847, -0.4380],\n",
              "        [-5.3580, -1.1243, -0.3999],\n",
              "        [-3.6105, -0.8708, -0.5900],\n",
              "        [-3.9305, -1.0453, -0.4640],\n",
              "        [-3.4271, -1.1110, -0.4490],\n",
              "        [-4.7840, -0.9912, -0.4772],\n",
              "        [-3.3603, -0.8648, -0.6085],\n",
              "        [-3.6839, -1.0551, -0.4672],\n",
              "        [-3.7551, -0.9130, -0.5529],\n",
              "        [-3.2029, -0.8739, -0.6124],\n",
              "        [-3.1053, -0.9348, -0.5754],\n",
              "        [-4.0323, -1.0917, -0.4360],\n",
              "        [-3.6249, -0.8117, -0.6363],\n",
              "        [-4.2520, -0.8920, -0.5517],\n",
              "        [-3.7121, -0.9007, -0.5634],\n",
              "        [-4.1149, -1.1193, -0.4198],\n",
              "        [-3.1886, -0.8499, -0.6324],\n",
              "        [-3.6335, -0.9851, -0.5105],\n",
              "        [-4.4065, -0.9194, -0.5293],\n",
              "        [-3.7768, -1.2353, -0.3764],\n",
              "        [-3.4613, -1.0021, -0.5083],\n",
              "        [-3.0321, -0.9388, -0.5786],\n",
              "        [-3.6328, -0.9144, -0.5573],\n",
              "        [-4.0224, -1.0988, -0.4326],\n",
              "        [-3.5724, -0.8901, -0.5775],\n",
              "        [-3.5786, -1.0737, -0.4615],\n",
              "        [-4.0837, -1.1297, -0.4155],\n",
              "        [-4.0128, -1.1640, -0.4010],\n",
              "        [-3.7257, -0.9626, -0.5209],\n",
              "        [-3.6780, -0.9003, -0.5652],\n",
              "        [-3.4851, -0.9441, -0.5442],\n",
              "        [-3.5417, -1.1812, -0.4093],\n",
              "        [-3.2478, -1.0370, -0.4999]], grad_fn=<LogSoftmaxBackward0>)"
            ]
          },
          "metadata": {},
          "execution_count": 129
        }
      ]
    },
    {
      "cell_type": "code",
      "source": [
        "def LRDensityEstimation(X_s, X_t, lambdas = [0.0625, 1, 16]):\n",
        "\n",
        "  np.random.seed(10) # seed set in matlab code as well for verification\n",
        "\n",
        "  ns_row, _ = X_s.shape\n",
        "  nt_row, _ = X_t.shape\n",
        "\n",
        "  inda_s = np.arange(ns_row)\n",
        "  inda_t = np.arange(nt_row)\n",
        "\n",
        "  nv_s = int(np.floor(0.2 * ns_row))\n",
        "  nv_t = int(np.floor(0.2 * nt_row))\n",
        "\n",
        "  indv_s = np.array([92, 3, 74, 87, 57, 26, 23, 85, 19, 10, 75, 103, 1, 54, 111, 64, 116, 30, 118, 71, 105, 14, 36]) - 1 # indv_s = np.random.permutation(ns_row)[:nv_s] \n",
        "\n",
        "  indv_t = np.array([22, 14, 31, 18, 15, 29]) - 1 # np.random.permutation(nt_row)[:nv_t]\n",
        "\n",
        "  indt_s = np.setdiff1d(inda_s, indv_s)\n",
        "  \n",
        "  indt_t = np.setdiff1d(inda_t, indv_t)\n",
        "\n",
        "  X_train = np.concatenate((X_s[indt_s, :], X_t[indt_t, :]))\n",
        "  X_valid = np.concatenate((X_s[indv_s, :], X_t[indv_t, :]))\n",
        "  \n",
        "  y_train = np.concatenate((np.ones((ns_row - nv_s, 1)), -1 * np.ones((nt_row - nv_t, 1)) ))\n",
        "  y_valid = np.concatenate((np.ones((nv_s, 1)), -1 * np.ones((nv_t, 1)) ))\n",
        "\n",
        "  rt_st = np.ones((ns_row + nt_row - nv_s - nv_t, 1))\n",
        "  rv_st = np.ones((nv_s + nv_t, 1))\n",
        "  \n",
        "  logloss = np.zeros((len(lambdas), 1))\n",
        "  for i, lamb in enumerate(lambdas):\n",
        "    theta = binaryRobustTrain(X_train, y_train, rt_st, rt_st, lamb=lamb,min_gradient=0.1)\n",
        "    _, pred = binaryRobustTest(theta, X_valid, y_valid, rv_st )\n",
        "    logloss[i] = (-sum(np.log(pred[:nv_s, 0])) - sum(np.log(pred[nv_s: nv_s + nv_t, 1]))) / (nv_s + nv_t) / 0.6931\n",
        "\n",
        "  ind_min = np.argmin(logloss)\n",
        "\n",
        "  X_train = np.concatenate((X_s, X_t))\n",
        "  y_train = np.concatenate((np.ones((ns_row, 1)), -1 * np.ones((nt_row, 1)) ))\n",
        "  r_st = np.ones((ns_row + nt_row, 1))\n",
        "\n",
        "  theta = binaryRobustTrain(X_train, y_train, r_st, r_st, lambdas[ind_min])\n",
        "  _, pred = binaryRobustTest(theta, X_train, y_train, r_st)\n",
        "\n",
        "  d_ss = pred[:ns_row, 0]\n",
        "  d_st = pred[:ns_row, 1]\n",
        "\n",
        "  d_ts = pred[ns_row:, 0]\n",
        "  d_tt = pred[ns_row:, 1]\n",
        "\n",
        "  print(\"Finish Density Estimation\")\n",
        "\n",
        "  return d_ss, d_st, d_ts, d_tt\n",
        "\n",
        "d_ss, d_st, d_ts, d_tt = LRDensityEstimation(X_s, X_t, [0.1, 1, 10])"
      ],
      "metadata": {
        "colab": {
          "base_uri": "https://localhost:8080/"
        },
        "id": "UoMSv73QmAIA",
        "outputId": "fcaa6182-8a8e-4b78-87b1-1da777182633"
      },
      "execution_count": null,
      "outputs": [
        {
          "output_type": "stream",
          "name": "stdout",
          "text": [
            "Optimization stops by reaching minimum gradient.\n",
            "Optimization stops by reaching minimum gradient.\n",
            "Optimization stops by reaching minimum gradient.\n",
            "Optimization stops by reaching minimum gradient.\n",
            "Finish Density Estimation\n"
          ]
        }
      ]
    },
    {
      "cell_type": "code",
      "source": [
        "from sklearn.preprocessing import LabelBinarizer\n",
        "lb = LabelBinarizer()\n",
        "\n",
        "def multiClassRobustTrain(X_s, y_s, n_class, r_st, r_ts, lamb = 0.1, lr = 0.01, max_itr = 100000, min_gradient = 0.001):\n",
        "  n_row, n_col = X_s.shape\n",
        "\n",
        "  lamb = lamb.reshape(-1, 1)  \n",
        "  lamb = np.transpose(np.tile(lamb, n_class))\n",
        "  \n",
        "  F = X_s \n",
        "\n",
        "  F_g = F * np.tile(r_ts, n_col)\n",
        "\n",
        "  Y = lb.fit_transform(y_s)\n",
        "\n",
        "  P = np.zeros((n_row, n_class)) \n",
        "\n",
        "  S_g = np.ones((n_class, n_col)) * 1e-8\n",
        "\n",
        "  t = 1\n",
        "\n",
        "  theta = np.ones((n_class, n_col)) # not randomly assigned? \n",
        "\n",
        "  l_0 = 0\n",
        "\n",
        "  l_1 = (1 + (1 + (4 * l_0 ** 2)) ** 0.5) / 2\n",
        "  delta_1 = 0\n",
        "\n",
        "  while True:\n",
        "    t = t + 1\n",
        "    decay = np.sqrt(1000 / (1000 + t))\n",
        "    l_2 = (1 + (1 + (4 * l_1 ** 2)) ** 0.5) / 2\n",
        "    l_3 = (1 - l_1) / l_2\n",
        "\n",
        "    for i in range(n_row):\n",
        "      W = r_st[i]\n",
        "      temp =  np.dot(theta, np.transpose(F[i, :])) * W\n",
        "      temp = temp - np.max(temp)\n",
        "      sum_temp = sum(np.exp(temp))\n",
        "      P[i] = np.exp(temp - np.log(sum_temp))\n",
        "\n",
        "    G = np.dot(np.transpose(P) - np.transpose(Y), F_g) + 2 * lamb * theta\n",
        "\n",
        "    if np.linalg.norm(G) < min_gradient:\n",
        "      print('Optimization stops by reaching minimum gradient.')\n",
        "      break\n",
        "    elif t > max_itr:\n",
        "      print(\"Optimizination stops by reaching maximum iteration\")\n",
        "      break\n",
        "\n",
        "    S_g = S_g + G ** 2\n",
        "    delta_2 = theta - decay * lr * G / np.sqrt(S_g) \n",
        "    theta = np.dot((1 - l_3), delta_2) + np.dot(l_3, delta_1)\n",
        "    delta_1 = delta_2\n",
        "    l_1 = l_2\n",
        "    \n",
        "  return theta"
      ],
      "metadata": {
        "id": "2V9JCYprw13_"
      },
      "execution_count": null,
      "outputs": []
    },
    {
      "cell_type": "code",
      "source": [
        "# RBA\n",
        "\n",
        "ns_row, n_col = X_s.shape\n",
        "\n",
        "n_class = int(max(y_s))\n",
        "\n",
        "lamb = 2 * np.std(X_s, axis=0, ddof=1) / np.sqrt(ns_row)\n",
        "lamb[0] = 1\n",
        "\n",
        "theta_robust = multiClassRobustTrain(X_s, y_s, n_class, d_ss / d_st, np.ones((ns_row, 1)), lamb=lamb, lr = 1, min_gradient=0.01)"
      ],
      "metadata": {
        "colab": {
          "base_uri": "https://localhost:8080/"
        },
        "id": "AzyBcLk7j_de",
        "outputId": "8aab08dc-a7b9-4272-d58b-f55033f08ef1"
      },
      "execution_count": null,
      "outputs": [
        {
          "output_type": "stream",
          "name": "stdout",
          "text": [
            "Optimization stops by reaching minimum gradient.\n"
          ]
        }
      ]
    },
    {
      "cell_type": "code",
      "source": [
        "# Logistic Regression\n",
        "theta_lr = multiClassRobustTrain(X_s, y_s, n_class, np.ones((ns_row, 1)), np.ones((ns_row, 1)), lamb=lamb, lr = 1, min_gradient=0.01)"
      ],
      "metadata": {
        "colab": {
          "base_uri": "https://localhost:8080/"
        },
        "id": "foUaf_XL3i9r",
        "outputId": "765d60c5-c5fa-47d8-8ea7-68c34711aa49"
      },
      "execution_count": null,
      "outputs": [
        {
          "output_type": "stream",
          "name": "stdout",
          "text": [
            "Optimization stops by reaching minimum gradient.\n"
          ]
        }
      ]
    },
    {
      "cell_type": "code",
      "source": [
        "# Importance weighting\n",
        "r_ts = np.reshape(d_st / d_ss, (-1, 1))\n",
        "theta_iw = multiClassRobustTrain(X_s, y_s, n_class, np.ones((ns_row, 1)), r_ts, lamb=lamb, lr = 1, min_gradient=0.01)"
      ],
      "metadata": {
        "colab": {
          "base_uri": "https://localhost:8080/"
        },
        "id": "q5xA84O74TEc",
        "outputId": "622aaac6-4ed7-460e-ac7a-920cefcbdf49"
      },
      "execution_count": null,
      "outputs": [
        {
          "output_type": "stream",
          "name": "stdout",
          "text": [
            "Optimization stops by reaching minimum gradient.\n"
          ]
        }
      ]
    },
    {
      "cell_type": "markdown",
      "source": [
        "### Testing"
      ],
      "metadata": {
        "id": "pVpXrZe13nsS"
      }
    },
    {
      "cell_type": "code",
      "source": [
        "def multiClassRobustTest(theta, X_t, y_t, n_class, r_st):\n",
        "  n_row, _ = X_t.shape\n",
        "  F = X_t \n",
        "  P = np.zeros((n_row, n_class))\n",
        "  logloss = 0 \n",
        "\n",
        "  for i in range(n_row):\n",
        "      W = r_st[i]\n",
        "      temp =  np.dot(theta, np.transpose(F[i, :])) * W\n",
        "      temp = temp - np.max(temp)\n",
        "      sum_temp = sum(np.exp(temp))\n",
        "      P[i] = np.exp(temp - np.log(sum_temp))\n",
        "      logloss -= np.log(P[i, int(y_t[i]) - 1])\n",
        "\n",
        "  logloss = logloss / n_row / 0.6931\n",
        "  return logloss, P"
      ],
      "metadata": {
        "id": "pOode0kzyT4k"
      },
      "execution_count": null,
      "outputs": []
    },
    {
      "cell_type": "code",
      "source": [
        "logloss, pred = multiClassRobustTest(theta_robust, X_t, y_t, n_class, d_ts / d_tt)\n",
        "acc = computeAcc(pred, y_t)\n",
        "print(f'Acc is {acc} and logloss is {logloss} for robust method')"
      ],
      "metadata": {
        "id": "YEbPTr78l5X7",
        "colab": {
          "base_uri": "https://localhost:8080/"
        },
        "outputId": "00be0a1c-b463-485b-a49f-c90e10031988"
      },
      "execution_count": null,
      "outputs": [
        {
          "output_type": "stream",
          "name": "stdout",
          "text": [
            "Acc is 1.0 and logloss is 0.4989368812192846 for robust method\n"
          ]
        }
      ]
    },
    {
      "cell_type": "code",
      "source": [
        "logloss, pred = multiClassRobustTest(theta_lr, X_t, y_t, n_class, np.ones((ns_row, 1)))\n",
        "acc = computeAcc(pred, y_t)\n",
        "print(f'Acc is {acc} and logloss is {logloss} for LR method')"
      ],
      "metadata": {
        "colab": {
          "base_uri": "https://localhost:8080/"
        },
        "id": "0iQzBZdqLszd",
        "outputId": "ef9cd08f-dd6f-481d-bc4a-428821ea4924"
      },
      "execution_count": null,
      "outputs": [
        {
          "output_type": "stream",
          "name": "stdout",
          "text": [
            "Acc is 1.0 and logloss is 0.09988054970933052 for LR method\n"
          ]
        }
      ]
    },
    {
      "cell_type": "code",
      "source": [
        "logloss, pred = multiClassRobustTest(theta_iw, X_t, y_t, n_class, np.ones((ns_row, 1)))\n",
        "acc = computeAcc(pred, y_t)\n",
        "print(f'Acc is {acc} and logloss is {logloss} for IW method')"
      ],
      "metadata": {
        "colab": {
          "base_uri": "https://localhost:8080/"
        },
        "id": "BGbDeVYl24-Y",
        "outputId": "e1361bbf-15ff-4c99-a045-d179a010875d"
      },
      "execution_count": null,
      "outputs": [
        {
          "output_type": "stream",
          "name": "stdout",
          "text": [
            "Acc is 0.96875 and logloss is 0.17910794400844812 for IW method\n"
          ]
        }
      ]
    },
    {
      "cell_type": "code",
      "source": [
        ""
      ],
      "metadata": {
        "id": "ojdYcUtMzgZh"
      },
      "execution_count": null,
      "outputs": []
    }
  ]
}
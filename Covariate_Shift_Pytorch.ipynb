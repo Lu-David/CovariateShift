{
  "nbformat": 4,
  "nbformat_minor": 0,
  "metadata": {
    "colab": {
      "name": "Covariate Shift Pytorch",
      "provenance": [],
      "toc_visible": true,
      "authorship_tag": "ABX9TyPB9toYfPOZXv9xPPNN4rvs",
      "include_colab_link": true
    },
    "kernelspec": {
      "name": "python3",
      "display_name": "Python 3"
    },
    "language_info": {
      "name": "python"
    }
  },
  "cells": [
    {
      "cell_type": "markdown",
      "metadata": {
        "id": "view-in-github",
        "colab_type": "text"
      },
      "source": [
        "<a href=\"https://colab.research.google.com/github/Lu-David/CovariateShift/blob/main/Covariate_Shift_Pytorch.ipynb\" target=\"_parent\"><img src=\"https://colab.research.google.com/assets/colab-badge.svg\" alt=\"Open In Colab\"/></a>"
      ]
    },
    {
      "cell_type": "markdown",
      "source": [
        "# Python implementation of 2014 Liu Paper\n",
        "\n",
        "https://proceedings.neurips.cc/paper/2014/file/d67d8ab4f4c10bf22aa353e27879133c-Paper.pdf"
      ],
      "metadata": {
        "id": "_2PBOjKyuBb0"
      }
    },
    {
      "cell_type": "markdown",
      "source": [
        "## Binary Classification"
      ],
      "metadata": {
        "id": "Wpc54G11wtVt"
      }
    },
    {
      "cell_type": "markdown",
      "source": [
        "### Load Data"
      ],
      "metadata": {
        "id": "8ouUIYmRtHX_"
      }
    },
    {
      "cell_type": "code",
      "source": [
        "import scipy.io\n",
        "import numpy as np\n",
        "import os\n",
        "import torch\n",
        "\n",
        "folder_path = '/content' # TODO Upload data files and / or specify path\n",
        "\n",
        "x_1 = scipy.io.loadmat(os.path.join(folder_path, 'x_1.mat'))['x_1']\n",
        "x_2 = scipy.io.loadmat(os.path.join(folder_path, 'x_2.mat'))['x_2']\n",
        "y_1 = np.transpose(scipy.io.loadmat(os.path.join(folder_path, 'y_1.mat'))['y_1'])\n",
        "y_2 = np.transpose(scipy.io.loadmat(os.path.join(folder_path, 'y_2.mat'))['y_2'])\n",
        "\n",
        "n_row, n_col = x_1.shape\n",
        "\n",
        "x_1 = torch.FloatTensor(x_1)\n",
        "x_2 = torch.FloatTensor(x_2)\n",
        "x_1_b = torch.cat((torch.ones((n_row, 1)), torch.FloatTensor(x_1)), dim = 1)\n",
        "x_2_b = torch.cat((torch.ones((n_row, 1)), torch.FloatTensor(x_2)), dim = 1)\n",
        "y_1 = torch.FloatTensor(y_1)\n",
        "y_2 = torch.FloatTensor(y_2)"
      ],
      "metadata": {
        "id": "S6gJmDSxtt81"
      },
      "execution_count": 8,
      "outputs": []
    },
    {
      "cell_type": "code",
      "source": [
        "# source mean \n",
        "mu_s = [6, 6] \n",
        "\n",
        "# source variance\n",
        "var_s = [[3, -2], [-2, 3]] \n",
        "\n",
        "# target mean\n",
        "mu_t = [7, 7] \n",
        "\n",
        "# target variance\n",
        "var_t = [[3, 2], [2, 3]] "
      ],
      "metadata": {
        "id": "QDH0YmX-0qlj"
      },
      "execution_count": 9,
      "outputs": []
    },
    {
      "cell_type": "code",
      "source": [
        "from scipy.stats import multivariate_normal\n",
        "\n",
        "mvn_s = multivariate_normal(mu_s, var_s)\n",
        "mvn_t = multivariate_normal(mu_t, var_t)\n",
        "\n",
        "# Because we have expert knowledge on mu and var for both source and target, \n",
        "# we can get the predicted probabilities for each data point under source and target distributions \n",
        "d_s = mvn_s.pdf(x_1)\n",
        "d_t = mvn_t.pdf(x_1)"
      ],
      "metadata": {
        "id": "nPZQyX4R9iyC"
      },
      "execution_count": 57,
      "outputs": []
    },
    {
      "cell_type": "code",
      "source": [
        "x_1_sec = torch.cat((torch.ones((n_row, 1)), x_1, (x_1[:, 0] ** 2).unsqueeze(1), (x_1[:, 0] * x_1[:, 1]).unsqueeze(1), (x_1[:, 1] ** 2).unsqueeze(1)), dim =1)\n",
        "x_2_sec = torch.cat((torch.ones((n_row, 1)), x_2, (x_2[:, 0] ** 2).unsqueeze(1), (x_2[:, 0] * x_2[:, 1]).unsqueeze(1), (x_2[:, 1] ** 2).unsqueeze(1)), dim =1)"
      ],
      "metadata": {
        "id": "FwK832BjuXCy"
      },
      "execution_count": 11,
      "outputs": []
    },
    {
      "cell_type": "markdown",
      "source": [
        "### Logistic Regression (LR) + Importance Weighting (IW)"
      ],
      "metadata": {
        "id": "tDonecKnmNJ6"
      }
    },
    {
      "cell_type": "code",
      "source": [
        "import torch\n",
        "import torch.nn as nn\n",
        "import torchvision\n",
        "import torch.nn.functional as F\n",
        "from torch.optim import Adam\n",
        "\n",
        "class LRClassifier(nn.Module):\n",
        "    def __init__(self, in_features = 2, out_features = 1):\n",
        "      super(LRClassifier, self).__init__()\n",
        "      \n",
        "      self.layer1 = nn.Linear(in_features, out_features, bias = False)\n",
        "      self.activation1 = nn.Sigmoid()\n",
        "\n",
        "    def forward(self, input):\n",
        "      return self.activation1(self.layer1(input))"
      ],
      "metadata": {
        "id": "bkTJCkOimPWo"
      },
      "execution_count": 12,
      "outputs": []
    },
    {
      "cell_type": "code",
      "source": [
        "def binaryLRTrain(X_s, y_s, r_ts, max_itr = 10000, lr = 0.01):\n",
        "\n",
        "  n_row, n_col = X_s.shape\n",
        "\n",
        "  lr_model = LRClassifier(in_features = n_col)\n",
        "  loss_fn = nn.BCELoss() \n",
        "  optimizer = torch.optim.Adam(lr_model.parameters(), lr = lr)\n",
        "  for param in lr_model.parameters():\n",
        "    param.data = nn.parameter.Parameter(torch.ones_like(param))\n",
        "\n",
        "  lr_model.train()\n",
        "\n",
        "  # convert labels from -1, 1 to 0, 1\n",
        "  if -1 in y_s:\n",
        "    y_s = torch.FloatTensor(np.where(y_s == 1, 1, 0))\n",
        "\n",
        "  F = X_s * r_ts\n",
        "  \n",
        "  for i in range(max_itr): \n",
        "      running_loss = 0.0\n",
        "      optimizer.zero_grad()\n",
        "      \n",
        "      outputs = lr_model.forward(F)\n",
        "      loss = loss_fn(outputs.squeeze(), y_s.squeeze())\n",
        "\n",
        "      loss.backward()\n",
        "\n",
        "      optimizer.step()\n",
        "\n",
        "      if i % 1000 == 0:\n",
        "        print(f\"Loss at step {i}: {float(loss.data)}\")\n",
        "\n",
        "  return lr_model"
      ],
      "metadata": {
        "id": "WvHqSv2Alazi"
      },
      "execution_count": 13,
      "outputs": []
    },
    {
      "cell_type": "code",
      "source": [
        "def binaryRobustTest(theta, X_t, y_t, r_st):\n",
        "  n_row, _ = X_t.shape\n",
        "\n",
        "  F = np.concatenate((np.ones((n_row, 1)), X_t), axis=1) \n",
        "\n",
        "  P = np.zeros((n_row, 1))\n",
        "  logloss = 0\n",
        "  prediction = np.zeros((n_row, 2))\n",
        "  for i in range(n_row):\n",
        "    W = r_st[i]\n",
        "    temp =  (np.dot(np.transpose(theta), np.transpose(F[i, :])) * y_t[i] * W)[0]      \n",
        "    temp_max = max(temp, -1 * temp)\n",
        "    temp_min = min(temp, -1 * temp)\n",
        "    P[i] = np.exp(temp - temp_max - np.log(1 + np.exp(temp_min - temp_max)))\n",
        "    logloss = logloss - np.log(P[i])\n",
        "\n",
        "    if y_t[i] == 1:\n",
        "      prediction[i] = [P[i], 1 - P[i]]\n",
        "    else:\n",
        "      prediction[i] = [1 - P[i], P[i]]\n",
        "\n",
        "  logloss = logloss / n_row / 0.6931\n",
        "  return logloss, prediction"
      ],
      "metadata": {
        "id": "lDqD57JO7AJb"
      },
      "execution_count": 14,
      "outputs": []
    },
    {
      "cell_type": "code",
      "source": [
        "def computeAcc(pred, y):\n",
        "  n_row, n_class = pred.shape\n",
        "  \n",
        "  max_ind = np.argmax(pred, axis = 1)\n",
        "\n",
        "  summ = 0\n",
        "\n",
        "  if n_class == 2:\n",
        "    for i in range(n_row):\n",
        "      if max_ind[i] == 1 and y[i] == -1:\n",
        "        summ += 1\n",
        "      elif max_ind[i] == 0 and y[i] == 1:\n",
        "        summ += 1\n",
        "  else:\n",
        "    summ = sum(np.argmax(pred, axis = 1) == y_t - 1)\n",
        "\n",
        "  return summ / n_row"
      ],
      "metadata": {
        "id": "4FdtGho07Bg6"
      },
      "execution_count": 15,
      "outputs": []
    },
    {
      "cell_type": "markdown",
      "source": [
        "#### First-Order Features"
      ],
      "metadata": {
        "id": "OgVcHu9g0lSA"
      }
    },
    {
      "cell_type": "code",
      "source": [
        "lr_model = binaryLRTrain(x_1_b, y_1, torch.ones((len(x_1), 1)))"
      ],
      "metadata": {
        "colab": {
          "base_uri": "https://localhost:8080/"
        },
        "id": "FBW-NrpvsmvS",
        "outputId": "9cc56384-1cc4-4744-c5f1-1f7e072c9a91"
      },
      "execution_count": 17,
      "outputs": [
        {
          "output_type": "stream",
          "name": "stdout",
          "text": [
            "Loss at step 0: 8.603636741638184\n",
            "Loss at step 1000: 0.6322436332702637\n",
            "Loss at step 2000: 0.5600477457046509\n",
            "Loss at step 3000: 0.49408310651779175\n",
            "Loss at step 4000: 0.44658976793289185\n",
            "Loss at step 5000: 0.41650810837745667\n",
            "Loss at step 6000: 0.39925307035446167\n",
            "Loss at step 7000: 0.39056259393692017\n",
            "Loss at step 8000: 0.38703832030296326\n",
            "Loss at step 9000: 0.38606488704681396\n"
          ]
        }
      ]
    },
    {
      "cell_type": "code",
      "source": [
        "from matplotlib import markers\n",
        "import matplotlib as mpl\n",
        "import matplotlib.pyplot as plt\n",
        "from matplotlib import cm\n",
        "\n",
        "lr_fig, lr_ax = plt.subplots()\n",
        "\n",
        "maxs = 15\n",
        "mins = -5\n",
        " \n",
        "X_dim1, X_dim2 = np.meshgrid(np.arange(mins, maxs + 0.1, 0.1), np.arange(mins, maxs + 0.1, 0.1))\n",
        "\n",
        "dim = int((maxs - mins) / 0.1 + 1)\n",
        "\n",
        "predictions = np.zeros((dim, dim))\n",
        "\n",
        "for i in range(dim):\n",
        "  for j in range(dim):\n",
        "    x_t = torch.FloatTensor([1, X_dim1[i, j], X_dim2[i, j]]) # X_dim1[i, j] ** 2, X_dim1[i, j] * X_dim2[i, j], X_dim2[i, j] ** 2\n",
        "    outputs = lr_model(x_t).double()\n",
        "    predictions[i, j] = outputs[0]\n",
        "    \n",
        "\n",
        "lr_ax.imshow(predictions, cmap='Spectral', interpolation='nearest', origin='lower', extent=[-5, 15, -5, 15])\n",
        "\n",
        "pos = x_1[np.array(y_1 == 1).flatten()]\n",
        "neg = x_1[np.array(y_1 == -1).flatten()]\n",
        "\n",
        "lr_ax.scatter(pos[:,0], pos[:,1], marker=\"x\", color=\"black\")\n",
        "lr_ax.scatter(neg[:,0], neg[:,1], marker=\"o\", color=\"white\")\n",
        "lr_ax.set_title(\"Logistic Regression - First Order Features\")"
      ],
      "metadata": {
        "id": "8qzTnw_133zy",
        "colab": {
          "base_uri": "https://localhost:8080/",
          "height": 299
        },
        "outputId": "87dbfeb7-4055-4289-cb86-7cc8fc3ef383"
      },
      "execution_count": 19,
      "outputs": [
        {
          "output_type": "execute_result",
          "data": {
            "text/plain": [
              "Text(0.5, 1.0, 'Logistic Regression - First Order Features')"
            ]
          },
          "metadata": {},
          "execution_count": 19
        },
        {
          "output_type": "display_data",
          "data": {
            "image/png": "[encoded data removed]",
            "text/plain": [
              "<Figure size 432x288 with 1 Axes>"
            ]
          },
          "metadata": {
            "needs_background": "light"
          }
        }
      ]
    },
    {
      "cell_type": "code",
      "source": [
        "iw_model = binaryLRTrain(x_1_b, y_1, torch.Tensor(d_t / d_s).unsqueeze(1))"
      ],
      "metadata": {
        "colab": {
          "base_uri": "https://localhost:8080/"
        },
        "id": "RgPugDHWmI8s",
        "outputId": "a4d42718-638a-4fd9-ac74-56d206bd96ff"
      },
      "execution_count": 20,
      "outputs": [
        {
          "output_type": "stream",
          "name": "stdout",
          "text": [
            "Loss at step 0: 15.752140998840332\n",
            "Loss at step 1000: 0.6052042245864868\n",
            "Loss at step 2000: 0.5760133266448975\n",
            "Loss at step 3000: 0.5577603578567505\n",
            "Loss at step 4000: 0.5426439642906189\n",
            "Loss at step 5000: 0.5311148762702942\n",
            "Loss at step 6000: 0.5234957933425903\n",
            "Loss at step 7000: 0.5192238688468933\n",
            "Loss at step 8000: 0.5173240900039673\n",
            "Loss at step 9000: 0.5167459845542908\n"
          ]
        }
      ]
    },
    {
      "cell_type": "code",
      "source": [
        "from matplotlib import markers\n",
        "import matplotlib as mpl\n",
        "import matplotlib.pyplot as plt\n",
        "from matplotlib import cm\n",
        "\n",
        "lr_fig, lr_ax = plt.subplots()\n",
        "\n",
        "maxs = 15\n",
        "mins = -5\n",
        " \n",
        "X_dim1, X_dim2 = np.meshgrid(np.arange(mins, maxs + 0.1, 0.1), np.arange(mins, maxs + 0.1, 0.1))\n",
        "\n",
        "dim = int((maxs - mins) / 0.1 + 1)\n",
        "\n",
        "predictions = np.zeros((dim, dim))\n",
        "\n",
        "for i in range(dim):\n",
        "  for j in range(dim):\n",
        "    x_t = torch.FloatTensor([1, X_dim1[i, j], X_dim2[i, j]]) # X_dim1[i, j] ** 2, X_dim1[i, j] * X_dim2[i, j], X_dim2[i, j] ** 2\n",
        "    outputs = iw_model(x_t).double()\n",
        "    predictions[i, j] = outputs[0]\n",
        "    \n",
        "\n",
        "lr_ax.imshow(predictions, cmap='Spectral', interpolation='nearest', origin='lower', extent=[-5, 15, -5, 15])\n",
        "\n",
        "pos = x_1[np.array(y_1 == 1).flatten()]\n",
        "neg = x_1[np.array(y_1 == -1).flatten()]\n",
        "\n",
        "lr_ax.scatter(pos[:,0], pos[:,1], marker=\"x\", color=\"black\")\n",
        "lr_ax.scatter(neg[:,0], neg[:,1], marker=\"o\", color=\"white\")\n",
        "lr_ax.set_title(\"Importance Weighting - First Order Features\")"
      ],
      "metadata": {
        "colab": {
          "base_uri": "https://localhost:8080/",
          "height": 299
        },
        "id": "0qG2_9LrmO5J",
        "outputId": "91855a9e-caa0-4ccd-91d0-3c03bd380b79"
      },
      "execution_count": 22,
      "outputs": [
        {
          "output_type": "execute_result",
          "data": {
            "text/plain": [
              "Text(0.5, 1.0, 'Importance Weighting - First Order Features')"
            ]
          },
          "metadata": {},
          "execution_count": 22
        },
        {
          "output_type": "display_data",
          "data": {
            "image/png": "[encoded data removed]",
            "text/plain": [
              "<Figure size 432x288 with 1 Axes>"
            ]
          },
          "metadata": {
            "needs_background": "light"
          }
        }
      ]
    },
    {
      "cell_type": "markdown",
      "source": [
        "#### Second-Order Features"
      ],
      "metadata": {
        "id": "P-R-hxR48KOz"
      }
    },
    {
      "cell_type": "code",
      "source": [
        "lr_model = binaryLRTrain(x_1_sec / 10, y_1, torch.ones((len(x_1), 1)))"
      ],
      "metadata": {
        "colab": {
          "base_uri": "https://localhost:8080/"
        },
        "id": "dBN5y0M28J2S",
        "outputId": "ca23711e-6c33-45b2-81dc-f6b1cc6342df"
      },
      "execution_count": 28,
      "outputs": [
        {
          "output_type": "stream",
          "name": "stdout",
          "text": [
            "Loss at step 0: 15.335493087768555\n",
            "Loss at step 1000: 0.6060230135917664\n",
            "Loss at step 2000: 0.5248032212257385\n",
            "Loss at step 3000: 0.46038147807121277\n",
            "Loss at step 4000: 0.4186622202396393\n",
            "Loss at step 5000: 0.3944123089313507\n",
            "Loss at step 6000: 0.381745845079422\n",
            "Loss at step 7000: 0.3761238753795624\n",
            "Loss at step 8000: 0.3741365075111389\n",
            "Loss at step 9000: 0.373421847820282\n"
          ]
        }
      ]
    },
    {
      "cell_type": "code",
      "source": [
        "from matplotlib import markers\n",
        "import matplotlib as mpl\n",
        "import matplotlib.pyplot as plt\n",
        "from matplotlib import cm\n",
        "\n",
        "fig, ax = plt.subplots()\n",
        "\n",
        "maxs = 15\n",
        "mins = -5\n",
        " \n",
        "X_dim1, X_dim2 = np.meshgrid(np.arange(mins, maxs + 0.1, 0.1), np.arange(mins, maxs + 0.1, 0.1))\n",
        "\n",
        "dim = int((maxs - mins) / 0.1 + 1)\n",
        "\n",
        "predictions = np.zeros((dim, dim))\n",
        "\n",
        "for i in range(dim):\n",
        "  for j in range(dim):\n",
        "    x_t = torch.FloatTensor([1, X_dim1[i, j], X_dim2[i, j], X_dim1[i, j] ** 2, X_dim1[i, j] * X_dim2[i, j], X_dim2[i, j] ** 2]) / 10\n",
        "    outputs = lr_model(x_t).double()\n",
        "    predictions[i, j] = outputs[0]\n",
        "    \n",
        "\n",
        "ax.imshow(predictions, cmap='Spectral', interpolation='nearest', origin='lower', extent=[-5, 15, -5, 15])\n",
        "\n",
        "pos = x_1[np.array(y_1 == 1).flatten()]\n",
        "neg = x_1[np.array(y_1 == -1).flatten()]\n",
        "\n",
        "ax.scatter(pos[:,0], pos[:,1], marker=\"x\", color=\"black\")\n",
        "ax.scatter(neg[:,0], neg[:,1], marker=\"o\", color=\"white\")\n",
        "ax.set_title(\"Logistic Regression - Second Order Features\")"
      ],
      "metadata": {
        "colab": {
          "base_uri": "https://localhost:8080/",
          "height": 299
        },
        "id": "RN3CUzAbYAdx",
        "outputId": "c10ba75a-dfcc-4d74-8d70-c4247e2870fc"
      },
      "execution_count": 29,
      "outputs": [
        {
          "output_type": "execute_result",
          "data": {
            "text/plain": [
              "Text(0.5, 1.0, 'Logistic Regression - Second Order Features')"
            ]
          },
          "metadata": {},
          "execution_count": 29
        },
        {
          "output_type": "display_data",
          "data": {
            "image/png": "[encoded data removed]",
            "text/plain": [
              "<Figure size 432x288 with 1 Axes>"
            ]
          },
          "metadata": {
            "needs_background": "light"
          }
        }
      ]
    },
    {
      "cell_type": "code",
      "source": [
        "iw_model = binaryLRTrain(x_1_sec, y_1, torch.Tensor(d_t / d_s).unsqueeze(1))"
      ],
      "metadata": {
        "colab": {
          "base_uri": "https://localhost:8080/"
        },
        "id": "oZx__kBmon-T",
        "outputId": "a8e46600-0c15-458b-ea15-0745b63fdc12"
      },
      "execution_count": 32,
      "outputs": [
        {
          "output_type": "stream",
          "name": "stdout",
          "text": [
            "Loss at step 0: 44.515289306640625\n",
            "Loss at step 1000: 0.5234112739562988\n",
            "Loss at step 2000: 0.5091196298599243\n",
            "Loss at step 3000: 0.5062240362167358\n",
            "Loss at step 4000: 0.504950761795044\n",
            "Loss at step 5000: 0.5039026737213135\n",
            "Loss at step 6000: 0.5025988817214966\n",
            "Loss at step 7000: 0.500838041305542\n",
            "Loss at step 8000: 0.49882572889328003\n",
            "Loss at step 9000: 0.49728602170944214\n"
          ]
        }
      ]
    },
    {
      "cell_type": "code",
      "source": [
        "from matplotlib import markers\n",
        "import matplotlib as mpl\n",
        "import matplotlib.pyplot as plt\n",
        "from matplotlib import cm\n",
        "\n",
        "fig, ax = plt.subplots()\n",
        "\n",
        "maxs = 15\n",
        "mins = -5\n",
        " \n",
        "X_dim1, X_dim2 = np.meshgrid(np.arange(mins, maxs + 0.1, 0.1), np.arange(mins, maxs + 0.1, 0.1))\n",
        "\n",
        "dim = int((maxs - mins) / 0.1 + 1)\n",
        "\n",
        "predictions = np.zeros((dim, dim))\n",
        "\n",
        "for i in range(dim):\n",
        "  for j in range(dim):\n",
        "    x_t = torch.FloatTensor([1, X_dim1[i, j], X_dim2[i, j], X_dim1[i, j] ** 2, X_dim1[i, j] * X_dim2[i, j], X_dim2[i, j] ** 2])\n",
        "    outputs = iw_model(x_t).double()\n",
        "    predictions[i, j] = outputs[0]\n",
        "    \n",
        "\n",
        "ax.imshow(predictions, cmap='Spectral', interpolation='nearest', origin='lower', extent=[-5, 15, -5, 15])\n",
        "\n",
        "pos = x_1[np.array(y_1 == 1).flatten()]\n",
        "neg = x_1[np.array(y_1 == -1).flatten()]\n",
        "\n",
        "ax.scatter(pos[:,0], pos[:,1], marker=\"x\", color=\"black\")\n",
        "ax.scatter(neg[:,0], neg[:,1], marker=\"o\", color=\"white\")\n",
        "ax.set_title(\"Importance Reweighting - Second Order Features\")"
      ],
      "metadata": {
        "colab": {
          "base_uri": "https://localhost:8080/",
          "height": 299
        },
        "id": "jgC6h9wkpAP7",
        "outputId": "b1d0da1d-db21-4810-aceb-a317ff233b59"
      },
      "execution_count": 34,
      "outputs": [
        {
          "output_type": "execute_result",
          "data": {
            "text/plain": [
              "Text(0.5, 1.0, 'Importance Reweighting - Second Order Features')"
            ]
          },
          "metadata": {},
          "execution_count": 34
        },
        {
          "output_type": "display_data",
          "data": {
            "image/png": "[encoded data removed]",
            "text/plain": [
              "<Figure size 432x288 with 1 Axes>"
            ]
          },
          "metadata": {
            "needs_background": "light"
          }
        }
      ]
    },
    {
      "cell_type": "markdown",
      "source": [
        "### Robust Bias-Aware (RBA) \n"
      ],
      "metadata": {
        "id": "2Cgsr6FKNdwX"
      }
    },
    {
      "cell_type": "code",
      "source": [
        "import torch\n",
        "import torch.nn as nn\n",
        "import torchvision\n",
        "import torch.nn.functional as F\n",
        "from torch.optim import Adam\n",
        "\n",
        "class RBAClassifier(nn.Module):\n",
        "    def __init__(self, in_features = 2, out_features = 1):\n",
        "      super(RBAClassifier, self).__init__()\n",
        "      self.layer1 = nn.Linear(in_features, out_features, bias = True)\n",
        "\n",
        "    def forward(self, input):\n",
        "      return self.layer1(input)"
      ],
      "metadata": {
        "id": "l6o_d1RiNkMo"
      },
      "execution_count": 51,
      "outputs": []
    },
    {
      "cell_type": "code",
      "source": [
        "class RBAGrad(torch.autograd.Function):\n",
        "    @staticmethod\n",
        "    def forward(ctx, output, prob, y):\n",
        "        ctx.save_for_backward(output, prob, y)\n",
        "        return output\n",
        "\n",
        "    @staticmethod\n",
        "    def backward(ctx, grad_output):\n",
        "        output, prob, y = ctx.saved_tensors\n",
        "        grad_temp = grad_output.clone()\n",
        "        grad_input = grad_temp * (prob - y)\n",
        "        return grad_input, None, None\n",
        "\n",
        "\"\"\"class RBAGrad(torch.autograd.Function):\n",
        "    @staticmethod\n",
        "    def forward(ctx, theta, output, prob, y):\n",
        "        ctx.save_for_backward(theta, output, prob, y)\n",
        "        return output\n",
        "\n",
        "    @staticmethod\n",
        "    def backward(ctx, grad_output):\n",
        "        theta, output, prob, y = ctx.saved_tensors\n",
        "        grad_temp = grad_output.clone()\n",
        "        grad_input = grad_temp * (prob - y)\n",
        "        return grad_input, None, None, None\"\"\""
      ],
      "metadata": {
        "id": "Qs9c2s17QlEQ",
        "colab": {
          "base_uri": "https://localhost:8080/",
          "height": 72
        },
        "outputId": "9de39973-a97c-456c-c366-2f9918afe67a"
      },
      "execution_count": 52,
      "outputs": [
        {
          "output_type": "execute_result",
          "data": {
            "application/vnd.google.colaboratory.intrinsic+json": {
              "type": "string"
            },
            "text/plain": [
              "'class RBAGrad(torch.autograd.Function):\\n    @staticmethod\\n    def forward(ctx, theta, output, prob, y):\\n        ctx.save_for_backward(theta, output, prob, y)\\n        return output\\n\\n    @staticmethod\\n    def backward(ctx, grad_output):\\n        theta, output, prob, y = ctx.saved_tensors\\n        grad_temp = grad_output.clone()\\n        grad_input = grad_temp * (prob - y)\\n        return grad_input, None, None, None'"
            ]
          },
          "metadata": {},
          "execution_count": 52
        }
      ]
    },
    {
      "cell_type": "code",
      "source": [
        "def binaryRBATrain(X_s, y_s, r_st, max_itr = 10000, lr = 0.01):\n",
        "\n",
        "  rba_model = RBAClassifier(in_features = X_s.shape[1])\n",
        "  loss_fn = nn.BCELoss() \n",
        "  optimizer = torch.optim.Adam(rba_model.parameters(), lr = lr)\n",
        "\n",
        "  for param in rba_model.parameters():\n",
        "    param.data = nn.parameter.Parameter(torch.ones_like(param))\n",
        "\n",
        "  rba_model.train()\n",
        "\n",
        "  # convert labels from -1, 1 to 0, 1\n",
        "  if -1 in y_s:\n",
        "    y_s = torch.FloatTensor(np.where(y_s == 1, 1, 0))\n",
        "\n",
        "  n_row, _ = X_s.shape\n",
        "\n",
        "  for i in range(max_itr):  # loop over the dataset multiple times\n",
        "      running_loss = 0.0\n",
        "    \n",
        "      optimizer.zero_grad()\n",
        "      \n",
        "      outputs = rba_model.forward(X_s)\n",
        "      output_last = RBAGrad.apply(outputs, torch.sigmoid(outputs * r_st), y_s)\n",
        "      output_last.backward(torch.ones(output_last.shape))\n",
        "\n",
        "      # adjust parameters based on the calculated gradients\n",
        "      optimizer.step()\n",
        "      \n",
        "      loss = loss_fn(torch.sigmoid(outputs.squeeze()), y_s.squeeze())\n",
        "      if i % 1000 == 0:\n",
        "        print(f\"Loss at step {i}: {float(loss.data)}\")\n",
        "\n",
        "\n",
        "  return rba_model"
      ],
      "metadata": {
        "id": "se_GxYcrO6mg"
      },
      "execution_count": 53,
      "outputs": []
    },
    {
      "cell_type": "markdown",
      "source": [
        "#### First-Order Features"
      ],
      "metadata": {
        "id": "hCUMPk_C_mbd"
      }
    },
    {
      "cell_type": "code",
      "source": [
        "rba_model = binaryRBATrain(x_1, y_1, torch.ones((x_1.shape[0], 1)), lr = 0.01) # torch.Tensor(d_s / d_t).unsqueeze(1)"
      ],
      "metadata": {
        "id": "CRidJY6LqBHL",
        "colab": {
          "base_uri": "https://localhost:8080/"
        },
        "outputId": "46fe9af4-0967-4bfb-9696-db638a554517"
      },
      "execution_count": 54,
      "outputs": [
        {
          "output_type": "stream",
          "name": "stdout",
          "text": [
            "Loss at step 0: 8.603636741638184\n",
            "Loss at step 1000: 0.6322824954986572\n",
            "Loss at step 2000: 0.56011563539505\n",
            "Loss at step 3000: 0.4941502809524536\n",
            "Loss at step 4000: 0.44664081931114197\n",
            "Loss at step 5000: 0.4165409505367279\n",
            "Loss at step 6000: 0.3992714583873749\n",
            "Loss at step 7000: 0.39057108759880066\n",
            "Loss at step 8000: 0.38704124093055725\n",
            "Loss at step 9000: 0.3860654830932617\n"
          ]
        }
      ]
    },
    {
      "cell_type": "code",
      "source": [
        "from matplotlib import markers\n",
        "import matplotlib as mpl\n",
        "import matplotlib.pyplot as plt\n",
        "from matplotlib import cm\n",
        "\n",
        "maxs = 15\n",
        "mins = -5\n",
        "\n",
        "X_dim1, X_dim2 = np.meshgrid(np.arange(mins, maxs + 0.1, 0.1), np.arange(mins, maxs + 0.1, 0.1))\n",
        "\n",
        "dim = int((maxs - mins) / 0.1 + 1)\n",
        "\n",
        "prediction = np.zeros((dim, dim))\n",
        "\n",
        "for i in range(dim):\n",
        "  for j in range(dim):\n",
        "    x_t = torch.FloatTensor([X_dim1[i, j], X_dim2[i, j]]) # , X_dim1[i, j] ** 2, X_dim1[i, j] * X_dim2[i, j], X_dim2[i, j] ** 2\n",
        "    outputs = torch.sigmoid(rba_model(x_t) * mvn_s.pdf(x_t) / mvn_t.pdf(x_t))\n",
        "    prediction[i, j] = outputs[0]\n",
        "\n",
        "plt.imshow(prediction, cmap='Spectral', interpolation='nearest', origin='lower', extent=[-5, 15, -5, 15])\n",
        "\n",
        "pos = x_1[np.array(y_1 == 1).flatten()]\n",
        "neg = x_1[np.array(y_1 == -1).flatten()]\n",
        "\n",
        "plt.scatter(pos[:,0], pos[:,1], marker=\"x\", color=\"black\", s = 7)\n",
        "plt.scatter(neg[:,0], neg[:,1], marker=\"o\", color=\"white\", s = 7)"
      ],
      "metadata": {
        "colab": {
          "base_uri": "https://localhost:8080/",
          "height": 287
        },
        "id": "xrpypnAYqMiE",
        "outputId": "edfe3f51-1c41-434d-e32e-304db2d648d8"
      },
      "execution_count": 60,
      "outputs": [
        {
          "output_type": "execute_result",
          "data": {
            "text/plain": [
              "<matplotlib.collections.PathCollection at 0x7fadcf571d10>"
            ]
          },
          "metadata": {},
          "execution_count": 60
        },
        {
          "output_type": "display_data",
          "data": {
            "image/png": "[encoded data removed]",
            "text/plain": [
              "<Figure size 432x288 with 1 Axes>"
            ]
          },
          "metadata": {
            "needs_background": "light"
          }
        }
      ]
    },
    {
      "cell_type": "markdown",
      "source": [
        "#### Second-Order Features"
      ],
      "metadata": {
        "id": "Q079_bierW-s"
      }
    },
    {
      "cell_type": "code",
      "source": [
        "rba_model = binaryRBATrain(x_1, y_1, torch.Tensor(d_s / d_t).unsqueeze(1), torch.ones((x_1.shape[0], 1))) "
      ],
      "metadata": {
        "id": "CfIYv7QfQrUB",
        "colab": {
          "base_uri": "https://localhost:8080/"
        },
        "outputId": "c351bc1e-93c8-4c4e-8129-3a5d15d38271"
      },
      "execution_count": 15,
      "outputs": [
        {
          "output_type": "stream",
          "name": "stdout",
          "text": [
            "Loss at step 0: 8.603636741638184\n",
            "Loss at step 1000: 0.6452558040618896\n",
            "Loss at step 2000: 0.5796209573745728\n",
            "Loss at step 3000: 0.5176428556442261\n",
            "Loss at step 4000: 0.46658870577812195\n",
            "Loss at step 5000: 0.4302445352077484\n",
            "Loss at step 6000: 0.40805840492248535\n",
            "Loss at step 7000: 0.39614829421043396\n",
            "Loss at step 8000: 0.3908524215221405\n",
            "Loss at step 9000: 0.3883082866668701\n"
          ]
        }
      ]
    },
    {
      "cell_type": "code",
      "source": [
        "from matplotlib import markers\n",
        "import matplotlib as mpl\n",
        "import matplotlib.pyplot as plt\n",
        "from matplotlib import cm\n",
        "\n",
        "maxs = 15\n",
        "mins = -5\n",
        "\n",
        "X_dim1, X_dim2 = np.meshgrid(np.arange(mins, maxs + 0.1, 0.1), np.arange(mins, maxs + 0.1, 0.1))\n",
        "\n",
        "dim = int((maxs - mins) / 0.1 + 1)\n",
        "\n",
        "prediction = np.zeros((dim, dim))\n",
        "\n",
        "for i in range(dim):\n",
        "  for j in range(dim):\n",
        "    x_t = torch.FloatTensor([X_dim1[i, j], X_dim2[i, j]])\n",
        "    x_t = x_t.reshape((1, 2))\n",
        "    outputs = torch.sigmoid(rba_model(x_t) * mvn_s.pdf(x_t) / mvn_t.pdf(x_t))\n",
        "    prediction[i, j] = outputs[0]\n",
        "\n",
        "plt.imshow(prediction, cmap='Spectral', interpolation='nearest', origin='lower', extent=[-5, 15, -5, 15])\n",
        "\n",
        "pos = x_1[np.array(y_1 == 1).flatten()]\n",
        "neg = x_1[np.array(y_1 == -1).flatten()]\n",
        "\n",
        "plt.scatter(pos[:,0], pos[:,1], marker=\"x\", color=\"black\")\n",
        "plt.scatter(neg[:,0], neg[:,1], marker=\"o\", color=\"white\")"
      ],
      "metadata": {
        "id": "7I8g5IoeTeOQ",
        "colab": {
          "base_uri": "https://localhost:8080/",
          "height": 287
        },
        "outputId": "b200b1b6-cd15-41b8-9a7c-92663433d8d5"
      },
      "execution_count": 16,
      "outputs": [
        {
          "output_type": "execute_result",
          "data": {
            "text/plain": [
              "<matplotlib.collections.PathCollection at 0x7f5fe9a61950>"
            ]
          },
          "metadata": {},
          "execution_count": 16
        },
        {
          "output_type": "display_data",
          "data": {
            "image/png": "[encoded data removed]",
            "text/plain": [
              "<Figure size 432x288 with 1 Axes>"
            ]
          },
          "metadata": {
            "needs_background": "light"
          }
        }
      ]
    },
    {
      "cell_type": "markdown",
      "source": [
        "### Text"
      ],
      "metadata": {
        "id": "ZtoK9581Qt_4"
      }
    },
    {
      "cell_type": "code",
      "source": [
        "from scipy.stats import multivariate_normal\n",
        "\n",
        "mvn_s = multivariate_normal(mu_s, var_s)\n",
        "mvn_t = multivariate_normal(mu_t, var_t)\n",
        "\n",
        "# Because we have expert knowledge on mu and var for both source and target, \n",
        "# we can get the predicted probabilities for each data point under source and target distributions \n",
        "d_s = mvn_s.pdf(x_1)\n",
        "d_t = mvn_t.pdf(x_1)"
      ],
      "metadata": {
        "id": "21mGJZQQYjoU"
      },
      "execution_count": null,
      "outputs": []
    },
    {
      "cell_type": "code",
      "source": [
        "# RBA\n",
        "theta_1 = binaryRobustTrain(x_1, y_1, d_s / d_t, np.ones((x_1.shape[0], 1)))\n",
        "print(\"Weights\", theta_1)"
      ],
      "metadata": {
        "colab": {
          "base_uri": "https://localhost:8080/"
        },
        "id": "TIOqqxGmdjzw",
        "outputId": "51652775-3aeb-4c0f-b5d7-11840b0b9c0e"
      },
      "execution_count": null,
      "outputs": [
        {
          "output_type": "stream",
          "name": "stdout",
          "text": [
            "Optimizination stops by reaching maximum iteration\n",
            "Weights [[11.91705313]\n",
            " [-1.00605443]\n",
            " [-1.0069282 ]]\n"
          ]
        }
      ]
    },
    {
      "cell_type": "code",
      "source": [
        "# Logistic Regression\n",
        "theta_2 = binaryRobustTrain(x_1, y_1, np.ones((x_1.shape[0], 1)), np.ones((x_1.shape[0], 1)))\n",
        "print(\"Weights\", theta_2)"
      ],
      "metadata": {
        "colab": {
          "base_uri": "https://localhost:8080/"
        },
        "id": "u1dDLQsdGD8j",
        "outputId": "43527841-5c3b-4be3-b58e-c1522bd28fad"
      },
      "execution_count": null,
      "outputs": [
        {
          "output_type": "stream",
          "name": "stdout",
          "text": [
            "Optimization stops by reaching minimum gradient.\n",
            "Weights [[12.35379291]\n",
            " [-1.04099695]\n",
            " [-1.0359673 ]]\n"
          ]
        }
      ]
    },
    {
      "cell_type": "code",
      "source": [
        "# Importance Weighting\n",
        "r_ts = d_t / d_s\n",
        "theta_3 = binaryRobustTrain(x_1, y_1, np.ones((x_1.shape[0], 1)), r_ts.reshape(r_ts.shape[0], 1))\n",
        "print(\"Weights\", theta_3)"
      ],
      "metadata": {
        "colab": {
          "base_uri": "https://localhost:8080/"
        },
        "id": "HAggbFoMGZhH",
        "outputId": "9687d145-d50a-4c90-a35e-1001f9946b9f"
      },
      "execution_count": null,
      "outputs": [
        {
          "output_type": "stream",
          "name": "stdout",
          "text": [
            "Optimization stops by reaching minimum gradient.\n",
            "Weights [[ 9.40884544]\n",
            " [-0.76023811]\n",
            " [-0.85193742]]\n"
          ]
        }
      ]
    },
    {
      "cell_type": "markdown",
      "source": [
        "### Testing"
      ],
      "metadata": {
        "id": "vBAqpEPrnNCU"
      }
    },
    {
      "cell_type": "code",
      "source": [
        "def binaryRobustTest(theta, X_t, y_t, r_st):\n",
        "  n_row, _ = X_t.shape\n",
        "\n",
        "  F = np.concatenate((np.ones((n_row, 1)), X_t), axis=1) \n",
        "\n",
        "  P = np.zeros((n_row, 1))\n",
        "  logloss = 0\n",
        "  prediction = np.zeros((n_row, 2))\n",
        "  for i in range(n_row):\n",
        "    W = r_st[i]\n",
        "    temp =  (np.dot(np.transpose(theta), np.transpose(F[i, :])) * y_t[i] * W)[0]      \n",
        "    temp_max = max(temp, -1 * temp)\n",
        "    temp_min = min(temp, -1 * temp)\n",
        "    P[i] = np.exp(temp - temp_max - np.log(1 + np.exp(temp_min - temp_max)))\n",
        "    logloss = logloss - np.log(P[i])\n",
        "\n",
        "    if y_t[i] == 1:\n",
        "      prediction[i] = [P[i], 1 - P[i]]\n",
        "    else:\n",
        "      prediction[i] = [1 - P[i], P[i]]\n",
        "\n",
        "  logloss = logloss / n_row / 0.6931\n",
        "  return logloss, prediction\n",
        "\n",
        "def computeAcc(pred, y):\n",
        "  n_row, n_class = pred.shape\n",
        "  \n",
        "  max_ind = np.argmax(pred, axis = 1)\n",
        "\n",
        "  summ = 0\n",
        "\n",
        "  if n_class == 2:\n",
        "    for i in range(n_row):\n",
        "      if max_ind[i] == 1 and y[i] == -1:\n",
        "        summ += 1\n",
        "      elif max_ind[i] == 0 and y[i] == 1:\n",
        "        summ += 1\n",
        "  else:\n",
        "    summ = sum(np.argmax(pred, axis = 1) == y_t - 1)\n",
        "\n",
        "  return summ / n_row"
      ],
      "metadata": {
        "id": "NBxGgX1tnNwQ"
      },
      "execution_count": null,
      "outputs": []
    },
    {
      "cell_type": "code",
      "source": [
        "d_s = mvn_s.pdf(x_2)\n",
        "d_t = mvn_t.pdf(x_2)"
      ],
      "metadata": {
        "id": "BgUO9mgnrF7n"
      },
      "execution_count": null,
      "outputs": []
    },
    {
      "cell_type": "code",
      "source": [
        "# RBA\n",
        "logloss_1, pred_1 = binaryRobustTest(theta_1, x_2, y_2, d_s / d_t)\n",
        "print(logloss_1)"
      ],
      "metadata": {
        "colab": {
          "base_uri": "https://localhost:8080/"
        },
        "id": "BkxdsV8hrWNa",
        "outputId": "edc9c95e-375e-4e72-a908-c09286c3083a"
      },
      "execution_count": null,
      "outputs": [
        {
          "output_type": "stream",
          "name": "stdout",
          "text": [
            "[0.82562143]\n"
          ]
        }
      ]
    },
    {
      "cell_type": "code",
      "source": [
        "logloss_2, pred_2 = binaryRobustTest(theta_2, x_2, y_2, np.ones((x_1.shape[0], 1)))\n",
        "print(logloss_2)"
      ],
      "metadata": {
        "colab": {
          "base_uri": "https://localhost:8080/"
        },
        "id": "uX5hh4G7ryiH",
        "outputId": "290e596b-e1b3-44ac-c7d9-2ddff9e95130"
      },
      "execution_count": null,
      "outputs": [
        {
          "output_type": "stream",
          "name": "stdout",
          "text": [
            "[0.78499119]\n"
          ]
        }
      ]
    },
    {
      "cell_type": "code",
      "source": [
        "logloss_3, pred_3 = binaryRobustTest(theta_3, x_2, y_2, np.ones((x_1.shape[0], 1)))\n",
        "print(logloss_3)"
      ],
      "metadata": {
        "colab": {
          "base_uri": "https://localhost:8080/"
        },
        "id": "bdvUgB8WtVR9",
        "outputId": "18036eef-6304-4954-9ee6-adb070472829"
      },
      "execution_count": null,
      "outputs": [
        {
          "output_type": "stream",
          "name": "stdout",
          "text": [
            "[0.69593336]\n"
          ]
        }
      ]
    },
    {
      "cell_type": "code",
      "source": [
        "print(computeAcc(pred_1, y_2))\n",
        "print(computeAcc(pred_2, y_2))\n",
        "print(computeAcc(pred_3, y_2))"
      ],
      "metadata": {
        "colab": {
          "base_uri": "https://localhost:8080/"
        },
        "id": "xR7rPN4Htalw",
        "outputId": "8cf64440-ca09-42d8-b1cc-21ee5fc8d1a0"
      },
      "execution_count": null,
      "outputs": [
        {
          "output_type": "stream",
          "name": "stdout",
          "text": [
            "0.89\n",
            "0.9\n",
            "0.87\n"
          ]
        }
      ]
    },
    {
      "cell_type": "markdown",
      "source": [
        "## MultiClass Classification"
      ],
      "metadata": {
        "id": "3DfdxoUUwzw8"
      }
    },
    {
      "cell_type": "code",
      "source": [
        "import scipy.io\n",
        "import numpy as np\n",
        "import os\n",
        "\n",
        "folder_path = '/content' # TODO Change this\n",
        "\n",
        "iris_train = scipy.io.loadmat(os.path.join(folder_path, 'iris_train.mat'))['iris_train']\n",
        "iris_test = scipy.io.loadmat(os.path.join(folder_path, 'iris_test.mat'))['iris_test']\n",
        "\n",
        "X_s = iris_train[:,0:-1]\n",
        "y_s = iris_train[:, -1]\n",
        "X_t = iris_test[:,0:-1]\n",
        "y_t = iris_test[:,-1]"
      ],
      "metadata": {
        "id": "f-x7il86yMPG"
      },
      "execution_count": null,
      "outputs": []
    },
    {
      "cell_type": "code",
      "source": [
        "from sklearn import preprocessing\n",
        "lb = preprocessing.LabelBinarizer()\n",
        "lb.fit(y_s)\n",
        "\n",
        "Y_s = lb.transform(y_s)\n",
        "Y_t = lb.transform(y_t)\n",
        "\n",
        "X_s = torch.FloatTensor(X_s)\n",
        "X_t = torch.FloatTensor(X_t)\n",
        "Y_s = torch.FloatTensor(Y_s)\n",
        "Y_t = torch.FloatTensor(Y_t)\n",
        "\n",
        "n_row, n_col = X_s.shape"
      ],
      "metadata": {
        "id": "LptqJQD_lVni"
      },
      "execution_count": null,
      "outputs": []
    },
    {
      "cell_type": "markdown",
      "source": [
        "### Training\n"
      ],
      "metadata": {
        "id": "7nVajMrByMqd"
      }
    },
    {
      "cell_type": "markdown",
      "source": [
        "### Logistic Regression"
      ],
      "metadata": {
        "id": "rfYo8Oer43ko"
      }
    },
    {
      "cell_type": "code",
      "source": [
        "import torch\n",
        "\n",
        "\n",
        "class MyLoss(torch.autograd.Function):\n",
        "    \"\"\"\n",
        "    We can implement our own custom autograd Functions by subclassing\n",
        "    torch.autograd.Function and implementing the forward and backward passes\n",
        "    which operate on Tensors.\n",
        "    \"\"\"\n",
        "\n",
        "    @staticmethod\n",
        "    def forward(ctx, y_pred, y):\n",
        "        \"\"\"\n",
        "        In the forward pass we receive a Tensor containing the input and return\n",
        "        a Tensor containing the output. ctx is a context object that can be used\n",
        "        to stash information for backward computation. You can cache arbitrary\n",
        "        objects for use in the backward pass using the ctx.save_for_backward method.\n",
        "        \"\"\"\n",
        "        ctx.save_for_backward(input)\n",
        "        return input.clamp(min=0)\n",
        "\n",
        "    @staticmethod\n",
        "    def backward(ctx, grad_output):\n",
        "        \"\"\"\n",
        "        In the backward pass we receive a Tensor containing the gradient of the loss\n",
        "        with respect to the output, and we need to compute the gradient of the loss\n",
        "        with respect to the input.\n",
        "        \"\"\"\n",
        "        y_pred, y = ctx.saved_tensors\n",
        "        grad_input = \n",
        "        return grad_input, None"
      ],
      "metadata": {
        "id": "SpU_pEZXiRRi",
        "colab": {
          "base_uri": "https://localhost:8080/",
          "height": 135
        },
        "outputId": "a3e538b6-fe3c-4130-c482-7199b43607bd"
      },
      "execution_count": null,
      "outputs": [
        {
          "output_type": "error",
          "ename": "SyntaxError",
          "evalue": "ignored",
          "traceback": [
            "\u001b[0;36m  File \u001b[0;32m\"<ipython-input-1-e75d2493b860>\"\u001b[0;36m, line \u001b[0;32m30\u001b[0m\n\u001b[0;31m    grad_input =\u001b[0m\n\u001b[0m                 ^\u001b[0m\n\u001b[0;31mSyntaxError\u001b[0m\u001b[0;31m:\u001b[0m invalid syntax\n"
          ]
        }
      ]
    },
    {
      "cell_type": "code",
      "source": [
        "import torch\n",
        "import torch.nn as nn\n",
        "import torchvision\n",
        "import torch.nn.functional as F\n",
        "\n",
        "class MultiClassLR(nn.Module):\n",
        "    def __init__(self, in_features = 4, out_features = 3):\n",
        "      super(MultiClassLR, self).__init__()\n",
        "      \n",
        "      self.layer1 = nn.Linear(in_features, out_features, bias = False)\n",
        "      self.activation1 = nn.Softmax(dim=1) # https://stackoverflow.com/questions/55675345/should-i-use-softmax-as-output-when-using-cross-entropy-loss-in-pytorch\n",
        "\n",
        "    def forward(self, input):\n",
        "      # return self.layer1(input)\n",
        "      return self.activation1(self.layer1(input))\n",
        "\n"
      ],
      "metadata": {
        "id": "uwtSEN8K49KH"
      },
      "execution_count": null,
      "outputs": []
    },
    {
      "cell_type": "code",
      "source": [
        "def my_loss(output, target):\n",
        "    loss = torch.mean((output - target)**2)\n",
        "    return loss"
      ],
      "metadata": {
        "id": "MK0RsADr6rTL"
      },
      "execution_count": null,
      "outputs": []
    },
    {
      "cell_type": "code",
      "source": [
        "def LRDensityEstimation(X_s, X_t, lambdas = [0.0625, 1, 16]):\n",
        "\n",
        "  np.random.seed(10) # seed set in matlab code as well for verification\n",
        "\n",
        "  ns_row, _ = X_s.shape\n",
        "  nt_row, _ = X_t.shape\n",
        "\n",
        "  inda_s = np.arange(ns_row)\n",
        "  inda_t = np.arange(nt_row)\n",
        "\n",
        "  nv_s = int(np.floor(0.2 * ns_row))\n",
        "  nv_t = int(np.floor(0.2 * nt_row))\n",
        "\n",
        "  indv_s = np.array([92, 3, 74, 87, 57, 26, 23, 85, 19, 10, 75, 103, 1, 54, 111, 64, 116, 30, 118, 71, 105, 14, 36]) - 1 # indv_s = np.random.permutation(ns_row)[:nv_s] \n",
        "\n",
        "  indv_t = np.array([22, 14, 31, 18, 15, 29]) - 1 # np.random.permutation(nt_row)[:nv_t]\n",
        "\n",
        "  indt_s = np.setdiff1d(inda_s, indv_s)\n",
        "  \n",
        "  indt_t = np.setdiff1d(inda_t, indv_t)\n",
        "\n",
        "  X_train = np.concatenate((X_s[indt_s, :], X_t[indt_t, :]))\n",
        "  X_valid = np.concatenate((X_s[indv_s, :], X_t[indv_t, :]))\n",
        "  \n",
        "  y_train = np.concatenate((np.ones((ns_row - nv_s, 1)), -1 * np.ones((nt_row - nv_t, 1)) ))\n",
        "  y_valid = np.concatenate((np.ones((nv_s, 1)), -1 * np.ones((nv_t, 1)) ))\n",
        "\n",
        "  rt_st = np.ones((ns_row + nt_row - nv_s - nv_t, 1))\n",
        "  rv_st = np.ones((nv_s + nv_t, 1))\n",
        "  \n",
        "  logloss = np.zeros((len(lambdas), 1))\n",
        "  for i, lamb in enumerate(lambdas):\n",
        "    theta = binaryRobustTrain(X_train, y_train, rt_st, rt_st, lamb=lamb,min_gradient=0.1)\n",
        "    _, pred = binaryRobustTest(theta, X_valid, y_valid, rv_st )\n",
        "    logloss[i] = (-sum(np.log(pred[:nv_s, 0])) - sum(np.log(pred[nv_s: nv_s + nv_t, 1]))) / (nv_s + nv_t) / 0.6931\n",
        "\n",
        "  ind_min = np.argmin(logloss)\n",
        "\n",
        "  X_train = np.concatenate((X_s, X_t))\n",
        "  y_train = np.concatenate((np.ones((ns_row, 1)), -1 * np.ones((nt_row, 1)) ))\n",
        "  r_st = np.ones((ns_row + nt_row, 1))\n",
        "\n",
        "  theta = binaryRobustTrain(X_train, y_train, r_st, r_st, lambdas[ind_min])\n",
        "  _, pred = binaryRobustTest(theta, X_train, y_train, r_st)\n",
        "\n",
        "  d_ss = pred[:ns_row, 0]\n",
        "  d_st = pred[:ns_row, 1]\n",
        "\n",
        "  d_ts = pred[ns_row:, 0]\n",
        "  d_tt = pred[ns_row:, 1]\n",
        "\n",
        "  print(\"Finish Density Estimation\")\n",
        "\n",
        "  return d_ss, d_st, d_ts, d_tt"
      ],
      "metadata": {
        "id": "5tNiXD3jiT1y"
      },
      "execution_count": null,
      "outputs": []
    },
    {
      "cell_type": "code",
      "source": [
        "from torch.optim import Adam\n",
        "\n",
        "# \n",
        "#\n",
        "#\n",
        "# \n",
        "def multiLRTrain(X_s, y_s, r_st, r_ts, max_itr = 10000):\n",
        "  \n",
        "  model = MultiClassLR()\n",
        "  loss_fn = nn.CrossEntropyLoss()\n",
        "  optimizer = Adam(model.parameters(), lr=0.01)\n",
        "\n",
        "  for param in model.parameters():\n",
        "    param.data = nn.parameter.Parameter(torch.ones_like(param))\n",
        "\n",
        "  \n",
        "  model.train()\n",
        "\n",
        "  n_row, n_col = X_s.shape\n",
        "  X_s *= r_ts.repeat(1, n_col) * r_st.repeat(1, n_col)\n",
        "\n",
        "  n_row, _ = X_s.shape\n",
        "\n",
        "  # Define your execution device\n",
        "  device = torch.device(\"cuda:0\" if torch.cuda.is_available() else \"cpu\")\n",
        "  print(\"The model will be running on\", device, \"device\")\n",
        "  # Convert model parameters and buffers to CPU or Cuda\n",
        "  model.to(device)\n",
        "\n",
        "  for name, param in model.named_parameters():\n",
        "    if param.requires_grad:\n",
        "        print(name, param.data, param.grad)\n",
        "  \n",
        "  for epoch in range(max_itr):  # loop over the dataset multiple times\n",
        "   \n",
        "      # zero the parameter gradients\n",
        "      optimizer.zero_grad()\n",
        "      \n",
        "      outputs = model(X_s) \n",
        "\n",
        "      # print(outputs)\n",
        "\n",
        "      # print(torch.mm(torch.transpose(outputs - y_s, 0, 1), X_s) + 2 * multi_lr_model.layer1.weight)\n",
        "      # print(torch.mm(torch.transpose(outputs - y_s, 0, 1), X_s) + 2 * multi_lr_model.layer1.weight)\n",
        "\n",
        "      # compute the loss based on model output and real labels\n",
        "      loss = loss_fn(outputs, y_s)\n",
        "      # backpropagate the loss\n",
        "      loss.backward()\n",
        "\n",
        "      # for name, param in model.named_parameters():\n",
        "      #   if param.requires_grad:\n",
        "      #     print(name, param.data, param.grad)\n",
        "  \n",
        "      # adjust parameters based on the calculated gradients\n",
        "      optimizer.step()\n",
        "  \n",
        "  return model\n",
        "\n",
        "def multiLRTest(model, X_t, y_t):\n",
        "\n",
        "  loss_fn = nn.NLLLoss()\n",
        "  outputs = model(X_t)\n",
        "\n",
        "  out, y_ind = torch.max(outputs, dim = 1)\n",
        "\n",
        "  loss = -1 * sum(torch.log(out)) / len(X_t) / 0.6931\n",
        "\n",
        "  return loss, outputs\n",
        "\n",
        "def computeAcc(pred, y_t):\n",
        "  out, ind = torch.max(pred, dim = 1)\n",
        "  out, y_ind = torch.max(y_t, dim = 1)\n",
        "  return torch.sum(ind == y_ind) / len(ind)"
      ],
      "metadata": {
        "id": "O1jKGICK4vSq"
      },
      "execution_count": null,
      "outputs": []
    },
    {
      "cell_type": "code",
      "source": [
        "multi_lr_model = multiLRTrain(X_s, Y_s, torch.ones((n_row, 1)), torch.ones(n_row, 1))\n",
        "multi_iw_model = multiLRTrain(X_s, Y_s, torch.ones((n_row, 1)), torch.ones(n_row, 1))\n",
        "multi_lr_model = multiLRTrain(X_s, Y_s, torch.ones((n_row, 1)), torch.ones(n_row, 1))"
      ],
      "metadata": {
        "colab": {
          "base_uri": "https://localhost:8080/"
        },
        "id": "okjCr3HHYZdZ",
        "outputId": "4e60362c-03ca-4e4d-db0a-286b2681e68a"
      },
      "execution_count": null,
      "outputs": [
        {
          "output_type": "stream",
          "name": "stdout",
          "text": [
            "The model will be running on cpu device\n",
            "layer1.weight tensor([[1., 1., 1., 1.],\n",
            "        [1., 1., 1., 1.],\n",
            "        [1., 1., 1., 1.]]) None\n"
          ]
        }
      ]
    },
    {
      "cell_type": "code",
      "source": [
        "multi_lr_model.layer1.weight"
      ],
      "metadata": {
        "colab": {
          "base_uri": "https://localhost:8080/"
        },
        "id": "PfvNmXxduy_m",
        "outputId": "314f7f76-99c6-4cfb-b7c6-ad7693255836"
      },
      "execution_count": null,
      "outputs": [
        {
          "output_type": "execute_result",
          "data": {
            "text/plain": [
              "Parameter containing:\n",
              "tensor([[  8.0083,  17.0886, -16.0356, -16.3362],\n",
              "        [ 13.3521,   5.7625, -15.5188,  -9.5025],\n",
              "        [-12.2630, -20.7378,  23.4250,  17.7295]], requires_grad=True)"
            ]
          },
          "metadata": {},
          "execution_count": 18
        }
      ]
    },
    {
      "cell_type": "code",
      "source": [
        ""
      ],
      "metadata": {
        "id": "weDv3A_uhodr"
      },
      "execution_count": null,
      "outputs": []
    },
    {
      "cell_type": "code",
      "source": [
        "for name, param in multi_lr_model.named_parameters():\n",
        "  if param.requires_grad:\n",
        "      print(name, param.data)"
      ],
      "metadata": {
        "colab": {
          "base_uri": "https://localhost:8080/"
        },
        "id": "0uzrGYBxs2ts",
        "outputId": "ba9f0b0f-288c-40a7-9db8-6e552ee59c6d"
      },
      "execution_count": null,
      "outputs": [
        {
          "output_type": "stream",
          "name": "stdout",
          "text": [
            "layer1.weight tensor([[  8.0083,  17.0886, -16.0356, -16.3362],\n",
            "        [ 13.3521,   5.7625, -15.5188,  -9.5025],\n",
            "        [-12.2630, -20.7378,  23.4250,  17.7295]])\n"
          ]
        }
      ]
    },
    {
      "cell_type": "code",
      "source": [
        "loss, outputs = multiLRTest(multi_lr_model, X_t, Y_t)\n",
        "print(loss, outputs)"
      ],
      "metadata": {
        "colab": {
          "base_uri": "https://localhost:8080/"
        },
        "id": "4_Vul7ZzYaYt",
        "outputId": "ba42dae2-9635-4e8b-9701-17b1178e530d"
      },
      "execution_count": null,
      "outputs": [
        {
          "output_type": "stream",
          "name": "stdout",
          "text": [
            "tensor(0.0188, grad_fn=<DivBackward0>) tensor([[9.9668e-01, 3.3231e-03, 0.0000e+00],\n",
            "        [9.9989e-01, 1.1287e-04, 0.0000e+00],\n",
            "        [9.9977e-01, 2.2762e-04, 0.0000e+00],\n",
            "        [9.9999e-01, 6.3643e-06, 0.0000e+00],\n",
            "        [9.9999e-01, 1.4322e-05, 0.0000e+00],\n",
            "        [9.9994e-01, 6.4556e-05, 0.0000e+00],\n",
            "        [9.9929e-01, 7.1479e-04, 0.0000e+00],\n",
            "        [9.9943e-01, 5.7084e-04, 0.0000e+00],\n",
            "        [9.9998e-01, 2.3348e-05, 0.0000e+00],\n",
            "        [9.9901e-01, 9.8560e-04, 0.0000e+00],\n",
            "        [9.9994e-01, 5.8397e-05, 0.0000e+00],\n",
            "        [1.0000e+00, 6.1048e-07, 0.0000e+00],\n",
            "        [9.9997e-01, 2.7263e-05, 0.0000e+00],\n",
            "        [9.9373e-01, 6.2693e-03, 0.0000e+00],\n",
            "        [9.9973e-01, 2.6660e-04, 0.0000e+00],\n",
            "        [9.9987e-01, 1.3179e-04, 0.0000e+00],\n",
            "        [9.9930e-01, 6.9761e-04, 0.0000e+00],\n",
            "        [9.9943e-01, 5.7084e-04, 0.0000e+00],\n",
            "        [9.9947e-01, 5.3232e-04, 0.0000e+00],\n",
            "        [9.9943e-01, 5.7084e-04, 0.0000e+00],\n",
            "        [9.9978e-01, 2.1881e-04, 0.0000e+00],\n",
            "        [9.9996e-01, 3.7150e-05, 0.0000e+00],\n",
            "        [3.2763e-01, 6.7237e-01, 0.0000e+00],\n",
            "        [9.9998e-01, 2.2718e-05, 0.0000e+00],\n",
            "        [9.9966e-01, 3.3691e-04, 0.0000e+00],\n",
            "        [9.9615e-01, 3.8550e-03, 0.0000e+00],\n",
            "        [9.9993e-01, 6.9655e-05, 0.0000e+00],\n",
            "        [9.9981e-01, 1.9025e-04, 0.0000e+00],\n",
            "        [5.3062e-04, 9.9947e-01, 3.2224e-15],\n",
            "        [3.0235e-06, 1.0000e+00, 2.4108e-08],\n",
            "        [1.0023e-04, 9.9990e-01, 3.5222e-15],\n",
            "        [8.6734e-19, 1.1697e-13, 1.0000e+00]], grad_fn=<SoftmaxBackward0>)\n"
          ]
        }
      ]
    },
    {
      "cell_type": "code",
      "source": [
        "torch.cat((outputs, Y_t), dim = 1)"
      ],
      "metadata": {
        "colab": {
          "base_uri": "https://localhost:8080/"
        },
        "id": "d7qQqEf0bCnK",
        "outputId": "64b22fa3-d1f0-44d2-9c12-eb9b7994991f"
      },
      "execution_count": null,
      "outputs": [
        {
          "output_type": "execute_result",
          "data": {
            "text/plain": [
              "tensor([[9.9668e-01, 3.3231e-03, 0.0000e+00, 1.0000e+00, 0.0000e+00, 0.0000e+00],\n",
              "        [9.9989e-01, 1.1287e-04, 0.0000e+00, 1.0000e+00, 0.0000e+00, 0.0000e+00],\n",
              "        [9.9977e-01, 2.2762e-04, 0.0000e+00, 1.0000e+00, 0.0000e+00, 0.0000e+00],\n",
              "        [9.9999e-01, 6.3643e-06, 0.0000e+00, 1.0000e+00, 0.0000e+00, 0.0000e+00],\n",
              "        [9.9999e-01, 1.4322e-05, 0.0000e+00, 1.0000e+00, 0.0000e+00, 0.0000e+00],\n",
              "        [9.9994e-01, 6.4556e-05, 0.0000e+00, 1.0000e+00, 0.0000e+00, 0.0000e+00],\n",
              "        [9.9929e-01, 7.1479e-04, 0.0000e+00, 1.0000e+00, 0.0000e+00, 0.0000e+00],\n",
              "        [9.9943e-01, 5.7084e-04, 0.0000e+00, 1.0000e+00, 0.0000e+00, 0.0000e+00],\n",
              "        [9.9998e-01, 2.3348e-05, 0.0000e+00, 1.0000e+00, 0.0000e+00, 0.0000e+00],\n",
              "        [9.9901e-01, 9.8560e-04, 0.0000e+00, 1.0000e+00, 0.0000e+00, 0.0000e+00],\n",
              "        [9.9994e-01, 5.8397e-05, 0.0000e+00, 1.0000e+00, 0.0000e+00, 0.0000e+00],\n",
              "        [1.0000e+00, 6.1048e-07, 0.0000e+00, 1.0000e+00, 0.0000e+00, 0.0000e+00],\n",
              "        [9.9997e-01, 2.7263e-05, 0.0000e+00, 1.0000e+00, 0.0000e+00, 0.0000e+00],\n",
              "        [9.9373e-01, 6.2693e-03, 0.0000e+00, 1.0000e+00, 0.0000e+00, 0.0000e+00],\n",
              "        [9.9973e-01, 2.6660e-04, 0.0000e+00, 1.0000e+00, 0.0000e+00, 0.0000e+00],\n",
              "        [9.9987e-01, 1.3179e-04, 0.0000e+00, 1.0000e+00, 0.0000e+00, 0.0000e+00],\n",
              "        [9.9930e-01, 6.9761e-04, 0.0000e+00, 1.0000e+00, 0.0000e+00, 0.0000e+00],\n",
              "        [9.9943e-01, 5.7084e-04, 0.0000e+00, 1.0000e+00, 0.0000e+00, 0.0000e+00],\n",
              "        [9.9947e-01, 5.3232e-04, 0.0000e+00, 1.0000e+00, 0.0000e+00, 0.0000e+00],\n",
              "        [9.9943e-01, 5.7084e-04, 0.0000e+00, 1.0000e+00, 0.0000e+00, 0.0000e+00],\n",
              "        [9.9978e-01, 2.1881e-04, 0.0000e+00, 1.0000e+00, 0.0000e+00, 0.0000e+00],\n",
              "        [9.9996e-01, 3.7150e-05, 0.0000e+00, 1.0000e+00, 0.0000e+00, 0.0000e+00],\n",
              "        [3.2763e-01, 6.7237e-01, 0.0000e+00, 1.0000e+00, 0.0000e+00, 0.0000e+00],\n",
              "        [9.9998e-01, 2.2718e-05, 0.0000e+00, 1.0000e+00, 0.0000e+00, 0.0000e+00],\n",
              "        [9.9966e-01, 3.3691e-04, 0.0000e+00, 1.0000e+00, 0.0000e+00, 0.0000e+00],\n",
              "        [9.9615e-01, 3.8550e-03, 0.0000e+00, 1.0000e+00, 0.0000e+00, 0.0000e+00],\n",
              "        [9.9993e-01, 6.9655e-05, 0.0000e+00, 1.0000e+00, 0.0000e+00, 0.0000e+00],\n",
              "        [9.9981e-01, 1.9025e-04, 0.0000e+00, 1.0000e+00, 0.0000e+00, 0.0000e+00],\n",
              "        [5.3062e-04, 9.9947e-01, 3.2224e-15, 0.0000e+00, 1.0000e+00, 0.0000e+00],\n",
              "        [3.0235e-06, 1.0000e+00, 2.4108e-08, 0.0000e+00, 1.0000e+00, 0.0000e+00],\n",
              "        [1.0023e-04, 9.9990e-01, 3.5222e-15, 0.0000e+00, 1.0000e+00, 0.0000e+00],\n",
              "        [8.6734e-19, 1.1697e-13, 1.0000e+00, 0.0000e+00, 0.0000e+00, 1.0000e+00]],\n",
              "       grad_fn=<CatBackward0>)"
            ]
          },
          "metadata": {},
          "execution_count": 198
        }
      ]
    },
    {
      "cell_type": "code",
      "source": [
        "computeAcc(outputs, Y_t)"
      ],
      "metadata": {
        "colab": {
          "base_uri": "https://localhost:8080/"
        },
        "id": "QyXFbWv_acir",
        "outputId": "ddacb7e0-d91a-4efc-bf58-83385477067e"
      },
      "execution_count": null,
      "outputs": [
        {
          "output_type": "execute_result",
          "data": {
            "text/plain": [
              "tensor(0.9688)"
            ]
          },
          "metadata": {},
          "execution_count": 187
        }
      ]
    },
    {
      "cell_type": "code",
      "source": [
        "multi_lr_model(torch.FloatTensor(X_s))"
      ],
      "metadata": {
        "colab": {
          "base_uri": "https://localhost:8080/"
        },
        "id": "RCQXJwdMo_kq",
        "outputId": "7c7f6dae-1661-45d1-eeb7-72f8357eb5c1"
      },
      "execution_count": null,
      "outputs": [
        {
          "output_type": "stream",
          "name": "stderr",
          "text": [
            "/usr/local/lib/python3.7/dist-packages/ipykernel_launcher.py:14: UserWarning: Implicit dimension choice for log_softmax has been deprecated. Change the call to include dim=X as an argument.\n",
            "  \n"
          ]
        },
        {
          "output_type": "execute_result",
          "data": {
            "text/plain": [
              "tensor([[-0.3333, -1.4788, -2.8912],\n",
              "        [-0.3350, -1.4956, -2.8047],\n",
              "        [-0.3168, -1.5063, -3.0001],\n",
              "        [-0.2336, -1.7227, -3.5143],\n",
              "        [-0.2167, -1.8353, -3.3443],\n",
              "        [-0.2748, -1.6302, -3.1155],\n",
              "        [-0.3518, -1.4422, -2.8109],\n",
              "        [-0.3595, -1.4002, -2.8920],\n",
              "        [-0.2947, -1.6042, -2.9153],\n",
              "        [-0.4347, -1.2592, -2.6783],\n",
              "        [-0.3359, -1.5012, -2.7730],\n",
              "        [-0.5200, -1.1759, -2.3338],\n",
              "        [-0.3558, -1.4240, -2.8371],\n",
              "        [-0.3652, -1.3928, -2.8546],\n",
              "        [-0.4392, -1.2510, -2.6707],\n",
              "        [-0.2118, -1.8705, -3.3005],\n",
              "        [-0.2079, -1.8638, -3.4238],\n",
              "        [-0.3406, -1.4205, -3.0561],\n",
              "        [-0.3768, -1.3843, -2.7572],\n",
              "        [-0.3804, -1.4402, -2.5313],\n",
              "        [-0.2931, -1.6089, -2.9197],\n",
              "        [-0.3113, -1.5295, -2.9784],\n",
              "        [-2.5670, -0.6350, -0.9331],\n",
              "        [-2.4641, -0.7460, -0.8195],\n",
              "        [-2.8375, -0.6925, -0.8184],\n",
              "        [-2.6665, -0.7558, -0.7746],\n",
              "        [-2.8594, -0.7070, -0.7994],\n",
              "        [-2.6045, -0.8394, -0.7050],\n",
              "        [-2.5799, -0.8272, -0.7196],\n",
              "        [-2.6445, -0.6628, -0.8830],\n",
              "        [-2.3379, -0.8636, -0.7302],\n",
              "        [-2.4005, -0.7929, -0.7836],\n",
              "        [-2.5785, -0.6006, -0.9792],\n",
              "        [-2.7487, -0.8062, -0.7145],\n",
              "        [-1.9542, -0.7452, -0.9579],\n",
              "        [-2.4353, -0.6459, -0.9462],\n",
              "        [-2.5867, -0.9188, -0.6430],\n",
              "        [-2.2255, -0.7024, -0.9248],\n",
              "        [-3.2709, -0.7174, -0.7465],\n",
              "        [-2.3109, -0.7088, -0.8950],\n",
              "        [-2.8662, -0.9800, -0.5660],\n",
              "        [-2.3099, -0.6739, -0.9390],\n",
              "        [-3.2994, -0.7904, -0.6745],\n",
              "        [-2.6853, -0.7635, -0.7640],\n",
              "        [-2.4400, -0.6616, -0.9243],\n",
              "        [-2.5067, -0.6566, -0.9166],\n",
              "        [-2.9408, -0.6603, -0.8428],\n",
              "        [-3.1205, -0.7847, -0.6939],\n",
              "        [-2.6826, -0.8111, -0.7190],\n",
              "        [-1.9413, -0.6496, -1.0960],\n",
              "        [-2.3202, -0.7061, -0.8960],\n",
              "        [-2.1926, -0.6822, -0.9600],\n",
              "        [-2.2366, -0.7008, -0.9238],\n",
              "        [-3.3410, -0.9438, -0.5526],\n",
              "        [-2.5819, -0.9711, -0.6057],\n",
              "        [-2.3554, -0.8752, -0.7167],\n",
              "        [-2.6934, -0.7029, -0.8273],\n",
              "        [-2.9837, -0.6496, -0.8506],\n",
              "        [-2.1821, -0.8189, -0.8068],\n",
              "        [-2.5056, -0.7734, -0.7832],\n",
              "        [-2.6173, -0.8346, -0.7074],\n",
              "        [-2.6012, -0.7966, -0.7445],\n",
              "        [-2.3768, -0.7031, -0.8865],\n",
              "        [-2.4816, -0.8020, -0.7594],\n",
              "        [-2.1822, -0.7967, -0.8292],\n",
              "        [-2.3288, -0.7990, -0.7922],\n",
              "        [-2.4243, -0.7030, -0.8762],\n",
              "        [-1.7432, -0.7222, -1.0808],\n",
              "        [-2.3437, -0.7734, -0.8151],\n",
              "        [-4.2629, -1.3824, -0.3080],\n",
              "        [-3.5786, -1.0737, -0.4615],\n",
              "        [-4.0888, -0.9806, -0.4973],\n",
              "        [-3.7033, -1.0455, -0.4719],\n",
              "        [-4.0979, -1.1548, -0.4030],\n",
              "        [-4.6186, -1.0266, -0.4590],\n",
              "        [-4.2326, -0.9481, -0.5142],\n",
              "        [-4.1939, -0.9673, -0.5028],\n",
              "        [-4.0586, -1.1399, -0.4112],\n",
              "        [-3.2456, -0.9319, -0.5670],\n",
              "        [-3.7301, -0.9562, -0.5248],\n",
              "        [-3.7887, -0.9609, -0.5195],\n",
              "        [-3.7535, -1.0923, -0.4446],\n",
              "        [-3.9068, -1.2161, -0.3805],\n",
              "        [-3.6308, -1.0833, -0.4541],\n",
              "        [-3.5462, -0.9691, -0.5247],\n",
              "        [-4.0949, -1.0847, -0.4380],\n",
              "        [-5.3580, -1.1243, -0.3999],\n",
              "        [-3.6105, -0.8708, -0.5900],\n",
              "        [-3.9305, -1.0453, -0.4640],\n",
              "        [-3.4271, -1.1110, -0.4490],\n",
              "        [-4.7840, -0.9912, -0.4772],\n",
              "        [-3.3603, -0.8648, -0.6085],\n",
              "        [-3.6839, -1.0551, -0.4672],\n",
              "        [-3.7551, -0.9130, -0.5529],\n",
              "        [-3.2029, -0.8739, -0.6124],\n",
              "        [-3.1053, -0.9348, -0.5754],\n",
              "        [-4.0323, -1.0917, -0.4360],\n",
              "        [-3.6249, -0.8117, -0.6363],\n",
              "        [-4.2520, -0.8920, -0.5517],\n",
              "        [-3.7121, -0.9007, -0.5634],\n",
              "        [-4.1149, -1.1193, -0.4198],\n",
              "        [-3.1886, -0.8499, -0.6324],\n",
              "        [-3.6335, -0.9851, -0.5105],\n",
              "        [-4.4065, -0.9194, -0.5293],\n",
              "        [-3.7768, -1.2353, -0.3764],\n",
              "        [-3.4613, -1.0021, -0.5083],\n",
              "        [-3.0321, -0.9388, -0.5786],\n",
              "        [-3.6328, -0.9144, -0.5573],\n",
              "        [-4.0224, -1.0988, -0.4326],\n",
              "        [-3.5724, -0.8901, -0.5775],\n",
              "        [-3.5786, -1.0737, -0.4615],\n",
              "        [-4.0837, -1.1297, -0.4155],\n",
              "        [-4.0128, -1.1640, -0.4010],\n",
              "        [-3.7257, -0.9626, -0.5209],\n",
              "        [-3.6780, -0.9003, -0.5652],\n",
              "        [-3.4851, -0.9441, -0.5442],\n",
              "        [-3.5417, -1.1812, -0.4093],\n",
              "        [-3.2478, -1.0370, -0.4999]], grad_fn=<LogSoftmaxBackward0>)"
            ]
          },
          "metadata": {},
          "execution_count": 129
        }
      ]
    },
    {
      "cell_type": "code",
      "source": [
        "def LRDensityEstimation(X_s, X_t, lambdas = [0.0625, 1, 16]):\n",
        "\n",
        "  np.random.seed(10) # seed set in matlab code as well for verification\n",
        "\n",
        "  ns_row, _ = X_s.shape\n",
        "  nt_row, _ = X_t.shape\n",
        "\n",
        "  inda_s = np.arange(ns_row)\n",
        "  inda_t = np.arange(nt_row)\n",
        "\n",
        "  nv_s = int(np.floor(0.2 * ns_row))\n",
        "  nv_t = int(np.floor(0.2 * nt_row))\n",
        "\n",
        "  indv_s = np.array([92, 3, 74, 87, 57, 26, 23, 85, 19, 10, 75, 103, 1, 54, 111, 64, 116, 30, 118, 71, 105, 14, 36]) - 1 # indv_s = np.random.permutation(ns_row)[:nv_s] \n",
        "\n",
        "  indv_t = np.array([22, 14, 31, 18, 15, 29]) - 1 # np.random.permutation(nt_row)[:nv_t]\n",
        "\n",
        "  indt_s = np.setdiff1d(inda_s, indv_s)\n",
        "  \n",
        "  indt_t = np.setdiff1d(inda_t, indv_t)\n",
        "\n",
        "  X_train = np.concatenate((X_s[indt_s, :], X_t[indt_t, :]))\n",
        "  X_valid = np.concatenate((X_s[indv_s, :], X_t[indv_t, :]))\n",
        "  \n",
        "  y_train = np.concatenate((np.ones((ns_row - nv_s, 1)), -1 * np.ones((nt_row - nv_t, 1)) ))\n",
        "  y_valid = np.concatenate((np.ones((nv_s, 1)), -1 * np.ones((nv_t, 1)) ))\n",
        "\n",
        "  rt_st = np.ones((ns_row + nt_row - nv_s - nv_t, 1))\n",
        "  rv_st = np.ones((nv_s + nv_t, 1))\n",
        "  \n",
        "  logloss = np.zeros((len(lambdas), 1))\n",
        "  for i, lamb in enumerate(lambdas):\n",
        "    theta = binaryRobustTrain(X_train, y_train, rt_st, rt_st, lamb=lamb,min_gradient=0.1)\n",
        "    _, pred = binaryRobustTest(theta, X_valid, y_valid, rv_st )\n",
        "    logloss[i] = (-sum(np.log(pred[:nv_s, 0])) - sum(np.log(pred[nv_s: nv_s + nv_t, 1]))) / (nv_s + nv_t) / 0.6931\n",
        "\n",
        "  ind_min = np.argmin(logloss)\n",
        "\n",
        "  X_train = np.concatenate((X_s, X_t))\n",
        "  y_train = np.concatenate((np.ones((ns_row, 1)), -1 * np.ones((nt_row, 1)) ))\n",
        "  r_st = np.ones((ns_row + nt_row, 1))\n",
        "\n",
        "  theta = binaryRobustTrain(X_train, y_train, r_st, r_st, lambdas[ind_min])\n",
        "  _, pred = binaryRobustTest(theta, X_train, y_train, r_st)\n",
        "\n",
        "  d_ss = pred[:ns_row, 0]\n",
        "  d_st = pred[:ns_row, 1]\n",
        "\n",
        "  d_ts = pred[ns_row:, 0]\n",
        "  d_tt = pred[ns_row:, 1]\n",
        "\n",
        "  print(\"Finish Density Estimation\")\n",
        "\n",
        "  return d_ss, d_st, d_ts, d_tt\n",
        "\n",
        "d_ss, d_st, d_ts, d_tt = LRDensityEstimation(X_s, X_t, [0.1, 1, 10])"
      ],
      "metadata": {
        "colab": {
          "base_uri": "https://localhost:8080/"
        },
        "id": "UoMSv73QmAIA",
        "outputId": "fcaa6182-8a8e-4b78-87b1-1da777182633"
      },
      "execution_count": null,
      "outputs": [
        {
          "output_type": "stream",
          "name": "stdout",
          "text": [
            "Optimization stops by reaching minimum gradient.\n",
            "Optimization stops by reaching minimum gradient.\n",
            "Optimization stops by reaching minimum gradient.\n",
            "Optimization stops by reaching minimum gradient.\n",
            "Finish Density Estimation\n"
          ]
        }
      ]
    },
    {
      "cell_type": "code",
      "source": [
        "from sklearn.preprocessing import LabelBinarizer\n",
        "lb = LabelBinarizer()\n",
        "\n",
        "def multiClassRobustTrain(X_s, y_s, n_class, r_st, r_ts, lamb = 0.1, lr = 0.01, max_itr = 100000, min_gradient = 0.001):\n",
        "  n_row, n_col = X_s.shape\n",
        "\n",
        "  lamb = lamb.reshape(-1, 1)  \n",
        "  lamb = np.transpose(np.tile(lamb, n_class))\n",
        "  \n",
        "  F = X_s \n",
        "\n",
        "  F_g = F * np.tile(r_ts, n_col)\n",
        "\n",
        "  Y = lb.fit_transform(y_s)\n",
        "\n",
        "  P = np.zeros((n_row, n_class)) \n",
        "\n",
        "  S_g = np.ones((n_class, n_col)) * 1e-8\n",
        "\n",
        "  t = 1\n",
        "\n",
        "  theta = np.ones((n_class, n_col)) # not randomly assigned? \n",
        "\n",
        "  l_0 = 0\n",
        "\n",
        "  l_1 = (1 + (1 + (4 * l_0 ** 2)) ** 0.5) / 2\n",
        "  delta_1 = 0\n",
        "\n",
        "  while True:\n",
        "    t = t + 1\n",
        "    decay = np.sqrt(1000 / (1000 + t))\n",
        "    l_2 = (1 + (1 + (4 * l_1 ** 2)) ** 0.5) / 2\n",
        "    l_3 = (1 - l_1) / l_2\n",
        "\n",
        "    for i in range(n_row):\n",
        "      W = r_st[i]\n",
        "      temp =  np.dot(theta, np.transpose(F[i, :])) * W\n",
        "      temp = temp - np.max(temp)\n",
        "      sum_temp = sum(np.exp(temp))\n",
        "      P[i] = np.exp(temp - np.log(sum_temp))\n",
        "\n",
        "    G = np.dot(np.transpose(P) - np.transpose(Y), F_g) + 2 * lamb * theta\n",
        "\n",
        "    if np.linalg.norm(G) < min_gradient:\n",
        "      print('Optimization stops by reaching minimum gradient.')\n",
        "      break\n",
        "    elif t > max_itr:\n",
        "      print(\"Optimizination stops by reaching maximum iteration\")\n",
        "      break\n",
        "\n",
        "    S_g = S_g + G ** 2\n",
        "    delta_2 = theta - decay * lr * G / np.sqrt(S_g) \n",
        "    theta = np.dot((1 - l_3), delta_2) + np.dot(l_3, delta_1)\n",
        "    delta_1 = delta_2\n",
        "    l_1 = l_2\n",
        "    \n",
        "  return theta"
      ],
      "metadata": {
        "id": "2V9JCYprw13_"
      },
      "execution_count": null,
      "outputs": []
    },
    {
      "cell_type": "code",
      "source": [
        "# RBA\n",
        "\n",
        "ns_row, n_col = X_s.shape\n",
        "\n",
        "n_class = int(max(y_s))\n",
        "\n",
        "lamb = 2 * np.std(X_s, axis=0, ddof=1) / np.sqrt(ns_row)\n",
        "lamb[0] = 1\n",
        "\n",
        "theta_robust = multiClassRobustTrain(X_s, y_s, n_class, d_ss / d_st, np.ones((ns_row, 1)), lamb=lamb, lr = 1, min_gradient=0.01)"
      ],
      "metadata": {
        "colab": {
          "base_uri": "https://localhost:8080/"
        },
        "id": "AzyBcLk7j_de",
        "outputId": "8aab08dc-a7b9-4272-d58b-f55033f08ef1"
      },
      "execution_count": null,
      "outputs": [
        {
          "output_type": "stream",
          "name": "stdout",
          "text": [
            "Optimization stops by reaching minimum gradient.\n"
          ]
        }
      ]
    },
    {
      "cell_type": "code",
      "source": [
        "# Logistic Regression\n",
        "theta_lr = multiClassRobustTrain(X_s, y_s, n_class, np.ones((ns_row, 1)), np.ones((ns_row, 1)), lamb=lamb, lr = 1, min_gradient=0.01)"
      ],
      "metadata": {
        "colab": {
          "base_uri": "https://localhost:8080/"
        },
        "id": "foUaf_XL3i9r",
        "outputId": "765d60c5-c5fa-47d8-8ea7-68c34711aa49"
      },
      "execution_count": null,
      "outputs": [
        {
          "output_type": "stream",
          "name": "stdout",
          "text": [
            "Optimization stops by reaching minimum gradient.\n"
          ]
        }
      ]
    },
    {
      "cell_type": "code",
      "source": [
        "# Importance weighting\n",
        "r_ts = np.reshape(d_st / d_ss, (-1, 1))\n",
        "theta_iw = multiClassRobustTrain(X_s, y_s, n_class, np.ones((ns_row, 1)), r_ts, lamb=lamb, lr = 1, min_gradient=0.01)"
      ],
      "metadata": {
        "colab": {
          "base_uri": "https://localhost:8080/"
        },
        "id": "q5xA84O74TEc",
        "outputId": "622aaac6-4ed7-460e-ac7a-920cefcbdf49"
      },
      "execution_count": null,
      "outputs": [
        {
          "output_type": "stream",
          "name": "stdout",
          "text": [
            "Optimization stops by reaching minimum gradient.\n"
          ]
        }
      ]
    },
    {
      "cell_type": "markdown",
      "source": [
        "### Testing"
      ],
      "metadata": {
        "id": "pVpXrZe13nsS"
      }
    },
    {
      "cell_type": "code",
      "source": [
        "def multiClassRobustTest(theta, X_t, y_t, n_class, r_st):\n",
        "  n_row, _ = X_t.shape\n",
        "  F = X_t \n",
        "  P = np.zeros((n_row, n_class))\n",
        "  logloss = 0 \n",
        "\n",
        "  for i in range(n_row):\n",
        "      W = r_st[i]\n",
        "      temp =  np.dot(theta, np.transpose(F[i, :])) * W\n",
        "      temp = temp - np.max(temp)\n",
        "      sum_temp = sum(np.exp(temp))\n",
        "      P[i] = np.exp(temp - np.log(sum_temp))\n",
        "      logloss -= np.log(P[i, int(y_t[i]) - 1])\n",
        "\n",
        "  logloss = logloss / n_row / 0.6931\n",
        "  return logloss, P"
      ],
      "metadata": {
        "id": "pOode0kzyT4k"
      },
      "execution_count": null,
      "outputs": []
    },
    {
      "cell_type": "code",
      "source": [
        "logloss, pred = multiClassRobustTest(theta_robust, X_t, y_t, n_class, d_ts / d_tt)\n",
        "acc = computeAcc(pred, y_t)\n",
        "print(f'Acc is {acc} and logloss is {logloss} for robust method')"
      ],
      "metadata": {
        "id": "YEbPTr78l5X7",
        "colab": {
          "base_uri": "https://localhost:8080/"
        },
        "outputId": "00be0a1c-b463-485b-a49f-c90e10031988"
      },
      "execution_count": null,
      "outputs": [
        {
          "output_type": "stream",
          "name": "stdout",
          "text": [
            "Acc is 1.0 and logloss is 0.4989368812192846 for robust method\n"
          ]
        }
      ]
    },
    {
      "cell_type": "code",
      "source": [
        "logloss, pred = multiClassRobustTest(theta_lr, X_t, y_t, n_class, np.ones((ns_row, 1)))\n",
        "acc = computeAcc(pred, y_t)\n",
        "print(f'Acc is {acc} and logloss is {logloss} for LR method')"
      ],
      "metadata": {
        "colab": {
          "base_uri": "https://localhost:8080/"
        },
        "id": "0iQzBZdqLszd",
        "outputId": "ef9cd08f-dd6f-481d-bc4a-428821ea4924"
      },
      "execution_count": null,
      "outputs": [
        {
          "output_type": "stream",
          "name": "stdout",
          "text": [
            "Acc is 1.0 and logloss is 0.09988054970933052 for LR method\n"
          ]
        }
      ]
    },
    {
      "cell_type": "code",
      "source": [
        "logloss, pred = multiClassRobustTest(theta_iw, X_t, y_t, n_class, np.ones((ns_row, 1)))\n",
        "acc = computeAcc(pred, y_t)\n",
        "print(f'Acc is {acc} and logloss is {logloss} for IW method')"
      ],
      "metadata": {
        "colab": {
          "base_uri": "https://localhost:8080/"
        },
        "id": "BGbDeVYl24-Y",
        "outputId": "e1361bbf-15ff-4c99-a045-d179a010875d"
      },
      "execution_count": null,
      "outputs": [
        {
          "output_type": "stream",
          "name": "stdout",
          "text": [
            "Acc is 0.96875 and logloss is 0.17910794400844812 for IW method\n"
          ]
        }
      ]
    },
    {
      "cell_type": "code",
      "source": [
        ""
      ],
      "metadata": {
        "id": "ojdYcUtMzgZh"
      },
      "execution_count": null,
      "outputs": []
    }
  ]
}